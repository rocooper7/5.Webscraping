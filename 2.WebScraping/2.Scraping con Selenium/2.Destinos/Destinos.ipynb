{
 "cells": [
  {
   "cell_type": "code",
   "execution_count": 2,
   "metadata": {},
   "outputs": [],
   "source": [
    "url = 'https://www.edestinos.com.mx/flights/select/roundtrip/ap/mex/ap/mad?departureDate=2020-06-11&returnDate=2020-06-17&pa=1&py=0&pc=0&pi=0&sc=economy'"
   ]
  },
  {
   "cell_type": "code",
   "execution_count": 1,
   "metadata": {},
   "outputs": [],
   "source": [
    "from selenium import webdriver"
   ]
  },
  {
   "cell_type": "code",
   "execution_count": 821,
   "metadata": {},
   "outputs": [],
   "source": [
    "options = webdriver.ChromeOptions()\n",
    "options.add_argument('--incognito')\n",
    "driver = webdriver.Chrome(executable_path='C:\\dChrome\\chromedriver.exe', options=options)\n",
    "driver.maximize_window()"
   ]
  },
  {
   "cell_type": "code",
   "execution_count": 822,
   "metadata": {},
   "outputs": [],
   "source": [
    "driver.get(url)"
   ]
  },
  {
   "cell_type": "code",
   "execution_count": 823,
   "metadata": {},
   "outputs": [],
   "source": [
    "clasesboton = driver.find_element_by_xpath('.//div[@class=\"service-class-types ng-star-inserted\"]').click()"
   ]
  },
  {
   "cell_type": "code",
   "execution_count": 793,
   "metadata": {},
   "outputs": [
    {
     "data": {
      "text/plain": [
       "[<selenium.webdriver.remote.webelement.WebElement (session=\"891acaf6961739171d15c9ca000d9c38\", element=\"5445704f-46c8-4a3b-83ab-e4c212778071\")>,\n",
       " <selenium.webdriver.remote.webelement.WebElement (session=\"891acaf6961739171d15c9ca000d9c38\", element=\"c66c611e-6c8f-4d16-8415-1c98441d4c5d\")>,\n",
       " <selenium.webdriver.remote.webelement.WebElement (session=\"891acaf6961739171d15c9ca000d9c38\", element=\"7c65cb48-6fe1-4114-a3c5-e58cb0b7254e\")>,\n",
       " <selenium.webdriver.remote.webelement.WebElement (session=\"891acaf6961739171d15c9ca000d9c38\", element=\"b46a2d4c-d7fd-4664-bee8-c650358e4e92\")>,\n",
       " <selenium.webdriver.remote.webelement.WebElement (session=\"891acaf6961739171d15c9ca000d9c38\", element=\"47dae5be-b0e7-4083-91be-882db6aa722d\")>,\n",
       " <selenium.webdriver.remote.webelement.WebElement (session=\"891acaf6961739171d15c9ca000d9c38\", element=\"97fc61e4-bf25-4ddb-8d26-baa3af1b6674\")>,\n",
       " <selenium.webdriver.remote.webelement.WebElement (session=\"891acaf6961739171d15c9ca000d9c38\", element=\"cd57be56-1a3e-4ba0-8f66-1b22f98849ac\")>]"
      ]
     },
     "execution_count": 793,
     "metadata": {},
     "output_type": "execute_result"
    }
   ],
   "source": [
    "clases = driver.find_elements_by_xpath('//li[@class=\"options-option ng-star-inserted\"]')\n",
    "#del clases [0:2]\n",
    "#del clases [-1]\n",
    "#del clases [-1]\n",
    "clases"
   ]
  },
  {
   "cell_type": "code",
   "execution_count": 794,
   "metadata": {},
   "outputs": [
    {
     "data": {
      "text/plain": [
       "[<selenium.webdriver.remote.webelement.WebElement (session=\"891acaf6961739171d15c9ca000d9c38\", element=\"d47f776a-7ec1-45e7-a95b-167564c2ad98\")>,\n",
       " <selenium.webdriver.remote.webelement.WebElement (session=\"891acaf6961739171d15c9ca000d9c38\", element=\"4545b111-1359-4d1a-90e7-99d87e96a472\")>]"
      ]
     },
     "execution_count": 794,
     "metadata": {},
     "output_type": "execute_result"
    }
   ],
   "source": [
    "clases2 = driver.find_elements_by_xpath('//li[@class=\"options-option active ng-star-inserted\"]')\n",
    "#del clases2 [0]\n",
    "clases2"
   ]
  },
  {
   "cell_type": "code",
   "execution_count": 795,
   "metadata": {},
   "outputs": [],
   "source": [
    "clases3 = clases + clases2"
   ]
  },
  {
   "cell_type": "code",
   "execution_count": 796,
   "metadata": {},
   "outputs": [
    {
     "data": {
      "text/plain": [
       "[<selenium.webdriver.remote.webelement.WebElement (session=\"891acaf6961739171d15c9ca000d9c38\", element=\"5445704f-46c8-4a3b-83ab-e4c212778071\")>,\n",
       " <selenium.webdriver.remote.webelement.WebElement (session=\"891acaf6961739171d15c9ca000d9c38\", element=\"c66c611e-6c8f-4d16-8415-1c98441d4c5d\")>,\n",
       " <selenium.webdriver.remote.webelement.WebElement (session=\"891acaf6961739171d15c9ca000d9c38\", element=\"7c65cb48-6fe1-4114-a3c5-e58cb0b7254e\")>,\n",
       " <selenium.webdriver.remote.webelement.WebElement (session=\"891acaf6961739171d15c9ca000d9c38\", element=\"b46a2d4c-d7fd-4664-bee8-c650358e4e92\")>,\n",
       " <selenium.webdriver.remote.webelement.WebElement (session=\"891acaf6961739171d15c9ca000d9c38\", element=\"47dae5be-b0e7-4083-91be-882db6aa722d\")>,\n",
       " <selenium.webdriver.remote.webelement.WebElement (session=\"891acaf6961739171d15c9ca000d9c38\", element=\"97fc61e4-bf25-4ddb-8d26-baa3af1b6674\")>,\n",
       " <selenium.webdriver.remote.webelement.WebElement (session=\"891acaf6961739171d15c9ca000d9c38\", element=\"cd57be56-1a3e-4ba0-8f66-1b22f98849ac\")>,\n",
       " <selenium.webdriver.remote.webelement.WebElement (session=\"891acaf6961739171d15c9ca000d9c38\", element=\"d47f776a-7ec1-45e7-a95b-167564c2ad98\")>,\n",
       " <selenium.webdriver.remote.webelement.WebElement (session=\"891acaf6961739171d15c9ca000d9c38\", element=\"4545b111-1359-4d1a-90e7-99d87e96a472\")>]"
      ]
     },
     "execution_count": 796,
     "metadata": {},
     "output_type": "execute_result"
    }
   ],
   "source": [
    "clases3"
   ]
  },
  {
   "cell_type": "code",
   "execution_count": 797,
   "metadata": {},
   "outputs": [
    {
     "data": {
      "text/plain": [
       "'económica premium'"
      ]
     },
     "execution_count": 797,
     "metadata": {},
     "output_type": "execute_result"
    }
   ],
   "source": [
    "clase = clases3[2] #2,3,4,8\n",
    "clase.find_element_by_xpath('.//a[@_ngcontent-fsr-ssr-c46=\"\"]').text"
   ]
  },
  {
   "cell_type": "code",
   "execution_count": 798,
   "metadata": {},
   "outputs": [
    {
     "name": "stdout",
     "output_type": "stream",
     "text": [
      "['', '', 'económica premium', 'business', 'primera', '', '', '', 'económica']\n"
     ]
    },
    {
     "data": {
      "text/plain": [
       "['económica premium', 'business', 'primera', 'económica']"
      ]
     },
     "execution_count": 798,
     "metadata": {},
     "output_type": "execute_result"
    }
   ],
   "source": [
    "clases4 = []\n",
    "for clase in clases3:\n",
    "    nombre = clase.find_element_by_xpath('.//a[@_ngcontent-fsr-ssr-c46=\"\"]').text\n",
    "    clases4.append(nombre)\n",
    "print(clases4)\n",
    "\n",
    "for i in clases4:\n",
    "    clases4.remove('')\n",
    "clases4"
   ]
  },
  {
   "cell_type": "code",
   "execution_count": 799,
   "metadata": {},
   "outputs": [],
   "source": [
    "#clase = clases3[3]     #2,3,4,8\n",
    "#for i in clases4:    # funcion main\n",
    "    #if i == 'económica':\n",
    "for clase in clases3:  #funcion sec\n",
    "    if clase.find_element_by_xpath('.//a[@_ngcontent-fsr-ssr-c46=\"\"]').text == 'económica':\n",
    "        clase.find_element_by_xpath('.//a[@_ngcontent-fsr-ssr-c46=\"\"]').click() "
   ]
  },
  {
   "cell_type": "code",
   "execution_count": 800,
   "metadata": {},
   "outputs": [],
   "source": [
    "boton_busqueda = driver.find_element_by_xpath('.//button[@class=\"btn transaction qsf-search\"]').click()"
   ]
  },
  {
   "cell_type": "code",
   "execution_count": 801,
   "metadata": {
    "scrolled": true
   },
   "outputs": [
    {
     "name": "stdout",
     "output_type": "stream",
     "text": [
      "20\n"
     ]
    },
    {
     "data": {
      "text/plain": [
       "[<selenium.webdriver.remote.webelement.WebElement (session=\"891acaf6961739171d15c9ca000d9c38\", element=\"daf03623-660a-4726-81ea-dff21e25dd8a\")>,\n",
       " <selenium.webdriver.remote.webelement.WebElement (session=\"891acaf6961739171d15c9ca000d9c38\", element=\"d497a9cb-c67c-491f-a97b-fda9c777646c\")>,\n",
       " <selenium.webdriver.remote.webelement.WebElement (session=\"891acaf6961739171d15c9ca000d9c38\", element=\"13f852b8-aaa8-421c-884e-92703c47fcc7\")>,\n",
       " <selenium.webdriver.remote.webelement.WebElement (session=\"891acaf6961739171d15c9ca000d9c38\", element=\"ac7943e8-8399-4048-bbee-14c23e1d661f\")>,\n",
       " <selenium.webdriver.remote.webelement.WebElement (session=\"891acaf6961739171d15c9ca000d9c38\", element=\"e1032487-0462-4c5c-8685-62a817475d7b\")>,\n",
       " <selenium.webdriver.remote.webelement.WebElement (session=\"891acaf6961739171d15c9ca000d9c38\", element=\"28c02b63-c508-4908-8379-0cdc9276e88d\")>,\n",
       " <selenium.webdriver.remote.webelement.WebElement (session=\"891acaf6961739171d15c9ca000d9c38\", element=\"6dfd6aba-6a80-433f-ac30-baea9e13a1a5\")>,\n",
       " <selenium.webdriver.remote.webelement.WebElement (session=\"891acaf6961739171d15c9ca000d9c38\", element=\"55679cf6-4cac-4ac8-a9dd-fb70b4e120a2\")>,\n",
       " <selenium.webdriver.remote.webelement.WebElement (session=\"891acaf6961739171d15c9ca000d9c38\", element=\"05a45954-6797-461b-bdb1-fbee89117060\")>,\n",
       " <selenium.webdriver.remote.webelement.WebElement (session=\"891acaf6961739171d15c9ca000d9c38\", element=\"1df06e8d-26bb-45e6-8cef-6aa8b65db724\")>,\n",
       " <selenium.webdriver.remote.webelement.WebElement (session=\"891acaf6961739171d15c9ca000d9c38\", element=\"ff4bfce1-6bb2-4423-b5dd-529614d55004\")>,\n",
       " <selenium.webdriver.remote.webelement.WebElement (session=\"891acaf6961739171d15c9ca000d9c38\", element=\"0c14cdc9-841d-400a-8ae4-965c2e7c5c04\")>,\n",
       " <selenium.webdriver.remote.webelement.WebElement (session=\"891acaf6961739171d15c9ca000d9c38\", element=\"82e87b83-0873-47ec-bc4c-9e4ee8c7fa13\")>,\n",
       " <selenium.webdriver.remote.webelement.WebElement (session=\"891acaf6961739171d15c9ca000d9c38\", element=\"5d067782-ec84-49e7-a7aa-2341ae35f1d4\")>,\n",
       " <selenium.webdriver.remote.webelement.WebElement (session=\"891acaf6961739171d15c9ca000d9c38\", element=\"fa2b5b16-be73-41c2-b4f2-4498ba2e7c00\")>,\n",
       " <selenium.webdriver.remote.webelement.WebElement (session=\"891acaf6961739171d15c9ca000d9c38\", element=\"15202e19-c168-49f6-9446-be1fdc4443f7\")>,\n",
       " <selenium.webdriver.remote.webelement.WebElement (session=\"891acaf6961739171d15c9ca000d9c38\", element=\"341134a4-169d-424f-85f5-f9294a29e5a9\")>,\n",
       " <selenium.webdriver.remote.webelement.WebElement (session=\"891acaf6961739171d15c9ca000d9c38\", element=\"8d7284aa-41ef-497c-b319-c99d75139f33\")>,\n",
       " <selenium.webdriver.remote.webelement.WebElement (session=\"891acaf6961739171d15c9ca000d9c38\", element=\"e0554115-8cc9-408e-b28a-fbc8973513ce\")>,\n",
       " <selenium.webdriver.remote.webelement.WebElement (session=\"891acaf6961739171d15c9ca000d9c38\", element=\"b42a04f5-eee4-46a0-9a3a-b3ee98e6bf60\")>]"
      ]
     },
     "execution_count": 801,
     "metadata": {},
     "output_type": "execute_result"
    }
   ],
   "source": [
    "vuelos = driver.find_elements_by_xpath('//div[@class=\"leg selected ng-star-inserted\"]')\n",
    "print(len(vuelos))\n",
    "vuelos"
   ]
  },
  {
   "cell_type": "code",
   "execution_count": 802,
   "metadata": {},
   "outputs": [
    {
     "name": "stdout",
     "output_type": "stream",
     "text": [
      "25\n"
     ]
    },
    {
     "data": {
      "text/plain": [
       "[<selenium.webdriver.remote.webelement.WebElement (session=\"891acaf6961739171d15c9ca000d9c38\", element=\"daf03623-660a-4726-81ea-dff21e25dd8a\")>,\n",
       " <selenium.webdriver.remote.webelement.WebElement (session=\"891acaf6961739171d15c9ca000d9c38\", element=\"d497a9cb-c67c-491f-a97b-fda9c777646c\")>,\n",
       " <selenium.webdriver.remote.webelement.WebElement (session=\"891acaf6961739171d15c9ca000d9c38\", element=\"13f852b8-aaa8-421c-884e-92703c47fcc7\")>,\n",
       " <selenium.webdriver.remote.webelement.WebElement (session=\"891acaf6961739171d15c9ca000d9c38\", element=\"ac7943e8-8399-4048-bbee-14c23e1d661f\")>,\n",
       " <selenium.webdriver.remote.webelement.WebElement (session=\"891acaf6961739171d15c9ca000d9c38\", element=\"e1032487-0462-4c5c-8685-62a817475d7b\")>,\n",
       " <selenium.webdriver.remote.webelement.WebElement (session=\"891acaf6961739171d15c9ca000d9c38\", element=\"28c02b63-c508-4908-8379-0cdc9276e88d\")>,\n",
       " <selenium.webdriver.remote.webelement.WebElement (session=\"891acaf6961739171d15c9ca000d9c38\", element=\"6dfd6aba-6a80-433f-ac30-baea9e13a1a5\")>,\n",
       " <selenium.webdriver.remote.webelement.WebElement (session=\"891acaf6961739171d15c9ca000d9c38\", element=\"55679cf6-4cac-4ac8-a9dd-fb70b4e120a2\")>,\n",
       " <selenium.webdriver.remote.webelement.WebElement (session=\"891acaf6961739171d15c9ca000d9c38\", element=\"05a45954-6797-461b-bdb1-fbee89117060\")>,\n",
       " <selenium.webdriver.remote.webelement.WebElement (session=\"891acaf6961739171d15c9ca000d9c38\", element=\"1df06e8d-26bb-45e6-8cef-6aa8b65db724\")>,\n",
       " <selenium.webdriver.remote.webelement.WebElement (session=\"891acaf6961739171d15c9ca000d9c38\", element=\"ff4bfce1-6bb2-4423-b5dd-529614d55004\")>,\n",
       " <selenium.webdriver.remote.webelement.WebElement (session=\"891acaf6961739171d15c9ca000d9c38\", element=\"0c14cdc9-841d-400a-8ae4-965c2e7c5c04\")>,\n",
       " <selenium.webdriver.remote.webelement.WebElement (session=\"891acaf6961739171d15c9ca000d9c38\", element=\"82e87b83-0873-47ec-bc4c-9e4ee8c7fa13\")>,\n",
       " <selenium.webdriver.remote.webelement.WebElement (session=\"891acaf6961739171d15c9ca000d9c38\", element=\"5d067782-ec84-49e7-a7aa-2341ae35f1d4\")>,\n",
       " <selenium.webdriver.remote.webelement.WebElement (session=\"891acaf6961739171d15c9ca000d9c38\", element=\"fa2b5b16-be73-41c2-b4f2-4498ba2e7c00\")>,\n",
       " <selenium.webdriver.remote.webelement.WebElement (session=\"891acaf6961739171d15c9ca000d9c38\", element=\"15202e19-c168-49f6-9446-be1fdc4443f7\")>,\n",
       " <selenium.webdriver.remote.webelement.WebElement (session=\"891acaf6961739171d15c9ca000d9c38\", element=\"341134a4-169d-424f-85f5-f9294a29e5a9\")>,\n",
       " <selenium.webdriver.remote.webelement.WebElement (session=\"891acaf6961739171d15c9ca000d9c38\", element=\"8d7284aa-41ef-497c-b319-c99d75139f33\")>,\n",
       " <selenium.webdriver.remote.webelement.WebElement (session=\"891acaf6961739171d15c9ca000d9c38\", element=\"e0554115-8cc9-408e-b28a-fbc8973513ce\")>,\n",
       " <selenium.webdriver.remote.webelement.WebElement (session=\"891acaf6961739171d15c9ca000d9c38\", element=\"b42a04f5-eee4-46a0-9a3a-b3ee98e6bf60\")>]"
      ]
     },
     "execution_count": 802,
     "metadata": {},
     "output_type": "execute_result"
    }
   ],
   "source": [
    "vuelos2 = driver.find_elements_by_xpath('//div[@class=\"leg ng-star-inserted\"]')\n",
    "print(len(vuelos2))\n",
    "vuelos"
   ]
  },
  {
   "cell_type": "code",
   "execution_count": 803,
   "metadata": {},
   "outputs": [
    {
     "data": {
      "text/plain": [
       "45"
      ]
     },
     "execution_count": 803,
     "metadata": {},
     "output_type": "execute_result"
    }
   ],
   "source": [
    "vuelos = vuelos + vuelos2\n",
    "len(vuelos)"
   ]
  },
  {
   "cell_type": "code",
   "execution_count": 804,
   "metadata": {},
   "outputs": [
    {
     "data": {
      "text/plain": [
       "<selenium.webdriver.remote.webelement.WebElement (session=\"891acaf6961739171d15c9ca000d9c38\", element=\"e1032487-0462-4c5c-8685-62a817475d7b\")>"
      ]
     },
     "execution_count": 804,
     "metadata": {},
     "output_type": "execute_result"
    }
   ],
   "source": [
    "vuelo = vuelos[4]\n",
    "vuelo"
   ]
  },
  {
   "cell_type": "code",
   "execution_count": 805,
   "metadata": {},
   "outputs": [
    {
     "data": {
      "text/plain": [
       "'11:55'"
      ]
     },
     "execution_count": 805,
     "metadata": {},
     "output_type": "execute_result"
    }
   ],
   "source": [
    "vuelo.find_element_by_xpath('.//span[@class=\"hour departure ng-star-inserted\"]').text"
   ]
  },
  {
   "cell_type": "code",
   "execution_count": 806,
   "metadata": {},
   "outputs": [
    {
     "data": {
      "text/plain": [
       "'08:30'"
      ]
     },
     "execution_count": 806,
     "metadata": {},
     "output_type": "execute_result"
    }
   ],
   "source": [
    "vuelo.find_element_by_xpath('.//span[@class=\"hour arrival ng-star-inserted\"]').text"
   ]
  },
  {
   "cell_type": "code",
   "execution_count": 807,
   "metadata": {},
   "outputs": [
    {
     "data": {
      "text/plain": [
       "'13h 35min'"
      ]
     },
     "execution_count": 807,
     "metadata": {},
     "output_type": "execute_result"
    }
   ],
   "source": [
    "vuelo.find_element_by_xpath('.//span[@class=\"time\"]').text"
   ]
  },
  {
   "cell_type": "code",
   "execution_count": 562,
   "metadata": {},
   "outputs": [],
   "source": [
    "boton_escalas = vuelo.find_element_by_xpath('.//a[@class=\"leg-details open-leg-details\"]')"
   ]
  },
  {
   "cell_type": "code",
   "execution_count": 563,
   "metadata": {},
   "outputs": [],
   "source": [
    "boton_escalas.click()"
   ]
  },
  {
   "cell_type": "code",
   "execution_count": 564,
   "metadata": {},
   "outputs": [
    {
     "data": {
      "text/plain": [
       "[<selenium.webdriver.remote.webelement.WebElement (session=\"970725b4efc8f890a0aba5418f6b55f9\", element=\"ced40684-8b63-43c5-8124-501cf12dbe87\")>,\n",
       " <selenium.webdriver.remote.webelement.WebElement (session=\"970725b4efc8f890a0aba5418f6b55f9\", element=\"bcc2552a-7c31-40ca-b0d6-b70cb83b12b6\")>]"
      ]
     },
     "execution_count": 564,
     "metadata": {},
     "output_type": "execute_result"
    }
   ],
   "source": [
    "segmentos = vuelo.find_elements_by_xpath('//div[@class=\"segment\"]')\n",
    "segmentos"
   ]
  },
  {
   "cell_type": "code",
   "execution_count": 565,
   "metadata": {},
   "outputs": [
    {
     "data": {
      "text/plain": [
       "1"
      ]
     },
     "execution_count": 565,
     "metadata": {},
     "output_type": "execute_result"
    }
   ],
   "source": [
    "escalas = len(segmentos) - 1 \n",
    "escalas"
   ]
  },
  {
   "cell_type": "code",
   "execution_count": 566,
   "metadata": {},
   "outputs": [],
   "source": [
    "segmento = segmentos[0]"
   ]
  },
  {
   "cell_type": "code",
   "execution_count": 567,
   "metadata": {},
   "outputs": [
    {
     "data": {
      "text/plain": [
       "'3h 29min'"
      ]
     },
     "execution_count": 567,
     "metadata": {},
     "output_type": "execute_result"
    }
   ],
   "source": [
    "# Duración del vuelo\n",
    "segmento.find_element_by_xpath('.//span[@class=\"time-duration ng-star-inserted\"]//span[@class=\"time\"]').text"
   ]
  },
  {
   "cell_type": "code",
   "execution_count": 568,
   "metadata": {},
   "outputs": [
    {
     "data": {
      "text/plain": [
       "'Delta Air Lines'"
      ]
     },
     "execution_count": 568,
     "metadata": {},
     "output_type": "execute_result"
    }
   ],
   "source": [
    "# Nombre de la aerolinea\n",
    "segmento.find_element_by_xpath('.//span[@class=\"airline-name\"]').text"
   ]
  },
  {
   "cell_type": "code",
   "execution_count": 569,
   "metadata": {},
   "outputs": [
    {
     "data": {
      "text/plain": [
       "'314'"
      ]
     },
     "execution_count": 569,
     "metadata": {},
     "output_type": "execute_result"
    }
   ],
   "source": [
    "# Numero del vuelo\n",
    "segmento.find_element_by_xpath('.//strong[@class=\"flight-number\"]').text"
   ]
  },
  {
   "cell_type": "code",
   "execution_count": 570,
   "metadata": {},
   "outputs": [
    {
     "data": {
      "text/plain": [
       "'económica'"
      ]
     },
     "execution_count": 570,
     "metadata": {},
     "output_type": "execute_result"
    }
   ],
   "source": [
    "# Clase\n",
    "segmento.find_element_by_xpath('.//strong[@class=\"service-class\"]').text"
   ]
  },
  {
   "cell_type": "code",
   "execution_count": 571,
   "metadata": {},
   "outputs": [
    {
     "data": {
      "text/plain": [
       "[<selenium.webdriver.remote.webelement.WebElement (session=\"970725b4efc8f890a0aba5418f6b55f9\", element=\"064fceac-3356-44fe-8efc-270762ca783b\")>,\n",
       " <selenium.webdriver.remote.webelement.WebElement (session=\"970725b4efc8f890a0aba5418f6b55f9\", element=\"7e71fac6-40ca-4417-aa63-8d53b54d3a29\")>]"
      ]
     },
     "execution_count": 571,
     "metadata": {},
     "output_type": "execute_result"
    }
   ],
   "source": [
    "# Origen Aeropuerto   cuando se tienen dos aeropuertos y no se pueden diferenciar\n",
    "aeropuertos = segmento.find_elements_by_xpath('.//p[@class=\"airport\"]')\n",
    "aeropuertos"
   ]
  },
  {
   "cell_type": "code",
   "execution_count": 572,
   "metadata": {},
   "outputs": [
    {
     "data": {
      "text/plain": [
       "'Ciudad de México Benito Juárez (MEX)'"
      ]
     },
     "execution_count": 572,
     "metadata": {},
     "output_type": "execute_result"
    }
   ],
   "source": [
    "# Origen Aeropuerto\n",
    "aeropuerto = aeropuertos[0]\n",
    "aeropuerto.find_element_by_xpath('.//span[@class=\"airport-title\"]').text"
   ]
  },
  {
   "cell_type": "code",
   "execution_count": 573,
   "metadata": {},
   "outputs": [
    {
     "data": {
      "text/plain": [
       "'Ciudad de México'"
      ]
     },
     "execution_count": 573,
     "metadata": {},
     "output_type": "execute_result"
    }
   ],
   "source": [
    "# Origen Ciudad\n",
    "aeropuerto.find_element_by_xpath('.//span[@class=\"city-name\"]').text"
   ]
  },
  {
   "cell_type": "code",
   "execution_count": 574,
   "metadata": {},
   "outputs": [
    {
     "data": {
      "text/plain": [
       "'México'"
      ]
     },
     "execution_count": 574,
     "metadata": {},
     "output_type": "execute_result"
    }
   ],
   "source": [
    "# Origen País\n",
    "aeropuerto.find_element_by_xpath('.//span[@class=\"country-name\"]').text"
   ]
  },
  {
   "cell_type": "code",
   "execution_count": 575,
   "metadata": {},
   "outputs": [
    {
     "data": {
      "text/plain": [
       "'11:55'"
      ]
     },
     "execution_count": 575,
     "metadata": {},
     "output_type": "execute_result"
    }
   ],
   "source": [
    "# Hora de salida\n",
    "aeropuerto.find_element_by_xpath('.//span[@class=\"hour ng-star-inserted\"]').text"
   ]
  },
  {
   "cell_type": "code",
   "execution_count": 576,
   "metadata": {},
   "outputs": [
    {
     "data": {
      "text/plain": [
       "'11 jun (jue.)'"
      ]
     },
     "execution_count": 576,
     "metadata": {},
     "output_type": "execute_result"
    }
   ],
   "source": [
    "# Hora de salida\n",
    "aeropuerto.find_element_by_xpath('.//span[@class=\"day\"]').text"
   ]
  },
  {
   "cell_type": "code",
   "execution_count": 577,
   "metadata": {},
   "outputs": [
    {
     "data": {
      "text/plain": [
       "'Hartsfield Jackson (ATL)'"
      ]
     },
     "execution_count": 577,
     "metadata": {},
     "output_type": "execute_result"
    }
   ],
   "source": [
    "# Destino Aeropuerto\n",
    "aeropuerto = aeropuertos[1]\n",
    "aeropuerto.find_element_by_xpath('.//span[@class=\"airport-title\"]').text"
   ]
  },
  {
   "cell_type": "code",
   "execution_count": 578,
   "metadata": {},
   "outputs": [
    {
     "data": {
      "text/plain": [
       "'Atlanta (GA)'"
      ]
     },
     "execution_count": 578,
     "metadata": {},
     "output_type": "execute_result"
    }
   ],
   "source": [
    "# Origen Ciudad\n",
    "aeropuerto.find_element_by_xpath('.//span[@class=\"city-name\"]').text"
   ]
  },
  {
   "cell_type": "code",
   "execution_count": 579,
   "metadata": {},
   "outputs": [
    {
     "data": {
      "text/plain": [
       "'Estados Unidos'"
      ]
     },
     "execution_count": 579,
     "metadata": {},
     "output_type": "execute_result"
    }
   ],
   "source": [
    "# Origen País\n",
    "aeropuerto.find_element_by_xpath('.//span[@class=\"country-name\"]').text"
   ]
  },
  {
   "cell_type": "code",
   "execution_count": 580,
   "metadata": {},
   "outputs": [
    {
     "data": {
      "text/plain": [
       "'16:24'"
      ]
     },
     "execution_count": 580,
     "metadata": {},
     "output_type": "execute_result"
    }
   ],
   "source": [
    "# Hora de salida\n",
    "aeropuerto.find_element_by_xpath('.//span[@class=\"hour ng-star-inserted\"]').text"
   ]
  },
  {
   "cell_type": "code",
   "execution_count": 581,
   "metadata": {},
   "outputs": [
    {
     "data": {
      "text/plain": [
       "'11 jun (jue.)'"
      ]
     },
     "execution_count": 581,
     "metadata": {},
     "output_type": "execute_result"
    }
   ],
   "source": [
    "# Hora de salida\n",
    "aeropuerto.find_element_by_xpath('.//span[@class=\"day\"]').text"
   ]
  },
  {
   "cell_type": "code",
   "execution_count": 582,
   "metadata": {},
   "outputs": [
    {
     "data": {
      "text/plain": [
       "[{'Aeropuerto Origen': 'Ciudad de México Benito Juárez (MEX)',\n",
       "  'Ciudad Origen': 'Ciudad de México',\n",
       "  'Pais Origen': 'México',\n",
       "  'Salida Origen': '11:55',\n",
       "  'Dia Origen': '11 jun (jue.)'},\n",
       " {'Aeropuerto Llegada': 'Hartsfield Jackson (ATL)',\n",
       "  'Ciudad Llegada': 'Atlanta (GA)',\n",
       "  'Pais Llegada': 'Estados Unidos',\n",
       "  'Salida Llegada': '16:24',\n",
       "  'Dia Llegada': '11 jun (jue.)'}]"
      ]
     },
     "execution_count": 582,
     "metadata": {},
     "output_type": "execute_result"
    }
   ],
   "source": [
    "lista = []\n",
    "for aeropuerto in aeropuertos:\n",
    "    if aeropuerto == aeropuertos[0]:\n",
    "        aeropuerto_ = aeropuerto.find_element_by_xpath('.//span[@class=\"airport-title\"]').text\n",
    "        ciudad = aeropuerto.find_element_by_xpath('.//span[@class=\"city-name\"]').text\n",
    "        pais = aeropuerto.find_element_by_xpath('.//span[@class=\"country-name\"]').text\n",
    "        salida = aeropuerto.find_element_by_xpath('.//span[@class=\"hour ng-star-inserted\"]').text\n",
    "        dia = aeropuerto.find_element_by_xpath('.//span[@class=\"day\"]').text\n",
    "        dict_aeropuerto1 = {'Aeropuerto Origen':aeropuerto_, 'Ciudad Origen':ciudad, 'Pais Origen':pais, 'Salida Origen':salida, 'Dia Origen':dia}\n",
    "\n",
    "    else:\n",
    "        aeropuerto_ = aeropuerto.find_element_by_xpath('.//span[@class=\"airport-title\"]').text\n",
    "        ciudad = aeropuerto.find_element_by_xpath('.//span[@class=\"city-name\"]').text\n",
    "        pais = aeropuerto.find_element_by_xpath('.//span[@class=\"country-name\"]').text\n",
    "        salida = aeropuerto.find_element_by_xpath('.//span[@class=\"hour ng-star-inserted\"]').text\n",
    "        dia = aeropuerto.find_element_by_xpath('.//span[@class=\"day\"]').text\n",
    "        dict_aeropuerto2={'Aeropuerto Llegada':aeropuerto_, 'Ciudad Llegada':ciudad, 'Pais Llegada':pais, 'Salida Llegada':salida, 'Dia Llegada':dia}\n",
    "        \n",
    "lista.append(dict_aeropuerto1)\n",
    "lista.append(dict_aeropuerto2)\n",
    "lista"
   ]
  },
  {
   "cell_type": "code",
   "execution_count": 583,
   "metadata": {},
   "outputs": [
    {
     "data": {
      "text/plain": [
       "[<selenium.webdriver.remote.webelement.WebElement (session=\"970725b4efc8f890a0aba5418f6b55f9\", element=\"1aab9a74-55dd-461a-b5d3-c8041c4c0783\")>]"
      ]
     },
     "execution_count": 583,
     "metadata": {},
     "output_type": "execute_result"
    }
   ],
   "source": [
    "# Tiempo para cambiar de avión 1\n",
    "tiempos_esperas = vuelo.find_elements_by_xpath('//div[@class=\"segment-change ng-star-inserted\"]')\n",
    "tiempos_esperas"
   ]
  },
  {
   "cell_type": "code",
   "execution_count": 584,
   "metadata": {},
   "outputs": [],
   "source": [
    "# Tiempo para cambiar de avión 2\n",
    "tiempo_espera = tiempos_esperas[0]"
   ]
  },
  {
   "cell_type": "code",
   "execution_count": 585,
   "metadata": {},
   "outputs": [
    {
     "data": {
      "text/plain": [
       "'1h 26min'"
      ]
     },
     "execution_count": 585,
     "metadata": {},
     "output_type": "execute_result"
    }
   ],
   "source": [
    "# Tiempo para cambiar de avión 3\n",
    "tiempo_espera.find_element_by_xpath('.//strong[@class=\"qa-segment-change-time\"]').text"
   ]
  },
  {
   "cell_type": "code",
   "execution_count": 586,
   "metadata": {},
   "outputs": [],
   "source": [
    "#Cerrar el cuadro de escalas\n",
    "driver.find_element_by_xpath('//div[@class=\"custom-dialog-close ng-star-inserted\"]').click()"
   ]
  },
  {
   "cell_type": "code",
   "execution_count": 587,
   "metadata": {},
   "outputs": [],
   "source": [
    "#Se da click en el vuelo elegido\n",
    "vuelo.click()"
   ]
  },
  {
   "cell_type": "code",
   "execution_count": 588,
   "metadata": {},
   "outputs": [],
   "source": [
    "#Se da click en el boton de tarifas \n",
    "driver.find_element_by_xpath('//a[@class=\"btn transaction small ng-star-inserted\"]').click()"
   ]
  },
  {
   "cell_type": "code",
   "execution_count": 589,
   "metadata": {},
   "outputs": [
    {
     "data": {
      "text/plain": [
       "'MX$'"
      ]
     },
     "execution_count": 589,
     "metadata": {},
     "output_type": "execute_result"
    }
   ],
   "source": [
    "# Moneda\n",
    "driver.find_element_by_xpath('.//li[@class=\"price-group  qa-price-details-category-paxes\"]//span[@class=\"currency\"]').text "
   ]
  },
  {
   "cell_type": "code",
   "execution_count": 590,
   "metadata": {},
   "outputs": [
    {
     "data": {
      "text/plain": [
       "'12023'"
      ]
     },
     "execution_count": 590,
     "metadata": {},
     "output_type": "execute_result"
    }
   ],
   "source": [
    "driver.find_element_by_xpath('.//li[@class=\"price-group  qa-price-details-category-paxes\"]//span[@class=\"amount\"]').text "
   ]
  },
  {
   "cell_type": "code",
   "execution_count": 591,
   "metadata": {},
   "outputs": [
    {
     "data": {
      "text/plain": [
       "'2468'"
      ]
     },
     "execution_count": 591,
     "metadata": {},
     "output_type": "execute_result"
    }
   ],
   "source": [
    "driver.find_element_by_xpath('.//li[@class=\"price-group  qa-price-details-category-taxes\"]//span[@class=\"amount\"]').text"
   ]
  },
  {
   "cell_type": "code",
   "execution_count": 592,
   "metadata": {},
   "outputs": [
    {
     "data": {
      "text/plain": [
       "'14491'"
      ]
     },
     "execution_count": 592,
     "metadata": {},
     "output_type": "execute_result"
    }
   ],
   "source": [
    "driver.find_element_by_xpath('.//strong[@class=\"price total-price-amount\"]//span[@class=\"amount\"]').text "
   ]
  },
  {
   "cell_type": "code",
   "execution_count": 593,
   "metadata": {},
   "outputs": [
    {
     "data": {
      "text/plain": [
       "[{'Moneda': 'MX$', 'Precio': '12023', 'Impuestos': '2468', 'Total': '14491'}]"
      ]
     },
     "execution_count": 593,
     "metadata": {},
     "output_type": "execute_result"
    }
   ],
   "source": [
    "tarifas = []\n",
    "moneda = driver.find_element_by_xpath('.//li[@class=\"price-group  qa-price-details-category-paxes\"]//span[@class=\"currency\"]').text \n",
    "precio = driver.find_element_by_xpath('.//li[@class=\"price-group  qa-price-details-category-paxes\"]//span[@class=\"amount\"]').text\n",
    "impuestos = driver.find_element_by_xpath('.//li[@class=\"price-group  qa-price-details-category-taxes\"]//span[@class=\"amount\"]').text \n",
    "total = driver.find_element_by_xpath('.//strong[@class=\"price total-price-amount\"]//span[@class=\"amount\"]').text \n",
    "dict_tarifa={'Moneda':moneda, 'Precio':precio, 'Impuestos':impuestos, 'Total': total}\n",
    "tarifas.append(dict_tarifa)\n",
    "tarifas"
   ]
  },
  {
   "cell_type": "code",
   "execution_count": 595,
   "metadata": {},
   "outputs": [],
   "source": [
    "driver.find_element_by_xpath('.//span[@class=\"text hide-medium\"]').click()"
   ]
  },
  {
   "cell_type": "code",
   "execution_count": 854,
   "metadata": {},
   "outputs": [],
   "source": [
    "def obtener_info(driver,tipo_clase):\n",
    "    #clases = tipo_clase(driver)\n",
    "    #for clase in clases:\n",
    "    obtener_clases(driver,tipo_clase)\n",
    "    \n",
    "    vuelos1 = driver.find_elements_by_xpath('//div[@class=\"leg selected ng-star-inserted\"]')\n",
    "    vuelos2 = driver.find_elements_by_xpath('//div[@class=\"leg ng-star-inserted\"]')\n",
    "    vuelos = vuelos1 + vuelos2\n",
    "      \n",
    "    print(f'Se encontraron {len(vuelos)} vuelos.')\n",
    "    print('Iniciando scraping...')\n",
    "    info = []\n",
    "    for vuelo in vuelos: \n",
    "        #obtenemos los tiempos generales de cada vuelo\n",
    "        tiempos = obtener_tiempos(vuelo)\n",
    "        # Clickeamos sobre el boton de las escalas\n",
    "        vuelo.find_element_by_xpath('.//a[@class=\"leg-details open-leg-details\"]').click()\n",
    "        #time.sleep(2)\n",
    "        escalas1 = escala_espera(vuelo)\n",
    "        escalas2 = obtener_escalas(vuelo)\n",
    "        escalas = escalas2\n",
    "        # Cerramos el modal\n",
    "        driver.find_element_by_xpath('.//div[@class=\"custom-dialog-close ng-star-inserted\"]').click()\n",
    "        #time.sleep(2)\n",
    "        # Clickeamos el vuelo para ver los precios\n",
    "        #vuelo.click()\n",
    "        #driver.find_element_by_xpath('.//a[@class=\"btn transaction small ng-star-inserted\"]').click()\n",
    "        #time.sleep(10)\n",
    "        #precios = obtener_precios(vuelo)\n",
    "        #driver.find_element_by_xpath('.//span[@class=\"text hide-medium\"]').click()\n",
    "        #time.sleep(20)\n",
    "        info.append({'tiempos':tiempos,'escalas':escalas})\n",
    "    return info"
   ]
  },
  {
   "cell_type": "code",
   "execution_count": 855,
   "metadata": {},
   "outputs": [
    {
     "name": "stdout",
     "output_type": "stream",
     "text": [
      "Se encontraron 33 vuelos.\n",
      "Iniciando scraping...\n"
     ]
    },
    {
     "data": {
      "text/plain": [
       "[{'tiempos': {'Hora Salida': '11:55',\n",
       "   'Hora Llegada': '08:30',\n",
       "   'Duracion': '13h 35min'},\n",
       "  'escalas': [{'Duración Vuelo Escala1': '3h 29min',\n",
       "    'Aerolinea Escala1': 'Delta Air Lines',\n",
       "    'No. Vuelo Escala1': '314',\n",
       "    'Clase Escala1': 'económica'},\n",
       "   {'Aeropuerto Origen1': 'Ciudad de México Benito Juárez (MEX)',\n",
       "    'Ciudad Origen1': 'Ciudad de México',\n",
       "    'Pais Origen1': 'México',\n",
       "    'Salida Origen1': '11:55',\n",
       "    'Dia Origen1': '11 jun (jue.)'},\n",
       "   {'Aeropuerto Llegada1': 'Hartsfield Jackson (ATL)',\n",
       "    'Ciudad Llegada1': 'Atlanta (GA)',\n",
       "    'Pais Llegada1': 'Estados Unidos',\n",
       "    'Salida Llegada1': '16:24',\n",
       "    'Dia Origen': '11 jun (jue.)'},\n",
       "   {'Duración Vuelo Escala2': '8h 40min',\n",
       "    'Aerolinea Escala2': 'Delta Air Lines',\n",
       "    'No. Vuelo Escala2': '108',\n",
       "    'Clase Escala2': 'económica'},\n",
       "   {'Aeropuerto Origen2': 'Ciudad de México Benito Juárez (MEX)',\n",
       "    'Ciudad Origen2': 'Ciudad de México',\n",
       "    'Pais Origen2': 'México',\n",
       "    'Salida Origen2': '11:55',\n",
       "    'Dia Origen2': '11 jun (jue.)'},\n",
       "   {'Aeropuerto Llegada2': 'Hartsfield Jackson (ATL)',\n",
       "    'Ciudad Llegada2': 'Atlanta (GA)',\n",
       "    'Pais Llegada2': 'Estados Unidos',\n",
       "    'Salida Llegada2': '16:24',\n",
       "    'Dia Origen2': '11 jun (jue.)'}]},\n",
       " {'tiempos': {'Hora Salida': '10:20',\n",
       "   'Hora Llegada': '18:55',\n",
       "   'Duracion': '15h 35min'},\n",
       "  'escalas': [{'Duración Vuelo Escala1': '2h 40min',\n",
       "    'Aerolinea Escala1': 'KLM',\n",
       "    'No. Vuelo Escala1': '1700',\n",
       "    'Clase Escala1': 'económica'},\n",
       "   {'Aeropuerto Origen1': 'Barajas (MAD)',\n",
       "    'Ciudad Origen1': 'Madrid',\n",
       "    'Pais Origen1': 'España',\n",
       "    'Salida Origen1': '10:20',\n",
       "    'Dia Origen1': '17 jun (mié.)'},\n",
       "   {'Aeropuerto Llegada1': 'Schiphol (AMS)',\n",
       "    'Ciudad Llegada1': 'Ámsterdam',\n",
       "    'Pais Llegada1': 'Holanda',\n",
       "    'Salida Llegada1': '13:00',\n",
       "    'Dia Origen': '17 jun (mié.)'},\n",
       "   {'Duración Vuelo Escala2': '11h 25min',\n",
       "    'Aerolinea Escala2': 'KLM',\n",
       "    'No. Vuelo Escala2': '685',\n",
       "    'Clase Escala2': 'económica'},\n",
       "   {'Aeropuerto Origen2': 'Barajas (MAD)',\n",
       "    'Ciudad Origen2': 'Madrid',\n",
       "    'Pais Origen2': 'España',\n",
       "    'Salida Origen2': '10:20',\n",
       "    'Dia Origen2': '17 jun (mié.)'},\n",
       "   {'Aeropuerto Llegada2': 'Schiphol (AMS)',\n",
       "    'Ciudad Llegada2': 'Ámsterdam',\n",
       "    'Pais Llegada2': 'Holanda',\n",
       "    'Salida Llegada2': '13:00',\n",
       "    'Dia Origen2': '17 jun (mié.)'}]},\n",
       " {'tiempos': {'Hora Salida': '21:05',\n",
       "   'Hora Llegada': '19:30',\n",
       "   'Duracion': '15h 25min'},\n",
       "  'escalas': [{'Duración Vuelo Escala1': '10h 35min',\n",
       "    'Aerolinea Escala1': 'KLM',\n",
       "    'No. Vuelo Escala1': '686',\n",
       "    'Clase Escala1': 'económica'},\n",
       "   {'Aeropuerto Origen1': 'Ciudad de México Benito Juárez (MEX)',\n",
       "    'Ciudad Origen1': 'Ciudad de México',\n",
       "    'Pais Origen1': 'México',\n",
       "    'Salida Origen1': '21:05',\n",
       "    'Dia Origen1': '11 jun (jue.)'},\n",
       "   {'Aeropuerto Llegada1': 'Schiphol (AMS)',\n",
       "    'Ciudad Llegada1': 'Ámsterdam',\n",
       "    'Pais Llegada1': 'Holanda',\n",
       "    'Salida Llegada1': '14:40',\n",
       "    'Dia Origen': '12 jun (vie.)'},\n",
       "   {'Duración Vuelo Escala2': '2h 35min',\n",
       "    'Aerolinea Escala2': 'KLM',\n",
       "    'No. Vuelo Escala2': '1705',\n",
       "    'Clase Escala2': 'económica'},\n",
       "   {'Aeropuerto Origen2': 'Ciudad de México Benito Juárez (MEX)',\n",
       "    'Ciudad Origen2': 'Ciudad de México',\n",
       "    'Pais Origen2': 'México',\n",
       "    'Salida Origen2': '21:05',\n",
       "    'Dia Origen2': '11 jun (jue.)'},\n",
       "   {'Aeropuerto Llegada2': 'Schiphol (AMS)',\n",
       "    'Ciudad Llegada2': 'Ámsterdam',\n",
       "    'Pais Llegada2': 'Holanda',\n",
       "    'Salida Llegada2': '14:40',\n",
       "    'Dia Origen2': '12 jun (vie.)'}]},\n",
       " {'tiempos': {'Hora Salida': '10:20',\n",
       "   'Hora Llegada': '18:55',\n",
       "   'Duracion': '15h 35min'},\n",
       "  'escalas': [{'Duración Vuelo Escala1': '2h 40min',\n",
       "    'Aerolinea Escala1': 'KLM',\n",
       "    'No. Vuelo Escala1': '1700',\n",
       "    'Clase Escala1': 'económica'},\n",
       "   {'Aeropuerto Origen1': 'Barajas (MAD)',\n",
       "    'Ciudad Origen1': 'Madrid',\n",
       "    'Pais Origen1': 'España',\n",
       "    'Salida Origen1': '10:20',\n",
       "    'Dia Origen1': '17 jun (mié.)'},\n",
       "   {'Aeropuerto Llegada1': 'Schiphol (AMS)',\n",
       "    'Ciudad Llegada1': 'Ámsterdam',\n",
       "    'Pais Llegada1': 'Holanda',\n",
       "    'Salida Llegada1': '13:00',\n",
       "    'Dia Origen': '17 jun (mié.)'},\n",
       "   {'Duración Vuelo Escala2': '11h 25min',\n",
       "    'Aerolinea Escala2': 'KLM',\n",
       "    'No. Vuelo Escala2': '685',\n",
       "    'Clase Escala2': 'económica'},\n",
       "   {'Aeropuerto Origen2': 'Barajas (MAD)',\n",
       "    'Ciudad Origen2': 'Madrid',\n",
       "    'Pais Origen2': 'España',\n",
       "    'Salida Origen2': '10:20',\n",
       "    'Dia Origen2': '17 jun (mié.)'},\n",
       "   {'Aeropuerto Llegada2': 'Schiphol (AMS)',\n",
       "    'Ciudad Llegada2': 'Ámsterdam',\n",
       "    'Pais Llegada2': 'Holanda',\n",
       "    'Salida Llegada2': '13:00',\n",
       "    'Dia Origen2': '17 jun (mié.)'}]},\n",
       " {'tiempos': {'Hora Salida': '19:40',\n",
       "   'Hora Llegada': '16:55',\n",
       "   'Duracion': '14h 15min'},\n",
       "  'escalas': [{'Duración Vuelo Escala1': '11h 00min',\n",
       "    'Aerolinea Escala1': 'Air France',\n",
       "    'No. Vuelo Escala1': '179',\n",
       "    'Clase Escala1': 'económica'},\n",
       "   {'Aeropuerto Origen1': 'Ciudad de México Benito Juárez (MEX)',\n",
       "    'Ciudad Origen1': 'Ciudad de México',\n",
       "    'Pais Origen1': 'México',\n",
       "    'Salida Origen1': '19:40',\n",
       "    'Dia Origen1': '11 jun (jue.)'},\n",
       "   {'Aeropuerto Llegada1': 'Charles de Gaulle (CDG)',\n",
       "    'Ciudad Llegada1': 'París',\n",
       "    'Pais Llegada1': 'Francia',\n",
       "    'Salida Llegada1': '13:40',\n",
       "    'Dia Origen': '12 jun (vie.)'},\n",
       "   {'Duración Vuelo Escala2': '2h 05min',\n",
       "    'Aerolinea Escala2': 'Air France',\n",
       "    'No. Vuelo Escala2': '1800',\n",
       "    'Clase Escala2': 'económica'},\n",
       "   {'Aeropuerto Origen2': 'Ciudad de México Benito Juárez (MEX)',\n",
       "    'Ciudad Origen2': 'Ciudad de México',\n",
       "    'Pais Origen2': 'México',\n",
       "    'Salida Origen2': '19:40',\n",
       "    'Dia Origen2': '11 jun (jue.)'},\n",
       "   {'Aeropuerto Llegada2': 'Charles de Gaulle (CDG)',\n",
       "    'Ciudad Llegada2': 'París',\n",
       "    'Pais Llegada2': 'Francia',\n",
       "    'Salida Llegada2': '13:40',\n",
       "    'Dia Origen2': '12 jun (vie.)'}]},\n",
       " {'tiempos': {'Hora Salida': '10:20',\n",
       "   'Hora Llegada': '18:55',\n",
       "   'Duracion': '15h 35min'},\n",
       "  'escalas': [{'Duración Vuelo Escala1': '2h 40min',\n",
       "    'Aerolinea Escala1': 'KLM',\n",
       "    'No. Vuelo Escala1': '1700',\n",
       "    'Clase Escala1': 'económica'},\n",
       "   {'Aeropuerto Origen1': 'Barajas (MAD)',\n",
       "    'Ciudad Origen1': 'Madrid',\n",
       "    'Pais Origen1': 'España',\n",
       "    'Salida Origen1': '10:20',\n",
       "    'Dia Origen1': '17 jun (mié.)'},\n",
       "   {'Aeropuerto Llegada1': 'Schiphol (AMS)',\n",
       "    'Ciudad Llegada1': 'Ámsterdam',\n",
       "    'Pais Llegada1': 'Holanda',\n",
       "    'Salida Llegada1': '13:00',\n",
       "    'Dia Origen': '17 jun (mié.)'},\n",
       "   {'Duración Vuelo Escala2': '11h 25min',\n",
       "    'Aerolinea Escala2': 'KLM',\n",
       "    'No. Vuelo Escala2': '685',\n",
       "    'Clase Escala2': 'económica'},\n",
       "   {'Aeropuerto Origen2': 'Barajas (MAD)',\n",
       "    'Ciudad Origen2': 'Madrid',\n",
       "    'Pais Origen2': 'España',\n",
       "    'Salida Origen2': '10:20',\n",
       "    'Dia Origen2': '17 jun (mié.)'},\n",
       "   {'Aeropuerto Llegada2': 'Schiphol (AMS)',\n",
       "    'Ciudad Llegada2': 'Ámsterdam',\n",
       "    'Pais Llegada2': 'Holanda',\n",
       "    'Salida Llegada2': '13:00',\n",
       "    'Dia Origen2': '17 jun (mié.)'}]},\n",
       " {'tiempos': {'Hora Salida': '21:05',\n",
       "   'Hora Llegada': '19:30',\n",
       "   'Duracion': '15h 25min'},\n",
       "  'escalas': [{'Duración Vuelo Escala1': '10h 35min',\n",
       "    'Aerolinea Escala1': 'KLM',\n",
       "    'No. Vuelo Escala1': '686',\n",
       "    'Clase Escala1': 'económica'},\n",
       "   {'Aeropuerto Origen1': 'Ciudad de México Benito Juárez (MEX)',\n",
       "    'Ciudad Origen1': 'Ciudad de México',\n",
       "    'Pais Origen1': 'México',\n",
       "    'Salida Origen1': '21:05',\n",
       "    'Dia Origen1': '11 jun (jue.)'},\n",
       "   {'Aeropuerto Llegada1': 'Schiphol (AMS)',\n",
       "    'Ciudad Llegada1': 'Ámsterdam',\n",
       "    'Pais Llegada1': 'Holanda',\n",
       "    'Salida Llegada1': '14:40',\n",
       "    'Dia Origen': '12 jun (vie.)'},\n",
       "   {'Duración Vuelo Escala2': '2h 35min',\n",
       "    'Aerolinea Escala2': 'KLM',\n",
       "    'No. Vuelo Escala2': '1705',\n",
       "    'Clase Escala2': 'económica'},\n",
       "   {'Aeropuerto Origen2': 'Ciudad de México Benito Juárez (MEX)',\n",
       "    'Ciudad Origen2': 'Ciudad de México',\n",
       "    'Pais Origen2': 'México',\n",
       "    'Salida Origen2': '21:05',\n",
       "    'Dia Origen2': '11 jun (jue.)'},\n",
       "   {'Aeropuerto Llegada2': 'Schiphol (AMS)',\n",
       "    'Ciudad Llegada2': 'Ámsterdam',\n",
       "    'Pais Llegada2': 'Holanda',\n",
       "    'Salida Llegada2': '14:40',\n",
       "    'Dia Origen2': '12 jun (vie.)'}]},\n",
       " {'tiempos': {'Hora Salida': '11:00',\n",
       "   'Hora Llegada': '19:40',\n",
       "   'Duracion': '15h 40min'},\n",
       "  'escalas': [{'Duración Vuelo Escala1': '9h 42min',\n",
       "    'Aerolinea Escala1': 'Delta Air Lines',\n",
       "    'No. Vuelo Escala1': '109',\n",
       "    'Clase Escala1': 'económica'},\n",
       "   {'Aeropuerto Origen1': 'Barajas (MAD)',\n",
       "    'Ciudad Origen1': 'Madrid',\n",
       "    'Pais Origen1': 'España',\n",
       "    'Salida Origen1': '11:00',\n",
       "    'Dia Origen1': '17 jun (mié.)'},\n",
       "   {'Aeropuerto Llegada1': 'Hartsfield Jackson (ATL)',\n",
       "    'Ciudad Llegada1': 'Atlanta (GA)',\n",
       "    'Pais Llegada1': 'Estados Unidos',\n",
       "    'Salida Llegada1': '14:42',\n",
       "    'Dia Origen': '17 jun (mié.)'},\n",
       "   {'Duración Vuelo Escala2': '3h 37min',\n",
       "    'Aerolinea Escala2': 'Delta Air Lines',\n",
       "    'No. Vuelo Escala2': '359',\n",
       "    'Clase Escala2': 'económica'},\n",
       "   {'Aeropuerto Origen2': 'Barajas (MAD)',\n",
       "    'Ciudad Origen2': 'Madrid',\n",
       "    'Pais Origen2': 'España',\n",
       "    'Salida Origen2': '11:00',\n",
       "    'Dia Origen2': '17 jun (mié.)'},\n",
       "   {'Aeropuerto Llegada2': 'Hartsfield Jackson (ATL)',\n",
       "    'Ciudad Llegada2': 'Atlanta (GA)',\n",
       "    'Pais Llegada2': 'Estados Unidos',\n",
       "    'Salida Llegada2': '14:42',\n",
       "    'Dia Origen2': '17 jun (mié.)'}]},\n",
       " {'tiempos': {'Hora Salida': '11:30',\n",
       "   'Hora Llegada': '05:20',\n",
       "   'Duracion': '10h 50min'},\n",
       "  'escalas': [{'Duración Vuelo Escala1': '10h 50min',\n",
       "    'Aerolinea Escala1': 'Aeroméxico',\n",
       "    'No. Vuelo Escala1': '23',\n",
       "    'Clase Escala1': 'económica'},\n",
       "   {'Aeropuerto Origen1': 'Ciudad de México Benito Juárez (MEX)',\n",
       "    'Ciudad Origen1': 'Ciudad de México',\n",
       "    'Pais Origen1': 'México',\n",
       "    'Salida Origen1': '11:30',\n",
       "    'Dia Origen1': '11 jun (jue.)'},\n",
       "   {'Aeropuerto Llegada1': 'Barajas (MAD)',\n",
       "    'Ciudad Llegada1': 'Madrid',\n",
       "    'Pais Llegada1': 'España',\n",
       "    'Salida Llegada1': '05:20',\n",
       "    'Dia Origen': '12 jun (vie.)'}]},\n",
       " {'tiempos': {'Hora Salida': '18:40',\n",
       "   'Hora Llegada': '12:40',\n",
       "   'Duracion': '11h 00min'},\n",
       "  'escalas': [{'Duración Vuelo Escala1': '11h 00min',\n",
       "    'Aerolinea Escala1': 'Aeroméxico',\n",
       "    'No. Vuelo Escala1': '1',\n",
       "    'Clase Escala1': 'económica'},\n",
       "   {'Aeropuerto Origen1': 'Ciudad de México Benito Juárez (MEX)',\n",
       "    'Ciudad Origen1': 'Ciudad de México',\n",
       "    'Pais Origen1': 'México',\n",
       "    'Salida Origen1': '18:40',\n",
       "    'Dia Origen1': '11 jun (jue.)'},\n",
       "   {'Aeropuerto Llegada1': 'Barajas (MAD)',\n",
       "    'Ciudad Llegada1': 'Madrid',\n",
       "    'Pais Llegada1': 'España',\n",
       "    'Salida Llegada1': '12:40',\n",
       "    'Dia Origen': '12 jun (vie.)'}]},\n",
       " {'tiempos': {'Hora Salida': '23:40',\n",
       "   'Hora Llegada': '04:35',\n",
       "   'Duracion': '11h 55min'},\n",
       "  'escalas': [{'Duración Vuelo Escala1': '11h 55min',\n",
       "    'Aerolinea Escala1': 'Aeroméxico',\n",
       "    'No. Vuelo Escala1': '22',\n",
       "    'Clase Escala1': 'económica'},\n",
       "   {'Aeropuerto Origen1': 'Barajas (MAD)',\n",
       "    'Ciudad Origen1': 'Madrid',\n",
       "    'Pais Origen1': 'España',\n",
       "    'Salida Origen1': '23:40',\n",
       "    'Dia Origen1': '17 jun (mié.)'},\n",
       "   {'Aeropuerto Llegada1': 'Ciudad de México Benito Juárez (MEX)',\n",
       "    'Ciudad Llegada1': 'Ciudad de México',\n",
       "    'Pais Llegada1': 'México',\n",
       "    'Salida Llegada1': '04:35',\n",
       "    'Dia Origen': '18 jun (jue.)'}]},\n",
       " {'tiempos': {'Hora Salida': '07:00',\n",
       "   'Hora Llegada': '08:30',\n",
       "   'Duracion': '18h 30min'},\n",
       "  'escalas': [{'Duración Vuelo Escala1': '3h 38min',\n",
       "    'Aerolinea Escala1': 'Delta Air Lines',\n",
       "    'No. Vuelo Escala1': '364',\n",
       "    'Clase Escala1': 'económica'},\n",
       "   {'Aeropuerto Origen1': 'Ciudad de México Benito Juárez (MEX)',\n",
       "    'Ciudad Origen1': 'Ciudad de México',\n",
       "    'Pais Origen1': 'México',\n",
       "    'Salida Origen1': '07:00',\n",
       "    'Dia Origen1': '11 jun (jue.)'},\n",
       "   {'Aeropuerto Llegada1': 'Hartsfield Jackson (ATL)',\n",
       "    'Ciudad Llegada1': 'Atlanta (GA)',\n",
       "    'Pais Llegada1': 'Estados Unidos',\n",
       "    'Salida Llegada1': '11:38',\n",
       "    'Dia Origen': '11 jun (jue.)'},\n",
       "   {'Duración Vuelo Escala2': '8h 40min',\n",
       "    'Aerolinea Escala2': 'Delta Air Lines',\n",
       "    'No. Vuelo Escala2': '108',\n",
       "    'Clase Escala2': 'económica'},\n",
       "   {'Aeropuerto Origen2': 'Ciudad de México Benito Juárez (MEX)',\n",
       "    'Ciudad Origen2': 'Ciudad de México',\n",
       "    'Pais Origen2': 'México',\n",
       "    'Salida Origen2': '07:00',\n",
       "    'Dia Origen2': '11 jun (jue.)'},\n",
       "   {'Aeropuerto Llegada2': 'Hartsfield Jackson (ATL)',\n",
       "    'Ciudad Llegada2': 'Atlanta (GA)',\n",
       "    'Pais Llegada2': 'Estados Unidos',\n",
       "    'Salida Llegada2': '11:38',\n",
       "    'Dia Origen2': '11 jun (jue.)'}]},\n",
       " {'tiempos': {'Hora Salida': '11:55',\n",
       "   'Hora Llegada': '08:30',\n",
       "   'Duracion': '13h 35min'},\n",
       "  'escalas': [{'Duración Vuelo Escala1': '3h 29min',\n",
       "    'Aerolinea Escala1': 'Delta Air Lines',\n",
       "    'No. Vuelo Escala1': '314',\n",
       "    'Clase Escala1': 'económica'},\n",
       "   {'Aeropuerto Origen1': 'Ciudad de México Benito Juárez (MEX)',\n",
       "    'Ciudad Origen1': 'Ciudad de México',\n",
       "    'Pais Origen1': 'México',\n",
       "    'Salida Origen1': '11:55',\n",
       "    'Dia Origen1': '11 jun (jue.)'},\n",
       "   {'Aeropuerto Llegada1': 'Hartsfield Jackson (ATL)',\n",
       "    'Ciudad Llegada1': 'Atlanta (GA)',\n",
       "    'Pais Llegada1': 'Estados Unidos',\n",
       "    'Salida Llegada1': '16:24',\n",
       "    'Dia Origen': '11 jun (jue.)'},\n",
       "   {'Duración Vuelo Escala2': '8h 40min',\n",
       "    'Aerolinea Escala2': 'Delta Air Lines',\n",
       "    'No. Vuelo Escala2': '108',\n",
       "    'Clase Escala2': 'económica'},\n",
       "   {'Aeropuerto Origen2': 'Ciudad de México Benito Juárez (MEX)',\n",
       "    'Ciudad Origen2': 'Ciudad de México',\n",
       "    'Pais Origen2': 'México',\n",
       "    'Salida Origen2': '11:55',\n",
       "    'Dia Origen2': '11 jun (jue.)'},\n",
       "   {'Aeropuerto Llegada2': 'Hartsfield Jackson (ATL)',\n",
       "    'Ciudad Llegada2': 'Atlanta (GA)',\n",
       "    'Pais Llegada2': 'Estados Unidos',\n",
       "    'Salida Llegada2': '16:24',\n",
       "    'Dia Origen2': '11 jun (jue.)'}]},\n",
       " {'tiempos': {'Hora Salida': '11:00',\n",
       "   'Hora Llegada': '19:40',\n",
       "   'Duracion': '15h 40min'},\n",
       "  'escalas': [{'Duración Vuelo Escala1': '9h 42min',\n",
       "    'Aerolinea Escala1': 'Delta Air Lines',\n",
       "    'No. Vuelo Escala1': '109',\n",
       "    'Clase Escala1': 'económica'},\n",
       "   {'Aeropuerto Origen1': 'Barajas (MAD)',\n",
       "    'Ciudad Origen1': 'Madrid',\n",
       "    'Pais Origen1': 'España',\n",
       "    'Salida Origen1': '11:00',\n",
       "    'Dia Origen1': '17 jun (mié.)'},\n",
       "   {'Aeropuerto Llegada1': 'Hartsfield Jackson (ATL)',\n",
       "    'Ciudad Llegada1': 'Atlanta (GA)',\n",
       "    'Pais Llegada1': 'Estados Unidos',\n",
       "    'Salida Llegada1': '14:42',\n",
       "    'Dia Origen': '17 jun (mié.)'},\n",
       "   {'Duración Vuelo Escala2': '3h 37min',\n",
       "    'Aerolinea Escala2': 'Delta Air Lines',\n",
       "    'No. Vuelo Escala2': '359',\n",
       "    'Clase Escala2': 'económica'},\n",
       "   {'Aeropuerto Origen2': 'Barajas (MAD)',\n",
       "    'Ciudad Origen2': 'Madrid',\n",
       "    'Pais Origen2': 'España',\n",
       "    'Salida Origen2': '11:00',\n",
       "    'Dia Origen2': '17 jun (mié.)'},\n",
       "   {'Aeropuerto Llegada2': 'Hartsfield Jackson (ATL)',\n",
       "    'Ciudad Llegada2': 'Atlanta (GA)',\n",
       "    'Pais Llegada2': 'Estados Unidos',\n",
       "    'Salida Llegada2': '14:42',\n",
       "    'Dia Origen2': '17 jun (mié.)'}]},\n",
       " {'tiempos': {'Hora Salida': '11:00',\n",
       "   'Hora Llegada': '22:00',\n",
       "   'Duracion': '18h 00min'},\n",
       "  'escalas': [{'Duración Vuelo Escala1': '9h 42min',\n",
       "    'Aerolinea Escala1': 'Delta Air Lines',\n",
       "    'No. Vuelo Escala1': '109',\n",
       "    'Clase Escala1': 'económica'},\n",
       "   {'Aeropuerto Origen1': 'Barajas (MAD)',\n",
       "    'Ciudad Origen1': 'Madrid',\n",
       "    'Pais Origen1': 'España',\n",
       "    'Salida Origen1': '11:00',\n",
       "    'Dia Origen1': '17 jun (mié.)'},\n",
       "   {'Aeropuerto Llegada1': 'Hartsfield Jackson (ATL)',\n",
       "    'Ciudad Llegada1': 'Atlanta (GA)',\n",
       "    'Pais Llegada1': 'Estados Unidos',\n",
       "    'Salida Llegada1': '14:42',\n",
       "    'Dia Origen': '17 jun (mié.)'},\n",
       "   {'Duración Vuelo Escala2': '3h 38min',\n",
       "    'Aerolinea Escala2': 'Delta Air Lines',\n",
       "    'No. Vuelo Escala2': '316',\n",
       "    'Clase Escala2': 'económica'},\n",
       "   {'Aeropuerto Origen2': 'Barajas (MAD)',\n",
       "    'Ciudad Origen2': 'Madrid',\n",
       "    'Pais Origen2': 'España',\n",
       "    'Salida Origen2': '11:00',\n",
       "    'Dia Origen2': '17 jun (mié.)'},\n",
       "   {'Aeropuerto Llegada2': 'Hartsfield Jackson (ATL)',\n",
       "    'Ciudad Llegada2': 'Atlanta (GA)',\n",
       "    'Pais Llegada2': 'Estados Unidos',\n",
       "    'Salida Llegada2': '14:42',\n",
       "    'Dia Origen2': '17 jun (mié.)'}]},\n",
       " {'tiempos': {'Hora Salida': '11:00',\n",
       "   'Hora Llegada': '10:55',\n",
       "   'Duracion': '30h 55min'},\n",
       "  'escalas': [{'Duración Vuelo Escala1': '9h 42min',\n",
       "    'Aerolinea Escala1': 'Delta Air Lines',\n",
       "    'No. Vuelo Escala1': '109',\n",
       "    'Clase Escala1': 'económica'},\n",
       "   {'Aeropuerto Origen1': 'Barajas (MAD)',\n",
       "    'Ciudad Origen1': 'Madrid',\n",
       "    'Pais Origen1': 'España',\n",
       "    'Salida Origen1': '11:00',\n",
       "    'Dia Origen1': '17 jun (mié.)'},\n",
       "   {'Aeropuerto Llegada1': 'Hartsfield Jackson (ATL)',\n",
       "    'Ciudad Llegada1': 'Atlanta (GA)',\n",
       "    'Pais Llegada1': 'Estados Unidos',\n",
       "    'Salida Llegada1': '14:42',\n",
       "    'Dia Origen': '17 jun (mié.)'},\n",
       "   {'Duración Vuelo Escala2': '3h 29min',\n",
       "    'Aerolinea Escala2': 'Delta Air Lines',\n",
       "    'No. Vuelo Escala2': '334',\n",
       "    'Clase Escala2': 'económica'},\n",
       "   {'Aeropuerto Origen2': 'Barajas (MAD)',\n",
       "    'Ciudad Origen2': 'Madrid',\n",
       "    'Pais Origen2': 'España',\n",
       "    'Salida Origen2': '11:00',\n",
       "    'Dia Origen2': '17 jun (mié.)'},\n",
       "   {'Aeropuerto Llegada2': 'Hartsfield Jackson (ATL)',\n",
       "    'Ciudad Llegada2': 'Atlanta (GA)',\n",
       "    'Pais Llegada2': 'Estados Unidos',\n",
       "    'Salida Llegada2': '14:42',\n",
       "    'Dia Origen2': '17 jun (mié.)'}]},\n",
       " {'tiempos': {'Hora Salida': '07:00',\n",
       "   'Hora Llegada': '08:30',\n",
       "   'Duracion': '18h 30min'},\n",
       "  'escalas': [{'Duración Vuelo Escala1': '3h 38min',\n",
       "    'Aerolinea Escala1': 'Delta Air Lines',\n",
       "    'No. Vuelo Escala1': '364',\n",
       "    'Clase Escala1': 'económica'},\n",
       "   {'Aeropuerto Origen1': 'Ciudad de México Benito Juárez (MEX)',\n",
       "    'Ciudad Origen1': 'Ciudad de México',\n",
       "    'Pais Origen1': 'México',\n",
       "    'Salida Origen1': '07:00',\n",
       "    'Dia Origen1': '11 jun (jue.)'},\n",
       "   {'Aeropuerto Llegada1': 'Hartsfield Jackson (ATL)',\n",
       "    'Ciudad Llegada1': 'Atlanta (GA)',\n",
       "    'Pais Llegada1': 'Estados Unidos',\n",
       "    'Salida Llegada1': '11:38',\n",
       "    'Dia Origen': '11 jun (jue.)'},\n",
       "   {'Duración Vuelo Escala2': '8h 40min',\n",
       "    'Aerolinea Escala2': 'Delta Air Lines',\n",
       "    'No. Vuelo Escala2': '108',\n",
       "    'Clase Escala2': 'económica'},\n",
       "   {'Aeropuerto Origen2': 'Ciudad de México Benito Juárez (MEX)',\n",
       "    'Ciudad Origen2': 'Ciudad de México',\n",
       "    'Pais Origen2': 'México',\n",
       "    'Salida Origen2': '07:00',\n",
       "    'Dia Origen2': '11 jun (jue.)'},\n",
       "   {'Aeropuerto Llegada2': 'Hartsfield Jackson (ATL)',\n",
       "    'Ciudad Llegada2': 'Atlanta (GA)',\n",
       "    'Pais Llegada2': 'Estados Unidos',\n",
       "    'Salida Llegada2': '11:38',\n",
       "    'Dia Origen2': '11 jun (jue.)'}]},\n",
       " {'tiempos': {'Hora Salida': '11:55',\n",
       "   'Hora Llegada': '08:30',\n",
       "   'Duracion': '13h 35min'},\n",
       "  'escalas': [{'Duración Vuelo Escala1': '3h 29min',\n",
       "    'Aerolinea Escala1': 'Delta Air Lines',\n",
       "    'No. Vuelo Escala1': '314',\n",
       "    'Clase Escala1': 'económica'},\n",
       "   {'Aeropuerto Origen1': 'Ciudad de México Benito Juárez (MEX)',\n",
       "    'Ciudad Origen1': 'Ciudad de México',\n",
       "    'Pais Origen1': 'México',\n",
       "    'Salida Origen1': '11:55',\n",
       "    'Dia Origen1': '11 jun (jue.)'},\n",
       "   {'Aeropuerto Llegada1': 'Hartsfield Jackson (ATL)',\n",
       "    'Ciudad Llegada1': 'Atlanta (GA)',\n",
       "    'Pais Llegada1': 'Estados Unidos',\n",
       "    'Salida Llegada1': '16:24',\n",
       "    'Dia Origen': '11 jun (jue.)'},\n",
       "   {'Duración Vuelo Escala2': '8h 40min',\n",
       "    'Aerolinea Escala2': 'Delta Air Lines',\n",
       "    'No. Vuelo Escala2': '108',\n",
       "    'Clase Escala2': 'económica'},\n",
       "   {'Aeropuerto Origen2': 'Ciudad de México Benito Juárez (MEX)',\n",
       "    'Ciudad Origen2': 'Ciudad de México',\n",
       "    'Pais Origen2': 'México',\n",
       "    'Salida Origen2': '11:55',\n",
       "    'Dia Origen2': '11 jun (jue.)'},\n",
       "   {'Aeropuerto Llegada2': 'Hartsfield Jackson (ATL)',\n",
       "    'Ciudad Llegada2': 'Atlanta (GA)',\n",
       "    'Pais Llegada2': 'Estados Unidos',\n",
       "    'Salida Llegada2': '16:24',\n",
       "    'Dia Origen2': '11 jun (jue.)'}]},\n",
       " {'tiempos': {'Hora Salida': '10:15',\n",
       "   'Hora Llegada': '21:40',\n",
       "   'Duracion': '18h 25min'},\n",
       "  'escalas': [{'Duración Vuelo Escala1': '8h 10min',\n",
       "    'Aerolinea Escala1': 'Delta Air Lines',\n",
       "    'No. Vuelo Escala1': '127',\n",
       "    'Clase Escala1': 'económica'},\n",
       "   {'Aeropuerto Origen1': 'Barajas (MAD)',\n",
       "    'Ciudad Origen1': 'Madrid',\n",
       "    'Pais Origen1': 'España',\n",
       "    'Salida Origen1': '10:15',\n",
       "    'Dia Origen1': '17 jun (mié.)'},\n",
       "   {'Aeropuerto Llegada1': 'John F. Kennedy (JFK)',\n",
       "    'Ciudad Llegada1': 'Nueva York (NY)',\n",
       "    'Pais Llegada1': 'Estados Unidos',\n",
       "    'Salida Llegada1': '12:25',\n",
       "    'Dia Origen': '17 jun (mié.)'},\n",
       "   {'Duración Vuelo Escala2': '5h 25min',\n",
       "    'Aerolinea Escala2': 'Delta Air Lines',\n",
       "    'No. Vuelo Escala2': '8818',\n",
       "    'Clase Escala2': 'económica'},\n",
       "   {'Aeropuerto Origen2': 'Barajas (MAD)',\n",
       "    'Ciudad Origen2': 'Madrid',\n",
       "    'Pais Origen2': 'España',\n",
       "    'Salida Origen2': '10:15',\n",
       "    'Dia Origen2': '17 jun (mié.)'},\n",
       "   {'Aeropuerto Llegada2': 'John F. Kennedy (JFK)',\n",
       "    'Ciudad Llegada2': 'Nueva York (NY)',\n",
       "    'Pais Llegada2': 'Estados Unidos',\n",
       "    'Salida Llegada2': '12:25',\n",
       "    'Dia Origen2': '17 jun (mié.)'}]},\n",
       " {'tiempos': {'Hora Salida': '10:15',\n",
       "   'Hora Llegada': '13:55',\n",
       "   'Duracion': '34h 40min'},\n",
       "  'escalas': [{'Duración Vuelo Escala1': '8h 10min',\n",
       "    'Aerolinea Escala1': 'Delta Air Lines',\n",
       "    'No. Vuelo Escala1': '127',\n",
       "    'Clase Escala1': 'económica'},\n",
       "   {'Aeropuerto Origen1': 'Barajas (MAD)',\n",
       "    'Ciudad Origen1': 'Madrid',\n",
       "    'Pais Origen1': 'España',\n",
       "    'Salida Origen1': '10:15',\n",
       "    'Dia Origen1': '17 jun (mié.)'},\n",
       "   {'Aeropuerto Llegada1': 'John F. Kennedy (JFK)',\n",
       "    'Ciudad Llegada1': 'Nueva York (NY)',\n",
       "    'Pais Llegada1': 'Estados Unidos',\n",
       "    'Salida Llegada1': '12:25',\n",
       "    'Dia Origen': '17 jun (mié.)'},\n",
       "   {'Duración Vuelo Escala2': '5h 08min',\n",
       "    'Aerolinea Escala2': 'Delta Air Lines',\n",
       "    'No. Vuelo Escala2': '481',\n",
       "    'Clase Escala2': 'económica'},\n",
       "   {'Aeropuerto Origen2': 'Barajas (MAD)',\n",
       "    'Ciudad Origen2': 'Madrid',\n",
       "    'Pais Origen2': 'España',\n",
       "    'Salida Origen2': '10:15',\n",
       "    'Dia Origen2': '17 jun (mié.)'},\n",
       "   {'Aeropuerto Llegada2': 'John F. Kennedy (JFK)',\n",
       "    'Ciudad Llegada2': 'Nueva York (NY)',\n",
       "    'Pais Llegada2': 'Estados Unidos',\n",
       "    'Salida Llegada2': '12:25',\n",
       "    'Dia Origen2': '17 jun (mié.)'}]},\n",
       " {'tiempos': {'Hora Salida': '10:15',\n",
       "   'Hora Llegada': '19:45',\n",
       "   'Duracion': '16h 30min'},\n",
       "  'escalas': [{'Duración Vuelo Escala1': '8h 10min',\n",
       "    'Aerolinea Escala1': 'Delta Air Lines',\n",
       "    'No. Vuelo Escala1': '127',\n",
       "    'Clase Escala1': 'económica'},\n",
       "   {'Aeropuerto Origen1': 'Barajas (MAD)',\n",
       "    'Ciudad Origen1': 'Madrid',\n",
       "    'Pais Origen1': 'España',\n",
       "    'Salida Origen1': '10:15',\n",
       "    'Dia Origen1': '17 jun (mié.)'},\n",
       "   {'Aeropuerto Llegada1': 'John F. Kennedy (JFK)',\n",
       "    'Ciudad Llegada1': 'Nueva York (NY)',\n",
       "    'Pais Llegada1': 'Estados Unidos',\n",
       "    'Salida Llegada1': '12:25',\n",
       "    'Dia Origen': '17 jun (mié.)'},\n",
       "   {'Duración Vuelo Escala2': '5h 25min',\n",
       "    'Aerolinea Escala2': 'Delta Air Lines',\n",
       "    'No. Vuelo Escala2': '9101',\n",
       "    'Clase Escala2': 'económica'},\n",
       "   {'Aeropuerto Origen2': 'Barajas (MAD)',\n",
       "    'Ciudad Origen2': 'Madrid',\n",
       "    'Pais Origen2': 'España',\n",
       "    'Salida Origen2': '10:15',\n",
       "    'Dia Origen2': '17 jun (mié.)'},\n",
       "   {'Aeropuerto Llegada2': 'John F. Kennedy (JFK)',\n",
       "    'Ciudad Llegada2': 'Nueva York (NY)',\n",
       "    'Pais Llegada2': 'Estados Unidos',\n",
       "    'Salida Llegada2': '12:25',\n",
       "    'Dia Origen2': '17 jun (mié.)'}]},\n",
       " {'tiempos': {'Hora Salida': '09:20',\n",
       "   'Hora Llegada': '09:15',\n",
       "   'Duracion': '16h 55min'},\n",
       "  'escalas': [{'Duración Vuelo Escala1': '5h 10min',\n",
       "    'Aerolinea Escala1': 'Delta Air Lines',\n",
       "    'No. Vuelo Escala1': '8817',\n",
       "    'Clase Escala1': 'económica'},\n",
       "   {'Aeropuerto Origen1': 'Ciudad de México Benito Juárez (MEX)',\n",
       "    'Ciudad Origen1': 'Ciudad de México',\n",
       "    'Pais Origen1': 'México',\n",
       "    'Salida Origen1': '09:20',\n",
       "    'Dia Origen1': '11 jun (jue.)'},\n",
       "   {'Aeropuerto Llegada1': 'John F. Kennedy (JFK)',\n",
       "    'Ciudad Llegada1': 'Nueva York (NY)',\n",
       "    'Pais Llegada1': 'Estados Unidos',\n",
       "    'Salida Llegada1': '15:30',\n",
       "    'Dia Origen': '11 jun (jue.)'},\n",
       "   {'Duración Vuelo Escala2': '7h 46min',\n",
       "    'Aerolinea Escala2': 'Delta Air Lines',\n",
       "    'No. Vuelo Escala2': '126',\n",
       "    'Clase Escala2': 'económica'},\n",
       "   {'Aeropuerto Origen2': 'Ciudad de México Benito Juárez (MEX)',\n",
       "    'Ciudad Origen2': 'Ciudad de México',\n",
       "    'Pais Origen2': 'México',\n",
       "    'Salida Origen2': '09:20',\n",
       "    'Dia Origen2': '11 jun (jue.)'},\n",
       "   {'Aeropuerto Llegada2': 'John F. Kennedy (JFK)',\n",
       "    'Ciudad Llegada2': 'Nueva York (NY)',\n",
       "    'Pais Llegada2': 'Estados Unidos',\n",
       "    'Salida Llegada2': '15:30',\n",
       "    'Dia Origen2': '11 jun (jue.)'}]},\n",
       " {'tiempos': {'Hora Salida': '11:00',\n",
       "   'Hora Llegada': '19:40',\n",
       "   'Duracion': '15h 40min'},\n",
       "  'escalas': [{'Duración Vuelo Escala1': '9h 42min',\n",
       "    'Aerolinea Escala1': 'Delta Air Lines',\n",
       "    'No. Vuelo Escala1': '109',\n",
       "    'Clase Escala1': 'económica'},\n",
       "   {'Aeropuerto Origen1': 'Barajas (MAD)',\n",
       "    'Ciudad Origen1': 'Madrid',\n",
       "    'Pais Origen1': 'España',\n",
       "    'Salida Origen1': '11:00',\n",
       "    'Dia Origen1': '17 jun (mié.)'},\n",
       "   {'Aeropuerto Llegada1': 'Hartsfield Jackson (ATL)',\n",
       "    'Ciudad Llegada1': 'Atlanta (GA)',\n",
       "    'Pais Llegada1': 'Estados Unidos',\n",
       "    'Salida Llegada1': '14:42',\n",
       "    'Dia Origen': '17 jun (mié.)'},\n",
       "   {'Duración Vuelo Escala2': '3h 37min',\n",
       "    'Aerolinea Escala2': 'Delta Air Lines',\n",
       "    'No. Vuelo Escala2': '359',\n",
       "    'Clase Escala2': 'económica'},\n",
       "   {'Aeropuerto Origen2': 'Barajas (MAD)',\n",
       "    'Ciudad Origen2': 'Madrid',\n",
       "    'Pais Origen2': 'España',\n",
       "    'Salida Origen2': '11:00',\n",
       "    'Dia Origen2': '17 jun (mié.)'},\n",
       "   {'Aeropuerto Llegada2': 'Hartsfield Jackson (ATL)',\n",
       "    'Ciudad Llegada2': 'Atlanta (GA)',\n",
       "    'Pais Llegada2': 'Estados Unidos',\n",
       "    'Salida Llegada2': '14:42',\n",
       "    'Dia Origen2': '17 jun (mié.)'}]},\n",
       " {'tiempos': {'Hora Salida': '11:00',\n",
       "   'Hora Llegada': '22:00',\n",
       "   'Duracion': '18h 00min'},\n",
       "  'escalas': [{'Duración Vuelo Escala1': '9h 42min',\n",
       "    'Aerolinea Escala1': 'Delta Air Lines',\n",
       "    'No. Vuelo Escala1': '109',\n",
       "    'Clase Escala1': 'económica'},\n",
       "   {'Aeropuerto Origen1': 'Barajas (MAD)',\n",
       "    'Ciudad Origen1': 'Madrid',\n",
       "    'Pais Origen1': 'España',\n",
       "    'Salida Origen1': '11:00',\n",
       "    'Dia Origen1': '17 jun (mié.)'},\n",
       "   {'Aeropuerto Llegada1': 'Hartsfield Jackson (ATL)',\n",
       "    'Ciudad Llegada1': 'Atlanta (GA)',\n",
       "    'Pais Llegada1': 'Estados Unidos',\n",
       "    'Salida Llegada1': '14:42',\n",
       "    'Dia Origen': '17 jun (mié.)'},\n",
       "   {'Duración Vuelo Escala2': '3h 38min',\n",
       "    'Aerolinea Escala2': 'Delta Air Lines',\n",
       "    'No. Vuelo Escala2': '316',\n",
       "    'Clase Escala2': 'económica'},\n",
       "   {'Aeropuerto Origen2': 'Barajas (MAD)',\n",
       "    'Ciudad Origen2': 'Madrid',\n",
       "    'Pais Origen2': 'España',\n",
       "    'Salida Origen2': '11:00',\n",
       "    'Dia Origen2': '17 jun (mié.)'},\n",
       "   {'Aeropuerto Llegada2': 'Hartsfield Jackson (ATL)',\n",
       "    'Ciudad Llegada2': 'Atlanta (GA)',\n",
       "    'Pais Llegada2': 'Estados Unidos',\n",
       "    'Salida Llegada2': '14:42',\n",
       "    'Dia Origen2': '17 jun (mié.)'}]},\n",
       " {'tiempos': {'Hora Salida': '11:00',\n",
       "   'Hora Llegada': '10:55',\n",
       "   'Duracion': '30h 55min'},\n",
       "  'escalas': [{'Duración Vuelo Escala1': '9h 42min',\n",
       "    'Aerolinea Escala1': 'Delta Air Lines',\n",
       "    'No. Vuelo Escala1': '109',\n",
       "    'Clase Escala1': 'económica'},\n",
       "   {'Aeropuerto Origen1': 'Barajas (MAD)',\n",
       "    'Ciudad Origen1': 'Madrid',\n",
       "    'Pais Origen1': 'España',\n",
       "    'Salida Origen1': '11:00',\n",
       "    'Dia Origen1': '17 jun (mié.)'},\n",
       "   {'Aeropuerto Llegada1': 'Hartsfield Jackson (ATL)',\n",
       "    'Ciudad Llegada1': 'Atlanta (GA)',\n",
       "    'Pais Llegada1': 'Estados Unidos',\n",
       "    'Salida Llegada1': '14:42',\n",
       "    'Dia Origen': '17 jun (mié.)'},\n",
       "   {'Duración Vuelo Escala2': '3h 29min',\n",
       "    'Aerolinea Escala2': 'Delta Air Lines',\n",
       "    'No. Vuelo Escala2': '334',\n",
       "    'Clase Escala2': 'económica'},\n",
       "   {'Aeropuerto Origen2': 'Barajas (MAD)',\n",
       "    'Ciudad Origen2': 'Madrid',\n",
       "    'Pais Origen2': 'España',\n",
       "    'Salida Origen2': '11:00',\n",
       "    'Dia Origen2': '17 jun (mié.)'},\n",
       "   {'Aeropuerto Llegada2': 'Hartsfield Jackson (ATL)',\n",
       "    'Ciudad Llegada2': 'Atlanta (GA)',\n",
       "    'Pais Llegada2': 'Estados Unidos',\n",
       "    'Salida Llegada2': '14:42',\n",
       "    'Dia Origen2': '17 jun (mié.)'}]},\n",
       " {'tiempos': {'Hora Salida': '09:20',\n",
       "   'Hora Llegada': '09:15',\n",
       "   'Duracion': '16h 55min'},\n",
       "  'escalas': [{'Duración Vuelo Escala1': '5h 10min',\n",
       "    'Aerolinea Escala1': 'Delta Air Lines',\n",
       "    'No. Vuelo Escala1': '8817',\n",
       "    'Clase Escala1': 'económica'},\n",
       "   {'Aeropuerto Origen1': 'Ciudad de México Benito Juárez (MEX)',\n",
       "    'Ciudad Origen1': 'Ciudad de México',\n",
       "    'Pais Origen1': 'México',\n",
       "    'Salida Origen1': '09:20',\n",
       "    'Dia Origen1': '11 jun (jue.)'},\n",
       "   {'Aeropuerto Llegada1': 'John F. Kennedy (JFK)',\n",
       "    'Ciudad Llegada1': 'Nueva York (NY)',\n",
       "    'Pais Llegada1': 'Estados Unidos',\n",
       "    'Salida Llegada1': '15:30',\n",
       "    'Dia Origen': '11 jun (jue.)'},\n",
       "   {'Duración Vuelo Escala2': '7h 46min',\n",
       "    'Aerolinea Escala2': 'Delta Air Lines',\n",
       "    'No. Vuelo Escala2': '126',\n",
       "    'Clase Escala2': 'económica'},\n",
       "   {'Aeropuerto Origen2': 'Ciudad de México Benito Juárez (MEX)',\n",
       "    'Ciudad Origen2': 'Ciudad de México',\n",
       "    'Pais Origen2': 'México',\n",
       "    'Salida Origen2': '09:20',\n",
       "    'Dia Origen2': '11 jun (jue.)'},\n",
       "   {'Aeropuerto Llegada2': 'John F. Kennedy (JFK)',\n",
       "    'Ciudad Llegada2': 'Nueva York (NY)',\n",
       "    'Pais Llegada2': 'Estados Unidos',\n",
       "    'Salida Llegada2': '15:30',\n",
       "    'Dia Origen2': '11 jun (jue.)'}]},\n",
       " {'tiempos': {'Hora Salida': '10:15',\n",
       "   'Hora Llegada': '21:40',\n",
       "   'Duracion': '18h 25min'},\n",
       "  'escalas': [{'Duración Vuelo Escala1': '8h 10min',\n",
       "    'Aerolinea Escala1': 'Delta Air Lines',\n",
       "    'No. Vuelo Escala1': '127',\n",
       "    'Clase Escala1': 'económica'},\n",
       "   {'Aeropuerto Origen1': 'Barajas (MAD)',\n",
       "    'Ciudad Origen1': 'Madrid',\n",
       "    'Pais Origen1': 'España',\n",
       "    'Salida Origen1': '10:15',\n",
       "    'Dia Origen1': '17 jun (mié.)'},\n",
       "   {'Aeropuerto Llegada1': 'John F. Kennedy (JFK)',\n",
       "    'Ciudad Llegada1': 'Nueva York (NY)',\n",
       "    'Pais Llegada1': 'Estados Unidos',\n",
       "    'Salida Llegada1': '12:25',\n",
       "    'Dia Origen': '17 jun (mié.)'},\n",
       "   {'Duración Vuelo Escala2': '5h 25min',\n",
       "    'Aerolinea Escala2': 'Delta Air Lines',\n",
       "    'No. Vuelo Escala2': '8818',\n",
       "    'Clase Escala2': 'económica'},\n",
       "   {'Aeropuerto Origen2': 'Barajas (MAD)',\n",
       "    'Ciudad Origen2': 'Madrid',\n",
       "    'Pais Origen2': 'España',\n",
       "    'Salida Origen2': '10:15',\n",
       "    'Dia Origen2': '17 jun (mié.)'},\n",
       "   {'Aeropuerto Llegada2': 'John F. Kennedy (JFK)',\n",
       "    'Ciudad Llegada2': 'Nueva York (NY)',\n",
       "    'Pais Llegada2': 'Estados Unidos',\n",
       "    'Salida Llegada2': '12:25',\n",
       "    'Dia Origen2': '17 jun (mié.)'}]},\n",
       " {'tiempos': {'Hora Salida': '10:15',\n",
       "   'Hora Llegada': '13:55',\n",
       "   'Duracion': '34h 40min'},\n",
       "  'escalas': [{'Duración Vuelo Escala1': '8h 10min',\n",
       "    'Aerolinea Escala1': 'Delta Air Lines',\n",
       "    'No. Vuelo Escala1': '127',\n",
       "    'Clase Escala1': 'económica'},\n",
       "   {'Aeropuerto Origen1': 'Barajas (MAD)',\n",
       "    'Ciudad Origen1': 'Madrid',\n",
       "    'Pais Origen1': 'España',\n",
       "    'Salida Origen1': '10:15',\n",
       "    'Dia Origen1': '17 jun (mié.)'},\n",
       "   {'Aeropuerto Llegada1': 'John F. Kennedy (JFK)',\n",
       "    'Ciudad Llegada1': 'Nueva York (NY)',\n",
       "    'Pais Llegada1': 'Estados Unidos',\n",
       "    'Salida Llegada1': '12:25',\n",
       "    'Dia Origen': '17 jun (mié.)'},\n",
       "   {'Duración Vuelo Escala2': '5h 08min',\n",
       "    'Aerolinea Escala2': 'Delta Air Lines',\n",
       "    'No. Vuelo Escala2': '481',\n",
       "    'Clase Escala2': 'económica'},\n",
       "   {'Aeropuerto Origen2': 'Barajas (MAD)',\n",
       "    'Ciudad Origen2': 'Madrid',\n",
       "    'Pais Origen2': 'España',\n",
       "    'Salida Origen2': '10:15',\n",
       "    'Dia Origen2': '17 jun (mié.)'},\n",
       "   {'Aeropuerto Llegada2': 'John F. Kennedy (JFK)',\n",
       "    'Ciudad Llegada2': 'Nueva York (NY)',\n",
       "    'Pais Llegada2': 'Estados Unidos',\n",
       "    'Salida Llegada2': '12:25',\n",
       "    'Dia Origen2': '17 jun (mié.)'}]},\n",
       " {'tiempos': {'Hora Salida': '10:15',\n",
       "   'Hora Llegada': '19:45',\n",
       "   'Duracion': '16h 30min'},\n",
       "  'escalas': [{'Duración Vuelo Escala1': '8h 10min',\n",
       "    'Aerolinea Escala1': 'Delta Air Lines',\n",
       "    'No. Vuelo Escala1': '127',\n",
       "    'Clase Escala1': 'económica'},\n",
       "   {'Aeropuerto Origen1': 'Barajas (MAD)',\n",
       "    'Ciudad Origen1': 'Madrid',\n",
       "    'Pais Origen1': 'España',\n",
       "    'Salida Origen1': '10:15',\n",
       "    'Dia Origen1': '17 jun (mié.)'},\n",
       "   {'Aeropuerto Llegada1': 'John F. Kennedy (JFK)',\n",
       "    'Ciudad Llegada1': 'Nueva York (NY)',\n",
       "    'Pais Llegada1': 'Estados Unidos',\n",
       "    'Salida Llegada1': '12:25',\n",
       "    'Dia Origen': '17 jun (mié.)'},\n",
       "   {'Duración Vuelo Escala2': '5h 25min',\n",
       "    'Aerolinea Escala2': 'Delta Air Lines',\n",
       "    'No. Vuelo Escala2': '9101',\n",
       "    'Clase Escala2': 'económica'},\n",
       "   {'Aeropuerto Origen2': 'Barajas (MAD)',\n",
       "    'Ciudad Origen2': 'Madrid',\n",
       "    'Pais Origen2': 'España',\n",
       "    'Salida Origen2': '10:15',\n",
       "    'Dia Origen2': '17 jun (mié.)'},\n",
       "   {'Aeropuerto Llegada2': 'John F. Kennedy (JFK)',\n",
       "    'Ciudad Llegada2': 'Nueva York (NY)',\n",
       "    'Pais Llegada2': 'Estados Unidos',\n",
       "    'Salida Llegada2': '12:25',\n",
       "    'Dia Origen2': '17 jun (mié.)'}]},\n",
       " {'tiempos': {'Hora Salida': '12:25',\n",
       "   'Hora Llegada': '06:00',\n",
       "   'Duracion': '10h 35min'},\n",
       "  'escalas': [{'Duración Vuelo Escala1': '10h 35min',\n",
       "    'Aerolinea Escala1': 'Iberia',\n",
       "    'No. Vuelo Escala1': '6400',\n",
       "    'Clase Escala1': 'económica'},\n",
       "   {'Aeropuerto Origen1': 'Ciudad de México Benito Juárez (MEX)',\n",
       "    'Ciudad Origen1': 'Ciudad de México',\n",
       "    'Pais Origen1': 'México',\n",
       "    'Salida Origen1': '12:25',\n",
       "    'Dia Origen1': '11 jun (jue.)'},\n",
       "   {'Aeropuerto Llegada1': 'Barajas (MAD)',\n",
       "    'Ciudad Llegada1': 'Madrid',\n",
       "    'Pais Llegada1': 'España',\n",
       "    'Salida Llegada1': '06:00',\n",
       "    'Dia Origen': '12 jun (vie.)'}]},\n",
       " {'tiempos': {'Hora Salida': '16:10',\n",
       "   'Hora Llegada': '10:05',\n",
       "   'Duracion': '10h 55min'},\n",
       "  'escalas': [{'Duración Vuelo Escala1': '10h 55min',\n",
       "    'Aerolinea Escala1': 'Iberia',\n",
       "    'No. Vuelo Escala1': '6406',\n",
       "    'Clase Escala1': 'económica'},\n",
       "   {'Aeropuerto Origen1': 'Ciudad de México Benito Juárez (MEX)',\n",
       "    'Ciudad Origen1': 'Ciudad de México',\n",
       "    'Pais Origen1': 'México',\n",
       "    'Salida Origen1': '16:10',\n",
       "    'Dia Origen1': '11 jun (jue.)'},\n",
       "   {'Aeropuerto Llegada1': 'Barajas (MAD)',\n",
       "    'Ciudad Llegada1': 'Madrid',\n",
       "    'Pais Llegada1': 'España',\n",
       "    'Salida Llegada1': '10:05',\n",
       "    'Dia Origen': '12 jun (vie.)'}]},\n",
       " {'tiempos': {'Hora Salida': '09:45',\n",
       "   'Hora Llegada': '14:10',\n",
       "   'Duracion': '11h 25min'},\n",
       "  'escalas': [{'Duración Vuelo Escala1': '11h 25min',\n",
       "    'Aerolinea Escala1': 'Iberia',\n",
       "    'No. Vuelo Escala1': '6405',\n",
       "    'Clase Escala1': 'económica'},\n",
       "   {'Aeropuerto Origen1': 'Barajas (MAD)',\n",
       "    'Ciudad Origen1': 'Madrid',\n",
       "    'Pais Origen1': 'España',\n",
       "    'Salida Origen1': '09:45',\n",
       "    'Dia Origen1': '17 jun (mié.)'},\n",
       "   {'Aeropuerto Llegada1': 'Ciudad de México Benito Juárez (MEX)',\n",
       "    'Ciudad Llegada1': 'Ciudad de México',\n",
       "    'Pais Llegada1': 'México',\n",
       "    'Salida Llegada1': '14:10',\n",
       "    'Dia Origen': '17 jun (mié.)'}]},\n",
       " {'tiempos': {'Hora Salida': '13:30',\n",
       "   'Hora Llegada': '18:40',\n",
       "   'Duracion': '12h 10min'},\n",
       "  'escalas': [{'Duración Vuelo Escala1': '12h 10min',\n",
       "    'Aerolinea Escala1': 'Iberia',\n",
       "    'No. Vuelo Escala1': '6403',\n",
       "    'Clase Escala1': 'económica'},\n",
       "   {'Aeropuerto Origen1': 'Barajas (MAD)',\n",
       "    'Ciudad Origen1': 'Madrid',\n",
       "    'Pais Origen1': 'España',\n",
       "    'Salida Origen1': '13:30',\n",
       "    'Dia Origen1': '17 jun (mié.)'},\n",
       "   {'Aeropuerto Llegada1': 'Ciudad de México Benito Juárez (MEX)',\n",
       "    'Ciudad Llegada1': 'Ciudad de México',\n",
       "    'Pais Llegada1': 'México',\n",
       "    'Salida Llegada1': '18:40',\n",
       "    'Dia Origen': '17 jun (mié.)'}]}]"
      ]
     },
     "execution_count": 855,
     "metadata": {},
     "output_type": "execute_result"
    }
   ],
   "source": [
    "import time\n",
    "obtener_info(driver,'económica')"
   ]
  },
  {
   "cell_type": "code",
   "execution_count": 763,
   "metadata": {},
   "outputs": [],
   "source": [
    "def obtener_clases(driver,tipo_clase):\n",
    "    clasesboton = driver.find_element_by_xpath('.//div[@class=\"service-class-types ng-star-inserted\"]').click()\n",
    "    clases1 = driver.find_elements_by_xpath('//li[@class=\"options-option ng-star-inserted\"]')\n",
    "    clases2 = driver.find_elements_by_xpath('//li[@class=\"options-option active ng-star-inserted\"]')  \n",
    "    clases = clases1 + clases2\n",
    "           \n",
    "    for clase in clases:  #funcion sec\n",
    "        if clase.find_element_by_xpath('.//a[@_ngcontent-fsr-ssr-c46=\"\"]').text == f'{tipo_clase}':\n",
    "            clase.find_element_by_xpath('.//a[@_ngcontent-fsr-ssr-c46=\"\"]').click()\n",
    "            time.sleep(2)\n",
    "    \n",
    "    boton_busqueda = driver.find_element_by_xpath('.//button[@class=\"btn transaction qsf-search\"]').click()\n",
    "    #time.sleep(5)"
   ]
  },
  {
   "cell_type": "code",
   "execution_count": 678,
   "metadata": {},
   "outputs": [],
   "source": [
    "def tipo_clase(driver):\n",
    "    clasesboton = driver.find_element_by_xpath('.//div[@class=\"service-class-types ng-star-inserted\"]').click()\n",
    "    clases1 = driver.find_elements_by_xpath('//li[@class=\"options-option ng-star-inserted\"]')\n",
    "    clases2 = driver.find_elements_by_xpath('//li[@class=\"options-option active ng-star-inserted\"]')  \n",
    "    clases = clases1 + clases2\n",
    "        \n",
    "    lista_clases = []\n",
    "    for clase in clases:\n",
    "        nombre = clase.find_element_by_xpath('.//a[@_ngcontent-fsr-ssr-c46=\"\"]').text\n",
    "        lista_clases.append(nombre)\n",
    "    \n",
    "    for i in lista_clases:\n",
    "        lista_clases.remove('')\n",
    "    \n",
    "    return lista_clases    "
   ]
  },
  {
   "cell_type": "code",
   "execution_count": 677,
   "metadata": {},
   "outputs": [],
   "source": [
    "def obtener_tiempos(vuelo):\n",
    "    '''\n",
    "    Función que retorna un diccionario con los horarios de salida y llegada de cada\n",
    "    vuelo, incluyendo la duración. \n",
    "    Nota: la duración del vuelo no es la hora de llegada - la hora de salida porque\n",
    "    puede haber diferencia de horarios entre el origen y el destino.\n",
    "    '''\n",
    "    # Hora de salida\n",
    "    salida = vuelo.find_element_by_xpath('.//span[@class=\"hour departure ng-star-inserted\"]').text\n",
    "    # Hora de llegada\n",
    "    llegada = vuelo.find_element_by_xpath('.//span[@class=\"hour arrival ng-star-inserted\"]').text\n",
    "    # Duracion\n",
    "    duracion = vuelo.find_element_by_xpath('.//span[@class=\"time\"]').text\n",
    "    tiempos = {'Hora Salida': salida, 'Hora Llegada': llegada, 'Duracion': duracion}\n",
    "    return tiempos\n"
   ]
  },
  {
   "cell_type": "code",
   "execution_count": 676,
   "metadata": {},
   "outputs": [],
   "source": [
    "def obtener_escalas(vuelo):\n",
    "    '''\n",
    "    Función que retorna una lista de diccionarios con la información de \n",
    "    las escalas de cada vuelo\n",
    "    '''\n",
    "    info_escalas = []\n",
    "    segmentos = vuelo.find_elements_by_xpath('//div[@class=\"segment\"]')        \n",
    "    for segmento in segmentos:\n",
    "        if segmento == segmentos[0]:               \n",
    "            # Duración del vuelo\n",
    "            duracion_vuelo = segmento.find_element_by_xpath('.//span[@class=\"time-duration ng-star-inserted\"]//span[@class=\"time\"]').text\n",
    "            # Nombre de la aerolinea\n",
    "            aerolinea = segmento.find_element_by_xpath('.//span[@class=\"airline-name\"]').text\n",
    "            # Numero del vuelo\n",
    "            no_vuelo = segmento.find_element_by_xpath('.//strong[@class=\"flight-number\"]').text\n",
    "            # Clase\n",
    "            clase = segmento.find_element_by_xpath('.//strong[@class=\"service-class\"]').text\n",
    "            dict_general = {'Duración Vuelo Escala1':duracion_vuelo, 'Aerolinea Escala1':aerolinea, 'No. Vuelo Escala1':no_vuelo, 'Clase Escala1':clase}\n",
    "            info_escalas.append(dict_general)\n",
    "            \n",
    "            aeropuertos = segmento.find_elements_by_xpath('.//p[@class=\"airport\"]')\n",
    "            for aeropuerto in aeropuertos:\n",
    "                if aeropuerto == aeropuertos[0]:\n",
    "                    aeropuerto_1 = aeropuerto.find_element_by_xpath('.//span[@class=\"airport-title\"]').text\n",
    "                    ciudad1 = aeropuerto.find_element_by_xpath('.//span[@class=\"city-name\"]').text\n",
    "                    pais1 = aeropuerto.find_element_by_xpath('.//span[@class=\"country-name\"]').text\n",
    "                    salida1 = aeropuerto.find_element_by_xpath('.//span[@class=\"hour ng-star-inserted\"]').text\n",
    "                    dia1 = aeropuerto.find_element_by_xpath('.//span[@class=\"day\"]').text\n",
    "                    dict_aeropuerto1 = {'Aeropuerto Origen1':aeropuerto_1, 'Ciudad Origen1':ciudad1, 'Pais Origen1':pais1, 'Salida Origen1':salida1, 'Dia Origen1':dia1}\n",
    "                    info_escalas.append(dict_aeropuerto1)\n",
    "                elif aeropuerto == aeropuertos[1]:\n",
    "                    aeropuerto_2 = aeropuerto.find_element_by_xpath('.//span[@class=\"airport-title\"]').text\n",
    "                    ciudad2 = aeropuerto.find_element_by_xpath('.//span[@class=\"city-name\"]').text\n",
    "                    pais2 = aeropuerto.find_element_by_xpath('.//span[@class=\"country-name\"]').text\n",
    "                    salida2 = aeropuerto.find_element_by_xpath('.//span[@class=\"hour ng-star-inserted\"]').text\n",
    "                    dia2 = aeropuerto.find_element_by_xpath('.//span[@class=\"day\"]').text\n",
    "                    dict_aeropuerto2 = {'Aeropuerto Llegada1':aeropuerto_2, 'Ciudad Llegada1':ciudad2, 'Pais Llegada1':pais2, 'Salida Llegada1':salida2, 'Dia Origen':dia2}\n",
    "                    info_escalas.append(dict_aeropuerto2)\n",
    "            \n",
    "        elif segmento == segmentos[1]:\n",
    "            # Duración del vuelo\n",
    "            duracion_vuelo2 = segmento.find_element_by_xpath('.//span[@class=\"time-duration ng-star-inserted\"]//span[@class=\"time\"]').text\n",
    "            # Nombre de la aerolinea\n",
    "            aerolinea2 = segmento.find_element_by_xpath('.//span[@class=\"airline-name\"]').text\n",
    "            # Numero del vuelo\n",
    "            no_vuelo2 = segmento.find_element_by_xpath('.//strong[@class=\"flight-number\"]').text\n",
    "            # Clase\n",
    "            clase2 = segmento.find_element_by_xpath('.//strong[@class=\"service-class\"]').text\n",
    "            dict_general2 = {'Duración Vuelo Escala2':duracion_vuelo2, 'Aerolinea Escala2':aerolinea2, 'No. Vuelo Escala2':no_vuelo2, 'Clase Escala2':clase2}\n",
    "            info_escalas.append(dict_general2)\n",
    "            \n",
    "            for aeropuerto in aeropuertos:\n",
    "                if aeropuerto == aeropuertos[0]:\n",
    "                    aeropuerto3 = aeropuerto.find_element_by_xpath('.//span[@class=\"airport-title\"]').text\n",
    "                    ciudad3 = aeropuerto.find_element_by_xpath('.//span[@class=\"city-name\"]').text\n",
    "                    pais3 = aeropuerto.find_element_by_xpath('.//span[@class=\"country-name\"]').text\n",
    "                    salida3 = aeropuerto.find_element_by_xpath('.//span[@class=\"hour ng-star-inserted\"]').text\n",
    "                    dia3 = aeropuerto.find_element_by_xpath('.//span[@class=\"day\"]').text\n",
    "                    dict_aeropuerto3 = {'Aeropuerto Origen2':aeropuerto3, 'Ciudad Origen2':ciudad3, 'Pais Origen2':pais3, 'Salida Origen2':salida3, 'Dia Origen2':dia3}  \n",
    "                    info_escalas.append(dict_aeropuerto3)\n",
    "                                   \n",
    "                elif aeropuerto == aeropuertos[1]:\n",
    "                    aeropuerto_4 = aeropuerto.find_element_by_xpath('.//span[@class=\"airport-title\"]').text\n",
    "                    ciudad4 = aeropuerto.find_element_by_xpath('.//span[@class=\"city-name\"]').text\n",
    "                    pais4 = aeropuerto.find_element_by_xpath('.//span[@class=\"country-name\"]').text\n",
    "                    salida4 = aeropuerto.find_element_by_xpath('.//span[@class=\"hour ng-star-inserted\"]').text\n",
    "                    dia4 = aeropuerto.find_element_by_xpath('.//span[@class=\"day\"]').text\n",
    "                    dict_aeropuerto4 = {'Aeropuerto Llegada2':aeropuerto_4, 'Ciudad Llegada2':ciudad4, 'Pais Llegada2':pais4, 'Salida Llegada2':salida4, 'Dia Origen2':dia4}\n",
    "                    info_escalas.append(dict_aeropuerto4)\n",
    "        \n",
    "        else:\n",
    "            None\n",
    "            \n",
    "    return info_escalas"
   ]
  },
  {
   "cell_type": "code",
   "execution_count": null,
   "metadata": {},
   "outputs": [],
   "source": [
    "obtener_escalas(vuelo)"
   ]
  },
  {
   "cell_type": "code",
   "execution_count": 675,
   "metadata": {},
   "outputs": [],
   "source": [
    "def escala_espera(vuelo):\n",
    "    espera = []\n",
    "    tiempos_esperas = vuelo.find_elements_by_xpath('//div[@class=\"segment-change ng-star-inserted\"]')\n",
    "    for tiempo_espera in tiempos_esperas:\n",
    "        if tiempo_espera == tiempos_esperas[0]:\n",
    "            tiempo = tiempo_espera.find_element_by_xpath('.//strong[@class=\"qa-segment-change-time\"]').text   \n",
    "            dict_espera = {'Tiempo de espera':tiempo}\n",
    "            espera.append(dict_espera)\n",
    "        else:\n",
    "            None\n",
    "        \n",
    "    return espera"
   ]
  },
  {
   "cell_type": "code",
   "execution_count": 302,
   "metadata": {},
   "outputs": [
    {
     "data": {
      "text/plain": [
       "[{'Tiempo de espera': '1h 26min'}]"
      ]
     },
     "execution_count": 302,
     "metadata": {},
     "output_type": "execute_result"
    }
   ],
   "source": [
    "escala_espera(vuelo)"
   ]
  },
  {
   "cell_type": "code",
   "execution_count": 811,
   "metadata": {},
   "outputs": [],
   "source": [
    "def obtener_precios(vuelo):\n",
    "    '''\n",
    "    Función que retorna una lista de diccionarios con las distintas tarifas\n",
    "    '''\n",
    "    tarifas = []\n",
    "    moneda = driver.find_element_by_xpath('.//li[@class=\"price-group  qa-price-details-category-paxes\"]//span[@class=\"currency\"]').text \n",
    "    precio = driver.find_element_by_xpath('.//li[@class=\"price-group  qa-price-details-category-paxes\"]//span[@class=\"amount\"]').text\n",
    "    impuestos = driver.find_element_by_xpath('.//li[@class=\"price-group  qa-price-details-category-taxes\"]//span[@class=\"amount\"]').text \n",
    "    total = driver.find_element_by_xpath('.//strong[@class=\"price total-price-amount\"]//span[@class=\"amount\"]').text \n",
    "    dict_tarifa={'Moneda':moneda, 'Precio':precio, 'Impuestos':impuestos, 'Total': total}\n",
    "    tarifas.append(dict_tarifa)\n",
    "    tarifas\n",
    "    return tarifas"
   ]
  }
 ],
 "metadata": {
  "kernelspec": {
   "display_name": "Python 3",
   "language": "python",
   "name": "python3"
  },
  "language_info": {
   "codemirror_mode": {
    "name": "ipython",
    "version": 3
   },
   "file_extension": ".py",
   "mimetype": "text/x-python",
   "name": "python",
   "nbconvert_exporter": "python",
   "pygments_lexer": "ipython3",
   "version": "3.7.4"
  }
 },
 "nbformat": 4,
 "nbformat_minor": 2
}
