{
 "cells": [
  {
   "cell_type": "markdown",
   "metadata": {},
   "source": [
    "# Módulo 2: Scraping con Selenium\n",
    "## LATAM Airlines\n",
    "<a href=\"https://www.latam.com/es_ar/\"><img src=\"https://i.pinimg.com/originals/dd/52/74/dd5274702d1382d696caeb6e0f6980c5.png\"  width=\"420\"></img></a>\n",
    "<br>\n",
    "\n",
    "Vamos a scrapear el sitio de Latam para averiguar datos de vuelos en funcion el origen y destino, fecha y cabina. La información que esperamos obtener de cada vuelo es:\n",
    "- Precio(s) disponibles\n",
    "- Horas de salida y llegada (duración)\n",
    "- Información de las escalas\n",
    "\n",
    "¡Empecemos!"
   ]
  },
  {
   "cell_type": "code",
   "execution_count": 1,
   "metadata": {},
   "outputs": [],
   "source": [
    "url = 'https://www.latam.com/es_mx/apps/personas/booking?fecha1_dia=24&fecha1_anomes=2020-10&auAvailability=1&ida_vuelta=ida&vuelos_origen=Sao%20Paulo&from_city1=SAO&vuelos_destino=R%C3%ADo%20de%20Janeiro&to_city1=RIO&flex=1&vuelos_fecha_salida_ddmmaaaa=24/10/2020&cabina=Y&nadults=1&nchildren=0&ninfants=0&cod_promo=&stopover_outbound_days=0&stopover_inbound_days=0#/'"
   ]
  },
  {
   "cell_type": "code",
   "execution_count": 2,
   "metadata": {},
   "outputs": [],
   "source": [
    "from selenium import webdriver"
   ]
  },
  {
   "cell_type": "code",
   "execution_count": 3,
   "metadata": {},
   "outputs": [],
   "source": [
    "options = webdriver.ChromeOptions()\n",
    "options.add_argument('--incognito')\n",
    "driver = webdriver.Chrome(executable_path='C:\\dChrome\\chromedriver.exe', options=options)\n",
    "driver.get(url)"
   ]
  },
  {
   "cell_type": "code",
   "execution_count": 6,
   "metadata": {
    "tags": []
   },
   "outputs": [
    {
     "output_type": "stream",
     "name": "stdout",
     "text": "[<selenium.webdriver.remote.webelement.WebElement (session=\"f92bf4842098f44b7762155bdeeaa788\", element=\"98867d0b-f6f6-4e78-8817-e69cc4b343a2\")>, <selenium.webdriver.remote.webelement.WebElement (session=\"f92bf4842098f44b7762155bdeeaa788\", element=\"bcbf6fda-12ec-4726-b20b-9ed87e6bfd7f\")>, <selenium.webdriver.remote.webelement.WebElement (session=\"f92bf4842098f44b7762155bdeeaa788\", element=\"995e1746-a46d-4db9-9496-865c31cfcc60\")>, <selenium.webdriver.remote.webelement.WebElement (session=\"f92bf4842098f44b7762155bdeeaa788\", element=\"a526c447-0a99-4556-b601-b4db71237f5a\")>, <selenium.webdriver.remote.webelement.WebElement (session=\"f92bf4842098f44b7762155bdeeaa788\", element=\"524026ea-b0fb-45bb-a2b0-db998f7588dd\")>, <selenium.webdriver.remote.webelement.WebElement (session=\"f92bf4842098f44b7762155bdeeaa788\", element=\"a6cb381e-32fc-482d-9119-2b23c271502f\")>, <selenium.webdriver.remote.webelement.WebElement (session=\"f92bf4842098f44b7762155bdeeaa788\", element=\"b38aa0c3-6723-4585-a3d8-5cacffd5a871\")>, <selenium.webdriver.remote.webelement.WebElement (session=\"f92bf4842098f44b7762155bdeeaa788\", element=\"31764568-f889-4d0a-a804-48f2c0a2a87f\")>, <selenium.webdriver.remote.webelement.WebElement (session=\"f92bf4842098f44b7762155bdeeaa788\", element=\"4f550c1f-e41b-4ebe-90f5-556c83107f85\")>, <selenium.webdriver.remote.webelement.WebElement (session=\"f92bf4842098f44b7762155bdeeaa788\", element=\"3d93d699-afaf-481d-974d-455ff64b48a9\")>, <selenium.webdriver.remote.webelement.WebElement (session=\"f92bf4842098f44b7762155bdeeaa788\", element=\"c88fd2a9-ba3a-405a-a0a6-4e0ac0c50b0a\")>, <selenium.webdriver.remote.webelement.WebElement (session=\"f92bf4842098f44b7762155bdeeaa788\", element=\"133789be-a414-49c5-b145-44185ce20942\")>, <selenium.webdriver.remote.webelement.WebElement (session=\"f92bf4842098f44b7762155bdeeaa788\", element=\"1d3f6a90-e978-469b-bcb2-dcc86c6b3014\")>, <selenium.webdriver.remote.webelement.WebElement (session=\"f92bf4842098f44b7762155bdeeaa788\", element=\"0c51db93-0ecb-4bf9-a2cd-fa6175e3b95a\")>, <selenium.webdriver.remote.webelement.WebElement (session=\"f92bf4842098f44b7762155bdeeaa788\", element=\"ebfd046b-c825-49c2-9376-e3edefe64775\")>, <selenium.webdriver.remote.webelement.WebElement (session=\"f92bf4842098f44b7762155bdeeaa788\", element=\"62923dc8-389b-4272-a81b-b1e002939391\")>, <selenium.webdriver.remote.webelement.WebElement (session=\"f92bf4842098f44b7762155bdeeaa788\", element=\"8de6f5f2-a8af-4ad9-a8fc-448173db56ca\")>, <selenium.webdriver.remote.webelement.WebElement (session=\"f92bf4842098f44b7762155bdeeaa788\", element=\"cc2f547a-d0d7-4e54-91e4-9c2c5e557542\")>, <selenium.webdriver.remote.webelement.WebElement (session=\"f92bf4842098f44b7762155bdeeaa788\", element=\"a084b9fa-c863-407c-b15c-6e33d437a333\")>, <selenium.webdriver.remote.webelement.WebElement (session=\"f92bf4842098f44b7762155bdeeaa788\", element=\"dbcbdef9-600d-44d5-9e71-51600b94e2a2\")>, <selenium.webdriver.remote.webelement.WebElement (session=\"f92bf4842098f44b7762155bdeeaa788\", element=\"60815b0c-7183-44cd-a32d-3ea26dd3d077\")>, <selenium.webdriver.remote.webelement.WebElement (session=\"f92bf4842098f44b7762155bdeeaa788\", element=\"87536651-43dd-4439-b66e-c893e03214bb\")>, <selenium.webdriver.remote.webelement.WebElement (session=\"f92bf4842098f44b7762155bdeeaa788\", element=\"eae3d2a2-ac4d-4601-9849-fefcf3ece301\")>, <selenium.webdriver.remote.webelement.WebElement (session=\"f92bf4842098f44b7762155bdeeaa788\", element=\"88bca3ba-9a09-4ae5-ba43-a25fe58684ba\")>, <selenium.webdriver.remote.webelement.WebElement (session=\"f92bf4842098f44b7762155bdeeaa788\", element=\"7baa106f-89e1-49e8-b6da-ba9434db3c7c\")>, <selenium.webdriver.remote.webelement.WebElement (session=\"f92bf4842098f44b7762155bdeeaa788\", element=\"e177b37d-8504-4c50-bbb4-4a4e1fa002c3\")>, <selenium.webdriver.remote.webelement.WebElement (session=\"f92bf4842098f44b7762155bdeeaa788\", element=\"dc99f5ab-9cc1-476b-a421-2de3fd0e48fd\")>, <selenium.webdriver.remote.webelement.WebElement (session=\"f92bf4842098f44b7762155bdeeaa788\", element=\"c71af6a9-361c-4e7a-a6d2-99c0fbdf6b03\")>, <selenium.webdriver.remote.webelement.WebElement (session=\"f92bf4842098f44b7762155bdeeaa788\", element=\"8828acb9-c8f1-4cf1-9b27-38b87e56fbae\")>, <selenium.webdriver.remote.webelement.WebElement (session=\"f92bf4842098f44b7762155bdeeaa788\", element=\"3ecbc0c3-daad-4294-a63f-22e92b6829fe\")>, <selenium.webdriver.remote.webelement.WebElement (session=\"f92bf4842098f44b7762155bdeeaa788\", element=\"1ba82dee-9de7-4d3a-97fe-88ef082c6f7b\")>, <selenium.webdriver.remote.webelement.WebElement (session=\"f92bf4842098f44b7762155bdeeaa788\", element=\"99b9b6ab-fdf4-4bc9-9c4a-759beeacbf38\")>, <selenium.webdriver.remote.webelement.WebElement (session=\"f92bf4842098f44b7762155bdeeaa788\", element=\"9920b705-a31e-4793-86b7-fd36a16380ec\")>, <selenium.webdriver.remote.webelement.WebElement (session=\"f92bf4842098f44b7762155bdeeaa788\", element=\"20fff9c0-084f-48df-b55f-9b6ebc04f083\")>, <selenium.webdriver.remote.webelement.WebElement (session=\"f92bf4842098f44b7762155bdeeaa788\", element=\"d06f4990-53b5-4696-b017-538e14bfde54\")>, <selenium.webdriver.remote.webelement.WebElement (session=\"f92bf4842098f44b7762155bdeeaa788\", element=\"a9c0b91a-b3b8-4413-8ae7-17e1c1a3cdbe\")>, <selenium.webdriver.remote.webelement.WebElement (session=\"f92bf4842098f44b7762155bdeeaa788\", element=\"a978e254-b1f1-42ed-8b95-62766bcecf11\")>, <selenium.webdriver.remote.webelement.WebElement (session=\"f92bf4842098f44b7762155bdeeaa788\", element=\"dc8cf7aa-d671-4e5f-8e56-52e7dc12d9b4\")>, <selenium.webdriver.remote.webelement.WebElement (session=\"f92bf4842098f44b7762155bdeeaa788\", element=\"d00e3030-d0c3-48ac-ae70-3bda0e6224fe\")>, <selenium.webdriver.remote.webelement.WebElement (session=\"f92bf4842098f44b7762155bdeeaa788\", element=\"f78b0df8-0e16-4e82-b300-0e5358b024b8\")>, <selenium.webdriver.remote.webelement.WebElement (session=\"f92bf4842098f44b7762155bdeeaa788\", element=\"41e7a207-307c-42cb-a0de-543f37bbe22d\")>, <selenium.webdriver.remote.webelement.WebElement (session=\"f92bf4842098f44b7762155bdeeaa788\", element=\"23990b6f-39ff-413e-92d9-d4fcae67c2a6\")>, <selenium.webdriver.remote.webelement.WebElement (session=\"f92bf4842098f44b7762155bdeeaa788\", element=\"341935a5-a041-4fca-8acd-07c75b4ea6f3\")>, <selenium.webdriver.remote.webelement.WebElement (session=\"f92bf4842098f44b7762155bdeeaa788\", element=\"dde10ffb-2c01-4b09-813d-b68785fe55b4\")>, <selenium.webdriver.remote.webelement.WebElement (session=\"f92bf4842098f44b7762155bdeeaa788\", element=\"c047679d-4ea8-4a16-96b4-b1b697f1bf49\")>, <selenium.webdriver.remote.webelement.WebElement (session=\"f92bf4842098f44b7762155bdeeaa788\", element=\"be8acd4d-5a99-4346-95ab-18d2e3c9165c\")>, <selenium.webdriver.remote.webelement.WebElement (session=\"f92bf4842098f44b7762155bdeeaa788\", element=\"f568837e-0240-45ee-a37d-46432544906d\")>, <selenium.webdriver.remote.webelement.WebElement (session=\"f92bf4842098f44b7762155bdeeaa788\", element=\"20b011c9-a1fe-42d5-b3f4-d4175f84ed35\")>, <selenium.webdriver.remote.webelement.WebElement (session=\"f92bf4842098f44b7762155bdeeaa788\", element=\"388397b6-e6eb-4722-848d-8fccde832df7\")>, <selenium.webdriver.remote.webelement.WebElement (session=\"f92bf4842098f44b7762155bdeeaa788\", element=\"cd89f58a-8c5d-4e75-bd05-1a2cc37b8a18\")>, <selenium.webdriver.remote.webelement.WebElement (session=\"f92bf4842098f44b7762155bdeeaa788\", element=\"7221d35c-7076-4092-98a6-eb185fd1c5e6\")>, <selenium.webdriver.remote.webelement.WebElement (session=\"f92bf4842098f44b7762155bdeeaa788\", element=\"41ea3995-572e-4329-a4b8-f45ad9bf2b93\")>]\n"
    }
   ],
   "source": [
    "#Usaremos el Xpath para obtener la lista de vuelos\n",
    "vuelos = driver.find_elements_by_xpath('//li[@class=\"flight\"]')\n",
    "print(vuelos)"
   ]
  },
  {
   "cell_type": "code",
   "execution_count": 15,
   "metadata": {},
   "outputs": [
    {
     "output_type": "execute_result",
     "data": {
      "text/plain": "<selenium.webdriver.remote.webelement.WebElement (session=\"f92bf4842098f44b7762155bdeeaa788\", element=\"8de6f5f2-a8af-4ad9-a8fc-448173db56ca\")>"
     },
     "metadata": {},
     "execution_count": 15
    }
   ],
   "source": [
    "vuelo = vuelos[16]\n",
    "vuelo"
   ]
  },
  {
   "cell_type": "markdown",
   "metadata": {},
   "source": [
    "Obtenemos la información de la hora de salida, llegada y duración del vuelo"
   ]
  },
  {
   "cell_type": "code",
   "execution_count": 16,
   "metadata": {},
   "outputs": [
    {
     "output_type": "execute_result",
     "data": {
      "text/plain": "'18:05'"
     },
     "metadata": {},
     "execution_count": 16
    }
   ],
   "source": [
    "# Hora de salida\n",
    "vuelo.find_element_by_xpath('.//div[@class=\"departure\"]/time').get_attribute('datetime')"
   ]
  },
  {
   "cell_type": "code",
   "execution_count": 17,
   "metadata": {},
   "outputs": [
    {
     "output_type": "execute_result",
     "data": {
      "text/plain": "'22:35'"
     },
     "metadata": {},
     "execution_count": 17
    }
   ],
   "source": [
    "# Hora de llegada\n",
    "vuelo.find_element_by_xpath('.//div[@class=\"arrival\"]/time').get_attribute('datetime')"
   ]
  },
  {
   "cell_type": "code",
   "execution_count": 18,
   "metadata": {},
   "outputs": [
    {
     "output_type": "execute_result",
     "data": {
      "text/plain": "'PT4H30M'"
     },
     "metadata": {},
     "execution_count": 18
    }
   ],
   "source": [
    "# Duración del vuelo\n",
    "vuelo.find_element_by_xpath('.//span[@class=\"duration\"]/time').get_attribute('datetime')"
   ]
  },
  {
   "cell_type": "code",
   "execution_count": 19,
   "metadata": {},
   "outputs": [
    {
     "output_type": "execute_result",
     "data": {
      "text/plain": "<selenium.webdriver.remote.webelement.WebElement (session=\"f92bf4842098f44b7762155bdeeaa788\", element=\"ce395227-ea1a-4e22-8591-7947704729d8\")>"
     },
     "metadata": {},
     "execution_count": 19
    }
   ],
   "source": [
    "boton_escalas = vuelo.find_element_by_xpath('.//div[@class=\"flight-summary-stops-description\"]/button')\n",
    "boton_escalas"
   ]
  },
  {
   "cell_type": "code",
   "execution_count": 21,
   "metadata": {},
   "outputs": [],
   "source": [
    "boton_escalas.click()"
   ]
  },
  {
   "cell_type": "code",
   "execution_count": 22,
   "metadata": {},
   "outputs": [
    {
     "output_type": "execute_result",
     "data": {
      "text/plain": "[<selenium.webdriver.remote.webelement.WebElement (session=\"f92bf4842098f44b7762155bdeeaa788\", element=\"b3f0b777-68c5-401a-bc9f-27e7f84c9b42\")>,\n <selenium.webdriver.remote.webelement.WebElement (session=\"f92bf4842098f44b7762155bdeeaa788\", element=\"1630d32e-e704-4e31-946f-2bee25edd2be\")>,\n <selenium.webdriver.remote.webelement.WebElement (session=\"f92bf4842098f44b7762155bdeeaa788\", element=\"03e27352-d1ac-419a-8ed2-ad76e8fbb26f\")>]"
     },
     "metadata": {},
     "execution_count": 22
    }
   ],
   "source": [
    "segmentos = vuelo.find_elements_by_xpath('//div[@class = \"sc-hZSUBg gfeULV\"]/div')  #[0] 1er vuelo, [1] Escala, [2] \"do vuelo\"\n",
    "segmentos"
   ]
  },
  {
   "cell_type": "code",
   "execution_count": 23,
   "metadata": {},
   "outputs": [
    {
     "output_type": "execute_result",
     "data": {
      "text/plain": "2"
     },
     "metadata": {},
     "execution_count": 23
    }
   ],
   "source": [
    "escalas = len(segmentos) - 1 #0 escalas si es un vuelo directo\n",
    "escalas"
   ]
  },
  {
   "cell_type": "markdown",
   "metadata": {},
   "source": [
    "# Clase 13\n",
    "En esta clase obtendremos la información de las escalas que se encuentran en el modal que aparece al clickear sobre el botón de escalas"
   ]
  },
  {
   "cell_type": "code",
   "execution_count": 24,
   "metadata": {},
   "outputs": [],
   "source": [
    "segmento = segmentos[0]"
   ]
  },
  {
   "cell_type": "code",
   "execution_count": 25,
   "metadata": {},
   "outputs": [
    {
     "output_type": "execute_result",
     "data": {
      "text/plain": "'1:40'"
     },
     "metadata": {},
     "execution_count": 25
    }
   ],
   "source": [
    "# Duración del vuelo\n",
    "segmento.find_element_by_xpath('.//span[@class=\"sc-esjQYD dMquDU\"]/time').get_attribute('datetime')"
   ]
  },
  {
   "cell_type": "code",
   "execution_count": 26,
   "metadata": {},
   "outputs": [
    {
     "output_type": "execute_result",
     "data": {
      "text/plain": "'LA4689'"
     },
     "metadata": {},
     "execution_count": 26
    }
   ],
   "source": [
    "# Numero del vuelo\n",
    "segmento.find_element_by_xpath('.//div[@class=\"airline-flight-details\"]/b').text"
   ]
  },
  {
   "cell_type": "code",
   "execution_count": 27,
   "metadata": {},
   "outputs": [
    {
     "output_type": "execute_result",
     "data": {
      "text/plain": "'Airbus 319'"
     },
     "metadata": {},
     "execution_count": 27
    }
   ],
   "source": [
    "# Modelo de avion\n",
    "segmento.find_element_by_xpath('.//span[@class=\"sc-gzOgki uTyOl\"]').text"
   ]
  },
  {
   "cell_type": "code",
   "execution_count": 28,
   "metadata": {},
   "outputs": [
    {
     "output_type": "execute_result",
     "data": {
      "text/plain": "'1:5'"
     },
     "metadata": {},
     "execution_count": 28
    }
   ],
   "source": [
    "# Duracion de la escala\n",
    "segmento2 = segmentos[1]\n",
    "segmento2.find_element_by_xpath('.//span[@class=\"sc-esjQYD dMquDU\"]/time').get_attribute('datetime')"
   ]
  },
  {
   "cell_type": "code",
   "execution_count": 29,
   "metadata": {},
   "outputs": [
    {
     "output_type": "execute_result",
     "data": {
      "text/plain": "[<selenium.webdriver.remote.webelement.WebElement (session=\"f92bf4842098f44b7762155bdeeaa788\", element=\"6b2be40b-a3f1-4519-b243-0fdc8760c623\")>,\n <selenium.webdriver.remote.webelement.WebElement (session=\"f92bf4842098f44b7762155bdeeaa788\", element=\"d3d023d7-9651-4c79-b479-0112cfd4f1ad\")>,\n <selenium.webdriver.remote.webelement.WebElement (session=\"f92bf4842098f44b7762155bdeeaa788\", element=\"a9cde29e-fb57-4c28-8ea8-cc23abf3953f\")>,\n <selenium.webdriver.remote.webelement.WebElement (session=\"f92bf4842098f44b7762155bdeeaa788\", element=\"fe562e9b-3c07-4f49-b337-1bbc3a7b5a06\")>]"
     },
     "metadata": {},
     "execution_count": 29
    }
   ],
   "source": [
    "aeropuertos = segmento.find_elements_by_xpath('.//div[@class=\"sc-esOvli iQSbOQ\"]/span')\n",
    "aeropuertos"
   ]
  },
  {
   "cell_type": "code",
   "execution_count": 30,
   "metadata": {},
   "outputs": [
    {
     "output_type": "execute_result",
     "data": {
      "text/plain": "'GRU'"
     },
     "metadata": {},
     "execution_count": 30
    }
   ],
   "source": [
    "# Origen Aeropuerto\n",
    "aeropuerto_ori = aeropuertos[1]\n",
    "aeropuerto_ori.find_element_by_xpath('.//div[@class=\"sc-bwCtUz iybVbT\"]/abbr').text"
   ]
  },
  {
   "cell_type": "code",
   "execution_count": 31,
   "metadata": {},
   "outputs": [
    {
     "output_type": "execute_result",
     "data": {
      "text/plain": "'Guarulhos'"
     },
     "metadata": {},
     "execution_count": 31
    }
   ],
   "source": [
    "aeropuerto_ori.find_element_by_xpath('.//span[@class=\"sc-eTuwsz eumCTU\"]/span[@class=\"sc-hXRMBi gVvErD\"]').text.replace(' Intl.','')"
   ]
  },
  {
   "cell_type": "code",
   "execution_count": 32,
   "metadata": {},
   "outputs": [
    {
     "output_type": "execute_result",
     "data": {
      "text/plain": "'18:05'"
     },
     "metadata": {},
     "execution_count": 32
    }
   ],
   "source": [
    "# Hora de salida\n",
    "aeropuerto_ori.find_element_by_xpath('.//div[@class=\"sc-bwCtUz iybVbT\"]/time[@datetime]').get_attribute('datetime')"
   ]
  },
  {
   "cell_type": "code",
   "execution_count": 33,
   "metadata": {},
   "outputs": [
    {
     "output_type": "execute_result",
     "data": {
      "text/plain": "'BSB'"
     },
     "metadata": {},
     "execution_count": 33
    }
   ],
   "source": [
    "# Destino\n",
    "aeropuerto_lleg = aeropuertos[3]\n",
    "aeropuerto_lleg.find_element_by_xpath('.//div[@class=\"sc-bwCtUz iybVbT\"]/abbr').text"
   ]
  },
  {
   "cell_type": "code",
   "execution_count": 34,
   "metadata": {},
   "outputs": [
    {
     "output_type": "execute_result",
     "data": {
      "text/plain": "'Brasilia'"
     },
     "metadata": {},
     "execution_count": 34
    }
   ],
   "source": [
    "aeropuerto_lleg.find_element_by_xpath('.//span[@class=\"sc-eTuwsz eumCTU\"]/span[@class=\"sc-hXRMBi gVvErD\"]').text.replace(' Intl.','')"
   ]
  },
  {
   "cell_type": "code",
   "execution_count": 35,
   "metadata": {},
   "outputs": [
    {
     "output_type": "execute_result",
     "data": {
      "text/plain": "'19:45'"
     },
     "metadata": {},
     "execution_count": 35
    }
   ],
   "source": [
    "# Hora de salida\n",
    "aeropuerto_lleg.find_element_by_xpath('.//div[@class=\"sc-bwCtUz iybVbT\"]/time[@datetime]').get_attribute('datetime')"
   ]
  },
  {
   "cell_type": "markdown",
   "metadata": {},
   "source": [
    "## CLASE\n",
    "Una vez que hayamos obtenido toda la información, debemos cerrar el modal/pop-up."
   ]
  },
  {
   "cell_type": "code",
   "execution_count": 36,
   "metadata": {},
   "outputs": [],
   "source": [
    "driver.find_element_by_xpath('//div[@class=\"modal-header sc-dnqmqq cGfTsx\"]//button[@class=\"close\"]').click()"
   ]
  },
  {
   "cell_type": "markdown",
   "metadata": {},
   "source": [
    "Por último debemos obtener la información de las tarifas. Para eso, debemos clickear sobre el vuelo (sobre cualquier parte)"
   ]
  },
  {
   "cell_type": "code",
   "execution_count": 37,
   "metadata": {},
   "outputs": [],
   "source": [
    "vuelo.click()"
   ]
  },
  {
   "cell_type": "markdown",
   "metadata": {},
   "source": [
    "La información de los precios para cada tarifa está contenida en una tabla. Los precios en sí están en el footer y podemos sacar los nombres de la clase de cada elemento"
   ]
  },
  {
   "cell_type": "code",
   "execution_count": 38,
   "metadata": {},
   "outputs": [
    {
     "output_type": "execute_result",
     "data": {
      "text/plain": "[<selenium.webdriver.remote.webelement.WebElement (session=\"f92bf4842098f44b7762155bdeeaa788\", element=\"e4e66c3a-986e-4188-89c6-c2134e50c278\")>,\n <selenium.webdriver.remote.webelement.WebElement (session=\"f92bf4842098f44b7762155bdeeaa788\", element=\"0989634e-8a26-4cee-88b7-bacff54d9236\")>,\n <selenium.webdriver.remote.webelement.WebElement (session=\"f92bf4842098f44b7762155bdeeaa788\", element=\"5efbaf88-0928-4f47-8574-97ae72968793\")>]"
     },
     "metadata": {},
     "execution_count": 38
    }
   ],
   "source": [
    "tarifas = vuelo.find_elements_by_xpath('.//div[@class=\"fares-table-container\"]//tfoot//td[contains(@class, \"fare-\")]')\n",
    "tarifas"
   ]
  },
  {
   "cell_type": "code",
   "execution_count": 39,
   "metadata": {
    "scrolled": true,
    "tags": []
   },
   "outputs": [
    {
     "output_type": "execute_result",
     "data": {
      "text/plain": "[{'LIGHT': {'moneda': 'US$', 'valor': '1105'}},\n {'PLUS': {'moneda': 'US$', 'valor': '1110'}},\n {'TOP': {'moneda': 'US$', 'valor': '1115'}}]"
     },
     "metadata": {},
     "execution_count": 39
    }
   ],
   "source": [
    "precios = []\n",
    "for tarifa in tarifas:\n",
    "    nombre = tarifa.find_element_by_xpath('.//label').get_attribute('for')\n",
    "    moneda = tarifa.find_element_by_xpath('.//span[@class=\"price\"]/span[@class=\"currency-symbol\"]').text\n",
    "    valor = tarifa.find_element_by_xpath('.//span[@class=\"price\"]/span[@class=\"value\"]').text \n",
    "    dict_tarifa={nombre:{'moneda':moneda, 'valor':valor}}\n",
    "    precios.append(dict_tarifa)\n",
    "precios"
   ]
  },
  {
   "source": [
    "Será de gran utilidad armar funciones que resuelvan la extracción de información de cada sección de la página. Por eso te propongo que armes 3 funciones de las cuales te dejo las estructuras:"
   ],
   "cell_type": "markdown",
   "metadata": {}
  },
  {
   "source": [
    "## RETO\n",
    "Armar funciones para obtener los datos de las escalas y las tarifas. \n",
    "Te dejo los prototipos:"
   ],
   "cell_type": "markdown",
   "metadata": {}
  },
  {
   "cell_type": "code",
   "execution_count": 40,
   "metadata": {},
   "outputs": [],
   "source": [
    "def obtener_precios(vuelo):\n",
    "    '''\n",
    "    Función que retorna una lista de diccionarios con las distintas tarifas\n",
    "    '''\n",
    "    tarifas = vuelo.find_elements_by_xpath('.//div[@class=\"fares-table-container\"]//tfoot//td[contains(@class, \"fare-\")]')\n",
    "    precios = []\n",
    "    for tarifa in tarifas:\n",
    "        nombre = tarifa.find_element_by_xpath('.//label').get_attribute('for')\n",
    "        moneda = tarifa.find_element_by_xpath('.//span[@class=\"price\"]/span[@class=\"currency-symbol\"]').text\n",
    "        valor = tarifa.find_element_by_xpath('.//span[@class=\"price\"]/span[@class=\"value\"]').text \n",
    "        dict_tarifa={nombre:{'moneda':moneda, 'valor':valor}}\n",
    "        precios.append(dict_tarifa)\n",
    "        # print(dict_tarifa)\n",
    "    return precios"
   ]
  },
  {
   "cell_type": "code",
   "execution_count": 41,
   "metadata": {
    "tags": []
   },
   "outputs": [
    {
     "output_type": "execute_result",
     "data": {
      "text/plain": "[{'LIGHT': {'moneda': 'US$', 'valor': '1105'}},\n {'PLUS': {'moneda': 'US$', 'valor': '1110'}},\n {'TOP': {'moneda': 'US$', 'valor': '1115'}}]"
     },
     "metadata": {},
     "execution_count": 41
    }
   ],
   "source": [
    "obtener_precios(vuelo)"
   ]
  },
  {
   "cell_type": "code",
   "execution_count": 42,
   "metadata": {},
   "outputs": [],
   "source": [
    "def segmentos_main(vuelo):\n",
    "    '''\n",
    "    Función que retorna una lista de diccionarios con la información de \n",
    "    las escalas de cada vuelo\n",
    "    '''\n",
    "    info_escalas = {}\n",
    "    segmentos = vuelo.find_elements_by_xpath('//div[@class = \"sc-hZSUBg gfeULV\"]/div')  \n",
    "    for segmento in segmentos:\n",
    "        if segmento == segmentos[0]:\n",
    "            segmentos_func(segmento, 1, info_escalas)\n",
    "            aeropuertos = segmento.find_elements_by_xpath('.//div[@class=\"sc-esOvli iQSbOQ\"]/span')\n",
    "            aeropuertos_func(aeropuertos,1,info_escalas)\n",
    "            aeropuertos_func(aeropuertos,1,info_escalas)   \n",
    "        elif segmento == segmentos[2]:\n",
    "            segmentos_func(segmento, 2, info_escalas)\n",
    "            aeropuertos = segmento.find_elements_by_xpath('.//div[@class=\"sc-esOvli iQSbOQ\"]/span')\n",
    "            aeropuertos_func(aeropuertos,2,info_escalas)\n",
    "            aeropuertos_func(aeropuertos,2,info_escalas)\n",
    "        else:\n",
    "            info_escalas['Tiempo_Espera'] = segmento.find_element_by_xpath('.//span[@class=\"sc-esjQYD dMquDU\"]/time').get_attribute('datetime')\n",
    " \n",
    "    return info_escalas "
   ]
  },
  {
   "cell_type": "code",
   "execution_count": 43,
   "metadata": {},
   "outputs": [],
   "source": [
    "def segmentos_func(segmento, escala, dicc):\n",
    "    # Duración del vuelo\n",
    "    dicc[f'Duracion_vuelo_{escala}'] = segmento.find_element_by_xpath('.//span[@class=\"sc-esjQYD dMquDU\"]/time').get_attribute('datetime')\n",
    "    # Nombre de la aerolinea\n",
    "    dicc[f'No_vuelo_{escala}'] = segmento.find_element_by_xpath('.//div[@class=\"airline-flight-details\"]/b').text\n",
    "    # Numero del vuelo  \n",
    "    dicc[f'Modelo_avion_{escala}'] = segmento.find_element_by_xpath('.//span[@class=\"sc-gzOgki uTyOl\"]').text"
   ]
  },
  {
   "cell_type": "code",
   "execution_count": 44,
   "metadata": {},
   "outputs": [],
   "source": [
    "def aeropuertos_func(aeropuertos, escala, dicc):\n",
    "    for aeropuerto in aeropuertos:\n",
    "        if aeropuerto == aeropuertos[1]:\n",
    "            dicc[f'Aeropuerto_Ori_{escala}'] = aeropuerto.find_element_by_xpath('.//span[@class=\"sc-eTuwsz eumCTU\"]/span[@class=\"sc-hXRMBi gVvErD\"]').text.replace(' Intl.','')\n",
    "            dicc[f'Aeropuerto_AbrOrig_{escala}'] = aeropuerto.find_element_by_xpath('.//div[@class=\"sc-bwCtUz iybVbT\"]/abbr').text\n",
    "            dicc[f'Hora_Salida_{escala}'] = aeropuerto.find_element_by_xpath('.//div[@class=\"sc-bwCtUz iybVbT\"]/time[@datetime]').get_attribute('datetime')  \n",
    "                        \n",
    "        elif aeropuerto == aeropuertos[3]:\n",
    "            dicc[f'Aeropuerto_Lleg_{escala}'] = aeropuerto.find_element_by_xpath('.//span[@class=\"sc-eTuwsz eumCTU\"]/span[@class=\"sc-hXRMBi gVvErD\"]').text.replace(' Intl.','')\n",
    "            dicc[f'Aeropuerto_AbrLleg_{escala}'] = aeropuerto.find_element_by_xpath('.//div[@class=\"sc-bwCtUz iybVbT\"]/abbr').text\n",
    "            dicc[f'Hora_Llegada_{escala}'] = aeropuerto.find_element_by_xpath('.//div[@class=\"sc-bwCtUz iybVbT\"]/time[@datetime]').get_attribute('datetime')  \n",
    "        \n",
    "        else:\n",
    "            continue"
   ]
  },
  {
   "cell_type": "code",
   "execution_count": 45,
   "metadata": {
    "tags": []
   },
   "outputs": [
    {
     "output_type": "execute_result",
     "data": {
      "text/plain": "{'Duracion_vuelo_1': '1:40',\n 'No_vuelo_1': 'LA4689',\n 'Modelo_avion_1': 'Airbus 319',\n 'Aeropuerto_Ori_1': 'Guarulhos',\n 'Aeropuerto_AbrOrig_1': 'GRU',\n 'Hora_Salida_1': '18:05',\n 'Aeropuerto_Lleg_1': 'Brasilia',\n 'Aeropuerto_AbrLleg_1': 'BSB',\n 'Hora_Llegada_1': '19:45',\n 'Tiempo_Espera': '1:5',\n 'Duracion_vuelo_2': '1:45',\n 'No_vuelo_2': 'LA3445',\n 'Modelo_avion_2': 'Airbus 320-200',\n 'Aeropuerto_Ori_2': 'Brasilia',\n 'Aeropuerto_AbrOrig_2': 'BSB',\n 'Hora_Salida_2': '20:50',\n 'Aeropuerto_Lleg_2': 'Galeao',\n 'Aeropuerto_AbrLleg_2': 'GIG',\n 'Hora_Llegada_2': '22:35'}"
     },
     "metadata": {},
     "execution_count": 45
    }
   ],
   "source": [
    "segmentos_main(vuelo)"
   ]
  },
  {
   "cell_type": "code",
   "execution_count": 46,
   "metadata": {},
   "outputs": [],
   "source": [
    "def obtener_tiempos(vuelo):\n",
    "    '''\n",
    "    Función que retorna un diccionario con los horarios de salida y llegada de cada\n",
    "    vuelo, incluyendo la duración. \n",
    "    Nota: la duración del vuelo no es la hora de llegada - la hora de salida porque\n",
    "    puede haber diferencia de horarios entre el origen y el destino.\n",
    "    '''\n",
    "    # Hora de salida\n",
    "    salida = vuelo.find_element_by_xpath('.//div[@class=\"departure\"]/time').get_attribute('datetime')\n",
    "    # Hora de llegada\n",
    "    llegada = vuelo.find_element_by_xpath('.//div[@class=\"arrival\"]/time').get_attribute('datetime')\n",
    "    # Duracion\n",
    "    duracion = vuelo.find_element_by_xpath('.//span[@class=\"duration\"]/time').get_attribute('datetime')\n",
    "    tiempos = {'hora_salida': salida, 'hora_llegada': llegada, 'duracion': duracion}\n",
    "    return tiempos\n"
   ]
  },
  {
   "cell_type": "code",
   "execution_count": 47,
   "metadata": {},
   "outputs": [
    {
     "output_type": "execute_result",
     "data": {
      "text/plain": "{'hora_salida': '18:05', 'hora_llegada': '22:35', 'duracion': 'PT4H30M'}"
     },
     "metadata": {},
     "execution_count": 47
    }
   ],
   "source": [
    "obtener_tiempos(vuelo)"
   ]
  },
  {
   "cell_type": "code",
   "execution_count": 48,
   "metadata": {},
   "outputs": [],
   "source": [
    "driver.close()"
   ]
  }
 ],
 "metadata": {
  "kernelspec": {
   "display_name": "Python 3",
   "language": "python",
   "name": "python3"
  },
  "language_info": {
   "codemirror_mode": {
    "name": "ipython",
    "version": 3
   },
   "file_extension": ".py",
   "mimetype": "text/x-python",
   "name": "python",
   "nbconvert_exporter": "python",
   "pygments_lexer": "ipython3",
   "version": "3.8.3-final"
  }
 },
 "nbformat": 4,
 "nbformat_minor": 2
}