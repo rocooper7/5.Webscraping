{
 "cells": [
  {
   "cell_type": "markdown",
   "metadata": {},
   "source": [
    "# Módulo 2: Scraping con Selenium\n",
    "## LATAM Airlines\n",
    "<a href=\"https://www.latam.com/es_ar/\"><img src=\"https://i.pinimg.com/originals/dd/52/74/dd5274702d1382d696caeb6e0f6980c5.png\"  width=\"420\"></img></a>\n",
    "<br>\n",
    "\n",
    "Vamos a scrapear el sitio de Latam para averiguar datos de vuelos en funcion el origen y destino, fecha y cabina. La información que esperamos obtener de cada vuelo es:\n",
    "- Precio(s) disponibles\n",
    "- Horas de salida y llegada (duración)\n",
    "- Información de las escalas\n",
    "\n",
    "¡Empecemos!"
   ]
  },
  {
   "cell_type": "code",
   "execution_count": 2,
   "metadata": {},
   "outputs": [],
   "source": [
    "url = 'https://www.latam.com/es_mx/apps/personas/booking?fecha1_dia=24&fecha1_anomes=2020-10&auAvailability=1&ida_vuelta=ida&vuelos_origen=Sao%20Paulo&from_city1=SAO&vuelos_destino=R%C3%ADo%20de%20Janeiro&to_city1=RIO&flex=1&vuelos_fecha_salida_ddmmaaaa=24/10/2020&cabina=Y&nadults=1&nchildren=0&ninfants=0&cod_promo=&stopover_outbound_days=0&stopover_inbound_days=0#/'"
   ]
  },
  {
   "cell_type": "code",
   "execution_count": 3,
   "metadata": {},
   "outputs": [],
   "source": [
    "from selenium import webdriver"
   ]
  },
  {
   "cell_type": "code",
   "execution_count": 4,
   "metadata": {},
   "outputs": [],
   "source": [
    "options = webdriver.ChromeOptions()\n",
    "options.add_argument('--incognito')\n",
    "driver = webdriver.Chrome(executable_path='C:\\dChrome\\chromedriver.exe', options=options)\n",
    "driver.get(url)"
   ]
  },
  {
   "cell_type": "code",
   "execution_count": 8,
   "metadata": {
    "tags": []
   },
   "outputs": [
    {
     "output_type": "stream",
     "name": "stdout",
     "text": "[<selenium.webdriver.remote.webelement.WebElement (session=\"99056c3ee8297f45a125634fbbe648b6\", element=\"56b42f54-fc78-4ec3-91ae-b9c73896783e\")>, <selenium.webdriver.remote.webelement.WebElement (session=\"99056c3ee8297f45a125634fbbe648b6\", element=\"635aa591-95e7-4943-9621-11a701592796\")>, <selenium.webdriver.remote.webelement.WebElement (session=\"99056c3ee8297f45a125634fbbe648b6\", element=\"2d9bc9b3-81d2-450e-8961-2188eb665492\")>, <selenium.webdriver.remote.webelement.WebElement (session=\"99056c3ee8297f45a125634fbbe648b6\", element=\"080ca1fd-6bda-4c6a-96b7-c0d0872a97c8\")>, <selenium.webdriver.remote.webelement.WebElement (session=\"99056c3ee8297f45a125634fbbe648b6\", element=\"d547265d-45c6-462f-8a52-e54f58e39462\")>, <selenium.webdriver.remote.webelement.WebElement (session=\"99056c3ee8297f45a125634fbbe648b6\", element=\"68eb0137-68fc-40d8-b9f4-4560e4e6217d\")>, <selenium.webdriver.remote.webelement.WebElement (session=\"99056c3ee8297f45a125634fbbe648b6\", element=\"f1e7145c-72c6-431c-a224-7147647599bc\")>, <selenium.webdriver.remote.webelement.WebElement (session=\"99056c3ee8297f45a125634fbbe648b6\", element=\"42a8f374-d915-4d7c-9e3b-fe3975f347ca\")>, <selenium.webdriver.remote.webelement.WebElement (session=\"99056c3ee8297f45a125634fbbe648b6\", element=\"c262a86b-1a4b-423b-a0ca-a149db1c40dd\")>, <selenium.webdriver.remote.webelement.WebElement (session=\"99056c3ee8297f45a125634fbbe648b6\", element=\"8087925f-379d-4efe-a1d4-02261d4e6f92\")>, <selenium.webdriver.remote.webelement.WebElement (session=\"99056c3ee8297f45a125634fbbe648b6\", element=\"8d3d7f8b-ce79-4591-9171-e1a23dc26d71\")>, <selenium.webdriver.remote.webelement.WebElement (session=\"99056c3ee8297f45a125634fbbe648b6\", element=\"c09d8008-2e97-4d72-99fb-4299902e851a\")>, <selenium.webdriver.remote.webelement.WebElement (session=\"99056c3ee8297f45a125634fbbe648b6\", element=\"c5ffac02-6441-4eea-86bd-3f06f9c36d8f\")>, <selenium.webdriver.remote.webelement.WebElement (session=\"99056c3ee8297f45a125634fbbe648b6\", element=\"a5a7efc9-9eaf-4518-9d8f-2f9364d28cb7\")>, <selenium.webdriver.remote.webelement.WebElement (session=\"99056c3ee8297f45a125634fbbe648b6\", element=\"759e6417-3319-4568-8b43-bf9026b029fc\")>, <selenium.webdriver.remote.webelement.WebElement (session=\"99056c3ee8297f45a125634fbbe648b6\", element=\"50beb426-1386-47ed-9c7b-96eba9e10582\")>, <selenium.webdriver.remote.webelement.WebElement (session=\"99056c3ee8297f45a125634fbbe648b6\", element=\"4a3eb947-9d1a-4c0c-80ec-58d24598837b\")>, <selenium.webdriver.remote.webelement.WebElement (session=\"99056c3ee8297f45a125634fbbe648b6\", element=\"92605429-bb5b-4572-9ef1-46b41472b394\")>, <selenium.webdriver.remote.webelement.WebElement (session=\"99056c3ee8297f45a125634fbbe648b6\", element=\"0f88f417-653b-46d5-aea2-603b6ade1da9\")>, <selenium.webdriver.remote.webelement.WebElement (session=\"99056c3ee8297f45a125634fbbe648b6\", element=\"002cb9ce-7a3d-44b4-bc27-55ee30efff6b\")>, <selenium.webdriver.remote.webelement.WebElement (session=\"99056c3ee8297f45a125634fbbe648b6\", element=\"f9d8819a-bcaa-4c53-8a64-a9e01bef2d46\")>, <selenium.webdriver.remote.webelement.WebElement (session=\"99056c3ee8297f45a125634fbbe648b6\", element=\"2243c402-1b2d-419a-a4a2-ddd7894b3cd2\")>, <selenium.webdriver.remote.webelement.WebElement (session=\"99056c3ee8297f45a125634fbbe648b6\", element=\"404caf56-5542-46fe-bd78-a570cc499ce5\")>, <selenium.webdriver.remote.webelement.WebElement (session=\"99056c3ee8297f45a125634fbbe648b6\", element=\"88eb4ea4-5b3c-4dd2-912f-abaf99525acd\")>, <selenium.webdriver.remote.webelement.WebElement (session=\"99056c3ee8297f45a125634fbbe648b6\", element=\"e9bbc016-d830-4330-816f-24c93e7af0d9\")>, <selenium.webdriver.remote.webelement.WebElement (session=\"99056c3ee8297f45a125634fbbe648b6\", element=\"87f13cc0-a911-4f68-9f31-21b32a3f0d97\")>, <selenium.webdriver.remote.webelement.WebElement (session=\"99056c3ee8297f45a125634fbbe648b6\", element=\"1292ec17-8135-4d0e-89b1-5a24e3199825\")>, <selenium.webdriver.remote.webelement.WebElement (session=\"99056c3ee8297f45a125634fbbe648b6\", element=\"dccfc65b-02da-4248-9ac1-10053ccfe1a2\")>, <selenium.webdriver.remote.webelement.WebElement (session=\"99056c3ee8297f45a125634fbbe648b6\", element=\"ed117444-4ad7-4b4f-b2d9-cde2a246338e\")>, <selenium.webdriver.remote.webelement.WebElement (session=\"99056c3ee8297f45a125634fbbe648b6\", element=\"1f3d1614-f8ea-4bb8-8d60-d18e3a1a5260\")>, <selenium.webdriver.remote.webelement.WebElement (session=\"99056c3ee8297f45a125634fbbe648b6\", element=\"26a51861-e448-458f-bc1e-3fe447fda1dd\")>, <selenium.webdriver.remote.webelement.WebElement (session=\"99056c3ee8297f45a125634fbbe648b6\", element=\"da514958-017e-42ce-bb3e-18d35d8b3dca\")>, <selenium.webdriver.remote.webelement.WebElement (session=\"99056c3ee8297f45a125634fbbe648b6\", element=\"ad0f7569-57bf-4fc1-b2f3-7f782076e111\")>, <selenium.webdriver.remote.webelement.WebElement (session=\"99056c3ee8297f45a125634fbbe648b6\", element=\"e33dd4c1-9c0c-4f33-981f-42fff4e19d4c\")>, <selenium.webdriver.remote.webelement.WebElement (session=\"99056c3ee8297f45a125634fbbe648b6\", element=\"a5a3a62a-3d29-454c-9dd6-0162e8b36fee\")>, <selenium.webdriver.remote.webelement.WebElement (session=\"99056c3ee8297f45a125634fbbe648b6\", element=\"4169cc4f-099a-4da7-afcd-621e7a3e2189\")>, <selenium.webdriver.remote.webelement.WebElement (session=\"99056c3ee8297f45a125634fbbe648b6\", element=\"244849b6-879a-4285-a324-315b00b8703a\")>, <selenium.webdriver.remote.webelement.WebElement (session=\"99056c3ee8297f45a125634fbbe648b6\", element=\"50973dfd-fc5b-4ab2-8813-e69cc08ee6d1\")>, <selenium.webdriver.remote.webelement.WebElement (session=\"99056c3ee8297f45a125634fbbe648b6\", element=\"8b6c5a52-ff74-4ebb-b3b8-6117d63c6b3d\")>, <selenium.webdriver.remote.webelement.WebElement (session=\"99056c3ee8297f45a125634fbbe648b6\", element=\"5e73f972-9aa2-489e-a655-49dc42b418c1\")>, <selenium.webdriver.remote.webelement.WebElement (session=\"99056c3ee8297f45a125634fbbe648b6\", element=\"b84c8903-9a6f-4879-96f0-6b7b854184ef\")>, <selenium.webdriver.remote.webelement.WebElement (session=\"99056c3ee8297f45a125634fbbe648b6\", element=\"722ee638-151f-47fa-868d-63bc94d53801\")>, <selenium.webdriver.remote.webelement.WebElement (session=\"99056c3ee8297f45a125634fbbe648b6\", element=\"56872f38-1b26-440f-b49c-05655cd9d64f\")>, <selenium.webdriver.remote.webelement.WebElement (session=\"99056c3ee8297f45a125634fbbe648b6\", element=\"075f654d-64ab-4fe5-a929-00e234ec511a\")>, <selenium.webdriver.remote.webelement.WebElement (session=\"99056c3ee8297f45a125634fbbe648b6\", element=\"4c0f1d25-2b63-4b41-af7e-d139970eaf4f\")>, <selenium.webdriver.remote.webelement.WebElement (session=\"99056c3ee8297f45a125634fbbe648b6\", element=\"8ccd9490-3bb1-446e-8534-a084a3fcc9df\")>, <selenium.webdriver.remote.webelement.WebElement (session=\"99056c3ee8297f45a125634fbbe648b6\", element=\"1825d798-965a-43fd-9f91-674314a98131\")>, <selenium.webdriver.remote.webelement.WebElement (session=\"99056c3ee8297f45a125634fbbe648b6\", element=\"bc48c04b-bd08-4663-b58d-3ee399a175f9\")>, <selenium.webdriver.remote.webelement.WebElement (session=\"99056c3ee8297f45a125634fbbe648b6\", element=\"474bd9f2-1ed6-41b4-a564-e181fdf0a4ce\")>, <selenium.webdriver.remote.webelement.WebElement (session=\"99056c3ee8297f45a125634fbbe648b6\", element=\"f98014e6-2c7f-4d53-9b4e-679e52ba69be\")>, <selenium.webdriver.remote.webelement.WebElement (session=\"99056c3ee8297f45a125634fbbe648b6\", element=\"d964bc6d-2915-4533-9656-689596ee9064\")>, <selenium.webdriver.remote.webelement.WebElement (session=\"99056c3ee8297f45a125634fbbe648b6\", element=\"ca764ff6-58b8-4fe9-9fe8-955080053244\")>]\n"
    }
   ],
   "source": [
    "#Usaremos el Xpath para obtener la lista de vuelos\n",
    "vuelos = driver.find_elements_by_xpath('//li[@class=\"flight\"]')\n"
   ]
  },
  {
   "cell_type": "code",
   "execution_count": 34,
   "metadata": {},
   "outputs": [],
   "source": [
    "vuelo = vuelos[16]"
   ]
  },
  {
   "cell_type": "markdown",
   "metadata": {},
   "source": [
    "Obtenemos la información de la hora de salida, llegada y duración del vuelo"
   ]
  },
  {
   "cell_type": "code",
   "execution_count": 35,
   "metadata": {},
   "outputs": [
    {
     "output_type": "execute_result",
     "data": {
      "text/plain": "'18:05'"
     },
     "metadata": {},
     "execution_count": 35
    }
   ],
   "source": [
    "# Hora de salida\n",
    "vuelo.find_element_by_xpath('.//div[@class=\"departure\"]/time').get_attribute('datetime')"
   ]
  },
  {
   "cell_type": "code",
   "execution_count": 36,
   "metadata": {},
   "outputs": [
    {
     "output_type": "execute_result",
     "data": {
      "text/plain": "'22:35'"
     },
     "metadata": {},
     "execution_count": 36
    }
   ],
   "source": [
    "# Hora de llegada\n",
    "vuelo.find_element_by_xpath('.//div[@class=\"arrival\"]/time').get_attribute('datetime')"
   ]
  },
  {
   "cell_type": "code",
   "execution_count": 37,
   "metadata": {},
   "outputs": [
    {
     "output_type": "execute_result",
     "data": {
      "text/plain": "'PT4H30M'"
     },
     "metadata": {},
     "execution_count": 37
    }
   ],
   "source": [
    "# Duración del vuelo\n",
    "vuelo.find_element_by_xpath('.//span[@class=\"duration\"]/time').get_attribute('datetime')"
   ]
  },
  {
   "cell_type": "markdown",
   "metadata": {},
   "source": [
    "# Clase 12\n",
    "En esta clase veremos cómo obtener la información de las escalas de cada vuelo. Vayamos a la página y veamos dónde se encuentran esos datos.<br>\n",
    "Para desplegar esa información, debemos clickear en un botón. Seleccionémoslo:"
   ]
  },
  {
   "cell_type": "code",
   "execution_count": 38,
   "metadata": {},
   "outputs": [
    {
     "output_type": "execute_result",
     "data": {
      "text/plain": "<selenium.webdriver.remote.webelement.WebElement (session=\"99056c3ee8297f45a125634fbbe648b6\", element=\"566b5c16-f1f0-4c94-9d00-a06cab5e7f9a\")>"
     },
     "metadata": {},
     "execution_count": 38
    }
   ],
   "source": [
    "boton_escalas = vuelo.find_element_by_xpath('.//div[@class=\"flight-summary-stops-description\"]/button')\n",
    "boton_escalas"
   ]
  },
  {
   "cell_type": "markdown",
   "metadata": {},
   "source": [
    "Una vez ubicado el elemento podemos clickear sobre él"
   ]
  },
  {
   "cell_type": "code",
   "execution_count": 39,
   "metadata": {},
   "outputs": [],
   "source": [
    "boton_escalas.click()"
   ]
  },
  {
   "cell_type": "markdown",
   "metadata": {},
   "source": [
    "Y vemos cómo se despliega la información que estamos buscando. **Notar que cambió el html de la página al hacer click sobre ese botón**"
   ]
  },
  {
   "cell_type": "markdown",
   "metadata": {},
   "source": [
    "De cada segmento necesitamos:\n",
    "- origen\n",
    "- hora de salida\n",
    "- destino\n",
    "- hora de llegada\n",
    "- duración del vuelo\n",
    "- numero de vuelo\n",
    "- modelo de avion\n",
    "- duración de la escala"
   ]
  },
  {
   "cell_type": "code",
   "execution_count": 41,
   "metadata": {},
   "outputs": [
    {
     "output_type": "execute_result",
     "data": {
      "text/plain": "[<selenium.webdriver.remote.webelement.WebElement (session=\"99056c3ee8297f45a125634fbbe648b6\", element=\"0391cda5-d397-48a7-aa7f-f0df97ae8414\")>,\n <selenium.webdriver.remote.webelement.WebElement (session=\"99056c3ee8297f45a125634fbbe648b6\", element=\"2732b353-c785-497b-968c-3acd5996a1b4\")>,\n <selenium.webdriver.remote.webelement.WebElement (session=\"99056c3ee8297f45a125634fbbe648b6\", element=\"7cee20e7-58af-456a-bcf6-98cd54cbe6af\")>]"
     },
     "metadata": {},
     "execution_count": 41
    }
   ],
   "source": [
    "segmentos = vuelo.find_elements_by_xpath('//div[@class = \"sc-hZSUBg gfeULV\"]/div')  #[0] 1er vuelo, [1] Escala, [2] \"do vuelo\"\n",
    "segmentos"
   ]
  },
  {
   "cell_type": "markdown",
   "metadata": {},
   "source": [
    "Cerremos la ventana con la información de los segmentos y ejecutemos nuevamente la celda anterior para ver que devuelve una lista vacía"
   ]
  },
  {
   "cell_type": "markdown",
   "metadata": {},
   "source": [
    "La cantidad de escalas será la cantidad de segmentos -1."
   ]
  },
  {
   "cell_type": "code",
   "execution_count": 42,
   "metadata": {},
   "outputs": [
    {
     "output_type": "execute_result",
     "data": {
      "text/plain": "2"
     },
     "metadata": {},
     "execution_count": 42
    }
   ],
   "source": [
    "escalas = len(segmentos) - 1 #0 escalas si es un vuelo directo\n",
    "escalas"
   ]
  },
  {
   "cell_type": "markdown",
   "metadata": {},
   "source": [
    "Hasta aquí llegamos en esta clase, en la que vimos cómo utilizar Selenium para intearctuar con elementos de la pàgina web para obtener información que estaba \"oculta\""
   ]
  },
  {
   "cell_type": "code",
   "execution_count": 43,
   "metadata": {},
   "outputs": [],
   "source": [
    "driver.close()"
   ]
  }
 ],
 "metadata": {
  "kernelspec": {
   "display_name": "Python 3",
   "language": "python",
   "name": "python3"
  },
  "language_info": {
   "codemirror_mode": {
    "name": "ipython",
    "version": 3
   },
   "file_extension": ".py",
   "mimetype": "text/x-python",
   "name": "python",
   "nbconvert_exporter": "python",
   "pygments_lexer": "ipython3",
   "version": "3.8.3-final"
  }
 },
 "nbformat": 4,
 "nbformat_minor": 2
}