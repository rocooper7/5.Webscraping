{
 "cells": [
  {
   "cell_type": "markdown",
   "metadata": {},
   "source": [
    "# Módulo 2: Scraping con Selenium\n",
    "## LATAM Airlines\n",
    "<a href=\"https://www.latam.com/es_ar/\"><img src=\"https://i.pinimg.com/originals/dd/52/74/dd5274702d1382d696caeb6e0f6980c5.png\"  width=\"420\"></img></a>\n",
    "<br>\n",
    "\n",
    "Vamos a scrapear el sitio de Latam para averiguar datos de vuelos en funcion el origen y destino, fecha y cabina. La información que esperamos obtener de cada vuelo es:\n",
    "- Precio(s) disponibles\n",
    "- Horas de salida y llegada (duración)\n",
    "- Información de las escalas\n",
    "\n",
    "¡Empecemos!"
   ]
  },
  {
   "cell_type": "code",
   "execution_count": 213,
   "metadata": {},
   "outputs": [],
   "source": [
    "url = 'https://www.latam.com/es_mx/apps/personas/booking?fecha1_dia=24&fecha1_anomes=2020-10&auAvailability=1&ida_vuelta=ida&vuelos_origen=Sao%20Paulo&from_city1=SAO&vuelos_destino=R%C3%ADo%20de%20Janeiro&to_city1=RIO&flex=1&vuelos_fecha_salida_ddmmaaaa=24/10/2020&cabina=Y&nadults=1&nchildren=0&ninfants=0&cod_promo=&stopover_outbound_days=0&stopover_inbound_days=0#/'"
   ]
  },
  {
   "cell_type": "code",
   "execution_count": 214,
   "metadata": {},
   "outputs": [],
   "source": [
    "from selenium import webdriver"
   ]
  },
  {
   "cell_type": "code",
   "execution_count": 215,
   "metadata": {},
   "outputs": [],
   "source": [
    "options = webdriver.ChromeOptions()\n",
    "options.add_argument('--incognito')\n",
    "driver = webdriver.Chrome(executable_path='C:\\dChrome\\chromedriver.exe', options=options)\n",
    "driver.get(url)"
   ]
  },
  {
   "cell_type": "code",
   "execution_count": 216,
   "metadata": {
    "tags": []
   },
   "outputs": [
    {
     "output_type": "stream",
     "name": "stdout",
     "text": "[<selenium.webdriver.remote.webelement.WebElement (session=\"19ab33094f44536d9f9e1270b053d3ec\", element=\"5d09564c-4475-415e-99b4-3ea64e54ac7e\")>, <selenium.webdriver.remote.webelement.WebElement (session=\"19ab33094f44536d9f9e1270b053d3ec\", element=\"45b1d212-02d6-43ee-ad28-ff84d9c5a415\")>, <selenium.webdriver.remote.webelement.WebElement (session=\"19ab33094f44536d9f9e1270b053d3ec\", element=\"a4a18389-f440-4019-b9b2-3c82f98a0f00\")>, <selenium.webdriver.remote.webelement.WebElement (session=\"19ab33094f44536d9f9e1270b053d3ec\", element=\"a1ef7a3e-8355-4259-bed5-a1e53eb98806\")>, <selenium.webdriver.remote.webelement.WebElement (session=\"19ab33094f44536d9f9e1270b053d3ec\", element=\"79169f51-f221-4245-978f-ae30e5b64996\")>, <selenium.webdriver.remote.webelement.WebElement (session=\"19ab33094f44536d9f9e1270b053d3ec\", element=\"91b19b44-c317-4831-b0df-ca36851e71e6\")>, <selenium.webdriver.remote.webelement.WebElement (session=\"19ab33094f44536d9f9e1270b053d3ec\", element=\"ae9cca89-aac2-4e12-88cf-31664733eb9b\")>, <selenium.webdriver.remote.webelement.WebElement (session=\"19ab33094f44536d9f9e1270b053d3ec\", element=\"0452a421-429d-420e-8b46-fac3a007ef92\")>, <selenium.webdriver.remote.webelement.WebElement (session=\"19ab33094f44536d9f9e1270b053d3ec\", element=\"3c20d3d6-ebdc-4b99-b45d-0796c62f2d8e\")>, <selenium.webdriver.remote.webelement.WebElement (session=\"19ab33094f44536d9f9e1270b053d3ec\", element=\"c885b938-1648-4261-913c-697ca55be203\")>, <selenium.webdriver.remote.webelement.WebElement (session=\"19ab33094f44536d9f9e1270b053d3ec\", element=\"bab14977-836b-4462-9336-d8cb6bcd35eb\")>, <selenium.webdriver.remote.webelement.WebElement (session=\"19ab33094f44536d9f9e1270b053d3ec\", element=\"120ed866-0a62-4690-8112-659a8bcf1408\")>, <selenium.webdriver.remote.webelement.WebElement (session=\"19ab33094f44536d9f9e1270b053d3ec\", element=\"ad3e5758-a2b6-4de8-892d-24637269035f\")>, <selenium.webdriver.remote.webelement.WebElement (session=\"19ab33094f44536d9f9e1270b053d3ec\", element=\"f6b49289-b890-4fc7-80de-e0035ff96f3c\")>, <selenium.webdriver.remote.webelement.WebElement (session=\"19ab33094f44536d9f9e1270b053d3ec\", element=\"92b6008a-b7c5-4113-a3fa-80d475d7b085\")>, <selenium.webdriver.remote.webelement.WebElement (session=\"19ab33094f44536d9f9e1270b053d3ec\", element=\"791552b7-b8ab-4189-9446-1ccecf426451\")>, <selenium.webdriver.remote.webelement.WebElement (session=\"19ab33094f44536d9f9e1270b053d3ec\", element=\"18f30594-7f9d-449d-a7c6-2aedc4d8c85a\")>, <selenium.webdriver.remote.webelement.WebElement (session=\"19ab33094f44536d9f9e1270b053d3ec\", element=\"0c0345ff-d30e-497d-8917-15a2deefa3d6\")>, <selenium.webdriver.remote.webelement.WebElement (session=\"19ab33094f44536d9f9e1270b053d3ec\", element=\"86b43803-a591-421b-b593-449b7c377dad\")>, <selenium.webdriver.remote.webelement.WebElement (session=\"19ab33094f44536d9f9e1270b053d3ec\", element=\"53d7b405-a1a6-47db-a98f-b6c5d2c25bc2\")>, <selenium.webdriver.remote.webelement.WebElement (session=\"19ab33094f44536d9f9e1270b053d3ec\", element=\"ebda4ff7-d9f6-4370-8cf7-75b599054f07\")>, <selenium.webdriver.remote.webelement.WebElement (session=\"19ab33094f44536d9f9e1270b053d3ec\", element=\"fc998f1d-dc89-4319-b953-91a39ce367b2\")>, <selenium.webdriver.remote.webelement.WebElement (session=\"19ab33094f44536d9f9e1270b053d3ec\", element=\"d58ba51b-8afa-424c-a645-4ffcd7415c0f\")>, <selenium.webdriver.remote.webelement.WebElement (session=\"19ab33094f44536d9f9e1270b053d3ec\", element=\"da4a9c0e-dda2-493c-bcd9-7d2310653cf3\")>, <selenium.webdriver.remote.webelement.WebElement (session=\"19ab33094f44536d9f9e1270b053d3ec\", element=\"20fd1a18-bf9b-4e55-97df-407e5e4b8f8f\")>, <selenium.webdriver.remote.webelement.WebElement (session=\"19ab33094f44536d9f9e1270b053d3ec\", element=\"a14da835-94de-4818-aa26-8ce37af2e972\")>, <selenium.webdriver.remote.webelement.WebElement (session=\"19ab33094f44536d9f9e1270b053d3ec\", element=\"42ff61bc-21af-49d1-837f-e5cf4f1fc54f\")>, <selenium.webdriver.remote.webelement.WebElement (session=\"19ab33094f44536d9f9e1270b053d3ec\", element=\"0ec96c1e-1cd1-447b-b73f-7c39440af0d0\")>, <selenium.webdriver.remote.webelement.WebElement (session=\"19ab33094f44536d9f9e1270b053d3ec\", element=\"e38d8aa7-466f-4bf4-812d-242b37a57ecf\")>, <selenium.webdriver.remote.webelement.WebElement (session=\"19ab33094f44536d9f9e1270b053d3ec\", element=\"431fbbd8-cb8a-4b9b-a973-48f23528f53f\")>, <selenium.webdriver.remote.webelement.WebElement (session=\"19ab33094f44536d9f9e1270b053d3ec\", element=\"7d053bcb-047a-4a92-b047-c29e69b22ec8\")>, <selenium.webdriver.remote.webelement.WebElement (session=\"19ab33094f44536d9f9e1270b053d3ec\", element=\"9b59a8a2-a05d-4f6f-9fbb-1a115b13a173\")>, <selenium.webdriver.remote.webelement.WebElement (session=\"19ab33094f44536d9f9e1270b053d3ec\", element=\"33e21907-bb4b-4bdb-954d-ae626a029a9a\")>, <selenium.webdriver.remote.webelement.WebElement (session=\"19ab33094f44536d9f9e1270b053d3ec\", element=\"8ae3f710-9b33-42ac-86b0-ca12911948e6\")>, <selenium.webdriver.remote.webelement.WebElement (session=\"19ab33094f44536d9f9e1270b053d3ec\", element=\"67af5998-6a5c-4e80-b4ab-002531531232\")>, <selenium.webdriver.remote.webelement.WebElement (session=\"19ab33094f44536d9f9e1270b053d3ec\", element=\"4f65e992-de3c-40bd-92f5-fde1926ffba3\")>, <selenium.webdriver.remote.webelement.WebElement (session=\"19ab33094f44536d9f9e1270b053d3ec\", element=\"8c63baaa-36b2-4421-963c-790067f0dc00\")>, <selenium.webdriver.remote.webelement.WebElement (session=\"19ab33094f44536d9f9e1270b053d3ec\", element=\"dc7696d5-d0e0-4e04-a0e7-b7ff2388509f\")>, <selenium.webdriver.remote.webelement.WebElement (session=\"19ab33094f44536d9f9e1270b053d3ec\", element=\"46195866-9791-4000-a865-7effbfee9788\")>, <selenium.webdriver.remote.webelement.WebElement (session=\"19ab33094f44536d9f9e1270b053d3ec\", element=\"5606a3d2-7620-4c8d-a9dd-6cd964ca2aca\")>, <selenium.webdriver.remote.webelement.WebElement (session=\"19ab33094f44536d9f9e1270b053d3ec\", element=\"0a8fe61a-9d7e-491c-a7b1-3ed3f1d454c9\")>, <selenium.webdriver.remote.webelement.WebElement (session=\"19ab33094f44536d9f9e1270b053d3ec\", element=\"2ab89838-34b2-4057-8465-c42ecdb0a82a\")>, <selenium.webdriver.remote.webelement.WebElement (session=\"19ab33094f44536d9f9e1270b053d3ec\", element=\"00169127-70dc-4ecc-8749-bfee92dd27ee\")>, <selenium.webdriver.remote.webelement.WebElement (session=\"19ab33094f44536d9f9e1270b053d3ec\", element=\"36a9c0b4-4e22-402c-bd15-bdc67bf4e263\")>, <selenium.webdriver.remote.webelement.WebElement (session=\"19ab33094f44536d9f9e1270b053d3ec\", element=\"f913241a-379a-4c8e-80c4-22af56fdc074\")>, <selenium.webdriver.remote.webelement.WebElement (session=\"19ab33094f44536d9f9e1270b053d3ec\", element=\"db67003f-3aa0-49f4-9480-378202ca0300\")>, <selenium.webdriver.remote.webelement.WebElement (session=\"19ab33094f44536d9f9e1270b053d3ec\", element=\"f6131ae9-c0b4-4ce6-95e0-3ada2f6ead2a\")>, <selenium.webdriver.remote.webelement.WebElement (session=\"19ab33094f44536d9f9e1270b053d3ec\", element=\"a5ca8503-efc9-4f29-8b80-04108febbdc1\")>, <selenium.webdriver.remote.webelement.WebElement (session=\"19ab33094f44536d9f9e1270b053d3ec\", element=\"22ef8919-923b-489f-8f46-4195f03faf7e\")>, <selenium.webdriver.remote.webelement.WebElement (session=\"19ab33094f44536d9f9e1270b053d3ec\", element=\"1f49f9e5-e081-404c-9aed-56e5e344252b\")>, <selenium.webdriver.remote.webelement.WebElement (session=\"19ab33094f44536d9f9e1270b053d3ec\", element=\"ac6b982d-89f8-42c6-ae19-88b393c71f2c\")>, <selenium.webdriver.remote.webelement.WebElement (session=\"19ab33094f44536d9f9e1270b053d3ec\", element=\"04338b20-f371-496b-9c49-0869423c239c\")>]\n"
    }
   ],
   "source": [
    "#Usaremos el Xpath para obtener la lista de vuelos\n",
    "vuelos = driver.find_elements_by_xpath('//li[@class=\"flight\"]')\n",
    "print(vuelos)"
   ]
  },
  {
   "cell_type": "code",
   "execution_count": 217,
   "metadata": {},
   "outputs": [
    {
     "output_type": "execute_result",
     "data": {
      "text/plain": "<selenium.webdriver.remote.webelement.WebElement (session=\"19ab33094f44536d9f9e1270b053d3ec\", element=\"5d09564c-4475-415e-99b4-3ea64e54ac7e\")>"
     },
     "metadata": {},
     "execution_count": 217
    }
   ],
   "source": [
    "vuelo = vuelos[0]\n",
    "vuelo"
   ]
  },
  {
   "cell_type": "markdown",
   "metadata": {},
   "source": [
    "Obtenemos la información de la hora de salida, llegada y duración del vuelo"
   ]
  },
  {
   "cell_type": "code",
   "execution_count": 218,
   "metadata": {},
   "outputs": [
    {
     "output_type": "execute_result",
     "data": {
      "text/plain": "'07:15'"
     },
     "metadata": {},
     "execution_count": 218
    }
   ],
   "source": [
    "# Hora de salida\n",
    "vuelo.find_element_by_xpath('.//div[@class=\"departure\"]/time').get_attribute('datetime')"
   ]
  },
  {
   "cell_type": "code",
   "execution_count": 219,
   "metadata": {},
   "outputs": [
    {
     "output_type": "execute_result",
     "data": {
      "text/plain": "'08:10'"
     },
     "metadata": {},
     "execution_count": 219
    }
   ],
   "source": [
    "# Hora de llegada\n",
    "vuelo.find_element_by_xpath('.//div[@class=\"arrival\"]/time').get_attribute('datetime')"
   ]
  },
  {
   "cell_type": "code",
   "execution_count": 220,
   "metadata": {},
   "outputs": [
    {
     "output_type": "execute_result",
     "data": {
      "text/plain": "'PT55M'"
     },
     "metadata": {},
     "execution_count": 220
    }
   ],
   "source": [
    "# Duración del vuelo\n",
    "vuelo.find_element_by_xpath('.//span[@class=\"duration\"]/time').get_attribute('datetime')"
   ]
  },
  {
   "cell_type": "code",
   "execution_count": 221,
   "metadata": {},
   "outputs": [
    {
     "output_type": "execute_result",
     "data": {
      "text/plain": "<selenium.webdriver.remote.webelement.WebElement (session=\"19ab33094f44536d9f9e1270b053d3ec\", element=\"2259f82f-c7fe-4fcc-844f-5149c3838049\")>"
     },
     "metadata": {},
     "execution_count": 221
    }
   ],
   "source": [
    "boton_escalas = vuelo.find_element_by_xpath('.//div[@class=\"flight-summary-stops-description\"]/button')\n",
    "boton_escalas"
   ]
  },
  {
   "cell_type": "code",
   "execution_count": 222,
   "metadata": {},
   "outputs": [],
   "source": [
    "boton_escalas.click()"
   ]
  },
  {
   "cell_type": "code",
   "execution_count": 223,
   "metadata": {},
   "outputs": [
    {
     "output_type": "execute_result",
     "data": {
      "text/plain": "[<selenium.webdriver.remote.webelement.WebElement (session=\"19ab33094f44536d9f9e1270b053d3ec\", element=\"987bc3a6-db5a-443b-aa60-20b7bdd0c2bf\")>]"
     },
     "metadata": {},
     "execution_count": 223
    }
   ],
   "source": [
    "segmentos = vuelo.find_elements_by_xpath('//div[@class = \"sc-hZSUBg gfeULV\"]/div')  #[0] 1er vuelo, [1] Escala, [2] \"do vuelo\"\n",
    "segmentos"
   ]
  },
  {
   "cell_type": "code",
   "execution_count": 224,
   "metadata": {},
   "outputs": [
    {
     "output_type": "execute_result",
     "data": {
      "text/plain": "0"
     },
     "metadata": {},
     "execution_count": 224
    }
   ],
   "source": [
    "escalas = len(segmentos) - 1 #0 escalas si es un vuelo directo\n",
    "escalas"
   ]
  },
  {
   "cell_type": "markdown",
   "metadata": {},
   "source": [
    "# Clase 13\n",
    "En esta clase obtendremos la información de las escalas que se encuentran en el modal que aparece al clickear sobre el botón de escalas"
   ]
  },
  {
   "cell_type": "code",
   "execution_count": 225,
   "metadata": {},
   "outputs": [],
   "source": [
    "segmento = segmentos[0]"
   ]
  },
  {
   "cell_type": "code",
   "execution_count": 226,
   "metadata": {},
   "outputs": [
    {
     "output_type": "execute_result",
     "data": {
      "text/plain": "'0:55'"
     },
     "metadata": {},
     "execution_count": 226
    }
   ],
   "source": [
    "# Duración del vuelo\n",
    "segmento.find_element_by_xpath('.//span[@class=\"sc-esjQYD dMquDU\"]/time').get_attribute('datetime')"
   ]
  },
  {
   "cell_type": "code",
   "execution_count": 227,
   "metadata": {},
   "outputs": [
    {
     "output_type": "execute_result",
     "data": {
      "text/plain": "'LA3807'"
     },
     "metadata": {},
     "execution_count": 227
    }
   ],
   "source": [
    "# Numero del vuelo\n",
    "segmento.find_element_by_xpath('.//div[@class=\"airline-flight-details\"]/b').text"
   ]
  },
  {
   "cell_type": "code",
   "execution_count": 228,
   "metadata": {},
   "outputs": [
    {
     "output_type": "execute_result",
     "data": {
      "text/plain": "'Airbus 319'"
     },
     "metadata": {},
     "execution_count": 228
    }
   ],
   "source": [
    "# Modelo de avion\n",
    "segmento.find_element_by_xpath('.//span[@class=\"sc-gzOgki uTyOl\"]').text"
   ]
  },
  {
   "cell_type": "code",
   "execution_count": 229,
   "metadata": {},
   "outputs": [
    {
     "output_type": "error",
     "ename": "IndexError",
     "evalue": "list index out of range",
     "traceback": [
      "\u001b[1;31m---------------------------------------------------------------------------\u001b[0m",
      "\u001b[1;31mIndexError\u001b[0m                                Traceback (most recent call last)",
      "\u001b[1;32m<ipython-input-229-85edff7cf7df>\u001b[0m in \u001b[0;36m<module>\u001b[1;34m\u001b[0m\n\u001b[0;32m      1\u001b[0m \u001b[1;31m# Duracion de la escala\u001b[0m\u001b[1;33m\u001b[0m\u001b[1;33m\u001b[0m\u001b[1;33m\u001b[0m\u001b[0m\n\u001b[1;32m----> 2\u001b[1;33m \u001b[0msegmento2\u001b[0m \u001b[1;33m=\u001b[0m \u001b[0msegmentos\u001b[0m\u001b[1;33m[\u001b[0m\u001b[1;36m1\u001b[0m\u001b[1;33m]\u001b[0m\u001b[1;33m\u001b[0m\u001b[1;33m\u001b[0m\u001b[0m\n\u001b[0m\u001b[0;32m      3\u001b[0m \u001b[0msegmento2\u001b[0m\u001b[1;33m.\u001b[0m\u001b[0mfind_element_by_xpath\u001b[0m\u001b[1;33m(\u001b[0m\u001b[1;34m'.//span[@class=\"sc-esjQYD dMquDU\"]/time'\u001b[0m\u001b[1;33m)\u001b[0m\u001b[1;33m.\u001b[0m\u001b[0mget_attribute\u001b[0m\u001b[1;33m(\u001b[0m\u001b[1;34m'datetime'\u001b[0m\u001b[1;33m)\u001b[0m\u001b[1;33m\u001b[0m\u001b[1;33m\u001b[0m\u001b[0m\n",
      "\u001b[1;31mIndexError\u001b[0m: list index out of range"
     ]
    }
   ],
   "source": [
    "# Duracion de la escala\n",
    "segmento2 = segmentos[1]\n",
    "segmento2.find_element_by_xpath('.//span[@class=\"sc-esjQYD dMquDU\"]/time').get_attribute('datetime')"
   ]
  },
  {
   "cell_type": "code",
   "execution_count": 230,
   "metadata": {},
   "outputs": [
    {
     "output_type": "execute_result",
     "data": {
      "text/plain": "[<selenium.webdriver.remote.webelement.WebElement (session=\"19ab33094f44536d9f9e1270b053d3ec\", element=\"b79713bc-4452-4706-9a6a-c4a7779ebc01\")>,\n <selenium.webdriver.remote.webelement.WebElement (session=\"19ab33094f44536d9f9e1270b053d3ec\", element=\"efc85810-da33-42eb-b9d9-5b04ade4c804\")>,\n <selenium.webdriver.remote.webelement.WebElement (session=\"19ab33094f44536d9f9e1270b053d3ec\", element=\"9e92c7c8-2600-44c1-839b-439fa3af957d\")>,\n <selenium.webdriver.remote.webelement.WebElement (session=\"19ab33094f44536d9f9e1270b053d3ec\", element=\"24b90298-8d3c-4ff4-b17f-33accbf17c56\")>]"
     },
     "metadata": {},
     "execution_count": 230
    }
   ],
   "source": [
    "aeropuertos = segmento.find_elements_by_xpath('.//div[@class=\"sc-esOvli iQSbOQ\"]/span')\n",
    "aeropuertos"
   ]
  },
  {
   "cell_type": "code",
   "execution_count": 231,
   "metadata": {},
   "outputs": [
    {
     "output_type": "execute_result",
     "data": {
      "text/plain": "'GRU'"
     },
     "metadata": {},
     "execution_count": 231
    }
   ],
   "source": [
    "# Origen Aeropuerto\n",
    "aeropuerto_ori = aeropuertos[1]\n",
    "aeropuerto_ori.find_element_by_xpath('.//div[@class=\"sc-bwCtUz iybVbT\"]/abbr').text"
   ]
  },
  {
   "cell_type": "code",
   "execution_count": 232,
   "metadata": {},
   "outputs": [
    {
     "output_type": "execute_result",
     "data": {
      "text/plain": "'Guarulhos'"
     },
     "metadata": {},
     "execution_count": 232
    }
   ],
   "source": [
    "aeropuerto_ori.find_element_by_xpath('.//span[@class=\"sc-eTuwsz eumCTU\"]/span[@class=\"sc-hXRMBi gVvErD\"]').text.replace(' Intl.','')"
   ]
  },
  {
   "cell_type": "code",
   "execution_count": 233,
   "metadata": {},
   "outputs": [
    {
     "output_type": "execute_result",
     "data": {
      "text/plain": "'07:15'"
     },
     "metadata": {},
     "execution_count": 233
    }
   ],
   "source": [
    "# Hora de salida\n",
    "aeropuerto_ori.find_element_by_xpath('.//div[@class=\"sc-bwCtUz iybVbT\"]/time[@datetime]').get_attribute('datetime')"
   ]
  },
  {
   "cell_type": "code",
   "execution_count": 234,
   "metadata": {},
   "outputs": [
    {
     "output_type": "execute_result",
     "data": {
      "text/plain": "'SDU'"
     },
     "metadata": {},
     "execution_count": 234
    }
   ],
   "source": [
    "# Destino\n",
    "aeropuerto_lleg = aeropuertos[3]\n",
    "aeropuerto_lleg.find_element_by_xpath('.//div[@class=\"sc-bwCtUz iybVbT\"]/abbr').text"
   ]
  },
  {
   "cell_type": "code",
   "execution_count": 235,
   "metadata": {},
   "outputs": [
    {
     "output_type": "execute_result",
     "data": {
      "text/plain": "'Santos Dumont'"
     },
     "metadata": {},
     "execution_count": 235
    }
   ],
   "source": [
    "aeropuerto_lleg.find_element_by_xpath('.//span[@class=\"sc-eTuwsz eumCTU\"]/span[@class=\"sc-hXRMBi gVvErD\"]').text.replace(' Intl.','')"
   ]
  },
  {
   "cell_type": "code",
   "execution_count": 236,
   "metadata": {},
   "outputs": [
    {
     "output_type": "execute_result",
     "data": {
      "text/plain": "'08:10'"
     },
     "metadata": {},
     "execution_count": 236
    }
   ],
   "source": [
    "# Hora de salida\n",
    "aeropuerto_lleg.find_element_by_xpath('.//div[@class=\"sc-bwCtUz iybVbT\"]/time[@datetime]').get_attribute('datetime')"
   ]
  },
  {
   "cell_type": "markdown",
   "metadata": {},
   "source": [
    "## CLASE\n",
    "Una vez que hayamos obtenido toda la información, debemos cerrar el modal/pop-up."
   ]
  },
  {
   "cell_type": "code",
   "execution_count": 237,
   "metadata": {},
   "outputs": [],
   "source": [
    "driver.find_element_by_xpath('//div[@class=\"modal-header sc-dnqmqq cGfTsx\"]//button[@class=\"close\"]').click()"
   ]
  },
  {
   "cell_type": "markdown",
   "metadata": {},
   "source": [
    "Por último debemos obtener la información de las tarifas. Para eso, debemos clickear sobre el vuelo (sobre cualquier parte)"
   ]
  },
  {
   "cell_type": "code",
   "execution_count": 238,
   "metadata": {},
   "outputs": [],
   "source": [
    "vuelo.click()"
   ]
  },
  {
   "cell_type": "markdown",
   "metadata": {},
   "source": [
    "La información de los precios para cada tarifa está contenida en una tabla. Los precios en sí están en el footer y podemos sacar los nombres de la clase de cada elemento"
   ]
  },
  {
   "cell_type": "code",
   "execution_count": 239,
   "metadata": {},
   "outputs": [
    {
     "output_type": "execute_result",
     "data": {
      "text/plain": "[<selenium.webdriver.remote.webelement.WebElement (session=\"19ab33094f44536d9f9e1270b053d3ec\", element=\"7e65a8cb-cbb9-49e4-8d5c-cae5f099225d\")>,\n <selenium.webdriver.remote.webelement.WebElement (session=\"19ab33094f44536d9f9e1270b053d3ec\", element=\"1ab64ad3-0804-487b-b084-b3c13f91f0ac\")>,\n <selenium.webdriver.remote.webelement.WebElement (session=\"19ab33094f44536d9f9e1270b053d3ec\", element=\"a5baabdb-7a64-490c-aef0-0759a7fb54e2\")>]"
     },
     "metadata": {},
     "execution_count": 239
    }
   ],
   "source": [
    "tarifas = vuelo.find_elements_by_xpath('.//div[@class=\"fares-table-container\"]//tfoot//td[contains(@class, \"fare-\")]')\n",
    "tarifas"
   ]
  },
  {
   "cell_type": "code",
   "execution_count": 240,
   "metadata": {
    "scrolled": true,
    "tags": []
   },
   "outputs": [
    {
     "output_type": "execute_result",
     "data": {
      "text/plain": "[{'LIGHT': {'moneda': 'US$', 'valor': '42'}},\n {'PLUS': {'moneda': 'US$', 'valor': '55'}},\n {'TOP': {'moneda': 'US$', 'valor': '68'}}]"
     },
     "metadata": {},
     "execution_count": 240
    }
   ],
   "source": [
    "precios = []\n",
    "for tarifa in tarifas:\n",
    "    nombre = tarifa.find_element_by_xpath('.//label').get_attribute('for')\n",
    "    moneda = tarifa.find_element_by_xpath('.//span[@class=\"price\"]/span[@class=\"currency-symbol\"]').text\n",
    "    valor = tarifa.find_element_by_xpath('.//span[@class=\"price\"]/span[@class=\"value\"]').text \n",
    "    dict_tarifa={nombre:{'moneda':moneda, 'valor':valor}}\n",
    "    precios.append(dict_tarifa)\n",
    "precios"
   ]
  },
  {
   "source": [
    "Será de gran utilidad armar funciones que resuelvan la extracción de información de cada sección de la página. Por eso te propongo que armes 3 funciones de las cuales te dejo las estructuras:"
   ],
   "cell_type": "markdown",
   "metadata": {}
  },
  {
   "source": [
    "## RETO\n",
    "Armar funciones para obtener los datos de las escalas y las tarifas. \n",
    "Te dejo los prototipos:"
   ],
   "cell_type": "markdown",
   "metadata": {}
  },
  {
   "cell_type": "code",
   "execution_count": 194,
   "metadata": {},
   "outputs": [],
   "source": [
    "def obtener_tiempos(vuelo,dicc):\n",
    "    '''\n",
    "    Función que retorna un diccionario con los horarios de salida y llegada de cada\n",
    "    vuelo, incluyendo la duración. \n",
    "    Nota: la duración del vuelo no es la hora de llegada - la hora de salida porque\n",
    "    puede haber diferencia de horarios entre el origen y el destino.\n",
    "    '''\n",
    "    # Hora de salida\n",
    "    dicc['Hora_salida'] = vuelo.find_element_by_xpath('.//div[@class=\"departure\"]/time').get_attribute('datetime')\n",
    "    # Hora de llegada\n",
    "    dicc['Hora_llegada'] = vuelo.find_element_by_xpath('.//div[@class=\"arrival\"]/time').get_attribute('datetime')\n",
    "    # Duracion\n",
    "    dicc['duracion_viaje'] = vuelo.find_element_by_xpath('.//span[@class=\"duration\"]/time').get_attribute('datetime').replace('PT','')"
   ]
  },
  {
   "cell_type": "code",
   "execution_count": 195,
   "metadata": {},
   "outputs": [],
   "source": [
    "def segmentos_main(vuelo,dicc):\n",
    "    '''\n",
    "    Función que retorna una lista de diccionarios con la información de \n",
    "    las escalas de cada vuelo\n",
    "    '''\n",
    "    segmentos = vuelo.find_elements_by_xpath('//div[@class = \"sc-hZSUBg gfeULV\"]/div')  \n",
    "    for segmento in segmentos:\n",
    "        if segmento == segmentos[0]:\n",
    "            segmentos_func(segmento, 1, dicc)\n",
    "            aeropuertos = segmento.find_elements_by_xpath('.//div[@class=\"sc-esOvli iQSbOQ\"]/span')\n",
    "            aeropuertos_func(aeropuertos, 1, dicc)\n",
    "            aeropuertos_func(aeropuertos, 1, dicc)   \n",
    "        elif segmento == segmentos[2]:\n",
    "            segmentos_func(segmento, 2, dicc)\n",
    "            aeropuertos = segmento.find_elements_by_xpath('.//div[@class=\"sc-esOvli iQSbOQ\"]/span')\n",
    "            aeropuertos_func(aeropuertos,2, dicc)\n",
    "            aeropuertos_func(aeropuertos,2, dicc)\n",
    "        else:\n",
    "            dicc['Tiempo_Espera'] = segmento.find_element_by_xpath('.//span[@class=\"sc-esjQYD dMquDU\"]/time').get_attribute('datetime')"
   ]
  },
  {
   "cell_type": "code",
   "execution_count": 196,
   "metadata": {},
   "outputs": [],
   "source": [
    "def segmentos_func(segmento, escala, dicc):\n",
    "    # Duración del vuelo\n",
    "    dicc[f'Duracion_vuelo_{escala}'] = segmento.find_element_by_xpath('.//span[@class=\"sc-esjQYD dMquDU\"]/time').get_attribute('datetime')\n",
    "    # Nombre de la aerolinea\n",
    "    dicc[f'No_vuelo_{escala}'] = segmento.find_element_by_xpath('.//div[@class=\"airline-flight-details\"]/b').text\n",
    "    # Numero del vuelo  \n",
    "    dicc[f'Modelo_avion_{escala}'] = segmento.find_element_by_xpath('.//span[@class=\"sc-gzOgki uTyOl\"]').text"
   ]
  },
  {
   "cell_type": "code",
   "execution_count": 197,
   "metadata": {},
   "outputs": [],
   "source": [
    "def aeropuertos_func(aeropuertos, escala, dicc):\n",
    "    for aeropuerto in aeropuertos:\n",
    "        if aeropuerto == aeropuertos[1]:\n",
    "            dicc[f'Aeropuerto_Ori_{escala}'] = aeropuerto.find_element_by_xpath('.//span[@class=\"sc-eTuwsz eumCTU\"]/span[@class=\"sc-hXRMBi gVvErD\"]').text.replace(' Intl.','')\n",
    "            dicc[f'Aeropuerto_AbrOrig_{escala}'] = aeropuerto.find_element_by_xpath('.//div[@class=\"sc-bwCtUz iybVbT\"]/abbr').text\n",
    "            dicc[f'Hora_Salida_{escala}'] = aeropuerto.find_element_by_xpath('.//div[@class=\"sc-bwCtUz iybVbT\"]/time[@datetime]').get_attribute('datetime')  \n",
    "                        \n",
    "        elif aeropuerto == aeropuertos[3]:\n",
    "            dicc[f'Aeropuerto_Lleg_{escala}'] = aeropuerto.find_element_by_xpath('.//span[@class=\"sc-eTuwsz eumCTU\"]/span[@class=\"sc-hXRMBi gVvErD\"]').text.replace(' Intl.','')\n",
    "            dicc[f'Aeropuerto_AbrLleg_{escala}'] = aeropuerto.find_element_by_xpath('.//div[@class=\"sc-bwCtUz iybVbT\"]/abbr').text\n",
    "            dicc[f'Hora_Llegada_{escala}'] = aeropuerto.find_element_by_xpath('.//div[@class=\"sc-bwCtUz iybVbT\"]/time[@datetime]').get_attribute('datetime')  \n",
    "        \n",
    "        else:\n",
    "            continue"
   ]
  },
  {
   "cell_type": "code",
   "execution_count": 283,
   "metadata": {},
   "outputs": [],
   "source": [
    "def obtener_precios(vuelo,dicc):\n",
    "    '''\n",
    "    Función que retorna una lista de diccionarios con las distintas tarifas\n",
    "    '''\n",
    "    tarifas = vuelo.find_elements_by_xpath('.//div[@class=\"fares-table-container\"]//tfoot//td[contains(@class, \"fare-\")]')\n",
    "    \n",
    "    for tarifa in tarifas:\n",
    "        if tarifa == tarifas[0]:\n",
    "            obtener_tarifas(tarifa, 1, dicc)\n",
    "        elif tarifa == tarifas[1]:\n",
    "            obtener_tarifas(tarifa, 2, dicc)\n",
    "        else:\n",
    "            obtener_tarifas(tarifa, 3, dicc)"
   ]
  },
  {
   "cell_type": "code",
   "execution_count": 282,
   "metadata": {
    "tags": []
   },
   "outputs": [],
   "source": [
    "def obtener_tarifas(tarifa, tipo, dicc):\n",
    "    dicc[f'Categoría_{tipo}'] = tarifa.find_element_by_xpath('.//label').get_attribute('for')\n",
    "    dicc[f'Valor_USD{tipo}'] = tarifa.find_element_by_xpath('.//span[@class=\"price\"]/span[@class=\"value\"]').text "
   ]
  },
  {
   "source": [
    "## Clase 15\n",
    "Ya tenemos el scraper casi listo. Unifiquemos las 3 funciones de la clase anterior en una sola"
   ],
   "cell_type": "markdown",
   "metadata": {}
  },
  {
   "cell_type": "code",
   "execution_count": 284,
   "metadata": {},
   "outputs": [],
   "source": [
    "def obtener_info(driver):\n",
    "    vuelos = driver.find_elements_by_xpath('//li[@class=\"flight\"]')\n",
    "    print(f'Se encontraron {len(vuelos)} vuelos.')\n",
    "    print('Iniciando scraping...')\n",
    "    info = []\n",
    "    for vuelo in vuelos:\n",
    "        info_viaje = {}\n",
    "        # Obtenemos los tiempos generales del vuelo\n",
    "        tiempos = obtener_tiempos(vuelo,info_viaje)\n",
    "        # Clickeamos el botón de escalas para ver los detalles\n",
    "        vuelo.find_element_by_xpath('.//div[@class=\"flight-summary-stops-description\"]/button').click()\n",
    "        escalas = segmentos_main(vuelo, info_viaje)\n",
    "        # Cerramos el pop-up con los detalles\n",
    "        driver.find_element_by_xpath('//div[@class=\"modal-header sc-dnqmqq cGfTsx\"]//button[@class=\"close\"]').click()\n",
    "        # Clickeamos el vuelo para ver los precios\n",
    "        vuelo.click()\n",
    "        precios = obtener_precios(vuelo, info_viaje)\n",
    "        # Cerramos los precios del vuelo\n",
    "        vuelo.click()\n",
    "        info.append(info_viaje)\n",
    "    return info"
   ]
  },
  {
   "source": [
    "Ahora podemos cargar la página con el driver y pasárselo a esta función"
   ],
   "cell_type": "markdown",
   "metadata": {}
  },
  {
   "cell_type": "code",
   "execution_count": 44,
   "metadata": {
    "tags": []
   },
   "outputs": [
    {
     "output_type": "stream",
     "name": "stdout",
     "text": "Se encontraron 0 vuelos.\nIniciando scraping...\n"
    },
    {
     "output_type": "execute_result",
     "data": {
      "text/plain": "[]"
     },
     "metadata": {},
     "execution_count": 44
    }
   ],
   "source": [
    "driver = webdriver.Chrome(executable_path='C:\\dChrome\\chromedriver.exe', options=options)\n",
    "driver.get(url)\n",
    "obtener_info(driver)"
   ]
  },
  {
   "source": [
    "Se encontraron 0 vuelos porque la página no terminó de cargar\n",
    "\n",
    "Lo más simple que podemos hacer es agregar una demora fija lo suficientemente grande para asegurarnos que la página terminó de cargar."
   ],
   "cell_type": "markdown",
   "metadata": {}
  },
  {
   "cell_type": "code",
   "execution_count": 204,
   "metadata": {},
   "outputs": [],
   "source": [
    "import time"
   ]
  },
  {
   "cell_type": "code",
   "execution_count": 192,
   "metadata": {},
   "outputs": [],
   "source": [
    "options = webdriver.ChromeOptions()\n",
    "options.add_argument('--incognito')\n",
    "driver = webdriver.Chrome(executable_path='C:\\dChrome\\chromedriver.exe', options=options)\n",
    "driver.get(url)"
   ]
  },
  {
   "cell_type": "code",
   "execution_count": null,
   "metadata": {},
   "outputs": [],
   "source": [
    "time.sleep(10)"
   ]
  },
  {
   "cell_type": "code",
   "execution_count": null,
   "metadata": {},
   "outputs": [],
   "source": [
    "vuelos = driver.find_elements_by_xpath('//li[@class=\"flight\"]')\n",
    "vuelos"
   ]
  },
  {
   "cell_type": "code",
   "execution_count": null,
   "metadata": {},
   "outputs": [],
   "source": [
    "driver.close()"
   ]
  },
  {
   "source": [
    "Esto funciona pero no es muy eficiente. Lo mejor sería esperar a que la página termine de cargar y luego recuperar los elementos."
   ],
   "cell_type": "markdown",
   "metadata": {}
  },
  {
   "cell_type": "code",
   "execution_count": 285,
   "metadata": {},
   "outputs": [],
   "source": [
    "from selenium.webdriver.support.ui import WebDriverWait\n",
    "from selenium.webdriver.support import expected_conditions as EC\n",
    "from selenium.webdriver.common.by import By\n",
    "from selenium.common.exceptions import TimeoutException"
   ]
  },
  {
   "cell_type": "code",
   "execution_count": 286,
   "metadata": {
    "tags": []
   },
   "outputs": [],
   "source": [
    "def main():\n",
    "    options = webdriver.ChromeOptions()\n",
    "    options.add_argument('--incognito')\n",
    "    driver = webdriver.Chrome(executable_path='C:\\dChrome\\chromedriver.exe', options=options)\n",
    "    driver.get(url)\n",
    "    delay = 6\n",
    "    try:\n",
    "        vuelo = WebDriverWait(driver, delay).until(EC.presence_of_element_located((By.XPATH, '//li[@class=\"flight\"]')))\n",
    "        print(\"La página terminó de cargar\")\n",
    "        info_vuelos = obtener_info(driver)\n",
    "    except TimeoutException:\n",
    "        print(\"La página tardó demasiado en cargar\")\n",
    "    driver.close()\n",
    "    return info_vuelos"
   ]
  },
  {
   "cell_type": "code",
   "execution_count": 287,
   "metadata": {
    "tags": []
   },
   "outputs": [
    {
     "output_type": "stream",
     "name": "stdout",
     "text": "La página terminó de cargar\nSe encontraron 52 vuelos.\nIniciando scraping...\n"
    },
    {
     "output_type": "execute_result",
     "data": {
      "text/plain": "[{'Hora_salida': '07:15',\n  'Hora_llegada': '08:10',\n  'duracion_viaje': '55M',\n  'Duracion_vuelo_1': '0:55',\n  'No_vuelo_1': 'LA3807',\n  'Modelo_avion_1': 'Airbus 319',\n  'Aeropuerto_Ori_1': 'Guarulhos',\n  'Aeropuerto_AbrOrig_1': 'GRU',\n  'Hora_Salida_1': '07:15',\n  'Aeropuerto_Lleg_1': 'Santos Dumont',\n  'Aeropuerto_AbrLleg_1': 'SDU',\n  'Hora_Llegada_1': '08:10',\n  'Categoría_1': 'LIGHT',\n  'Valor_USD1': '',\n  'Categoría_2': 'PLUS',\n  'Valor_USD2': '',\n  'Categoría_3': 'TOP',\n  'Valor_USD3': ''},\n {'Hora_salida': '08:15',\n  'Hora_llegada': '09:10',\n  'duracion_viaje': '55M',\n  'Duracion_vuelo_1': '0:55',\n  'No_vuelo_1': 'LA3910',\n  'Modelo_avion_1': 'Airbus 319',\n  'Aeropuerto_Ori_1': 'Guarulhos',\n  'Aeropuerto_AbrOrig_1': 'GRU',\n  'Hora_Salida_1': '08:15',\n  'Aeropuerto_Lleg_1': 'Santos Dumont',\n  'Aeropuerto_AbrLleg_1': 'SDU',\n  'Hora_Llegada_1': '09:10',\n  'Categoría_1': 'LIGHT',\n  'Valor_USD1': '',\n  'Categoría_2': 'PLUS',\n  'Valor_USD2': '55',\n  'Categoría_3': 'TOP',\n  'Valor_USD3': '68'},\n {'Hora_salida': '11:55',\n  'Hora_llegada': '12:50',\n  'duracion_viaje': '55M',\n  'Duracion_vuelo_1': '0:55',\n  'No_vuelo_1': 'LA3070',\n  'Modelo_avion_1': 'Airbus 319',\n  'Aeropuerto_Ori_1': 'Guarulhos',\n  'Aeropuerto_AbrOrig_1': 'GRU',\n  'Hora_Salida_1': '11:55',\n  'Aeropuerto_Lleg_1': 'Santos Dumont',\n  'Aeropuerto_AbrLleg_1': 'SDU',\n  'Hora_Llegada_1': '12:50',\n  'Categoría_1': 'LIGHT',\n  'Valor_USD1': '',\n  'Categoría_2': 'PLUS',\n  'Valor_USD2': '',\n  'Categoría_3': 'TOP',\n  'Valor_USD3': '313'},\n {'Hora_salida': '19:20',\n  'Hora_llegada': '20:15',\n  'duracion_viaje': '55M',\n  'Duracion_vuelo_1': '0:55',\n  'No_vuelo_1': 'LA3236',\n  'Modelo_avion_1': 'Airbus 319',\n  'Aeropuerto_Ori_1': 'Guarulhos',\n  'Aeropuerto_AbrOrig_1': 'GRU',\n  'Hora_Salida_1': '19:20',\n  'Aeropuerto_Lleg_1': 'Santos Dumont',\n  'Aeropuerto_AbrLleg_1': 'SDU',\n  'Hora_Llegada_1': '20:15',\n  'Categoría_1': 'LIGHT',\n  'Valor_USD1': '',\n  'Categoría_2': 'PLUS',\n  'Valor_USD2': '',\n  'Categoría_3': 'TOP',\n  'Valor_USD3': '68'},\n {'Hora_salida': '13:00',\n  'Hora_llegada': '14:00',\n  'duracion_viaje': '1H',\n  'Duracion_vuelo_1': '1:0',\n  'No_vuelo_1': 'LA3614',\n  'Modelo_avion_1': 'Airbus 319',\n  'Aeropuerto_Ori_1': 'Guarulhos',\n  'Aeropuerto_AbrOrig_1': 'GRU',\n  'Hora_Salida_1': '13:00',\n  'Aeropuerto_Lleg_1': 'Santos Dumont',\n  'Aeropuerto_AbrLleg_1': 'SDU',\n  'Hora_Llegada_1': '14:00',\n  'Categoría_1': 'LIGHT',\n  'Valor_USD1': '42',\n  'Categoría_2': 'PLUS',\n  'Valor_USD2': '55',\n  'Categoría_3': 'TOP',\n  'Valor_USD3': '68'},\n {'Hora_salida': '18:25',\n  'Hora_llegada': '19:25',\n  'duracion_viaje': '1H',\n  'Duracion_vuelo_1': '1:0',\n  'No_vuelo_1': 'LA3113',\n  'Modelo_avion_1': 'Airbus 320-200',\n  'Aeropuerto_Ori_1': 'Guarulhos',\n  'Aeropuerto_AbrOrig_1': 'GRU',\n  'Hora_Salida_1': '18:25',\n  'Aeropuerto_Lleg_1': 'Galeao',\n  'Aeropuerto_AbrLleg_1': 'GIG',\n  'Hora_Llegada_1': '19:25',\n  'Categoría_1': 'LIGHT',\n  'Valor_USD1': '',\n  'Categoría_2': 'PLUS',\n  'Valor_USD2': '',\n  'Categoría_3': 'TOP',\n  'Valor_USD3': '67'},\n {'Hora_salida': '07:10',\n  'Hora_llegada': '08:15',\n  'duracion_viaje': '1H5M',\n  'Duracion_vuelo_1': '1:5',\n  'No_vuelo_1': 'LA3906',\n  'Modelo_avion_1': 'Airbus 319',\n  'Aeropuerto_Ori_1': 'Congonhas',\n  'Aeropuerto_AbrOrig_1': 'CGH',\n  'Hora_Salida_1': '07:10',\n  'Aeropuerto_Lleg_1': 'Santos Dumont',\n  'Aeropuerto_AbrLleg_1': 'SDU',\n  'Hora_Llegada_1': '08:15',\n  'Categoría_1': 'LIGHT',\n  'Valor_USD1': '',\n  'Categoría_2': 'PLUS',\n  'Valor_USD2': '',\n  'Categoría_3': 'TOP',\n  'Valor_USD3': '69'},\n {'Hora_salida': '09:00',\n  'Hora_llegada': '10:05',\n  'duracion_viaje': '1H5M',\n  'Duracion_vuelo_1': '1:5',\n  'No_vuelo_1': 'LA3912',\n  'Modelo_avion_1': 'Airbus 319',\n  'Aeropuerto_Ori_1': 'Congonhas',\n  'Aeropuerto_AbrOrig_1': 'CGH',\n  'Hora_Salida_1': '09:00',\n  'Aeropuerto_Lleg_1': 'Santos Dumont',\n  'Aeropuerto_AbrLleg_1': 'SDU',\n  'Hora_Llegada_1': '10:05',\n  'Categoría_1': 'LIGHT',\n  'Valor_USD1': '',\n  'Categoría_2': 'PLUS',\n  'Valor_USD2': '',\n  'Categoría_3': 'TOP',\n  'Valor_USD3': '69'},\n {'Hora_salida': '11:00',\n  'Hora_llegada': '12:05',\n  'duracion_viaje': '1H5M',\n  'Duracion_vuelo_1': '1:5',\n  'No_vuelo_1': 'LA3920',\n  'Modelo_avion_1': 'Airbus 319',\n  'Aeropuerto_Ori_1': 'Congonhas',\n  'Aeropuerto_AbrOrig_1': 'CGH',\n  'Hora_Salida_1': '11:00',\n  'Aeropuerto_Lleg_1': 'Santos Dumont',\n  'Aeropuerto_AbrLleg_1': 'SDU',\n  'Hora_Llegada_1': '12:05',\n  'Categoría_1': 'LIGHT',\n  'Valor_USD1': '',\n  'Categoría_2': 'PLUS',\n  'Valor_USD2': '',\n  'Categoría_3': 'TOP',\n  'Valor_USD3': '69'},\n {'Hora_salida': '12:00',\n  'Hora_llegada': '13:05',\n  'duracion_viaje': '1H5M',\n  'Duracion_vuelo_1': '1:5',\n  'No_vuelo_1': 'LA9208',\n  'Modelo_avion_1': 'Airbus 319',\n  'Aeropuerto_Ori_1': 'Congonhas',\n  'Aeropuerto_AbrOrig_1': 'CGH',\n  'Hora_Salida_1': '12:00',\n  'Aeropuerto_Lleg_1': 'Santos Dumont',\n  'Aeropuerto_AbrLleg_1': 'SDU',\n  'Hora_Llegada_1': '13:05',\n  'Categoría_1': 'LIGHT',\n  'Valor_USD1': '',\n  'Categoría_2': 'PLUS',\n  'Valor_USD2': '',\n  'Categoría_3': 'TOP',\n  'Valor_USD3': ''},\n {'Hora_salida': '13:05',\n  'Hora_llegada': '14:10',\n  'duracion_viaje': '1H5M',\n  'Duracion_vuelo_1': '1:5',\n  'No_vuelo_1': 'LA4786',\n  'Modelo_avion_1': 'Airbus 319',\n  'Aeropuerto_Ori_1': 'Congonhas',\n  'Aeropuerto_AbrOrig_1': 'CGH',\n  'Hora_Salida_1': '13:05',\n  'Aeropuerto_Lleg_1': 'Santos Dumont',\n  'Aeropuerto_AbrLleg_1': 'SDU',\n  'Hora_Llegada_1': '14:10',\n  'Categoría_1': 'LIGHT',\n  'Valor_USD1': '',\n  'Categoría_2': 'PLUS',\n  'Valor_USD2': '',\n  'Categoría_3': 'TOP',\n  'Valor_USD3': '69'},\n {'Hora_salida': '14:00',\n  'Hora_llegada': '15:05',\n  'duracion_viaje': '1H5M',\n  'Duracion_vuelo_1': '1:5',\n  'No_vuelo_1': 'LA3934',\n  'Modelo_avion_1': 'Airbus 319',\n  'Aeropuerto_Ori_1': 'Congonhas',\n  'Aeropuerto_AbrOrig_1': 'CGH',\n  'Hora_Salida_1': '14:00',\n  'Aeropuerto_Lleg_1': 'Santos Dumont',\n  'Aeropuerto_AbrLleg_1': 'SDU',\n  'Hora_Llegada_1': '15:05',\n  'Categoría_1': 'LIGHT',\n  'Valor_USD1': '',\n  'Categoría_2': 'PLUS',\n  'Valor_USD2': '',\n  'Categoría_3': 'TOP',\n  'Valor_USD3': ''},\n {'Hora_salida': '18:00',\n  'Hora_llegada': '19:05',\n  'duracion_viaje': '1H5M',\n  'Duracion_vuelo_1': '1:5',\n  'No_vuelo_1': 'LA3948',\n  'Modelo_avion_1': 'Airbus 319',\n  'Aeropuerto_Ori_1': 'Congonhas',\n  'Aeropuerto_AbrOrig_1': 'CGH',\n  'Hora_Salida_1': '18:00',\n  'Aeropuerto_Lleg_1': 'Santos Dumont',\n  'Aeropuerto_AbrLleg_1': 'SDU',\n  'Hora_Llegada_1': '19:05',\n  'Categoría_1': 'LIGHT',\n  'Valor_USD1': '',\n  'Categoría_2': 'PLUS',\n  'Valor_USD2': '',\n  'Categoría_3': 'TOP',\n  'Valor_USD3': ''},\n {'Hora_salida': '23:00',\n  'Hora_llegada': '00:05',\n  'duracion_viaje': '1H5M',\n  'Duracion_vuelo_1': '1:5',\n  'No_vuelo_1': 'LA3181',\n  'Modelo_avion_1': 'Airbus 320-200',\n  'Aeropuerto_Ori_1': 'Guarulhos',\n  'Aeropuerto_AbrOrig_1': 'GRU',\n  'Hora_Salida_1': '23:00',\n  'Aeropuerto_Lleg_1': 'Galeao',\n  'Aeropuerto_AbrLleg_1': 'GIG',\n  'Hora_Llegada_1': '00:05',\n  'Categoría_1': 'LIGHT',\n  'Valor_USD1': '',\n  'Categoría_2': 'PLUS',\n  'Valor_USD2': '',\n  'Categoría_3': 'TOP',\n  'Valor_USD3': '67'},\n {'Hora_salida': '07:15',\n  'Hora_llegada': '11:35',\n  'duracion_viaje': '4H20M',\n  'Duracion_vuelo_1': '1:45',\n  'No_vuelo_1': 'LA3526',\n  'Modelo_avion_1': 'Airbus 320-200',\n  'Aeropuerto_Ori_1': 'Congonhas',\n  'Aeropuerto_AbrOrig_1': 'CGH',\n  'Hora_Salida_1': '07:15',\n  'Aeropuerto_Lleg_1': 'Brasilia',\n  'Aeropuerto_AbrLleg_1': 'BSB',\n  'Hora_Llegada_1': '09:00',\n  'Tiempo_Espera': '0:45',\n  'Duracion_vuelo_2': '1:50',\n  'No_vuelo_2': 'LA3457',\n  'Modelo_avion_2': 'Airbus 319',\n  'Aeropuerto_Ori_2': 'Brasilia',\n  'Aeropuerto_AbrOrig_2': 'BSB',\n  'Hora_Salida_2': '09:45',\n  'Aeropuerto_Lleg_2': 'Santos Dumont',\n  'Aeropuerto_AbrLleg_2': 'SDU',\n  'Hora_Llegada_2': '11:35',\n  'Categoría_1': 'LIGHT',\n  'Valor_USD1': '',\n  'Categoría_2': 'PLUS',\n  'Valor_USD2': '1111',\n  'Categoría_3': 'TOP',\n  'Valor_USD3': '1116'},\n {'Hora_salida': '18:05',\n  'Hora_llegada': '22:25',\n  'duracion_viaje': '4H20M',\n  'Duracion_vuelo_1': '1:40',\n  'No_vuelo_1': 'LA4689',\n  'Modelo_avion_1': 'Airbus 319',\n  'Aeropuerto_Ori_1': 'Guarulhos',\n  'Aeropuerto_AbrOrig_1': 'GRU',\n  'Hora_Salida_1': '18:05',\n  'Aeropuerto_Lleg_1': 'Brasilia',\n  'Aeropuerto_AbrLleg_1': 'BSB',\n  'Hora_Llegada_1': '19:45',\n  'Tiempo_Espera': '0:50',\n  'Duracion_vuelo_2': '1:50',\n  'No_vuelo_2': 'LA3939',\n  'Modelo_avion_2': 'Airbus 319',\n  'Aeropuerto_Ori_2': 'Brasilia',\n  'Aeropuerto_AbrOrig_2': 'BSB',\n  'Hora_Salida_2': '20:35',\n  'Aeropuerto_Lleg_2': 'Santos Dumont',\n  'Aeropuerto_AbrLleg_2': 'SDU',\n  'Hora_Llegada_2': '22:25',\n  'Categoría_1': 'LIGHT',\n  'Valor_USD1': '',\n  'Categoría_2': 'PLUS',\n  'Valor_USD2': '1110',\n  'Categoría_3': 'TOP',\n  'Valor_USD3': '1115'},\n {'Hora_salida': '18:05',\n  'Hora_llegada': '22:35',\n  'duracion_viaje': '4H30M',\n  'Duracion_vuelo_1': '1:40',\n  'No_vuelo_1': 'LA4689',\n  'Modelo_avion_1': 'Airbus 319',\n  'Aeropuerto_Ori_1': 'Guarulhos',\n  'Aeropuerto_AbrOrig_1': 'GRU',\n  'Hora_Salida_1': '18:05',\n  'Aeropuerto_Lleg_1': 'Brasilia',\n  'Aeropuerto_AbrLleg_1': 'BSB',\n  'Hora_Llegada_1': '19:45',\n  'Tiempo_Espera': '1:5',\n  'Duracion_vuelo_2': '1:45',\n  'No_vuelo_2': 'LA3445',\n  'Modelo_avion_2': 'Airbus 320-200',\n  'Aeropuerto_Ori_2': 'Brasilia',\n  'Aeropuerto_AbrOrig_2': 'BSB',\n  'Hora_Salida_2': '20:50',\n  'Aeropuerto_Lleg_2': 'Galeao',\n  'Aeropuerto_AbrLleg_2': 'GIG',\n  'Hora_Llegada_2': '22:35',\n  'Categoría_1': 'LIGHT',\n  'Valor_USD1': '',\n  'Categoría_2': 'PLUS',\n  'Valor_USD2': '',\n  'Categoría_3': 'TOP',\n  'Valor_USD3': '1115'},\n {'Hora_salida': '17:50',\n  'Hora_llegada': '22:25',\n  'duracion_viaje': '4H35M',\n  'Duracion_vuelo_1': '1:45',\n  'No_vuelo_1': 'LA3004',\n  'Modelo_avion_1': 'Airbus 319',\n  'Aeropuerto_Ori_1': 'Congonhas',\n  'Aeropuerto_AbrOrig_1': 'CGH',\n  'Hora_Salida_1': '17:50',\n  'Aeropuerto_Lleg_1': 'Brasilia',\n  'Aeropuerto_AbrLleg_1': 'BSB',\n  'Hora_Llegada_1': '19:35',\n  'Tiempo_Espera': '1:0',\n  'Duracion_vuelo_2': '1:50',\n  'No_vuelo_2': 'LA3939',\n  'Modelo_avion_2': 'Airbus 319',\n  'Aeropuerto_Ori_2': 'Brasilia',\n  'Aeropuerto_AbrOrig_2': 'BSB',\n  'Hora_Salida_2': '20:35',\n  'Aeropuerto_Lleg_2': 'Santos Dumont',\n  'Aeropuerto_AbrLleg_2': 'SDU',\n  'Hora_Llegada_2': '22:25',\n  'Categoría_1': 'LIGHT',\n  'Valor_USD1': '',\n  'Categoría_2': 'PLUS',\n  'Valor_USD2': '',\n  'Categoría_3': 'TOP',\n  'Valor_USD3': '1116'},\n {'Hora_salida': '06:55',\n  'Hora_llegada': '11:35',\n  'duracion_viaje': '4H40M',\n  'Duracion_vuelo_1': '1:40',\n  'No_vuelo_1': 'LA3234',\n  'Modelo_avion_1': 'Airbus 320-200',\n  'Aeropuerto_Ori_1': 'Guarulhos',\n  'Aeropuerto_AbrOrig_1': 'GRU',\n  'Hora_Salida_1': '06:55',\n  'Aeropuerto_Lleg_1': 'Brasilia',\n  'Aeropuerto_AbrLleg_1': 'BSB',\n  'Hora_Llegada_1': '08:35',\n  'Tiempo_Espera': '1:10',\n  'Duracion_vuelo_2': '1:50',\n  'No_vuelo_2': 'LA3457',\n  'Modelo_avion_2': 'Airbus 319',\n  'Aeropuerto_Ori_2': 'Brasilia',\n  'Aeropuerto_AbrOrig_2': 'BSB',\n  'Hora_Salida_2': '09:45',\n  'Aeropuerto_Lleg_2': 'Santos Dumont',\n  'Aeropuerto_AbrLleg_2': 'SDU',\n  'Hora_Llegada_2': '11:35',\n  'Categoría_1': 'LIGHT',\n  'Valor_USD1': '',\n  'Categoría_2': 'PLUS',\n  'Valor_USD2': '1110',\n  'Categoría_3': 'TOP',\n  'Valor_USD3': '1115'},\n {'Hora_salida': '17:50',\n  'Hora_llegada': '22:35',\n  'duracion_viaje': '4H45M',\n  'Duracion_vuelo_1': '1:45',\n  'No_vuelo_1': 'LA3004',\n  'Modelo_avion_1': 'Airbus 319',\n  'Aeropuerto_Ori_1': 'Congonhas',\n  'Aeropuerto_AbrOrig_1': 'CGH',\n  'Hora_Salida_1': '17:50',\n  'Aeropuerto_Lleg_1': 'Brasilia',\n  'Aeropuerto_AbrLleg_1': 'BSB',\n  'Hora_Llegada_1': '19:35',\n  'Tiempo_Espera': '1:15',\n  'Duracion_vuelo_2': '1:45',\n  'No_vuelo_2': 'LA3445',\n  'Modelo_avion_2': 'Airbus 320-200',\n  'Aeropuerto_Ori_2': 'Brasilia',\n  'Aeropuerto_AbrOrig_2': 'BSB',\n  'Hora_Salida_2': '20:50',\n  'Aeropuerto_Lleg_2': 'Galeao',\n  'Aeropuerto_AbrLleg_2': 'GIG',\n  'Hora_Llegada_2': '22:35',\n  'Categoría_1': 'LIGHT',\n  'Valor_USD1': '',\n  'Categoría_2': 'PLUS',\n  'Valor_USD2': '',\n  'Categoría_3': 'TOP',\n  'Valor_USD3': '1116'},\n {'Hora_salida': '15:30',\n  'Hora_llegada': '20:20',\n  'duracion_viaje': '4H50M',\n  'Duracion_vuelo_1': '1:45',\n  'No_vuelo_1': 'LA3710',\n  'Modelo_avion_1': 'Airbus 319',\n  'Aeropuerto_Ori_1': 'Congonhas',\n  'Aeropuerto_AbrOrig_1': 'CGH',\n  'Hora_Salida_1': '15:30',\n  'Aeropuerto_Lleg_1': 'Brasilia',\n  'Aeropuerto_AbrLleg_1': 'BSB',\n  'Hora_Llegada_1': '17:15',\n  'Tiempo_Espera': '1:15',\n  'Duracion_vuelo_2': '1:50',\n  'No_vuelo_2': 'LA3027',\n  'Modelo_avion_2': 'Airbus 319',\n  'Aeropuerto_Ori_2': 'Brasilia',\n  'Aeropuerto_AbrOrig_2': 'BSB',\n  'Hora_Salida_2': '18:30',\n  'Aeropuerto_Lleg_2': 'Santos Dumont',\n  'Aeropuerto_AbrLleg_2': 'SDU',\n  'Hora_Llegada_2': '20:20',\n  'Categoría_1': 'LIGHT',\n  'Valor_USD1': '',\n  'Categoría_2': 'PLUS',\n  'Valor_USD2': '',\n  'Categoría_3': 'TOP',\n  'Valor_USD3': '1116'},\n {'Hora_salida': '06:30',\n  'Hora_llegada': '11:35',\n  'duracion_viaje': '5H5M',\n  'Duracion_vuelo_1': '1:45',\n  'No_vuelo_1': 'LA9206',\n  'Modelo_avion_1': 'Airbus 319',\n  'Aeropuerto_Ori_1': 'Congonhas',\n  'Aeropuerto_AbrOrig_1': 'CGH',\n  'Hora_Salida_1': '06:30',\n  'Aeropuerto_Lleg_1': 'Brasilia',\n  'Aeropuerto_AbrLleg_1': 'BSB',\n  'Hora_Llegada_1': '08:15',\n  'Tiempo_Espera': '1:30',\n  'Duracion_vuelo_2': '1:50',\n  'No_vuelo_2': 'LA3457',\n  'Modelo_avion_2': 'Airbus 319',\n  'Aeropuerto_Ori_2': 'Brasilia',\n  'Aeropuerto_AbrOrig_2': 'BSB',\n  'Hora_Salida_2': '09:45',\n  'Aeropuerto_Lleg_2': 'Santos Dumont',\n  'Aeropuerto_AbrLleg_2': 'SDU',\n  'Hora_Llegada_2': '11:35',\n  'Categoría_1': 'LIGHT',\n  'Valor_USD1': '',\n  'Categoría_2': 'PLUS',\n  'Valor_USD2': '1111',\n  'Categoría_3': 'TOP',\n  'Valor_USD3': '1116'},\n {'Hora_salida': '15:30',\n  'Hora_llegada': '22:25',\n  'duracion_viaje': '6H55M',\n  'Duracion_vuelo_1': '1:45',\n  'No_vuelo_1': 'LA3710',\n  'Modelo_avion_1': 'Airbus 319',\n  'Aeropuerto_Ori_1': 'Congonhas',\n  'Aeropuerto_AbrOrig_1': 'CGH',\n  'Hora_Salida_1': '15:30',\n  'Aeropuerto_Lleg_1': 'Brasilia',\n  'Aeropuerto_AbrLleg_1': 'BSB',\n  'Hora_Llegada_1': '17:15',\n  'Tiempo_Espera': '3:20',\n  'Duracion_vuelo_2': '1:50',\n  'No_vuelo_2': 'LA3939',\n  'Modelo_avion_2': 'Airbus 319',\n  'Aeropuerto_Ori_2': 'Brasilia',\n  'Aeropuerto_AbrOrig_2': 'BSB',\n  'Hora_Salida_2': '20:35',\n  'Aeropuerto_Lleg_2': 'Santos Dumont',\n  'Aeropuerto_AbrLleg_2': 'SDU',\n  'Hora_Llegada_2': '22:25',\n  'Categoría_1': 'LIGHT',\n  'Valor_USD1': '',\n  'Categoría_2': 'PLUS',\n  'Valor_USD2': '',\n  'Categoría_3': 'TOP',\n  'Valor_USD3': '1116'},\n {'Hora_salida': '15:30',\n  'Hora_llegada': '22:35',\n  'duracion_viaje': '7H5M',\n  'Duracion_vuelo_1': '1:45',\n  'No_vuelo_1': 'LA3710',\n  'Modelo_avion_1': 'Airbus 319',\n  'Aeropuerto_Ori_1': 'Congonhas',\n  'Aeropuerto_AbrOrig_1': 'CGH',\n  'Hora_Salida_1': '15:30',\n  'Aeropuerto_Lleg_1': 'Brasilia',\n  'Aeropuerto_AbrLleg_1': 'BSB',\n  'Hora_Llegada_1': '17:15',\n  'Tiempo_Espera': '3:35',\n  'Duracion_vuelo_2': '1:45',\n  'No_vuelo_2': 'LA3445',\n  'Modelo_avion_2': 'Airbus 320-200',\n  'Aeropuerto_Ori_2': 'Brasilia',\n  'Aeropuerto_AbrOrig_2': 'BSB',\n  'Hora_Salida_2': '20:50',\n  'Aeropuerto_Lleg_2': 'Galeao',\n  'Aeropuerto_AbrLleg_2': 'GIG',\n  'Hora_Llegada_2': '22:35',\n  'Categoría_1': 'LIGHT',\n  'Valor_USD1': '',\n  'Categoría_2': 'PLUS',\n  'Valor_USD2': '',\n  'Categoría_3': 'TOP',\n  'Valor_USD3': ''},\n {'Hora_salida': '13:00',\n  'Hora_llegada': '20:20',\n  'duracion_viaje': '7H20M',\n  'Duracion_vuelo_1': '1:35',\n  'No_vuelo_1': 'LA3692',\n  'Modelo_avion_1': 'Airbus 320-200',\n  'Aeropuerto_Ori_1': 'Guarulhos',\n  'Aeropuerto_AbrOrig_1': 'GRU',\n  'Hora_Salida_1': '13:00',\n  'Aeropuerto_Lleg_1': 'Brasilia',\n  'Aeropuerto_AbrLleg_1': 'BSB',\n  'Hora_Llegada_1': '14:35',\n  'Tiempo_Espera': '3:55',\n  'Duracion_vuelo_2': '1:50',\n  'No_vuelo_2': 'LA3027',\n  'Modelo_avion_2': 'Airbus 319',\n  'Aeropuerto_Ori_2': 'Brasilia',\n  'Aeropuerto_AbrOrig_2': 'BSB',\n  'Hora_Salida_2': '18:30',\n  'Aeropuerto_Lleg_2': 'Santos Dumont',\n  'Aeropuerto_AbrLleg_2': 'SDU',\n  'Hora_Llegada_2': '20:20',\n  'Categoría_1': 'LIGHT',\n  'Valor_USD1': '',\n  'Categoría_2': 'PLUS',\n  'Valor_USD2': '',\n  'Categoría_3': 'TOP',\n  'Valor_USD3': '1115'},\n {'Hora_salida': '12:40',\n  'Hora_llegada': '20:20',\n  'duracion_viaje': '7H40M',\n  'Duracion_vuelo_1': '1:45',\n  'No_vuelo_1': 'LA3706',\n  'Modelo_avion_1': 'Airbus 320-200',\n  'Aeropuerto_Ori_1': 'Congonhas',\n  'Aeropuerto_AbrOrig_1': 'CGH',\n  'Hora_Salida_1': '12:40',\n  'Aeropuerto_Lleg_1': 'Brasilia',\n  'Aeropuerto_AbrLleg_1': 'BSB',\n  'Hora_Llegada_1': '14:25',\n  'Tiempo_Espera': '4:5',\n  'Duracion_vuelo_2': '1:50',\n  'No_vuelo_2': 'LA3027',\n  'Modelo_avion_2': 'Airbus 319',\n  'Aeropuerto_Ori_2': 'Brasilia',\n  'Aeropuerto_AbrOrig_2': 'BSB',\n  'Hora_Salida_2': '18:30',\n  'Aeropuerto_Lleg_2': 'Santos Dumont',\n  'Aeropuerto_AbrLleg_2': 'SDU',\n  'Hora_Llegada_2': '20:20',\n  'Categoría_1': 'LIGHT',\n  'Valor_USD1': '',\n  'Categoría_2': 'PLUS',\n  'Valor_USD2': '',\n  'Categoría_3': 'TOP',\n  'Valor_USD3': '1116'},\n {'Hora_salida': '07:00',\n  'Hora_llegada': '15:05',\n  'duracion_viaje': '8H5M',\n  'Duracion_vuelo_1': '1:25',\n  'No_vuelo_1': 'LA4684',\n  'Modelo_avion_1': 'Airbus 319',\n  'Aeropuerto_Ori_1': 'Guarulhos',\n  'Aeropuerto_AbrOrig_1': 'GRU',\n  'Hora_Salida_1': '07:00',\n  'Aeropuerto_Lleg_1': 'Eurico de Aguiar Salles',\n  'Aeropuerto_AbrLleg_1': 'VIX',\n  'Hora_Llegada_1': '08:25',\n  'Tiempo_Espera': '5:35',\n  'Duracion_vuelo_2': '1:5',\n  'No_vuelo_2': 'LA3624',\n  'Modelo_avion_2': 'Airbus 319',\n  'Aeropuerto_Ori_2': 'Eurico de Aguiar Salles',\n  'Aeropuerto_AbrOrig_2': 'VIX',\n  'Hora_Salida_2': '14:00',\n  'Aeropuerto_Lleg_2': 'Santos Dumont',\n  'Aeropuerto_AbrLleg_2': 'SDU',\n  'Hora_Llegada_2': '15:05',\n  'Categoría_1': 'LIGHT',\n  'Valor_USD1': '',\n  'Categoría_2': 'PLUS',\n  'Valor_USD2': '',\n  'Categoría_3': 'TOP',\n  'Valor_USD3': '1115'},\n {'Hora_salida': '11:55',\n  'Hora_llegada': '20:20',\n  'duracion_viaje': '8H25M',\n  'Duracion_vuelo_1': '1:35',\n  'No_vuelo_1': 'LA4510',\n  'Modelo_avion_1': 'Airbus 320-200',\n  'Aeropuerto_Ori_1': 'Guarulhos',\n  'Aeropuerto_AbrOrig_1': 'GRU',\n  'Hora_Salida_1': '11:55',\n  'Aeropuerto_Lleg_1': 'Brasilia',\n  'Aeropuerto_AbrLleg_1': 'BSB',\n  'Hora_Llegada_1': '13:30',\n  'Tiempo_Espera': '5:0',\n  'Duracion_vuelo_2': '1:50',\n  'No_vuelo_2': 'LA3027',\n  'Modelo_avion_2': 'Airbus 319',\n  'Aeropuerto_Ori_2': 'Brasilia',\n  'Aeropuerto_AbrOrig_2': 'BSB',\n  'Hora_Salida_2': '18:30',\n  'Aeropuerto_Lleg_2': 'Santos Dumont',\n  'Aeropuerto_AbrLleg_2': 'SDU',\n  'Hora_Llegada_2': '20:20',\n  'Categoría_1': 'LIGHT',\n  'Valor_USD1': '',\n  'Categoría_2': 'PLUS',\n  'Valor_USD2': '1110',\n  'Categoría_3': 'TOP',\n  'Valor_USD3': '1115'},\n {'Hora_salida': '11:00',\n  'Hora_llegada': '20:20',\n  'duracion_viaje': '9H20M',\n  'Duracion_vuelo_1': '1:50',\n  'No_vuelo_1': 'LA3306',\n  'Modelo_avion_1': 'Airbus 319',\n  'Aeropuerto_Ori_1': 'Congonhas',\n  'Aeropuerto_AbrOrig_1': 'CGH',\n  'Hora_Salida_1': '11:00',\n  'Aeropuerto_Lleg_1': 'Brasilia',\n  'Aeropuerto_AbrLleg_1': 'BSB',\n  'Hora_Llegada_1': '12:50',\n  'Tiempo_Espera': '5:40',\n  'Duracion_vuelo_2': '1:50',\n  'No_vuelo_2': 'LA3027',\n  'Modelo_avion_2': 'Airbus 319',\n  'Aeropuerto_Ori_2': 'Brasilia',\n  'Aeropuerto_AbrOrig_2': 'BSB',\n  'Hora_Salida_2': '18:30',\n  'Aeropuerto_Lleg_2': 'Santos Dumont',\n  'Aeropuerto_AbrLleg_2': 'SDU',\n  'Hora_Llegada_2': '20:20',\n  'Categoría_1': 'LIGHT',\n  'Valor_USD1': '',\n  'Categoría_2': 'PLUS',\n  'Valor_USD2': '',\n  'Categoría_3': 'TOP',\n  'Valor_USD3': '1116'},\n {'Hora_salida': '13:00',\n  'Hora_llegada': '22:25',\n  'duracion_viaje': '9H25M',\n  'Duracion_vuelo_1': '1:35',\n  'No_vuelo_1': 'LA3692',\n  'Modelo_avion_1': 'Airbus 320-200',\n  'Aeropuerto_Ori_1': 'Guarulhos',\n  'Aeropuerto_AbrOrig_1': 'GRU',\n  'Hora_Salida_1': '13:00',\n  'Aeropuerto_Lleg_1': 'Brasilia',\n  'Aeropuerto_AbrLleg_1': 'BSB',\n  'Hora_Llegada_1': '14:35',\n  'Tiempo_Espera': '6:0',\n  'Duracion_vuelo_2': '1:50',\n  'No_vuelo_2': 'LA3939',\n  'Modelo_avion_2': 'Airbus 319',\n  'Aeropuerto_Ori_2': 'Brasilia',\n  'Aeropuerto_AbrOrig_2': 'BSB',\n  'Hora_Salida_2': '20:35',\n  'Aeropuerto_Lleg_2': 'Santos Dumont',\n  'Aeropuerto_AbrLleg_2': 'SDU',\n  'Hora_Llegada_2': '22:25',\n  'Categoría_1': 'LIGHT',\n  'Valor_USD1': '',\n  'Categoría_2': 'PLUS',\n  'Valor_USD2': '',\n  'Categoría_3': 'TOP',\n  'Valor_USD3': '1115'},\n {'Hora_salida': '13:00',\n  'Hora_llegada': '22:35',\n  'duracion_viaje': '9H35M',\n  'Duracion_vuelo_1': '1:35',\n  'No_vuelo_1': 'LA3692',\n  'Modelo_avion_1': 'Airbus 320-200',\n  'Aeropuerto_Ori_1': 'Guarulhos',\n  'Aeropuerto_AbrOrig_1': 'GRU',\n  'Hora_Salida_1': '13:00',\n  'Aeropuerto_Lleg_1': 'Brasilia',\n  'Aeropuerto_AbrLleg_1': 'BSB',\n  'Hora_Llegada_1': '14:35',\n  'Tiempo_Espera': '6:15',\n  'Duracion_vuelo_2': '1:45',\n  'No_vuelo_2': 'LA3445',\n  'Modelo_avion_2': 'Airbus 320-200',\n  'Aeropuerto_Ori_2': 'Brasilia',\n  'Aeropuerto_AbrOrig_2': 'BSB',\n  'Hora_Salida_2': '20:50',\n  'Aeropuerto_Lleg_2': 'Galeao',\n  'Aeropuerto_AbrLleg_2': 'GIG',\n  'Hora_Llegada_2': '22:35',\n  'Categoría_1': 'LIGHT',\n  'Valor_USD1': '',\n  'Categoría_2': 'PLUS',\n  'Valor_USD2': '1110',\n  'Categoría_3': 'TOP',\n  'Valor_USD3': '1115'},\n {'Hora_salida': '12:40',\n  'Hora_llegada': '22:25',\n  'duracion_viaje': '9H45M',\n  'Duracion_vuelo_1': '1:45',\n  'No_vuelo_1': 'LA3706',\n  'Modelo_avion_1': 'Airbus 320-200',\n  'Aeropuerto_Ori_1': 'Congonhas',\n  'Aeropuerto_AbrOrig_1': 'CGH',\n  'Hora_Salida_1': '12:40',\n  'Aeropuerto_Lleg_1': 'Brasilia',\n  'Aeropuerto_AbrLleg_1': 'BSB',\n  'Hora_Llegada_1': '14:25',\n  'Tiempo_Espera': '6:10',\n  'Duracion_vuelo_2': '1:50',\n  'No_vuelo_2': 'LA3939',\n  'Modelo_avion_2': 'Airbus 319',\n  'Aeropuerto_Ori_2': 'Brasilia',\n  'Aeropuerto_AbrOrig_2': 'BSB',\n  'Hora_Salida_2': '20:35',\n  'Aeropuerto_Lleg_2': 'Santos Dumont',\n  'Aeropuerto_AbrLleg_2': 'SDU',\n  'Hora_Llegada_2': '22:25',\n  'Categoría_1': 'LIGHT',\n  'Valor_USD1': '',\n  'Categoría_2': 'PLUS',\n  'Valor_USD2': '',\n  'Categoría_3': 'TOP',\n  'Valor_USD3': '1116'},\n {'Hora_salida': '12:40',\n  'Hora_llegada': '22:35',\n  'duracion_viaje': '9H55M',\n  'Duracion_vuelo_1': '1:45',\n  'No_vuelo_1': 'LA3706',\n  'Modelo_avion_1': 'Airbus 320-200',\n  'Aeropuerto_Ori_1': 'Congonhas',\n  'Aeropuerto_AbrOrig_1': 'CGH',\n  'Hora_Salida_1': '12:40',\n  'Aeropuerto_Lleg_1': 'Brasilia',\n  'Aeropuerto_AbrLleg_1': 'BSB',\n  'Hora_Llegada_1': '14:25',\n  'Tiempo_Espera': '6:25',\n  'Duracion_vuelo_2': '1:45',\n  'No_vuelo_2': 'LA3445',\n  'Modelo_avion_2': 'Airbus 320-200',\n  'Aeropuerto_Ori_2': 'Brasilia',\n  'Aeropuerto_AbrOrig_2': 'BSB',\n  'Hora_Salida_2': '20:50',\n  'Aeropuerto_Lleg_2': 'Galeao',\n  'Aeropuerto_AbrLleg_2': 'GIG',\n  'Hora_Llegada_2': '22:35',\n  'Categoría_1': 'LIGHT',\n  'Valor_USD1': '',\n  'Categoría_2': 'PLUS',\n  'Valor_USD2': '',\n  'Categoría_3': 'TOP',\n  'Valor_USD3': '1116'},\n {'Hora_salida': '11:55',\n  'Hora_llegada': '22:25',\n  'duracion_viaje': '10H30M',\n  'Duracion_vuelo_1': '1:35',\n  'No_vuelo_1': 'LA4510',\n  'Modelo_avion_1': 'Airbus 320-200',\n  'Aeropuerto_Ori_1': 'Guarulhos',\n  'Aeropuerto_AbrOrig_1': 'GRU',\n  'Hora_Salida_1': '11:55',\n  'Aeropuerto_Lleg_1': 'Brasilia',\n  'Aeropuerto_AbrLleg_1': 'BSB',\n  'Hora_Llegada_1': '13:30',\n  'Tiempo_Espera': '7:5',\n  'Duracion_vuelo_2': '1:50',\n  'No_vuelo_2': 'LA3939',\n  'Modelo_avion_2': 'Airbus 319',\n  'Aeropuerto_Ori_2': 'Brasilia',\n  'Aeropuerto_AbrOrig_2': 'BSB',\n  'Hora_Salida_2': '20:35',\n  'Aeropuerto_Lleg_2': 'Santos Dumont',\n  'Aeropuerto_AbrLleg_2': 'SDU',\n  'Hora_Llegada_2': '22:25',\n  'Categoría_1': 'LIGHT',\n  'Valor_USD1': '',\n  'Categoría_2': 'PLUS',\n  'Valor_USD2': '1110',\n  'Categoría_3': 'TOP',\n  'Valor_USD3': '1115'},\n {'Hora_salida': '11:55',\n  'Hora_llegada': '22:35',\n  'duracion_viaje': '10H40M',\n  'Duracion_vuelo_1': '1:35',\n  'No_vuelo_1': 'LA4510',\n  'Modelo_avion_1': 'Airbus 320-200',\n  'Aeropuerto_Ori_1': 'Guarulhos',\n  'Aeropuerto_AbrOrig_1': 'GRU',\n  'Hora_Salida_1': '11:55',\n  'Aeropuerto_Lleg_1': 'Brasilia',\n  'Aeropuerto_AbrLleg_1': 'BSB',\n  'Hora_Llegada_1': '13:30',\n  'Tiempo_Espera': '7:20',\n  'Duracion_vuelo_2': '1:45',\n  'No_vuelo_2': 'LA3445',\n  'Modelo_avion_2': 'Airbus 320-200',\n  'Aeropuerto_Ori_2': 'Brasilia',\n  'Aeropuerto_AbrOrig_2': 'BSB',\n  'Hora_Salida_2': '20:50',\n  'Aeropuerto_Lleg_2': 'Galeao',\n  'Aeropuerto_AbrLleg_2': 'GIG',\n  'Hora_Llegada_2': '22:35',\n  'Categoría_1': 'LIGHT',\n  'Valor_USD1': '',\n  'Categoría_2': 'PLUS',\n  'Valor_USD2': '',\n  'Categoría_3': 'TOP',\n  'Valor_USD3': ''},\n {'Hora_salida': '11:00',\n  'Hora_llegada': '22:25',\n  'duracion_viaje': '11H25M',\n  'Duracion_vuelo_1': '1:50',\n  'No_vuelo_1': 'LA3306',\n  'Modelo_avion_1': 'Airbus 319',\n  'Aeropuerto_Ori_1': 'Congonhas',\n  'Aeropuerto_AbrOrig_1': 'CGH',\n  'Hora_Salida_1': '11:00',\n  'Aeropuerto_Lleg_1': 'Brasilia',\n  'Aeropuerto_AbrLleg_1': 'BSB',\n  'Hora_Llegada_1': '12:50',\n  'Tiempo_Espera': '7:45',\n  'Duracion_vuelo_2': '1:50',\n  'No_vuelo_2': 'LA3939',\n  'Modelo_avion_2': 'Airbus 319',\n  'Aeropuerto_Ori_2': 'Brasilia',\n  'Aeropuerto_AbrOrig_2': 'BSB',\n  'Hora_Salida_2': '20:35',\n  'Aeropuerto_Lleg_2': 'Santos Dumont',\n  'Aeropuerto_AbrLleg_2': 'SDU',\n  'Hora_Llegada_2': '22:25',\n  'Categoría_1': 'LIGHT',\n  'Valor_USD1': '',\n  'Categoría_2': 'PLUS',\n  'Valor_USD2': '',\n  'Categoría_3': 'TOP',\n  'Valor_USD3': '1116'},\n {'Hora_salida': '11:00',\n  'Hora_llegada': '22:35',\n  'duracion_viaje': '11H35M',\n  'Duracion_vuelo_1': '1:50',\n  'No_vuelo_1': 'LA3306',\n  'Modelo_avion_1': 'Airbus 319',\n  'Aeropuerto_Ori_1': 'Congonhas',\n  'Aeropuerto_AbrOrig_1': 'CGH',\n  'Hora_Salida_1': '11:00',\n  'Aeropuerto_Lleg_1': 'Brasilia',\n  'Aeropuerto_AbrLleg_1': 'BSB',\n  'Hora_Llegada_1': '12:50',\n  'Tiempo_Espera': '8:0',\n  'Duracion_vuelo_2': '1:45',\n  'No_vuelo_2': 'LA3445',\n  'Modelo_avion_2': 'Airbus 320-200',\n  'Aeropuerto_Ori_2': 'Brasilia',\n  'Aeropuerto_AbrOrig_2': 'BSB',\n  'Hora_Salida_2': '20:50',\n  'Aeropuerto_Lleg_2': 'Galeao',\n  'Aeropuerto_AbrLleg_2': 'GIG',\n  'Hora_Llegada_2': '22:35',\n  'Categoría_1': 'LIGHT',\n  'Valor_USD1': '',\n  'Categoría_2': 'PLUS',\n  'Valor_USD2': '1111',\n  'Categoría_3': 'TOP',\n  'Valor_USD3': '1116'},\n {'Hora_salida': '08:25',\n  'Hora_llegada': '20:20',\n  'duracion_viaje': '11H55M',\n  'Duracion_vuelo_1': '1:45',\n  'No_vuelo_1': 'LA3704',\n  'Modelo_avion_1': 'Airbus 319',\n  'Aeropuerto_Ori_1': 'Congonhas',\n  'Aeropuerto_AbrOrig_1': 'CGH',\n  'Hora_Salida_1': '08:25',\n  'Aeropuerto_Lleg_1': 'Brasilia',\n  'Aeropuerto_AbrLleg_1': 'BSB',\n  'Hora_Llegada_1': '10:10',\n  'Tiempo_Espera': '8:20',\n  'Duracion_vuelo_2': '1:50',\n  'No_vuelo_2': 'LA3027',\n  'Modelo_avion_2': 'Airbus 319',\n  'Aeropuerto_Ori_2': 'Brasilia',\n  'Aeropuerto_AbrOrig_2': 'BSB',\n  'Hora_Salida_2': '18:30',\n  'Aeropuerto_Lleg_2': 'Santos Dumont',\n  'Aeropuerto_AbrLleg_2': 'SDU',\n  'Hora_Llegada_2': '20:20',\n  'Categoría_1': 'LIGHT',\n  'Valor_USD1': '',\n  'Categoría_2': 'PLUS',\n  'Valor_USD2': '',\n  'Categoría_3': 'TOP',\n  'Valor_USD3': '1116'},\n {'Hora_salida': '18:05',\n  'Hora_llegada': '06:55',\n  'duracion_viaje': '12H50M',\n  'Duracion_vuelo_1': '1:40',\n  'No_vuelo_1': 'LA4689',\n  'Modelo_avion_1': 'Airbus 319',\n  'Aeropuerto_Ori_1': 'Guarulhos',\n  'Aeropuerto_AbrOrig_1': 'GRU',\n  'Hora_Salida_1': '18:05',\n  'Aeropuerto_Lleg_1': 'Brasilia',\n  'Aeropuerto_AbrLleg_1': 'BSB',\n  'Hora_Llegada_1': '19:45',\n  'Tiempo_Espera': '9:20',\n  'Duracion_vuelo_2': '1:50',\n  'No_vuelo_2': 'LA4766',\n  'Modelo_avion_2': 'Airbus 319',\n  'Aeropuerto_Ori_2': 'Brasilia',\n  'Aeropuerto_AbrOrig_2': 'BSB',\n  'Hora_Salida_2': '05:05',\n  'Aeropuerto_Lleg_2': 'Santos Dumont',\n  'Aeropuerto_AbrLleg_2': 'SDU',\n  'Hora_Llegada_2': '06:55',\n  'Categoría_1': 'LIGHT',\n  'Valor_USD1': '',\n  'Categoría_2': 'PLUS',\n  'Valor_USD2': '',\n  'Categoría_3': 'TOP',\n  'Valor_USD3': ''},\n {'Hora_salida': '07:15',\n  'Hora_llegada': '20:20',\n  'duracion_viaje': '13H5M',\n  'Duracion_vuelo_1': '1:45',\n  'No_vuelo_1': 'LA3526',\n  'Modelo_avion_1': 'Airbus 320-200',\n  'Aeropuerto_Ori_1': 'Congonhas',\n  'Aeropuerto_AbrOrig_1': 'CGH',\n  'Hora_Salida_1': '07:15',\n  'Aeropuerto_Lleg_1': 'Brasilia',\n  'Aeropuerto_AbrLleg_1': 'BSB',\n  'Hora_Llegada_1': '09:00',\n  'Tiempo_Espera': '9:30',\n  'Duracion_vuelo_2': '1:50',\n  'No_vuelo_2': 'LA3027',\n  'Modelo_avion_2': 'Airbus 319',\n  'Aeropuerto_Ori_2': 'Brasilia',\n  'Aeropuerto_AbrOrig_2': 'BSB',\n  'Hora_Salida_2': '18:30',\n  'Aeropuerto_Lleg_2': 'Santos Dumont',\n  'Aeropuerto_AbrLleg_2': 'SDU',\n  'Hora_Llegada_2': '20:20',\n  'Categoría_1': 'LIGHT',\n  'Valor_USD1': '',\n  'Categoría_2': 'PLUS',\n  'Valor_USD2': '',\n  'Categoría_3': 'TOP',\n  'Valor_USD3': '1116'},\n {'Hora_salida': '17:50',\n  'Hora_llegada': '06:55',\n  'duracion_viaje': '13H5M',\n  'Duracion_vuelo_1': '1:45',\n  'No_vuelo_1': 'LA3004',\n  'Modelo_avion_1': 'Airbus 319',\n  'Aeropuerto_Ori_1': 'Congonhas',\n  'Aeropuerto_AbrOrig_1': 'CGH',\n  'Hora_Salida_1': '17:50',\n  'Aeropuerto_Lleg_1': 'Brasilia',\n  'Aeropuerto_AbrLleg_1': 'BSB',\n  'Hora_Llegada_1': '19:35',\n  'Tiempo_Espera': '9:30',\n  'Duracion_vuelo_2': '1:50',\n  'No_vuelo_2': 'LA4766',\n  'Modelo_avion_2': 'Airbus 319',\n  'Aeropuerto_Ori_2': 'Brasilia',\n  'Aeropuerto_AbrOrig_2': 'BSB',\n  'Hora_Salida_2': '05:05',\n  'Aeropuerto_Lleg_2': 'Santos Dumont',\n  'Aeropuerto_AbrLleg_2': 'SDU',\n  'Hora_Llegada_2': '06:55',\n  'Categoría_1': 'LIGHT',\n  'Valor_USD1': '',\n  'Categoría_2': 'PLUS',\n  'Valor_USD2': '',\n  'Categoría_3': 'TOP',\n  'Valor_USD3': '1116'},\n {'Hora_salida': '07:35',\n  'Hora_llegada': '14:30',\n  'duracion_viaje': '6H55M',\n  'Duracion_vuelo_1': '1:0',\n  'No_vuelo_1': 'LA3017',\n  'Modelo_avion_1': 'Airbus 321',\n  'Aeropuerto_Ori_1': 'Guarulhos',\n  'Aeropuerto_AbrOrig_1': 'GRU',\n  'Hora_Salida_1': '07:35',\n  'Aeropuerto_Lleg_1': 'Afonso Pena',\n  'Aeropuerto_AbrLleg_1': 'CWB',\n  'Hora_Llegada_1': '08:35',\n  'Tiempo_Espera': '4:25',\n  'Duracion_vuelo_2': '1:30',\n  'No_vuelo_2': 'LA9659',\n  'Modelo_avion_2': 'Airbus 320-200',\n  'Aeropuerto_Ori_2': 'Afonso Pena',\n  'Aeropuerto_AbrOrig_2': 'CWB',\n  'Hora_Salida_2': '13:00',\n  'Aeropuerto_Lleg_2': 'Santos Dumont',\n  'Aeropuerto_AbrLleg_2': 'SDU',\n  'Hora_Llegada_2': '14:30',\n  'Categoría_1': 'LIGHT',\n  'Valor_USD1': '',\n  'Categoría_2': 'PLUS',\n  'Valor_USD2': '1110',\n  'Categoría_3': 'TOP',\n  'Valor_USD3': '1115'},\n {'Hora_salida': '08:10',\n  'Hora_llegada': '15:05',\n  'duracion_viaje': '6H55M',\n  'Duracion_vuelo_1': '1:30',\n  'No_vuelo_1': 'LA8529',\n  'Modelo_avion_1': '295',\n  'Aeropuerto_Ori_1': 'Viracopos',\n  'Aeropuerto_AbrOrig_1': 'VCP',\n  'Hora_Salida_1': '08:10',\n  'Aeropuerto_Lleg_1': 'Eurico de Aguiar Salles',\n  'Aeropuerto_AbrLleg_1': 'VIX',\n  'Hora_Llegada_1': '09:40',\n  'Tiempo_Espera': '4:20',\n  'Duracion_vuelo_2': '1:5',\n  'No_vuelo_2': 'LA3624',\n  'Modelo_avion_2': 'Airbus 319',\n  'Aeropuerto_Ori_2': 'Eurico de Aguiar Salles',\n  'Aeropuerto_AbrOrig_2': 'VIX',\n  'Hora_Salida_2': '14:00',\n  'Aeropuerto_Lleg_2': 'Santos Dumont',\n  'Aeropuerto_AbrLleg_2': 'SDU',\n  'Hora_Llegada_2': '15:05',\n  'Categoría_1': 'LIGHT',\n  'Valor_USD1': '',\n  'Categoría_2': 'PLUS',\n  'Valor_USD2': '1110',\n  'Categoría_3': 'TOP',\n  'Valor_USD3': '1115'},\n {'Hora_salida': '06:45',\n  'Hora_llegada': '14:45',\n  'duracion_viaje': '8H',\n  'Duracion_vuelo_1': '1:35',\n  'No_vuelo_1': 'LA3142',\n  'Modelo_avion_1': 'Airbus 320-200',\n  'Aeropuerto_Ori_1': 'Guarulhos',\n  'Aeropuerto_AbrOrig_1': 'GRU',\n  'Hora_Salida_1': '06:45',\n  'Aeropuerto_Lleg_1': 'Goiania',\n  'Aeropuerto_AbrLleg_1': 'GYN',\n  'Hora_Llegada_1': '08:20',\n  'Tiempo_Espera': '4:40',\n  'Duracion_vuelo_2': '1:45',\n  'No_vuelo_2': 'LA9668',\n  'Modelo_avion_2': 'Airbus 320-200',\n  'Aeropuerto_Ori_2': 'Goiania',\n  'Aeropuerto_AbrOrig_2': 'GYN',\n  'Hora_Salida_2': '13:00',\n  'Aeropuerto_Lleg_2': 'Santos Dumont',\n  'Aeropuerto_AbrLleg_2': 'SDU',\n  'Hora_Llegada_2': '14:45',\n  'Categoría_1': 'LIGHT',\n  'Valor_USD1': '',\n  'Categoría_2': 'PLUS',\n  'Valor_USD2': '',\n  'Categoría_3': 'TOP',\n  'Valor_USD3': '1115'},\n {'Hora_salida': '22:00',\n  'Hora_llegada': '06:55',\n  'duracion_viaje': '8H55M',\n  'Duracion_vuelo_1': '1:35',\n  'No_vuelo_1': 'LA9633',\n  'Modelo_avion_1': '295',\n  'Aeropuerto_Ori_1': 'Viracopos',\n  'Aeropuerto_AbrOrig_1': 'VCP',\n  'Hora_Salida_1': '22:00',\n  'Aeropuerto_Lleg_1': 'Brasilia',\n  'Aeropuerto_AbrLleg_1': 'BSB',\n  'Hora_Llegada_1': '23:35',\n  'Tiempo_Espera': '5:30',\n  'Duracion_vuelo_2': '1:50',\n  'No_vuelo_2': 'LA4766',\n  'Modelo_avion_2': 'Airbus 319',\n  'Aeropuerto_Ori_2': 'Brasilia',\n  'Aeropuerto_AbrOrig_2': 'BSB',\n  'Hora_Salida_2': '05:05',\n  'Aeropuerto_Lleg_2': 'Santos Dumont',\n  'Aeropuerto_AbrLleg_2': 'SDU',\n  'Hora_Llegada_2': '06:55',\n  'Categoría_1': 'LIGHT',\n  'Valor_USD1': '',\n  'Categoría_2': 'PLUS',\n  'Valor_USD2': '',\n  'Categoría_3': 'TOP',\n  'Valor_USD3': '1115'},\n {'Hora_salida': '08:10',\n  'Hora_llegada': '20:15',\n  'duracion_viaje': '12H5M',\n  'Duracion_vuelo_1': '1:30',\n  'No_vuelo_1': 'LA8529',\n  'Modelo_avion_1': '295',\n  'Aeropuerto_Ori_1': 'Viracopos',\n  'Aeropuerto_AbrOrig_1': 'VCP',\n  'Hora_Salida_1': '08:10',\n  'Aeropuerto_Lleg_1': 'Eurico de Aguiar Salles',\n  'Aeropuerto_AbrLleg_1': 'VIX',\n  'Hora_Llegada_1': '09:40',\n  'Tiempo_Espera': '9:30',\n  'Duracion_vuelo_2': '1:5',\n  'No_vuelo_2': 'LA3195',\n  'Modelo_avion_2': 'Airbus 319',\n  'Aeropuerto_Ori_2': 'Eurico de Aguiar Salles',\n  'Aeropuerto_AbrOrig_2': 'VIX',\n  'Hora_Salida_2': '19:10',\n  'Aeropuerto_Lleg_2': 'Santos Dumont',\n  'Aeropuerto_AbrLleg_2': 'SDU',\n  'Hora_Llegada_2': '20:15',\n  'Categoría_1': 'LIGHT',\n  'Valor_USD1': '',\n  'Categoría_2': 'PLUS',\n  'Valor_USD2': '1110',\n  'Categoría_3': 'TOP',\n  'Valor_USD3': '1115'},\n {'Hora_salida': '21:35',\n  'Hora_llegada': '22:25',\n  'duracion_viaje': '50M',\n  'Duracion_vuelo_1': '0:50',\n  'No_vuelo_1': 'LA6076',\n  'Modelo_avion_1': '295',\n  'Aeropuerto_Ori_1': 'Viracopos',\n  'Aeropuerto_AbrOrig_1': 'VCP',\n  'Hora_Salida_1': '21:35',\n  'Aeropuerto_Lleg_1': 'Santos Dumont',\n  'Aeropuerto_AbrLleg_1': 'SDU',\n  'Hora_Llegada_1': '22:25',\n  'Categoría_1': 'LIGHT',\n  'Valor_USD1': '',\n  'Categoría_2': 'PLUS',\n  'Valor_USD2': '',\n  'Categoría_3': 'TOP',\n  'Valor_USD3': '1115'},\n {'Hora_salida': '08:50',\n  'Hora_llegada': '09:55',\n  'duracion_viaje': '1H5M',\n  'Duracion_vuelo_1': '1:5',\n  'No_vuelo_1': 'LA6073',\n  'Modelo_avion_1': '295',\n  'Aeropuerto_Ori_1': 'Viracopos',\n  'Aeropuerto_AbrOrig_1': 'VCP',\n  'Hora_Salida_1': '08:50',\n  'Aeropuerto_Lleg_1': 'Santos Dumont',\n  'Aeropuerto_AbrLleg_1': 'SDU',\n  'Hora_Llegada_1': '09:55',\n  'Categoría_1': 'LIGHT',\n  'Valor_USD1': '',\n  'Categoría_2': 'PLUS',\n  'Valor_USD2': '',\n  'Categoría_3': 'TOP',\n  'Valor_USD3': '1115'},\n {'Hora_salida': '22:05',\n  'Hora_llegada': '15:05',\n  'duracion_viaje': '17H',\n  'Duracion_vuelo_1': '1:10',\n  'No_vuelo_1': 'LA9628',\n  'Modelo_avion_1': 'Airbus 320-200',\n  'Aeropuerto_Ori_1': 'Viracopos',\n  'Aeropuerto_AbrOrig_1': 'VCP',\n  'Hora_Salida_1': '22:05',\n  'Aeropuerto_Lleg_1': 'Confins',\n  'Aeropuerto_AbrLleg_1': 'CNF',\n  'Hora_Llegada_1': '23:15',\n  'Tiempo_Espera': '1:5',\n  'Duracion_vuelo_2': '1:5',\n  'No_vuelo_2': 'LA5652',\n  'Modelo_avion_2': '295',\n  'Aeropuerto_Ori_2': 'Confins',\n  'Aeropuerto_AbrOrig_2': 'CNF',\n  'Hora_Salida_2': '08:50',\n  'Aeropuerto_Lleg_2': 'Eurico de Aguiar Salles',\n  'Aeropuerto_AbrLleg_2': 'VIX',\n  'Hora_Llegada_2': '09:55',\n  'Categoría_1': 'LIGHT',\n  'Valor_USD1': '',\n  'Categoría_2': 'PLUS',\n  'Valor_USD2': '',\n  'Categoría_3': 'TOP',\n  'Valor_USD3': '1115'},\n {'Hora_salida': '22:05',\n  'Hora_llegada': '20:15',\n  'duracion_viaje': '22H10M',\n  'Duracion_vuelo_1': '1:10',\n  'No_vuelo_1': 'LA9628',\n  'Modelo_avion_1': 'Airbus 320-200',\n  'Aeropuerto_Ori_1': 'Viracopos',\n  'Aeropuerto_AbrOrig_1': 'VCP',\n  'Hora_Salida_1': '22:05',\n  'Aeropuerto_Lleg_1': 'Confins',\n  'Aeropuerto_AbrLleg_1': 'CNF',\n  'Hora_Llegada_1': '23:15',\n  'Tiempo_Espera': '1:5',\n  'Duracion_vuelo_2': '1:5',\n  'No_vuelo_2': 'LA5652',\n  'Modelo_avion_2': '295',\n  'Aeropuerto_Ori_2': 'Confins',\n  'Aeropuerto_AbrOrig_2': 'CNF',\n  'Hora_Salida_2': '08:50',\n  'Aeropuerto_Lleg_2': 'Eurico de Aguiar Salles',\n  'Aeropuerto_AbrLleg_2': 'VIX',\n  'Hora_Llegada_2': '09:55',\n  'Categoría_1': 'LIGHT',\n  'Valor_USD1': '',\n  'Categoría_2': 'PLUS',\n  'Valor_USD2': '',\n  'Categoría_3': 'TOP',\n  'Valor_USD3': '1115'},\n {'Hora_salida': '08:30',\n  'Hora_llegada': '14:45',\n  'duracion_viaje': '6H15M',\n  'Duracion_vuelo_1': '1:30',\n  'No_vuelo_1': 'LA9635',\n  'Modelo_avion_1': '295',\n  'Aeropuerto_Ori_1': 'Viracopos',\n  'Aeropuerto_AbrOrig_1': 'VCP',\n  'Hora_Salida_1': '08:30',\n  'Aeropuerto_Lleg_1': 'Goiania',\n  'Aeropuerto_AbrLleg_1': 'GYN',\n  'Hora_Llegada_1': '10:00',\n  'Tiempo_Espera': '3:0',\n  'Duracion_vuelo_2': '1:45',\n  'No_vuelo_2': 'LA9668',\n  'Modelo_avion_2': 'Airbus 320-200',\n  'Aeropuerto_Ori_2': 'Goiania',\n  'Aeropuerto_AbrOrig_2': 'GYN',\n  'Hora_Salida_2': '13:00',\n  'Aeropuerto_Lleg_2': 'Santos Dumont',\n  'Aeropuerto_AbrLleg_2': 'SDU',\n  'Hora_Llegada_2': '14:45',\n  'Categoría_1': 'LIGHT',\n  'Valor_USD1': '',\n  'Categoría_2': 'PLUS',\n  'Valor_USD2': '',\n  'Categoría_3': 'TOP',\n  'Valor_USD3': '1115'},\n {'Hora_salida': '07:45',\n  'Hora_llegada': '14:30',\n  'duracion_viaje': '6H45M',\n  'Duracion_vuelo_1': '1:0',\n  'No_vuelo_1': 'LA4993',\n  'Modelo_avion_1': '295',\n  'Aeropuerto_Ori_1': 'Viracopos',\n  'Aeropuerto_AbrOrig_1': 'VCP',\n  'Hora_Salida_1': '07:45',\n  'Aeropuerto_Lleg_1': 'Afonso Pena',\n  'Aeropuerto_AbrLleg_1': 'CWB',\n  'Hora_Llegada_1': '08:45',\n  'Tiempo_Espera': '4:15',\n  'Duracion_vuelo_2': '1:30',\n  'No_vuelo_2': 'LA9659',\n  'Modelo_avion_2': 'Airbus 320-200',\n  'Aeropuerto_Ori_2': 'Afonso Pena',\n  'Aeropuerto_AbrOrig_2': 'CWB',\n  'Hora_Salida_2': '13:00',\n  'Aeropuerto_Lleg_2': 'Santos Dumont',\n  'Aeropuerto_AbrLleg_2': 'SDU',\n  'Hora_Llegada_2': '14:30',\n  'Categoría_1': 'LIGHT',\n  'Valor_USD1': '',\n  'Categoría_2': 'PLUS',\n  'Valor_USD2': '',\n  'Categoría_3': 'TOP',\n  'Valor_USD3': '1115'}]"
     },
     "metadata": {},
     "execution_count": 287
    }
   ],
   "source": [
    "main()"
   ]
  }
 ],
 "metadata": {
  "kernelspec": {
   "display_name": "Python 3",
   "language": "python",
   "name": "python3"
  },
  "language_info": {
   "codemirror_mode": {
    "name": "ipython",
    "version": 3
   },
   "file_extension": ".py",
   "mimetype": "text/x-python",
   "name": "python",
   "nbconvert_exporter": "python",
   "pygments_lexer": "ipython3",
   "version": "3.8.3-final"
  }
 },
 "nbformat": 4,
 "nbformat_minor": 2
}