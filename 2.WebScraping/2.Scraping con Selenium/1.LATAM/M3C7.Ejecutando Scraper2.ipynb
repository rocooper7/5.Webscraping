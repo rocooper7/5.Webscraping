{
 "cells": [
  {
   "cell_type": "markdown",
   "metadata": {},
   "source": [
    "# Módulo 2: Scraping con Selenium\n",
    "## LATAM Airlines\n",
    "<a href=\"https://www.latam.com/es_ar/\"><img src=\"https://i.pinimg.com/originals/dd/52/74/dd5274702d1382d696caeb6e0f6980c5.png\"  width=\"420\"></img></a>\n",
    "<br>\n",
    "\n",
    "Vamos a scrapear el sitio de Latam para averiguar datos de vuelos en funcion el origen y destino, fecha y cabina. La información que esperamos obtener de cada vuelo es:\n",
    "- Precio(s) disponibles\n",
    "- Horas de salida y llegada (duración)\n",
    "- Información de las escalas\n",
    "\n",
    "¡Empecemos!"
   ]
  },
  {
   "cell_type": "code",
   "execution_count": 2,
   "metadata": {},
   "outputs": [],
   "source": [
    "url = 'https://www.latam.com/es_mx/apps/personas/booking?fecha1_dia=24&fecha1_anomes=2020-10&auAvailability=1&ida_vuelta=ida&vuelos_origen=Sao%20Paulo&from_city1=SAO&vuelos_destino=R%C3%ADo%20de%20Janeiro&to_city1=RIO&flex=1&vuelos_fecha_salida_ddmmaaaa=24/10/2020&cabina=Y&nadults=1&nchildren=0&ninfants=0&cod_promo=&stopover_outbound_days=0&stopover_inbound_days=0#/'"
   ]
  },
  {
   "cell_type": "code",
   "execution_count": 3,
   "metadata": {},
   "outputs": [],
   "source": [
    "from selenium import webdriver"
   ]
  },
  {
   "cell_type": "code",
   "execution_count": 4,
   "metadata": {},
   "outputs": [],
   "source": [
    "options = webdriver.ChromeOptions()\n",
    "options.add_argument('--incognito')\n",
    "driver = webdriver.Chrome(executable_path='C:\\dChrome\\chromedriver.exe', options=options)\n",
    "driver.get(url)"
   ]
  },
  {
   "cell_type": "code",
   "execution_count": 5,
   "metadata": {
    "tags": []
   },
   "outputs": [
    {
     "output_type": "stream",
     "name": "stdout",
     "text": "[<selenium.webdriver.remote.webelement.WebElement (session=\"3f408298f5452ea7b0dbdc640e96018c\", element=\"3b1ede0b-068f-455a-9af1-e1c6366fda9e\")>, <selenium.webdriver.remote.webelement.WebElement (session=\"3f408298f5452ea7b0dbdc640e96018c\", element=\"0c193a4a-d573-4e87-b3a9-f4d9b37a464b\")>, <selenium.webdriver.remote.webelement.WebElement (session=\"3f408298f5452ea7b0dbdc640e96018c\", element=\"0f615a6b-8962-4e38-9ac2-a00bb7a5f33e\")>, <selenium.webdriver.remote.webelement.WebElement (session=\"3f408298f5452ea7b0dbdc640e96018c\", element=\"8227399a-a1c5-4397-b5f4-9c3225fc226e\")>, <selenium.webdriver.remote.webelement.WebElement (session=\"3f408298f5452ea7b0dbdc640e96018c\", element=\"5816f5f2-24db-4035-bea9-80d6eb810d68\")>, <selenium.webdriver.remote.webelement.WebElement (session=\"3f408298f5452ea7b0dbdc640e96018c\", element=\"bc113f54-9011-48b6-b105-25c41e3cccda\")>, <selenium.webdriver.remote.webelement.WebElement (session=\"3f408298f5452ea7b0dbdc640e96018c\", element=\"683973fc-f75a-440f-adb8-ff76335f9470\")>, <selenium.webdriver.remote.webelement.WebElement (session=\"3f408298f5452ea7b0dbdc640e96018c\", element=\"d555c003-0022-4579-aea2-26e35a622fe4\")>, <selenium.webdriver.remote.webelement.WebElement (session=\"3f408298f5452ea7b0dbdc640e96018c\", element=\"9caecac2-d0cb-48af-a8ec-4781c6f62cc1\")>, <selenium.webdriver.remote.webelement.WebElement (session=\"3f408298f5452ea7b0dbdc640e96018c\", element=\"9750cebb-b274-4c4e-b50e-0b58f2a8e8be\")>, <selenium.webdriver.remote.webelement.WebElement (session=\"3f408298f5452ea7b0dbdc640e96018c\", element=\"a7a2320a-ab77-436f-b290-50e448051f5e\")>, <selenium.webdriver.remote.webelement.WebElement (session=\"3f408298f5452ea7b0dbdc640e96018c\", element=\"f8ede2e2-ae2e-4bbf-92e9-0b81cb16e0c8\")>, <selenium.webdriver.remote.webelement.WebElement (session=\"3f408298f5452ea7b0dbdc640e96018c\", element=\"6b70ddc6-0deb-447c-b8e3-111bd07415c8\")>, <selenium.webdriver.remote.webelement.WebElement (session=\"3f408298f5452ea7b0dbdc640e96018c\", element=\"8aad8e4d-f63b-4245-a2f5-621a30e3c71e\")>, <selenium.webdriver.remote.webelement.WebElement (session=\"3f408298f5452ea7b0dbdc640e96018c\", element=\"449f24cd-c977-49fd-b6e7-cbe5cf20a784\")>, <selenium.webdriver.remote.webelement.WebElement (session=\"3f408298f5452ea7b0dbdc640e96018c\", element=\"d07dd136-4ee7-40d5-be49-3c75a3b79774\")>, <selenium.webdriver.remote.webelement.WebElement (session=\"3f408298f5452ea7b0dbdc640e96018c\", element=\"d915aa9e-d19c-48cc-b661-b7084bc37a9b\")>, <selenium.webdriver.remote.webelement.WebElement (session=\"3f408298f5452ea7b0dbdc640e96018c\", element=\"b2460204-5cf2-4bed-853b-230b03ed87df\")>, <selenium.webdriver.remote.webelement.WebElement (session=\"3f408298f5452ea7b0dbdc640e96018c\", element=\"5453269e-13a4-4bed-a894-c0bcb13f5a80\")>, <selenium.webdriver.remote.webelement.WebElement (session=\"3f408298f5452ea7b0dbdc640e96018c\", element=\"45a5090f-c1ae-4b6f-9afe-f132e2c8b7a9\")>, <selenium.webdriver.remote.webelement.WebElement (session=\"3f408298f5452ea7b0dbdc640e96018c\", element=\"e82ab7b8-8470-4d30-b9d9-6caaca8226d2\")>, <selenium.webdriver.remote.webelement.WebElement (session=\"3f408298f5452ea7b0dbdc640e96018c\", element=\"e6919b6a-4e15-488a-92d2-1a4decfb4b23\")>, <selenium.webdriver.remote.webelement.WebElement (session=\"3f408298f5452ea7b0dbdc640e96018c\", element=\"77d39b1f-f0b4-442b-a9e4-06b196359721\")>, <selenium.webdriver.remote.webelement.WebElement (session=\"3f408298f5452ea7b0dbdc640e96018c\", element=\"437bb714-4ac9-4535-b7b7-2bfa71cfb02a\")>, <selenium.webdriver.remote.webelement.WebElement (session=\"3f408298f5452ea7b0dbdc640e96018c\", element=\"dffc7b4b-71e3-496e-9f28-6f30ac2df200\")>, <selenium.webdriver.remote.webelement.WebElement (session=\"3f408298f5452ea7b0dbdc640e96018c\", element=\"2398df84-cfdc-41ac-9611-b1d60c185bb0\")>, <selenium.webdriver.remote.webelement.WebElement (session=\"3f408298f5452ea7b0dbdc640e96018c\", element=\"908b916b-d2cd-4f13-b5a4-468b8c9a4521\")>, <selenium.webdriver.remote.webelement.WebElement (session=\"3f408298f5452ea7b0dbdc640e96018c\", element=\"116ed26c-f268-4e92-9882-648f0d9f4a63\")>, <selenium.webdriver.remote.webelement.WebElement (session=\"3f408298f5452ea7b0dbdc640e96018c\", element=\"5382b996-2365-4dae-b814-0ea477b69964\")>, <selenium.webdriver.remote.webelement.WebElement (session=\"3f408298f5452ea7b0dbdc640e96018c\", element=\"9c315c11-3596-4223-93bb-c3d5762f4b81\")>, <selenium.webdriver.remote.webelement.WebElement (session=\"3f408298f5452ea7b0dbdc640e96018c\", element=\"3b6f92f7-ddef-48de-9bc5-07b2277b837a\")>, <selenium.webdriver.remote.webelement.WebElement (session=\"3f408298f5452ea7b0dbdc640e96018c\", element=\"ca408182-d546-4e1f-a540-206dfa59af4e\")>, <selenium.webdriver.remote.webelement.WebElement (session=\"3f408298f5452ea7b0dbdc640e96018c\", element=\"db178bb3-361b-4cd0-aa4b-ecf200c3c3c0\")>, <selenium.webdriver.remote.webelement.WebElement (session=\"3f408298f5452ea7b0dbdc640e96018c\", element=\"79731e56-f74f-4c62-9a31-d0c092148a86\")>, <selenium.webdriver.remote.webelement.WebElement (session=\"3f408298f5452ea7b0dbdc640e96018c\", element=\"a1e19c87-af69-49d8-bca0-2d124079b04e\")>, <selenium.webdriver.remote.webelement.WebElement (session=\"3f408298f5452ea7b0dbdc640e96018c\", element=\"5f1d2a36-58c1-4749-955b-0050714ec1f5\")>, <selenium.webdriver.remote.webelement.WebElement (session=\"3f408298f5452ea7b0dbdc640e96018c\", element=\"2c3fbcf6-4141-4236-b8fa-f4deb92a600c\")>, <selenium.webdriver.remote.webelement.WebElement (session=\"3f408298f5452ea7b0dbdc640e96018c\", element=\"eded0e4d-9534-4e7a-ad33-4153a62e0954\")>, <selenium.webdriver.remote.webelement.WebElement (session=\"3f408298f5452ea7b0dbdc640e96018c\", element=\"69cc3e87-5b48-4222-8a18-9bf9c9790279\")>, <selenium.webdriver.remote.webelement.WebElement (session=\"3f408298f5452ea7b0dbdc640e96018c\", element=\"90fe6c2d-c983-469e-8015-6942a9c24fda\")>, <selenium.webdriver.remote.webelement.WebElement (session=\"3f408298f5452ea7b0dbdc640e96018c\", element=\"da2d5322-97fe-4815-9702-ca8348774c7a\")>, <selenium.webdriver.remote.webelement.WebElement (session=\"3f408298f5452ea7b0dbdc640e96018c\", element=\"1c53d2ff-82b0-4da2-8b1b-f681cf8e5fb0\")>, <selenium.webdriver.remote.webelement.WebElement (session=\"3f408298f5452ea7b0dbdc640e96018c\", element=\"fafe438e-6d8c-4e1e-9b32-8701db2ca872\")>, <selenium.webdriver.remote.webelement.WebElement (session=\"3f408298f5452ea7b0dbdc640e96018c\", element=\"8cedfcdf-a056-4030-82f5-d58f92f13e2a\")>, <selenium.webdriver.remote.webelement.WebElement (session=\"3f408298f5452ea7b0dbdc640e96018c\", element=\"1cff8aa3-c497-4360-903a-afd21b2c40ee\")>, <selenium.webdriver.remote.webelement.WebElement (session=\"3f408298f5452ea7b0dbdc640e96018c\", element=\"7ab8fcf2-1b8b-451f-b043-5908db912226\")>, <selenium.webdriver.remote.webelement.WebElement (session=\"3f408298f5452ea7b0dbdc640e96018c\", element=\"7259ee40-d5c9-4140-9cc3-e1e5e957fce4\")>, <selenium.webdriver.remote.webelement.WebElement (session=\"3f408298f5452ea7b0dbdc640e96018c\", element=\"7d45984b-c203-40c7-8162-e578a7b899cd\")>, <selenium.webdriver.remote.webelement.WebElement (session=\"3f408298f5452ea7b0dbdc640e96018c\", element=\"fe5a9327-7e85-42e0-952e-04bccbda8749\")>, <selenium.webdriver.remote.webelement.WebElement (session=\"3f408298f5452ea7b0dbdc640e96018c\", element=\"fb1c1b67-51f6-49b3-a9bf-1c56a69af402\")>, <selenium.webdriver.remote.webelement.WebElement (session=\"3f408298f5452ea7b0dbdc640e96018c\", element=\"d925b82f-ccb5-4f5a-a240-98c43b1362e3\")>, <selenium.webdriver.remote.webelement.WebElement (session=\"3f408298f5452ea7b0dbdc640e96018c\", element=\"89f5fdda-3fbb-4bfb-923d-f93c07021436\")>]\n"
    }
   ],
   "source": [
    "#Usaremos el Xpath para obtener la lista de vuelos\n",
    "vuelos = driver.find_elements_by_xpath('//li[@class=\"flight\"]')\n",
    "print(vuelos)"
   ]
  },
  {
   "cell_type": "code",
   "execution_count": 6,
   "metadata": {},
   "outputs": [
    {
     "output_type": "execute_result",
     "data": {
      "text/plain": "<selenium.webdriver.remote.webelement.WebElement (session=\"3f408298f5452ea7b0dbdc640e96018c\", element=\"d915aa9e-d19c-48cc-b661-b7084bc37a9b\")>"
     },
     "metadata": {},
     "execution_count": 6
    }
   ],
   "source": [
    "vuelo = vuelos[16]\n",
    "vuelo"
   ]
  },
  {
   "cell_type": "markdown",
   "metadata": {},
   "source": [
    "Obtenemos la información de la hora de salida, llegada y duración del vuelo"
   ]
  },
  {
   "cell_type": "code",
   "execution_count": 7,
   "metadata": {},
   "outputs": [
    {
     "output_type": "execute_result",
     "data": {
      "text/plain": "'18:05'"
     },
     "metadata": {},
     "execution_count": 7
    }
   ],
   "source": [
    "# Hora de salida\n",
    "vuelo.find_element_by_xpath('.//div[@class=\"departure\"]/time').get_attribute('datetime')"
   ]
  },
  {
   "cell_type": "code",
   "execution_count": 8,
   "metadata": {},
   "outputs": [
    {
     "output_type": "execute_result",
     "data": {
      "text/plain": "'22:35'"
     },
     "metadata": {},
     "execution_count": 8
    }
   ],
   "source": [
    "# Hora de llegada\n",
    "vuelo.find_element_by_xpath('.//div[@class=\"arrival\"]/time').get_attribute('datetime')"
   ]
  },
  {
   "cell_type": "code",
   "execution_count": 9,
   "metadata": {},
   "outputs": [
    {
     "output_type": "execute_result",
     "data": {
      "text/plain": "'PT4H30M'"
     },
     "metadata": {},
     "execution_count": 9
    }
   ],
   "source": [
    "# Duración del vuelo\n",
    "vuelo.find_element_by_xpath('.//span[@class=\"duration\"]/time').get_attribute('datetime')"
   ]
  },
  {
   "cell_type": "code",
   "execution_count": 10,
   "metadata": {},
   "outputs": [
    {
     "output_type": "execute_result",
     "data": {
      "text/plain": "<selenium.webdriver.remote.webelement.WebElement (session=\"3f408298f5452ea7b0dbdc640e96018c\", element=\"06874019-6e8a-4c88-979c-d582197087ea\")>"
     },
     "metadata": {},
     "execution_count": 10
    }
   ],
   "source": [
    "boton_escalas = vuelo.find_element_by_xpath('.//div[@class=\"flight-summary-stops-description\"]/button')\n",
    "boton_escalas"
   ]
  },
  {
   "cell_type": "code",
   "execution_count": 11,
   "metadata": {},
   "outputs": [],
   "source": [
    "boton_escalas.click()"
   ]
  },
  {
   "cell_type": "code",
   "execution_count": 12,
   "metadata": {},
   "outputs": [
    {
     "output_type": "execute_result",
     "data": {
      "text/plain": "[<selenium.webdriver.remote.webelement.WebElement (session=\"3f408298f5452ea7b0dbdc640e96018c\", element=\"033ac4ef-4291-46a0-9c03-825fbea13cc7\")>,\n <selenium.webdriver.remote.webelement.WebElement (session=\"3f408298f5452ea7b0dbdc640e96018c\", element=\"ddcc139f-c424-4698-8c50-a599063c4581\")>,\n <selenium.webdriver.remote.webelement.WebElement (session=\"3f408298f5452ea7b0dbdc640e96018c\", element=\"4c7721da-8cc4-4f5a-b954-693a2047f2a0\")>]"
     },
     "metadata": {},
     "execution_count": 12
    }
   ],
   "source": [
    "segmentos = vuelo.find_elements_by_xpath('//div[@class = \"sc-hZSUBg gfeULV\"]/div')  #[0] 1er vuelo, [1] Escala, [2] \"do vuelo\"\n",
    "segmentos"
   ]
  },
  {
   "cell_type": "code",
   "execution_count": 13,
   "metadata": {},
   "outputs": [
    {
     "output_type": "execute_result",
     "data": {
      "text/plain": "2"
     },
     "metadata": {},
     "execution_count": 13
    }
   ],
   "source": [
    "escalas = len(segmentos) - 1 #0 escalas si es un vuelo directo\n",
    "escalas"
   ]
  },
  {
   "cell_type": "markdown",
   "metadata": {},
   "source": [
    "# Clase 13\n",
    "En esta clase obtendremos la información de las escalas que se encuentran en el modal que aparece al clickear sobre el botón de escalas"
   ]
  },
  {
   "cell_type": "code",
   "execution_count": 14,
   "metadata": {},
   "outputs": [],
   "source": [
    "segmento = segmentos[0]"
   ]
  },
  {
   "cell_type": "code",
   "execution_count": 15,
   "metadata": {},
   "outputs": [
    {
     "output_type": "execute_result",
     "data": {
      "text/plain": "'1:40'"
     },
     "metadata": {},
     "execution_count": 15
    }
   ],
   "source": [
    "# Duración del vuelo\n",
    "segmento.find_element_by_xpath('.//span[@class=\"sc-esjQYD dMquDU\"]/time').get_attribute('datetime')"
   ]
  },
  {
   "cell_type": "code",
   "execution_count": 16,
   "metadata": {},
   "outputs": [
    {
     "output_type": "execute_result",
     "data": {
      "text/plain": "'LA4689'"
     },
     "metadata": {},
     "execution_count": 16
    }
   ],
   "source": [
    "# Numero del vuelo\n",
    "segmento.find_element_by_xpath('.//div[@class=\"airline-flight-details\"]/b').text"
   ]
  },
  {
   "cell_type": "code",
   "execution_count": 17,
   "metadata": {},
   "outputs": [
    {
     "output_type": "execute_result",
     "data": {
      "text/plain": "'Airbus 319'"
     },
     "metadata": {},
     "execution_count": 17
    }
   ],
   "source": [
    "# Modelo de avion\n",
    "segmento.find_element_by_xpath('.//span[@class=\"sc-gzOgki uTyOl\"]').text"
   ]
  },
  {
   "cell_type": "code",
   "execution_count": 18,
   "metadata": {},
   "outputs": [
    {
     "output_type": "execute_result",
     "data": {
      "text/plain": "'1:5'"
     },
     "metadata": {},
     "execution_count": 18
    }
   ],
   "source": [
    "# Duracion de la escala\n",
    "segmento2 = segmentos[1]\n",
    "segmento2.find_element_by_xpath('.//span[@class=\"sc-esjQYD dMquDU\"]/time').get_attribute('datetime')"
   ]
  },
  {
   "cell_type": "code",
   "execution_count": 19,
   "metadata": {},
   "outputs": [
    {
     "output_type": "execute_result",
     "data": {
      "text/plain": "[<selenium.webdriver.remote.webelement.WebElement (session=\"3f408298f5452ea7b0dbdc640e96018c\", element=\"70adbec8-9f75-4681-a433-37c134234717\")>,\n <selenium.webdriver.remote.webelement.WebElement (session=\"3f408298f5452ea7b0dbdc640e96018c\", element=\"90a3585b-3a7c-41a7-8130-3b8107acc38c\")>,\n <selenium.webdriver.remote.webelement.WebElement (session=\"3f408298f5452ea7b0dbdc640e96018c\", element=\"d3d8f5e8-bbd9-423a-be22-d8e9fc3e8d0b\")>,\n <selenium.webdriver.remote.webelement.WebElement (session=\"3f408298f5452ea7b0dbdc640e96018c\", element=\"5fd98005-b918-4811-ba8a-6f1e59e22c1d\")>]"
     },
     "metadata": {},
     "execution_count": 19
    }
   ],
   "source": [
    "aeropuertos = segmento.find_elements_by_xpath('.//div[@class=\"sc-esOvli iQSbOQ\"]/span')\n",
    "aeropuertos"
   ]
  },
  {
   "cell_type": "code",
   "execution_count": 20,
   "metadata": {},
   "outputs": [
    {
     "output_type": "execute_result",
     "data": {
      "text/plain": "'GRU'"
     },
     "metadata": {},
     "execution_count": 20
    }
   ],
   "source": [
    "# Origen Aeropuerto\n",
    "aeropuerto_ori = aeropuertos[1]\n",
    "aeropuerto_ori.find_element_by_xpath('.//div[@class=\"sc-bwCtUz iybVbT\"]/abbr').text"
   ]
  },
  {
   "cell_type": "code",
   "execution_count": 21,
   "metadata": {},
   "outputs": [
    {
     "output_type": "execute_result",
     "data": {
      "text/plain": "'Guarulhos'"
     },
     "metadata": {},
     "execution_count": 21
    }
   ],
   "source": [
    "aeropuerto_ori.find_element_by_xpath('.//span[@class=\"sc-eTuwsz eumCTU\"]/span[@class=\"sc-hXRMBi gVvErD\"]').text.replace(' Intl.','')"
   ]
  },
  {
   "cell_type": "code",
   "execution_count": 22,
   "metadata": {},
   "outputs": [
    {
     "output_type": "execute_result",
     "data": {
      "text/plain": "'18:05'"
     },
     "metadata": {},
     "execution_count": 22
    }
   ],
   "source": [
    "# Hora de salida\n",
    "aeropuerto_ori.find_element_by_xpath('.//div[@class=\"sc-bwCtUz iybVbT\"]/time[@datetime]').get_attribute('datetime')"
   ]
  },
  {
   "cell_type": "code",
   "execution_count": 23,
   "metadata": {},
   "outputs": [
    {
     "output_type": "execute_result",
     "data": {
      "text/plain": "'BSB'"
     },
     "metadata": {},
     "execution_count": 23
    }
   ],
   "source": [
    "# Destino\n",
    "aeropuerto_lleg = aeropuertos[3]\n",
    "aeropuerto_lleg.find_element_by_xpath('.//div[@class=\"sc-bwCtUz iybVbT\"]/abbr').text"
   ]
  },
  {
   "cell_type": "code",
   "execution_count": 24,
   "metadata": {},
   "outputs": [
    {
     "output_type": "execute_result",
     "data": {
      "text/plain": "'Brasilia'"
     },
     "metadata": {},
     "execution_count": 24
    }
   ],
   "source": [
    "aeropuerto_lleg.find_element_by_xpath('.//span[@class=\"sc-eTuwsz eumCTU\"]/span[@class=\"sc-hXRMBi gVvErD\"]').text.replace(' Intl.','')"
   ]
  },
  {
   "cell_type": "code",
   "execution_count": 25,
   "metadata": {},
   "outputs": [
    {
     "output_type": "execute_result",
     "data": {
      "text/plain": "'19:45'"
     },
     "metadata": {},
     "execution_count": 25
    }
   ],
   "source": [
    "# Hora de salida\n",
    "aeropuerto_lleg.find_element_by_xpath('.//div[@class=\"sc-bwCtUz iybVbT\"]/time[@datetime]').get_attribute('datetime')"
   ]
  },
  {
   "cell_type": "markdown",
   "metadata": {},
   "source": [
    "## CLASE\n",
    "Una vez que hayamos obtenido toda la información, debemos cerrar el modal/pop-up."
   ]
  },
  {
   "cell_type": "code",
   "execution_count": 26,
   "metadata": {},
   "outputs": [],
   "source": [
    "driver.find_element_by_xpath('//div[@class=\"modal-header sc-dnqmqq cGfTsx\"]//button[@class=\"close\"]').click()"
   ]
  },
  {
   "cell_type": "markdown",
   "metadata": {},
   "source": [
    "Por último debemos obtener la información de las tarifas. Para eso, debemos clickear sobre el vuelo (sobre cualquier parte)"
   ]
  },
  {
   "cell_type": "code",
   "execution_count": 27,
   "metadata": {},
   "outputs": [],
   "source": [
    "vuelo.click()"
   ]
  },
  {
   "cell_type": "markdown",
   "metadata": {},
   "source": [
    "La información de los precios para cada tarifa está contenida en una tabla. Los precios en sí están en el footer y podemos sacar los nombres de la clase de cada elemento"
   ]
  },
  {
   "cell_type": "code",
   "execution_count": 28,
   "metadata": {},
   "outputs": [
    {
     "output_type": "execute_result",
     "data": {
      "text/plain": "[<selenium.webdriver.remote.webelement.WebElement (session=\"3f408298f5452ea7b0dbdc640e96018c\", element=\"0917a02e-d0b1-4914-8ccd-9a96dab89e2a\")>,\n <selenium.webdriver.remote.webelement.WebElement (session=\"3f408298f5452ea7b0dbdc640e96018c\", element=\"ade876dd-131a-4ba8-97bc-ca5f8e341cee\")>,\n <selenium.webdriver.remote.webelement.WebElement (session=\"3f408298f5452ea7b0dbdc640e96018c\", element=\"455a0729-cb06-43d5-bd3f-53ec894a5750\")>]"
     },
     "metadata": {},
     "execution_count": 28
    }
   ],
   "source": [
    "tarifas = vuelo.find_elements_by_xpath('.//div[@class=\"fares-table-container\"]//tfoot//td[contains(@class, \"fare-\")]')\n",
    "tarifas"
   ]
  },
  {
   "cell_type": "code",
   "execution_count": 29,
   "metadata": {
    "scrolled": true,
    "tags": []
   },
   "outputs": [
    {
     "output_type": "execute_result",
     "data": {
      "text/plain": "[{'LIGHT': {'moneda': 'US$', 'valor': '1105'}},\n {'PLUS': {'moneda': 'US$', 'valor': '1110'}},\n {'TOP': {'moneda': 'US$', 'valor': '1115'}}]"
     },
     "metadata": {},
     "execution_count": 29
    }
   ],
   "source": [
    "precios = []\n",
    "for tarifa in tarifas:\n",
    "    nombre = tarifa.find_element_by_xpath('.//label').get_attribute('for')\n",
    "    moneda = tarifa.find_element_by_xpath('.//span[@class=\"price\"]/span[@class=\"currency-symbol\"]').text\n",
    "    valor = tarifa.find_element_by_xpath('.//span[@class=\"price\"]/span[@class=\"value\"]').text \n",
    "    dict_tarifa={nombre:{'moneda':moneda, 'valor':valor}}\n",
    "    precios.append(dict_tarifa)\n",
    "precios"
   ]
  },
  {
   "source": [
    "Será de gran utilidad armar funciones que resuelvan la extracción de información de cada sección de la página. Por eso te propongo que armes 3 funciones de las cuales te dejo las estructuras:"
   ],
   "cell_type": "markdown",
   "metadata": {}
  },
  {
   "source": [
    "## RETO\n",
    "Armar funciones para obtener los datos de las escalas y las tarifas. \n",
    "Te dejo los prototipos:"
   ],
   "cell_type": "markdown",
   "metadata": {}
  },
  {
   "cell_type": "code",
   "execution_count": 30,
   "metadata": {},
   "outputs": [],
   "source": [
    "def obtener_tiempos(vuelo,dicc):\n",
    "    '''\n",
    "    Función que retorna un diccionario con los horarios de salida y llegada de cada\n",
    "    vuelo, incluyendo la duración. \n",
    "    Nota: la duración del vuelo no es la hora de llegada - la hora de salida porque\n",
    "    puede haber diferencia de horarios entre el origen y el destino.\n",
    "    '''\n",
    "    # Hora de salida\n",
    "    dicc['Hora_salida'] = vuelo.find_element_by_xpath('.//div[@class=\"departure\"]/time').get_attribute('datetime')\n",
    "    # Hora de llegada\n",
    "    dicc['Hora_llegada'] = vuelo.find_element_by_xpath('.//div[@class=\"arrival\"]/time').get_attribute('datetime')\n",
    "    # Duracion\n",
    "    dicc['duracion_viaje'] = vuelo.find_element_by_xpath('.//span[@class=\"duration\"]/time').get_attribute('datetime').replace('PT','')"
   ]
  },
  {
   "cell_type": "code",
   "execution_count": 31,
   "metadata": {},
   "outputs": [],
   "source": [
    "def segmentos_main(vuelo,dicc):\n",
    "    '''\n",
    "    Función que retorna una lista de diccionarios con la información de \n",
    "    las escalas de cada vuelo\n",
    "    '''\n",
    "    segmentos = vuelo.find_elements_by_xpath('//div[@class = \"sc-hZSUBg gfeULV\"]/div')  \n",
    "    for segmento in segmentos:\n",
    "        if segmento == segmentos[0]:\n",
    "            segmentos_func(segmento, 1, dicc)\n",
    "            aeropuertos = segmento.find_elements_by_xpath('.//div[@class=\"sc-esOvli iQSbOQ\"]/span')\n",
    "            aeropuertos_func(aeropuertos, 1, dicc)\n",
    "            aeropuertos_func(aeropuertos, 1, dicc)   \n",
    "        elif segmento == segmentos[2]:\n",
    "            segmentos_func(segmento, 2, dicc)\n",
    "            aeropuertos = segmento.find_elements_by_xpath('.//div[@class=\"sc-esOvli iQSbOQ\"]/span')\n",
    "            aeropuertos_func(aeropuertos,2, dicc)\n",
    "            aeropuertos_func(aeropuertos,2, dicc)\n",
    "        else:\n",
    "            dicc['Tiempo_Espera'] = segmento.find_element_by_xpath('.//span[@class=\"sc-esjQYD dMquDU\"]/time').get_attribute('datetime')"
   ]
  },
  {
   "cell_type": "code",
   "execution_count": 32,
   "metadata": {},
   "outputs": [],
   "source": [
    "def segmentos_func(segmento, escala, dicc):\n",
    "    # Duración del vuelo\n",
    "    dicc[f'Duracion_vuelo_{escala}'] = segmento.find_element_by_xpath('.//span[@class=\"sc-esjQYD dMquDU\"]/time').get_attribute('datetime')\n",
    "    # Nombre de la aerolinea\n",
    "    dicc[f'No_vuelo_{escala}'] = segmento.find_element_by_xpath('.//div[@class=\"airline-flight-details\"]/b').text\n",
    "    # Numero del vuelo  \n",
    "    dicc[f'Modelo_avion_{escala}'] = segmento.find_element_by_xpath('.//span[@class=\"sc-gzOgki uTyOl\"]').text"
   ]
  },
  {
   "cell_type": "code",
   "execution_count": 33,
   "metadata": {},
   "outputs": [],
   "source": [
    "def aeropuertos_func(aeropuertos, escala, dicc):\n",
    "    for aeropuerto in aeropuertos:\n",
    "        if aeropuerto == aeropuertos[1]:\n",
    "            dicc[f'Aeropuerto_Ori_{escala}'] = aeropuerto.find_element_by_xpath('.//span[@class=\"sc-eTuwsz eumCTU\"]/span[@class=\"sc-hXRMBi gVvErD\"]').text.replace(' Intl.','')\n",
    "            dicc[f'Aeropuerto_AbrOrig_{escala}'] = aeropuerto.find_element_by_xpath('.//div[@class=\"sc-bwCtUz iybVbT\"]/abbr').text\n",
    "            dicc[f'Hora_Salida_{escala}'] = aeropuerto.find_element_by_xpath('.//div[@class=\"sc-bwCtUz iybVbT\"]/time[@datetime]').get_attribute('datetime')  \n",
    "                        \n",
    "        elif aeropuerto == aeropuertos[3]:\n",
    "            dicc[f'Aeropuerto_Lleg_{escala}'] = aeropuerto.find_element_by_xpath('.//span[@class=\"sc-eTuwsz eumCTU\"]/span[@class=\"sc-hXRMBi gVvErD\"]').text.replace(' Intl.','')\n",
    "            dicc[f'Aeropuerto_AbrLleg_{escala}'] = aeropuerto.find_element_by_xpath('.//div[@class=\"sc-bwCtUz iybVbT\"]/abbr').text\n",
    "            dicc[f'Hora_Llegada_{escala}'] = aeropuerto.find_element_by_xpath('.//div[@class=\"sc-bwCtUz iybVbT\"]/time[@datetime]').get_attribute('datetime')  \n",
    "        \n",
    "        else:\n",
    "            continue"
   ]
  },
  {
   "cell_type": "code",
   "execution_count": 34,
   "metadata": {},
   "outputs": [],
   "source": [
    "def obtener_precios(vuelo,dicc):\n",
    "    '''\n",
    "    Función que retorna una lista de diccionarios con las distintas tarifas\n",
    "    '''\n",
    "    tarifas = vuelo.find_elements_by_xpath('.//div[@class=\"fares-table-container\"]//tfoot//td[contains(@class, \"fare-\")]')\n",
    "    \n",
    "    for tarifa in tarifas:\n",
    "        if tarifa == tarifas[0]:\n",
    "            obtener_tarifas(tarifa, 1, dicc)\n",
    "        elif tarifa == tarifas[1]:\n",
    "            obtener_tarifas(tarifa, 2, dicc)\n",
    "        else:\n",
    "            obtener_tarifas(tarifa, 3, dicc)"
   ]
  },
  {
   "cell_type": "code",
   "execution_count": 35,
   "metadata": {
    "tags": []
   },
   "outputs": [],
   "source": [
    "def obtener_tarifas(tarifa, tipo, dicc):\n",
    "    dicc[f'Categoría_{tipo}'] = tarifa.find_element_by_xpath('.//label').get_attribute('for')\n",
    "    dicc[f'Valor_USD{tipo}'] = tarifa.find_element_by_xpath('.//span[@class=\"price\"]/span[@class=\"value\"]').text "
   ]
  },
  {
   "source": [
    "## Clase 15\n",
    "Ya tenemos el scraper casi listo. Unifiquemos las 3 funciones de la clase anterior en una sola"
   ],
   "cell_type": "markdown",
   "metadata": {}
  },
  {
   "cell_type": "code",
   "execution_count": 36,
   "metadata": {},
   "outputs": [],
   "source": [
    "def obtener_info(driver):\n",
    "    vuelos = driver.find_elements_by_xpath('//li[@class=\"flight\"]')\n",
    "    print(f'Se encontraron {len(vuelos)} vuelos.')\n",
    "    print('Iniciando scraping...')\n",
    "    info = []\n",
    "    for vuelo in vuelos:\n",
    "        info_viaje = {}\n",
    "        # Obtenemos los tiempos generales del vuelo\n",
    "        tiempos = obtener_tiempos(vuelo,info_viaje)\n",
    "        # Clickeamos el botón de escalas para ver los detalles\n",
    "        vuelo.find_element_by_xpath('.//div[@class=\"flight-summary-stops-description\"]/button').click()\n",
    "        escalas = segmentos_main(vuelo, info_viaje)\n",
    "        # Cerramos el pop-up con los detalles\n",
    "        driver.find_element_by_xpath('//div[@class=\"modal-header sc-dnqmqq cGfTsx\"]//button[@class=\"close\"]').click()\n",
    "        # Clickeamos el vuelo para ver los precios\n",
    "        vuelo.click()\n",
    "        precios = obtener_precios(vuelo, info_viaje)\n",
    "        # Cerramos los precios del vuelo\n",
    "        vuelo.click()\n",
    "        info.append(info_viaje)\n",
    "    return info"
   ]
  },
  {
   "source": [
    "Ahora podemos cargar la página con el driver y pasárselo a esta función"
   ],
   "cell_type": "markdown",
   "metadata": {}
  },
  {
   "cell_type": "code",
   "execution_count": 60,
   "metadata": {
    "tags": []
   },
   "outputs": [
    {
     "output_type": "stream",
     "name": "stdout",
     "text": "Se encontraron 0 vuelos.\nIniciando scraping...\n"
    },
    {
     "output_type": "execute_result",
     "data": {
      "text/plain": "[]"
     },
     "metadata": {},
     "execution_count": 60
    }
   ],
   "source": [
    "driver = webdriver.Chrome(executable_path='C:\\dChrome\\chromedriver.exe', options=options)\n",
    "driver.get(url)\n",
    "obtener_info(driver)"
   ]
  },
  {
   "source": [
    "Se encontraron 0 vuelos porque la página no terminó de cargar\n",
    "\n",
    "Lo más simple que podemos hacer es agregar una demora fija lo suficientemente grande para asegurarnos que la página terminó de cargar."
   ],
   "cell_type": "markdown",
   "metadata": {}
  },
  {
   "cell_type": "code",
   "execution_count": 37,
   "metadata": {},
   "outputs": [],
   "source": [
    "import time"
   ]
  },
  {
   "cell_type": "code",
   "execution_count": 61,
   "metadata": {},
   "outputs": [],
   "source": [
    "options = webdriver.ChromeOptions()\n",
    "options.add_argument('--incognito')\n",
    "driver = webdriver.Chrome(executable_path='C:\\dChrome\\chromedriver.exe', options=options)\n",
    "driver.get(url)"
   ]
  },
  {
   "cell_type": "code",
   "execution_count": null,
   "metadata": {},
   "outputs": [],
   "source": [
    "time.sleep(10)"
   ]
  },
  {
   "cell_type": "code",
   "execution_count": null,
   "metadata": {},
   "outputs": [],
   "source": [
    "vuelos = driver.find_elements_by_xpath('//li[@class=\"flight\"]')\n",
    "vuelos"
   ]
  },
  {
   "cell_type": "code",
   "execution_count": null,
   "metadata": {},
   "outputs": [],
   "source": [
    "driver.close()"
   ]
  },
  {
   "source": [
    "Esto funciona pero no es muy eficiente. Lo mejor sería esperar a que la página termine de cargar y luego recuperar los elementos."
   ],
   "cell_type": "markdown",
   "metadata": {}
  },
  {
   "cell_type": "code",
   "execution_count": 38,
   "metadata": {},
   "outputs": [],
   "source": [
    "from selenium.webdriver.support.ui import WebDriverWait\n",
    "from selenium.webdriver.support import expected_conditions as EC\n",
    "from selenium.webdriver.common.by import By\n",
    "from selenium.common.exceptions import TimeoutException"
   ]
  },
  {
   "cell_type": "code",
   "execution_count": 41,
   "metadata": {
    "tags": []
   },
   "outputs": [],
   "source": [
    "def main():\n",
    "    options = webdriver.ChromeOptions()\n",
    "    options.add_argument('--incognito')\n",
    "    driver = webdriver.Chrome(executable_path='C:\\dChrome\\chromedriver.exe', options=options)\n",
    "    driver.get(url)\n",
    "    delay = 10\n",
    "    try:\n",
    "        vuelo = WebDriverWait(driver, delay).until(EC.presence_of_element_located((By.XPATH, '//li[@class=\"flight\"]')))\n",
    "        print(\"La página terminó de cargar\")\n",
    "        info_vuelos = obtener_info(driver)\n",
    "    except TimeoutException:\n",
    "        print(\"La página tardó demasiado en cargar\")\n",
    "    driver.close()\n",
    "    return info_vuelos"
   ]
  },
  {
   "cell_type": "code",
   "execution_count": 42,
   "metadata": {
    "tags": []
   },
   "outputs": [
    {
     "output_type": "stream",
     "name": "stdout",
     "text": "La página terminó de cargar\nSe encontraron 52 vuelos.\nIniciando scraping...\n"
    }
   ],
   "source": [
    "info = main()"
   ]
  },
  {
   "cell_type": "code",
   "execution_count": 44,
   "metadata": {
    "tags": []
   },
   "outputs": [
    {
     "output_type": "stream",
     "name": "stdout",
     "text": "[{'Hora_salida': '07:15', 'Hora_llegada': '08:10', 'duracion_viaje': '55M', 'Duracion_vuelo_1': '0:55', 'No_vuelo_1': 'LA3807', 'Modelo_avion_1': 'Airbus 319', 'Aeropuerto_Ori_1': 'Guarulhos', 'Aeropuerto_AbrOrig_1': 'GRU', 'Hora_Salida_1': '07:15', 'Aeropuerto_Lleg_1': 'Santos Dumont', 'Aeropuerto_AbrLleg_1': 'SDU', 'Hora_Llegada_1': '08:10', 'Categoría_1': 'LIGHT', 'Valor_USD1': '', 'Categoría_2': 'PLUS', 'Valor_USD2': '', 'Categoría_3': 'TOP', 'Valor_USD3': ''}, {'Hora_salida': '08:15', 'Hora_llegada': '09:10', 'duracion_viaje': '55M', 'Duracion_vuelo_1': '0:55', 'No_vuelo_1': 'LA3910', 'Modelo_avion_1': 'Airbus 319', 'Aeropuerto_Ori_1': 'Guarulhos', 'Aeropuerto_AbrOrig_1': 'GRU', 'Hora_Salida_1': '08:15', 'Aeropuerto_Lleg_1': 'Santos Dumont', 'Aeropuerto_AbrLleg_1': 'SDU', 'Hora_Llegada_1': '09:10', 'Categoría_1': 'LIGHT', 'Valor_USD1': '', 'Categoría_2': 'PLUS', 'Valor_USD2': '', 'Categoría_3': 'TOP', 'Valor_USD3': '68'}, {'Hora_salida': '11:55', 'Hora_llegada': '12:50', 'duracion_viaje': '55M', 'Duracion_vuelo_1': '0:55', 'No_vuelo_1': 'LA3070', 'Modelo_avion_1': 'Airbus 319', 'Aeropuerto_Ori_1': 'Guarulhos', 'Aeropuerto_AbrOrig_1': 'GRU', 'Hora_Salida_1': '11:55', 'Aeropuerto_Lleg_1': 'Santos Dumont', 'Aeropuerto_AbrLleg_1': 'SDU', 'Hora_Llegada_1': '12:50', 'Categoría_1': 'LIGHT', 'Valor_USD1': '', 'Categoría_2': 'PLUS', 'Valor_USD2': '', 'Categoría_3': 'TOP', 'Valor_USD3': '313'}, {'Hora_salida': '19:20', 'Hora_llegada': '20:15', 'duracion_viaje': '55M', 'Duracion_vuelo_1': '0:55', 'No_vuelo_1': 'LA3236', 'Modelo_avion_1': 'Airbus 319', 'Aeropuerto_Ori_1': 'Guarulhos', 'Aeropuerto_AbrOrig_1': 'GRU', 'Hora_Salida_1': '19:20', 'Aeropuerto_Lleg_1': 'Santos Dumont', 'Aeropuerto_AbrLleg_1': 'SDU', 'Hora_Llegada_1': '20:15', 'Categoría_1': 'LIGHT', 'Valor_USD1': '', 'Categoría_2': 'PLUS', 'Valor_USD2': '', 'Categoría_3': 'TOP', 'Valor_USD3': '68'}, {'Hora_salida': '13:00', 'Hora_llegada': '14:00', 'duracion_viaje': '1H', 'Duracion_vuelo_1': '1:0', 'No_vuelo_1': 'LA3614', 'Modelo_avion_1': 'Airbus 319', 'Aeropuerto_Ori_1': 'Guarulhos', 'Aeropuerto_AbrOrig_1': 'GRU', 'Hora_Salida_1': '13:00', 'Aeropuerto_Lleg_1': 'Santos Dumont', 'Aeropuerto_AbrLleg_1': 'SDU', 'Hora_Llegada_1': '14:00', 'Categoría_1': 'LIGHT', 'Valor_USD1': '', 'Categoría_2': 'PLUS', 'Valor_USD2': '55', 'Categoría_3': 'TOP', 'Valor_USD3': '68'}, {'Hora_salida': '18:25', 'Hora_llegada': '19:25', 'duracion_viaje': '1H', 'Duracion_vuelo_1': '1:0', 'No_vuelo_1': 'LA3113', 'Modelo_avion_1': 'Airbus 320-200', 'Aeropuerto_Ori_1': 'Guarulhos', 'Aeropuerto_AbrOrig_1': 'GRU', 'Hora_Salida_1': '18:25', 'Aeropuerto_Lleg_1': 'Galeao', 'Aeropuerto_AbrLleg_1': 'GIG', 'Hora_Llegada_1': '19:25', 'Categoría_1': 'LIGHT', 'Valor_USD1': '', 'Categoría_2': 'PLUS', 'Valor_USD2': '', 'Categoría_3': 'TOP', 'Valor_USD3': '67'}, {'Hora_salida': '07:10', 'Hora_llegada': '08:15', 'duracion_viaje': '1H5M', 'Duracion_vuelo_1': '1:5', 'No_vuelo_1': 'LA3906', 'Modelo_avion_1': 'Airbus 319', 'Aeropuerto_Ori_1': 'Congonhas', 'Aeropuerto_AbrOrig_1': 'CGH', 'Hora_Salida_1': '07:10', 'Aeropuerto_Lleg_1': 'Santos Dumont', 'Aeropuerto_AbrLleg_1': 'SDU', 'Hora_Llegada_1': '08:15', 'Categoría_1': 'LIGHT', 'Valor_USD1': '', 'Categoría_2': 'PLUS', 'Valor_USD2': '', 'Categoría_3': 'TOP', 'Valor_USD3': ''}, {'Hora_salida': '09:00', 'Hora_llegada': '10:05', 'duracion_viaje': '1H5M', 'Duracion_vuelo_1': '1:5', 'No_vuelo_1': 'LA3912', 'Modelo_avion_1': 'Airbus 319', 'Aeropuerto_Ori_1': 'Congonhas', 'Aeropuerto_AbrOrig_1': 'CGH', 'Hora_Salida_1': '09:00', 'Aeropuerto_Lleg_1': 'Santos Dumont', 'Aeropuerto_AbrLleg_1': 'SDU', 'Hora_Llegada_1': '10:05', 'Categoría_1': 'LIGHT', 'Valor_USD1': '', 'Categoría_2': 'PLUS', 'Valor_USD2': '', 'Categoría_3': 'TOP', 'Valor_USD3': '69'}, {'Hora_salida': '11:00', 'Hora_llegada': '12:05', 'duracion_viaje': '1H5M', 'Duracion_vuelo_1': '1:5', 'No_vuelo_1': 'LA3920', 'Modelo_avion_1': 'Airbus 319', 'Aeropuerto_Ori_1': 'Congonhas', 'Aeropuerto_AbrOrig_1': 'CGH', 'Hora_Salida_1': '11:00', 'Aeropuerto_Lleg_1': 'Santos Dumont', 'Aeropuerto_AbrLleg_1': 'SDU', 'Hora_Llegada_1': '12:05', 'Categoría_1': 'LIGHT', 'Valor_USD1': '', 'Categoría_2': 'PLUS', 'Valor_USD2': '', 'Categoría_3': 'TOP', 'Valor_USD3': '69'}, {'Hora_salida': '12:00', 'Hora_llegada': '13:05', 'duracion_viaje': '1H5M', 'Duracion_vuelo_1': '1:5', 'No_vuelo_1': 'LA9208', 'Modelo_avion_1': 'Airbus 319', 'Aeropuerto_Ori_1': 'Congonhas', 'Aeropuerto_AbrOrig_1': 'CGH', 'Hora_Salida_1': '12:00', 'Aeropuerto_Lleg_1': 'Santos Dumont', 'Aeropuerto_AbrLleg_1': 'SDU', 'Hora_Llegada_1': '13:05', 'Categoría_1': 'LIGHT', 'Valor_USD1': '', 'Categoría_2': 'PLUS', 'Valor_USD2': '', 'Categoría_3': 'TOP', 'Valor_USD3': '69'}, {'Hora_salida': '13:05', 'Hora_llegada': '14:10', 'duracion_viaje': '1H5M', 'Duracion_vuelo_1': '1:5', 'No_vuelo_1': 'LA4786', 'Modelo_avion_1': 'Airbus 319', 'Aeropuerto_Ori_1': 'Congonhas', 'Aeropuerto_AbrOrig_1': 'CGH', 'Hora_Salida_1': '13:05', 'Aeropuerto_Lleg_1': 'Santos Dumont', 'Aeropuerto_AbrLleg_1': 'SDU', 'Hora_Llegada_1': '14:10', 'Categoría_1': 'LIGHT', 'Valor_USD1': '', 'Categoría_2': 'PLUS', 'Valor_USD2': '', 'Categoría_3': 'TOP', 'Valor_USD3': '69'}, {'Hora_salida': '14:00', 'Hora_llegada': '15:05', 'duracion_viaje': '1H5M', 'Duracion_vuelo_1': '1:5', 'No_vuelo_1': 'LA3934', 'Modelo_avion_1': 'Airbus 319', 'Aeropuerto_Ori_1': 'Congonhas', 'Aeropuerto_AbrOrig_1': 'CGH', 'Hora_Salida_1': '14:00', 'Aeropuerto_Lleg_1': 'Santos Dumont', 'Aeropuerto_AbrLleg_1': 'SDU', 'Hora_Llegada_1': '15:05', 'Categoría_1': 'LIGHT', 'Valor_USD1': '', 'Categoría_2': 'PLUS', 'Valor_USD2': '56', 'Categoría_3': 'TOP', 'Valor_USD3': '69'}, {'Hora_salida': '18:00', 'Hora_llegada': '19:05', 'duracion_viaje': '1H5M', 'Duracion_vuelo_1': '1:5', 'No_vuelo_1': 'LA3948', 'Modelo_avion_1': 'Airbus 319', 'Aeropuerto_Ori_1': 'Congonhas', 'Aeropuerto_AbrOrig_1': 'CGH', 'Hora_Salida_1': '18:00', 'Aeropuerto_Lleg_1': 'Santos Dumont', 'Aeropuerto_AbrLleg_1': 'SDU', 'Hora_Llegada_1': '19:05', 'Categoría_1': 'LIGHT', 'Valor_USD1': '', 'Categoría_2': 'PLUS', 'Valor_USD2': '', 'Categoría_3': 'TOP', 'Valor_USD3': ''}, {'Hora_salida': '23:00', 'Hora_llegada': '00:05', 'duracion_viaje': '1H5M', 'Duracion_vuelo_1': '1:5', 'No_vuelo_1': 'LA3181', 'Modelo_avion_1': 'Airbus 320-200', 'Aeropuerto_Ori_1': 'Guarulhos', 'Aeropuerto_AbrOrig_1': 'GRU', 'Hora_Salida_1': '23:00', 'Aeropuerto_Lleg_1': 'Galeao', 'Aeropuerto_AbrLleg_1': 'GIG', 'Hora_Llegada_1': '00:05', 'Categoría_1': 'LIGHT', 'Valor_USD1': '', 'Categoría_2': 'PLUS', 'Valor_USD2': '', 'Categoría_3': 'TOP', 'Valor_USD3': ''}, {'Hora_salida': '07:15', 'Hora_llegada': '11:35', 'duracion_viaje': '4H20M', 'Duracion_vuelo_1': '1:45', 'No_vuelo_1': 'LA3526', 'Modelo_avion_1': 'Airbus 320-200', 'Aeropuerto_Ori_1': 'Congonhas', 'Aeropuerto_AbrOrig_1': 'CGH', 'Hora_Salida_1': '07:15', 'Aeropuerto_Lleg_1': 'Brasilia', 'Aeropuerto_AbrLleg_1': 'BSB', 'Hora_Llegada_1': '09:00', 'Tiempo_Espera': '0:45', 'Duracion_vuelo_2': '1:50', 'No_vuelo_2': 'LA3457', 'Modelo_avion_2': 'Airbus 319', 'Aeropuerto_Ori_2': 'Brasilia', 'Aeropuerto_AbrOrig_2': 'BSB', 'Hora_Salida_2': '09:45', 'Aeropuerto_Lleg_2': 'Santos Dumont', 'Aeropuerto_AbrLleg_2': 'SDU', 'Hora_Llegada_2': '11:35', 'Categoría_1': 'LIGHT', 'Valor_USD1': '', 'Categoría_2': 'PLUS', 'Valor_USD2': '', 'Categoría_3': 'TOP', 'Valor_USD3': '1116'}, {'Hora_salida': '18:05', 'Hora_llegada': '22:25', 'duracion_viaje': '4H20M', 'Duracion_vuelo_1': '1:40', 'No_vuelo_1': 'LA4689', 'Modelo_avion_1': 'Airbus 319', 'Aeropuerto_Ori_1': 'Guarulhos', 'Aeropuerto_AbrOrig_1': 'GRU', 'Hora_Salida_1': '18:05', 'Aeropuerto_Lleg_1': 'Brasilia', 'Aeropuerto_AbrLleg_1': 'BSB', 'Hora_Llegada_1': '19:45', 'Tiempo_Espera': '0:50', 'Duracion_vuelo_2': '1:50', 'No_vuelo_2': 'LA3939', 'Modelo_avion_2': 'Airbus 319', 'Aeropuerto_Ori_2': 'Brasilia', 'Aeropuerto_AbrOrig_2': 'BSB', 'Hora_Salida_2': '20:35', 'Aeropuerto_Lleg_2': 'Santos Dumont', 'Aeropuerto_AbrLleg_2': 'SDU', 'Hora_Llegada_2': '22:25', 'Categoría_1': 'LIGHT', 'Valor_USD1': '', 'Categoría_2': 'PLUS', 'Valor_USD2': '', 'Categoría_3': 'TOP', 'Valor_USD3': '1115'}, {'Hora_salida': '18:05', 'Hora_llegada': '22:35', 'duracion_viaje': '4H30M', 'Duracion_vuelo_1': '1:40', 'No_vuelo_1': 'LA4689', 'Modelo_avion_1': 'Airbus 319', 'Aeropuerto_Ori_1': 'Guarulhos', 'Aeropuerto_AbrOrig_1': 'GRU', 'Hora_Salida_1': '18:05', 'Aeropuerto_Lleg_1': 'Brasilia', 'Aeropuerto_AbrLleg_1': 'BSB', 'Hora_Llegada_1': '19:45', 'Tiempo_Espera': '1:5', 'Duracion_vuelo_2': '1:45', 'No_vuelo_2': 'LA3445', 'Modelo_avion_2': 'Airbus 320-200', 'Aeropuerto_Ori_2': 'Brasilia', 'Aeropuerto_AbrOrig_2': 'BSB', 'Hora_Salida_2': '20:50', 'Aeropuerto_Lleg_2': 'Galeao', 'Aeropuerto_AbrLleg_2': 'GIG', 'Hora_Llegada_2': '22:35', 'Categoría_1': 'LIGHT', 'Valor_USD1': '', 'Categoría_2': 'PLUS', 'Valor_USD2': '1110', 'Categoría_3': 'TOP', 'Valor_USD3': '1115'}, {'Hora_salida': '17:50', 'Hora_llegada': '22:25', 'duracion_viaje': '4H35M', 'Duracion_vuelo_1': '1:45', 'No_vuelo_1': 'LA3004', 'Modelo_avion_1': 'Airbus 319', 'Aeropuerto_Ori_1': 'Congonhas', 'Aeropuerto_AbrOrig_1': 'CGH', 'Hora_Salida_1': '17:50', 'Aeropuerto_Lleg_1': 'Brasilia', 'Aeropuerto_AbrLleg_1': 'BSB', 'Hora_Llegada_1': '19:35', 'Tiempo_Espera': '1:0', 'Duracion_vuelo_2': '1:50', 'No_vuelo_2': 'LA3939', 'Modelo_avion_2': 'Airbus 319', 'Aeropuerto_Ori_2': 'Brasilia', 'Aeropuerto_AbrOrig_2': 'BSB', 'Hora_Salida_2': '20:35', 'Aeropuerto_Lleg_2': 'Santos Dumont', 'Aeropuerto_AbrLleg_2': 'SDU', 'Hora_Llegada_2': '22:25', 'Categoría_1': 'LIGHT', 'Valor_USD1': '', 'Categoría_2': 'PLUS', 'Valor_USD2': '', 'Categoría_3': 'TOP', 'Valor_USD3': '1116'}, {'Hora_salida': '06:55', 'Hora_llegada': '11:35', 'duracion_viaje': '4H40M', 'Duracion_vuelo_1': '1:40', 'No_vuelo_1': 'LA3234', 'Modelo_avion_1': 'Airbus 320-200', 'Aeropuerto_Ori_1': 'Guarulhos', 'Aeropuerto_AbrOrig_1': 'GRU', 'Hora_Salida_1': '06:55', 'Aeropuerto_Lleg_1': 'Brasilia', 'Aeropuerto_AbrLleg_1': 'BSB', 'Hora_Llegada_1': '08:35', 'Tiempo_Espera': '1:10', 'Duracion_vuelo_2': '1:50', 'No_vuelo_2': 'LA3457', 'Modelo_avion_2': 'Airbus 319', 'Aeropuerto_Ori_2': 'Brasilia', 'Aeropuerto_AbrOrig_2': 'BSB', 'Hora_Salida_2': '09:45', 'Aeropuerto_Lleg_2': 'Santos Dumont', 'Aeropuerto_AbrLleg_2': 'SDU', 'Hora_Llegada_2': '11:35', 'Categoría_1': 'LIGHT', 'Valor_USD1': '', 'Categoría_2': 'PLUS', 'Valor_USD2': '', 'Categoría_3': 'TOP', 'Valor_USD3': '1115'}, {'Hora_salida': '17:50', 'Hora_llegada': '22:35', 'duracion_viaje': '4H45M', 'Duracion_vuelo_1': '1:45', 'No_vuelo_1': 'LA3004', 'Modelo_avion_1': 'Airbus 319', 'Aeropuerto_Ori_1': 'Congonhas', 'Aeropuerto_AbrOrig_1': 'CGH', 'Hora_Salida_1': '17:50', 'Aeropuerto_Lleg_1': 'Brasilia', 'Aeropuerto_AbrLleg_1': 'BSB', 'Hora_Llegada_1': '19:35', 'Tiempo_Espera': '1:15', 'Duracion_vuelo_2': '1:45', 'No_vuelo_2': 'LA3445', 'Modelo_avion_2': 'Airbus 320-200', 'Aeropuerto_Ori_2': 'Brasilia', 'Aeropuerto_AbrOrig_2': 'BSB', 'Hora_Salida_2': '20:50', 'Aeropuerto_Lleg_2': 'Galeao', 'Aeropuerto_AbrLleg_2': 'GIG', 'Hora_Llegada_2': '22:35', 'Categoría_1': 'LIGHT', 'Valor_USD1': '', 'Categoría_2': 'PLUS', 'Valor_USD2': '', 'Categoría_3': 'TOP', 'Valor_USD3': '1116'}, {'Hora_salida': '15:30', 'Hora_llegada': '20:20', 'duracion_viaje': '4H50M', 'Duracion_vuelo_1': '1:45', 'No_vuelo_1': 'LA3710', 'Modelo_avion_1': 'Airbus 319', 'Aeropuerto_Ori_1': 'Congonhas', 'Aeropuerto_AbrOrig_1': 'CGH', 'Hora_Salida_1': '15:30', 'Aeropuerto_Lleg_1': 'Brasilia', 'Aeropuerto_AbrLleg_1': 'BSB', 'Hora_Llegada_1': '17:15', 'Tiempo_Espera': '1:15', 'Duracion_vuelo_2': '1:50', 'No_vuelo_2': 'LA3027', 'Modelo_avion_2': 'Airbus 319', 'Aeropuerto_Ori_2': 'Brasilia', 'Aeropuerto_AbrOrig_2': 'BSB', 'Hora_Salida_2': '18:30', 'Aeropuerto_Lleg_2': 'Santos Dumont', 'Aeropuerto_AbrLleg_2': 'SDU', 'Hora_Llegada_2': '20:20', 'Categoría_1': 'LIGHT', 'Valor_USD1': '', 'Categoría_2': 'PLUS', 'Valor_USD2': '', 'Categoría_3': 'TOP', 'Valor_USD3': '1116'}, {'Hora_salida': '06:30', 'Hora_llegada': '11:35', 'duracion_viaje': '5H5M', 'Duracion_vuelo_1': '1:45', 'No_vuelo_1': 'LA9206', 'Modelo_avion_1': 'Airbus 319', 'Aeropuerto_Ori_1': 'Congonhas', 'Aeropuerto_AbrOrig_1': 'CGH', 'Hora_Salida_1': '06:30', 'Aeropuerto_Lleg_1': 'Brasilia', 'Aeropuerto_AbrLleg_1': 'BSB', 'Hora_Llegada_1': '08:15', 'Tiempo_Espera': '1:30', 'Duracion_vuelo_2': '1:50', 'No_vuelo_2': 'LA3457', 'Modelo_avion_2': 'Airbus 319', 'Aeropuerto_Ori_2': 'Brasilia', 'Aeropuerto_AbrOrig_2': 'BSB', 'Hora_Salida_2': '09:45', 'Aeropuerto_Lleg_2': 'Santos Dumont', 'Aeropuerto_AbrLleg_2': 'SDU', 'Hora_Llegada_2': '11:35', 'Categoría_1': 'LIGHT', 'Valor_USD1': '', 'Categoría_2': 'PLUS', 'Valor_USD2': '', 'Categoría_3': 'TOP', 'Valor_USD3': '1116'}, {'Hora_salida': '15:30', 'Hora_llegada': '22:25', 'duracion_viaje': '6H55M', 'Duracion_vuelo_1': '1:45', 'No_vuelo_1': 'LA3710', 'Modelo_avion_1': 'Airbus 319', 'Aeropuerto_Ori_1': 'Congonhas', 'Aeropuerto_AbrOrig_1': 'CGH', 'Hora_Salida_1': '15:30', 'Aeropuerto_Lleg_1': 'Brasilia', 'Aeropuerto_AbrLleg_1': 'BSB', 'Hora_Llegada_1': '17:15', 'Tiempo_Espera': '3:20', 'Duracion_vuelo_2': '1:50', 'No_vuelo_2': 'LA3939', 'Modelo_avion_2': 'Airbus 319', 'Aeropuerto_Ori_2': 'Brasilia', 'Aeropuerto_AbrOrig_2': 'BSB', 'Hora_Salida_2': '20:35', 'Aeropuerto_Lleg_2': 'Santos Dumont', 'Aeropuerto_AbrLleg_2': 'SDU', 'Hora_Llegada_2': '22:25', 'Categoría_1': 'LIGHT', 'Valor_USD1': '', 'Categoría_2': 'PLUS', 'Valor_USD2': '', 'Categoría_3': 'TOP', 'Valor_USD3': '1116'}, {'Hora_salida': '15:30', 'Hora_llegada': '22:35', 'duracion_viaje': '7H5M', 'Duracion_vuelo_1': '1:45', 'No_vuelo_1': 'LA3710', 'Modelo_avion_1': 'Airbus 319', 'Aeropuerto_Ori_1': 'Congonhas', 'Aeropuerto_AbrOrig_1': 'CGH', 'Hora_Salida_1': '15:30', 'Aeropuerto_Lleg_1': 'Brasilia', 'Aeropuerto_AbrLleg_1': 'BSB', 'Hora_Llegada_1': '17:15', 'Tiempo_Espera': '3:35', 'Duracion_vuelo_2': '1:45', 'No_vuelo_2': 'LA3445', 'Modelo_avion_2': 'Airbus 320-200', 'Aeropuerto_Ori_2': 'Brasilia', 'Aeropuerto_AbrOrig_2': 'BSB', 'Hora_Salida_2': '20:50', 'Aeropuerto_Lleg_2': 'Galeao', 'Aeropuerto_AbrLleg_2': 'GIG', 'Hora_Llegada_2': '22:35', 'Categoría_1': 'LIGHT', 'Valor_USD1': '', 'Categoría_2': 'PLUS', 'Valor_USD2': '1111', 'Categoría_3': 'TOP', 'Valor_USD3': '1116'}, {'Hora_salida': '13:00', 'Hora_llegada': '20:20', 'duracion_viaje': '7H20M', 'Duracion_vuelo_1': '1:35', 'No_vuelo_1': 'LA3692', 'Modelo_avion_1': 'Airbus 320-200', 'Aeropuerto_Ori_1': 'Guarulhos', 'Aeropuerto_AbrOrig_1': 'GRU', 'Hora_Salida_1': '13:00', 'Aeropuerto_Lleg_1': 'Brasilia', 'Aeropuerto_AbrLleg_1': 'BSB', 'Hora_Llegada_1': '14:35', 'Tiempo_Espera': '3:55', 'Duracion_vuelo_2': '1:50', 'No_vuelo_2': 'LA3027', 'Modelo_avion_2': 'Airbus 319', 'Aeropuerto_Ori_2': 'Brasilia', 'Aeropuerto_AbrOrig_2': 'BSB', 'Hora_Salida_2': '18:30', 'Aeropuerto_Lleg_2': 'Santos Dumont', 'Aeropuerto_AbrLleg_2': 'SDU', 'Hora_Llegada_2': '20:20', 'Categoría_1': 'LIGHT', 'Valor_USD1': '', 'Categoría_2': 'PLUS', 'Valor_USD2': '', 'Categoría_3': 'TOP', 'Valor_USD3': '1115'}, {'Hora_salida': '12:40', 'Hora_llegada': '20:20', 'duracion_viaje': '7H40M', 'Duracion_vuelo_1': '1:45', 'No_vuelo_1': 'LA3706', 'Modelo_avion_1': 'Airbus 320-200', 'Aeropuerto_Ori_1': 'Congonhas', 'Aeropuerto_AbrOrig_1': 'CGH', 'Hora_Salida_1': '12:40', 'Aeropuerto_Lleg_1': 'Brasilia', 'Aeropuerto_AbrLleg_1': 'BSB', 'Hora_Llegada_1': '14:25', 'Tiempo_Espera': '4:5', 'Duracion_vuelo_2': '1:50', 'No_vuelo_2': 'LA3027', 'Modelo_avion_2': 'Airbus 319', 'Aeropuerto_Ori_2': 'Brasilia', 'Aeropuerto_AbrOrig_2': 'BSB', 'Hora_Salida_2': '18:30', 'Aeropuerto_Lleg_2': 'Santos Dumont', 'Aeropuerto_AbrLleg_2': 'SDU', 'Hora_Llegada_2': '20:20', 'Categoría_1': 'LIGHT', 'Valor_USD1': '', 'Categoría_2': 'PLUS', 'Valor_USD2': '', 'Categoría_3': 'TOP', 'Valor_USD3': '1116'}, {'Hora_salida': '07:00', 'Hora_llegada': '15:05', 'duracion_viaje': '8H5M', 'Duracion_vuelo_1': '1:25', 'No_vuelo_1': 'LA4684', 'Modelo_avion_1': 'Airbus 319', 'Aeropuerto_Ori_1': 'Guarulhos', 'Aeropuerto_AbrOrig_1': 'GRU', 'Hora_Salida_1': '07:00', 'Aeropuerto_Lleg_1': 'Eurico de Aguiar Salles', 'Aeropuerto_AbrLleg_1': 'VIX', 'Hora_Llegada_1': '08:25', 'Tiempo_Espera': '5:35', 'Duracion_vuelo_2': '1:5', 'No_vuelo_2': 'LA3624', 'Modelo_avion_2': 'Airbus 319', 'Aeropuerto_Ori_2': 'Eurico de Aguiar Salles', 'Aeropuerto_AbrOrig_2': 'VIX', 'Hora_Salida_2': '14:00', 'Aeropuerto_Lleg_2': 'Santos Dumont', 'Aeropuerto_AbrLleg_2': 'SDU', 'Hora_Llegada_2': '15:05', 'Categoría_1': 'LIGHT', 'Valor_USD1': '1105', 'Categoría_2': 'PLUS', 'Valor_USD2': '1110', 'Categoría_3': 'TOP', 'Valor_USD3': '1115'}, {'Hora_salida': '11:55', 'Hora_llegada': '20:20', 'duracion_viaje': '8H25M', 'Duracion_vuelo_1': '1:35', 'No_vuelo_1': 'LA4510', 'Modelo_avion_1': 'Airbus 320-200', 'Aeropuerto_Ori_1': 'Guarulhos', 'Aeropuerto_AbrOrig_1': 'GRU', 'Hora_Salida_1': '11:55', 'Aeropuerto_Lleg_1': 'Brasilia', 'Aeropuerto_AbrLleg_1': 'BSB', 'Hora_Llegada_1': '13:30', 'Tiempo_Espera': '5:0', 'Duracion_vuelo_2': '1:50', 'No_vuelo_2': 'LA3027', 'Modelo_avion_2': 'Airbus 319', 'Aeropuerto_Ori_2': 'Brasilia', 'Aeropuerto_AbrOrig_2': 'BSB', 'Hora_Salida_2': '18:30', 'Aeropuerto_Lleg_2': 'Santos Dumont', 'Aeropuerto_AbrLleg_2': 'SDU', 'Hora_Llegada_2': '20:20', 'Categoría_1': 'LIGHT', 'Valor_USD1': '', 'Categoría_2': 'PLUS', 'Valor_USD2': '', 'Categoría_3': 'TOP', 'Valor_USD3': '1115'}, {'Hora_salida': '11:00', 'Hora_llegada': '20:20', 'duracion_viaje': '9H20M', 'Duracion_vuelo_1': '1:50', 'No_vuelo_1': 'LA3306', 'Modelo_avion_1': 'Airbus 319', 'Aeropuerto_Ori_1': 'Congonhas', 'Aeropuerto_AbrOrig_1': 'CGH', 'Hora_Salida_1': '11:00', 'Aeropuerto_Lleg_1': 'Brasilia', 'Aeropuerto_AbrLleg_1': 'BSB', 'Hora_Llegada_1': '12:50', 'Tiempo_Espera': '5:40', 'Duracion_vuelo_2': '1:50', 'No_vuelo_2': 'LA3027', 'Modelo_avion_2': 'Airbus 319', 'Aeropuerto_Ori_2': 'Brasilia', 'Aeropuerto_AbrOrig_2': 'BSB', 'Hora_Salida_2': '18:30', 'Aeropuerto_Lleg_2': 'Santos Dumont', 'Aeropuerto_AbrLleg_2': 'SDU', 'Hora_Llegada_2': '20:20', 'Categoría_1': 'LIGHT', 'Valor_USD1': '', 'Categoría_2': 'PLUS', 'Valor_USD2': '', 'Categoría_3': 'TOP', 'Valor_USD3': '1116'}, {'Hora_salida': '13:00', 'Hora_llegada': '22:25', 'duracion_viaje': '9H25M', 'Duracion_vuelo_1': '1:35', 'No_vuelo_1': 'LA3692', 'Modelo_avion_1': 'Airbus 320-200', 'Aeropuerto_Ori_1': 'Guarulhos', 'Aeropuerto_AbrOrig_1': 'GRU', 'Hora_Salida_1': '13:00', 'Aeropuerto_Lleg_1': 'Brasilia', 'Aeropuerto_AbrLleg_1': 'BSB', 'Hora_Llegada_1': '14:35', 'Tiempo_Espera': '6:0', 'Duracion_vuelo_2': '1:50', 'No_vuelo_2': 'LA3939', 'Modelo_avion_2': 'Airbus 319', 'Aeropuerto_Ori_2': 'Brasilia', 'Aeropuerto_AbrOrig_2': 'BSB', 'Hora_Salida_2': '20:35', 'Aeropuerto_Lleg_2': 'Santos Dumont', 'Aeropuerto_AbrLleg_2': 'SDU', 'Hora_Llegada_2': '22:25', 'Categoría_1': 'LIGHT', 'Valor_USD1': '', 'Categoría_2': 'PLUS', 'Valor_USD2': '', 'Categoría_3': 'TOP', 'Valor_USD3': '1115'}, {'Hora_salida': '13:00', 'Hora_llegada': '22:35', 'duracion_viaje': '9H35M', 'Duracion_vuelo_1': '1:35', 'No_vuelo_1': 'LA3692', 'Modelo_avion_1': 'Airbus 320-200', 'Aeropuerto_Ori_1': 'Guarulhos', 'Aeropuerto_AbrOrig_1': 'GRU', 'Hora_Salida_1': '13:00', 'Aeropuerto_Lleg_1': 'Brasilia', 'Aeropuerto_AbrLleg_1': 'BSB', 'Hora_Llegada_1': '14:35', 'Tiempo_Espera': '6:15', 'Duracion_vuelo_2': '1:45', 'No_vuelo_2': 'LA3445', 'Modelo_avion_2': 'Airbus 320-200', 'Aeropuerto_Ori_2': 'Brasilia', 'Aeropuerto_AbrOrig_2': 'BSB', 'Hora_Salida_2': '20:50', 'Aeropuerto_Lleg_2': 'Galeao', 'Aeropuerto_AbrLleg_2': 'GIG', 'Hora_Llegada_2': '22:35', 'Categoría_1': 'LIGHT', 'Valor_USD1': '', 'Categoría_2': 'PLUS', 'Valor_USD2': '1110', 'Categoría_3': 'TOP', 'Valor_USD3': '1115'}, {'Hora_salida': '12:40', 'Hora_llegada': '22:25', 'duracion_viaje': '9H45M', 'Duracion_vuelo_1': '1:45', 'No_vuelo_1': 'LA3706', 'Modelo_avion_1': 'Airbus 320-200', 'Aeropuerto_Ori_1': 'Congonhas', 'Aeropuerto_AbrOrig_1': 'CGH', 'Hora_Salida_1': '12:40', 'Aeropuerto_Lleg_1': 'Brasilia', 'Aeropuerto_AbrLleg_1': 'BSB', 'Hora_Llegada_1': '14:25', 'Tiempo_Espera': '6:10', 'Duracion_vuelo_2': '1:50', 'No_vuelo_2': 'LA3939', 'Modelo_avion_2': 'Airbus 319', 'Aeropuerto_Ori_2': 'Brasilia', 'Aeropuerto_AbrOrig_2': 'BSB', 'Hora_Salida_2': '20:35', 'Aeropuerto_Lleg_2': 'Santos Dumont', 'Aeropuerto_AbrLleg_2': 'SDU', 'Hora_Llegada_2': '22:25', 'Categoría_1': 'LIGHT', 'Valor_USD1': '', 'Categoría_2': 'PLUS', 'Valor_USD2': '', 'Categoría_3': 'TOP', 'Valor_USD3': '1116'}, {'Hora_salida': '12:40', 'Hora_llegada': '22:35', 'duracion_viaje': '9H55M', 'Duracion_vuelo_1': '1:45', 'No_vuelo_1': 'LA3706', 'Modelo_avion_1': 'Airbus 320-200', 'Aeropuerto_Ori_1': 'Congonhas', 'Aeropuerto_AbrOrig_1': 'CGH', 'Hora_Salida_1': '12:40', 'Aeropuerto_Lleg_1': 'Brasilia', 'Aeropuerto_AbrLleg_1': 'BSB', 'Hora_Llegada_1': '14:25', 'Tiempo_Espera': '6:25', 'Duracion_vuelo_2': '1:45', 'No_vuelo_2': 'LA3445', 'Modelo_avion_2': 'Airbus 320-200', 'Aeropuerto_Ori_2': 'Brasilia', 'Aeropuerto_AbrOrig_2': 'BSB', 'Hora_Salida_2': '20:50', 'Aeropuerto_Lleg_2': 'Galeao', 'Aeropuerto_AbrLleg_2': 'GIG', 'Hora_Llegada_2': '22:35', 'Categoría_1': 'LIGHT', 'Valor_USD1': '', 'Categoría_2': 'PLUS', 'Valor_USD2': '', 'Categoría_3': 'TOP', 'Valor_USD3': '1116'}, {'Hora_salida': '11:55', 'Hora_llegada': '22:25', 'duracion_viaje': '10H30M', 'Duracion_vuelo_1': '1:35', 'No_vuelo_1': 'LA4510', 'Modelo_avion_1': 'Airbus 320-200', 'Aeropuerto_Ori_1': 'Guarulhos', 'Aeropuerto_AbrOrig_1': 'GRU', 'Hora_Salida_1': '11:55', 'Aeropuerto_Lleg_1': 'Brasilia', 'Aeropuerto_AbrLleg_1': 'BSB', 'Hora_Llegada_1': '13:30', 'Tiempo_Espera': '7:5', 'Duracion_vuelo_2': '1:50', 'No_vuelo_2': 'LA3939', 'Modelo_avion_2': 'Airbus 319', 'Aeropuerto_Ori_2': 'Brasilia', 'Aeropuerto_AbrOrig_2': 'BSB', 'Hora_Salida_2': '20:35', 'Aeropuerto_Lleg_2': 'Santos Dumont', 'Aeropuerto_AbrLleg_2': 'SDU', 'Hora_Llegada_2': '22:25', 'Categoría_1': 'LIGHT', 'Valor_USD1': '', 'Categoría_2': 'PLUS', 'Valor_USD2': '', 'Categoría_3': 'TOP', 'Valor_USD3': '1115'}, {'Hora_salida': '11:55', 'Hora_llegada': '22:35', 'duracion_viaje': '10H40M', 'Duracion_vuelo_1': '1:35', 'No_vuelo_1': 'LA4510', 'Modelo_avion_1': 'Airbus 320-200', 'Aeropuerto_Ori_1': 'Guarulhos', 'Aeropuerto_AbrOrig_1': 'GRU', 'Hora_Salida_1': '11:55', 'Aeropuerto_Lleg_1': 'Brasilia', 'Aeropuerto_AbrLleg_1': 'BSB', 'Hora_Llegada_1': '13:30', 'Tiempo_Espera': '7:20', 'Duracion_vuelo_2': '1:45', 'No_vuelo_2': 'LA3445', 'Modelo_avion_2': 'Airbus 320-200', 'Aeropuerto_Ori_2': 'Brasilia', 'Aeropuerto_AbrOrig_2': 'BSB', 'Hora_Salida_2': '20:50', 'Aeropuerto_Lleg_2': 'Galeao', 'Aeropuerto_AbrLleg_2': 'GIG', 'Hora_Llegada_2': '22:35', 'Categoría_1': 'LIGHT', 'Valor_USD1': '', 'Categoría_2': 'PLUS', 'Valor_USD2': '', 'Categoría_3': 'TOP', 'Valor_USD3': '1115'}, {'Hora_salida': '11:00', 'Hora_llegada': '22:25', 'duracion_viaje': '11H25M', 'Duracion_vuelo_1': '1:50', 'No_vuelo_1': 'LA3306', 'Modelo_avion_1': 'Airbus 319', 'Aeropuerto_Ori_1': 'Congonhas', 'Aeropuerto_AbrOrig_1': 'CGH', 'Hora_Salida_1': '11:00', 'Aeropuerto_Lleg_1': 'Brasilia', 'Aeropuerto_AbrLleg_1': 'BSB', 'Hora_Llegada_1': '12:50', 'Tiempo_Espera': '7:45', 'Duracion_vuelo_2': '1:50', 'No_vuelo_2': 'LA3939', 'Modelo_avion_2': 'Airbus 319', 'Aeropuerto_Ori_2': 'Brasilia', 'Aeropuerto_AbrOrig_2': 'BSB', 'Hora_Salida_2': '20:35', 'Aeropuerto_Lleg_2': 'Santos Dumont', 'Aeropuerto_AbrLleg_2': 'SDU', 'Hora_Llegada_2': '22:25', 'Categoría_1': 'LIGHT', 'Valor_USD1': '', 'Categoría_2': 'PLUS', 'Valor_USD2': '', 'Categoría_3': 'TOP', 'Valor_USD3': '1116'}, {'Hora_salida': '11:00', 'Hora_llegada': '22:35', 'duracion_viaje': '11H35M', 'Duracion_vuelo_1': '1:50', 'No_vuelo_1': 'LA3306', 'Modelo_avion_1': 'Airbus 319', 'Aeropuerto_Ori_1': 'Congonhas', 'Aeropuerto_AbrOrig_1': 'CGH', 'Hora_Salida_1': '11:00', 'Aeropuerto_Lleg_1': 'Brasilia', 'Aeropuerto_AbrLleg_1': 'BSB', 'Hora_Llegada_1': '12:50', 'Tiempo_Espera': '8:0', 'Duracion_vuelo_2': '1:45', 'No_vuelo_2': 'LA3445', 'Modelo_avion_2': 'Airbus 320-200', 'Aeropuerto_Ori_2': 'Brasilia', 'Aeropuerto_AbrOrig_2': 'BSB', 'Hora_Salida_2': '20:50', 'Aeropuerto_Lleg_2': 'Galeao', 'Aeropuerto_AbrLleg_2': 'GIG', 'Hora_Llegada_2': '22:35', 'Categoría_1': 'LIGHT', 'Valor_USD1': '', 'Categoría_2': 'PLUS', 'Valor_USD2': '', 'Categoría_3': 'TOP', 'Valor_USD3': '1116'}, {'Hora_salida': '08:25', 'Hora_llegada': '20:20', 'duracion_viaje': '11H55M', 'Duracion_vuelo_1': '1:45', 'No_vuelo_1': 'LA3704', 'Modelo_avion_1': 'Airbus 319', 'Aeropuerto_Ori_1': 'Congonhas', 'Aeropuerto_AbrOrig_1': 'CGH', 'Hora_Salida_1': '08:25', 'Aeropuerto_Lleg_1': 'Brasilia', 'Aeropuerto_AbrLleg_1': 'BSB', 'Hora_Llegada_1': '10:10', 'Tiempo_Espera': '8:20', 'Duracion_vuelo_2': '1:50', 'No_vuelo_2': 'LA3027', 'Modelo_avion_2': 'Airbus 319', 'Aeropuerto_Ori_2': 'Brasilia', 'Aeropuerto_AbrOrig_2': 'BSB', 'Hora_Salida_2': '18:30', 'Aeropuerto_Lleg_2': 'Santos Dumont', 'Aeropuerto_AbrLleg_2': 'SDU', 'Hora_Llegada_2': '20:20', 'Categoría_1': 'LIGHT', 'Valor_USD1': '', 'Categoría_2': 'PLUS', 'Valor_USD2': '1111', 'Categoría_3': 'TOP', 'Valor_USD3': '1116'}, {'Hora_salida': '18:05', 'Hora_llegada': '06:55', 'duracion_viaje': '12H50M', 'Duracion_vuelo_1': '1:40', 'No_vuelo_1': 'LA4689', 'Modelo_avion_1': 'Airbus 319', 'Aeropuerto_Ori_1': 'Guarulhos', 'Aeropuerto_AbrOrig_1': 'GRU', 'Hora_Salida_1': '18:05', 'Aeropuerto_Lleg_1': 'Brasilia', 'Aeropuerto_AbrLleg_1': 'BSB', 'Hora_Llegada_1': '19:45', 'Tiempo_Espera': '9:20', 'Duracion_vuelo_2': '1:50', 'No_vuelo_2': 'LA4766', 'Modelo_avion_2': 'Airbus 319', 'Aeropuerto_Ori_2': 'Brasilia', 'Aeropuerto_AbrOrig_2': 'BSB', 'Hora_Salida_2': '05:05', 'Aeropuerto_Lleg_2': 'Santos Dumont', 'Aeropuerto_AbrLleg_2': 'SDU', 'Hora_Llegada_2': '06:55', 'Categoría_1': 'LIGHT', 'Valor_USD1': '', 'Categoría_2': 'PLUS', 'Valor_USD2': '', 'Categoría_3': 'TOP', 'Valor_USD3': '1115'}, {'Hora_salida': '07:15', 'Hora_llegada': '20:20', 'duracion_viaje': '13H5M', 'Duracion_vuelo_1': '1:45', 'No_vuelo_1': 'LA3526', 'Modelo_avion_1': 'Airbus 320-200', 'Aeropuerto_Ori_1': 'Congonhas', 'Aeropuerto_AbrOrig_1': 'CGH', 'Hora_Salida_1': '07:15', 'Aeropuerto_Lleg_1': 'Brasilia', 'Aeropuerto_AbrLleg_1': 'BSB', 'Hora_Llegada_1': '09:00', 'Tiempo_Espera': '9:30', 'Duracion_vuelo_2': '1:50', 'No_vuelo_2': 'LA3027', 'Modelo_avion_2': 'Airbus 319', 'Aeropuerto_Ori_2': 'Brasilia', 'Aeropuerto_AbrOrig_2': 'BSB', 'Hora_Salida_2': '18:30', 'Aeropuerto_Lleg_2': 'Santos Dumont', 'Aeropuerto_AbrLleg_2': 'SDU', 'Hora_Llegada_2': '20:20', 'Categoría_1': 'LIGHT', 'Valor_USD1': '', 'Categoría_2': 'PLUS', 'Valor_USD2': '', 'Categoría_3': 'TOP', 'Valor_USD3': '1116'}, {'Hora_salida': '17:50', 'Hora_llegada': '06:55', 'duracion_viaje': '13H5M', 'Duracion_vuelo_1': '1:45', 'No_vuelo_1': 'LA3004', 'Modelo_avion_1': 'Airbus 319', 'Aeropuerto_Ori_1': 'Congonhas', 'Aeropuerto_AbrOrig_1': 'CGH', 'Hora_Salida_1': '17:50', 'Aeropuerto_Lleg_1': 'Brasilia', 'Aeropuerto_AbrLleg_1': 'BSB', 'Hora_Llegada_1': '19:35', 'Tiempo_Espera': '9:30', 'Duracion_vuelo_2': '1:50', 'No_vuelo_2': 'LA4766', 'Modelo_avion_2': 'Airbus 319', 'Aeropuerto_Ori_2': 'Brasilia', 'Aeropuerto_AbrOrig_2': 'BSB', 'Hora_Salida_2': '05:05', 'Aeropuerto_Lleg_2': 'Santos Dumont', 'Aeropuerto_AbrLleg_2': 'SDU', 'Hora_Llegada_2': '06:55', 'Categoría_1': 'LIGHT', 'Valor_USD1': '', 'Categoría_2': 'PLUS', 'Valor_USD2': '', 'Categoría_3': 'TOP', 'Valor_USD3': '1116'}, {'Hora_salida': '07:35', 'Hora_llegada': '14:30', 'duracion_viaje': '6H55M', 'Duracion_vuelo_1': '1:0', 'No_vuelo_1': 'LA3017', 'Modelo_avion_1': 'Airbus 321', 'Aeropuerto_Ori_1': 'Guarulhos', 'Aeropuerto_AbrOrig_1': 'GRU', 'Hora_Salida_1': '07:35', 'Aeropuerto_Lleg_1': 'Afonso Pena', 'Aeropuerto_AbrLleg_1': 'CWB', 'Hora_Llegada_1': '08:35', 'Tiempo_Espera': '4:25', 'Duracion_vuelo_2': '1:30', 'No_vuelo_2': 'LA9659', 'Modelo_avion_2': 'Airbus 320-200', 'Aeropuerto_Ori_2': 'Afonso Pena', 'Aeropuerto_AbrOrig_2': 'CWB', 'Hora_Salida_2': '13:00', 'Aeropuerto_Lleg_2': 'Santos Dumont', 'Aeropuerto_AbrLleg_2': 'SDU', 'Hora_Llegada_2': '14:30', 'Categoría_1': 'LIGHT', 'Valor_USD1': '', 'Categoría_2': 'PLUS', 'Valor_USD2': '1110', 'Categoría_3': 'TOP', 'Valor_USD3': '1115'}, {'Hora_salida': '08:10', 'Hora_llegada': '15:05', 'duracion_viaje': '6H55M', 'Duracion_vuelo_1': '1:30', 'No_vuelo_1': 'LA8529', 'Modelo_avion_1': '295', 'Aeropuerto_Ori_1': 'Viracopos', 'Aeropuerto_AbrOrig_1': 'VCP', 'Hora_Salida_1': '08:10', 'Aeropuerto_Lleg_1': 'Eurico de Aguiar Salles', 'Aeropuerto_AbrLleg_1': 'VIX', 'Hora_Llegada_1': '09:40', 'Tiempo_Espera': '4:20', 'Duracion_vuelo_2': '1:5', 'No_vuelo_2': 'LA3624', 'Modelo_avion_2': 'Airbus 319', 'Aeropuerto_Ori_2': 'Eurico de Aguiar Salles', 'Aeropuerto_AbrOrig_2': 'VIX', 'Hora_Salida_2': '14:00', 'Aeropuerto_Lleg_2': 'Santos Dumont', 'Aeropuerto_AbrLleg_2': 'SDU', 'Hora_Llegada_2': '15:05', 'Categoría_1': 'LIGHT', 'Valor_USD1': '', 'Categoría_2': 'PLUS', 'Valor_USD2': '', 'Categoría_3': 'TOP', 'Valor_USD3': '1115'}, {'Hora_salida': '06:45', 'Hora_llegada': '14:45', 'duracion_viaje': '8H', 'Duracion_vuelo_1': '1:35', 'No_vuelo_1': 'LA3142', 'Modelo_avion_1': 'Airbus 320-200', 'Aeropuerto_Ori_1': 'Guarulhos', 'Aeropuerto_AbrOrig_1': 'GRU', 'Hora_Salida_1': '06:45', 'Aeropuerto_Lleg_1': 'Goiania', 'Aeropuerto_AbrLleg_1': 'GYN', 'Hora_Llegada_1': '08:20', 'Tiempo_Espera': '4:40', 'Duracion_vuelo_2': '1:45', 'No_vuelo_2': 'LA9668', 'Modelo_avion_2': 'Airbus 320-200', 'Aeropuerto_Ori_2': 'Goiania', 'Aeropuerto_AbrOrig_2': 'GYN', 'Hora_Salida_2': '13:00', 'Aeropuerto_Lleg_2': 'Santos Dumont', 'Aeropuerto_AbrLleg_2': 'SDU', 'Hora_Llegada_2': '14:45', 'Categoría_1': 'LIGHT', 'Valor_USD1': '', 'Categoría_2': 'PLUS', 'Valor_USD2': '', 'Categoría_3': 'TOP', 'Valor_USD3': '1115'}, {'Hora_salida': '22:00', 'Hora_llegada': '06:55', 'duracion_viaje': '8H55M', 'Duracion_vuelo_1': '1:35', 'No_vuelo_1': 'LA9633', 'Modelo_avion_1': '295', 'Aeropuerto_Ori_1': 'Viracopos', 'Aeropuerto_AbrOrig_1': 'VCP', 'Hora_Salida_1': '22:00', 'Aeropuerto_Lleg_1': 'Brasilia', 'Aeropuerto_AbrLleg_1': 'BSB', 'Hora_Llegada_1': '23:35', 'Tiempo_Espera': '5:30', 'Duracion_vuelo_2': '1:50', 'No_vuelo_2': 'LA4766', 'Modelo_avion_2': 'Airbus 319', 'Aeropuerto_Ori_2': 'Brasilia', 'Aeropuerto_AbrOrig_2': 'BSB', 'Hora_Salida_2': '05:05', 'Aeropuerto_Lleg_2': 'Santos Dumont', 'Aeropuerto_AbrLleg_2': 'SDU', 'Hora_Llegada_2': '06:55', 'Categoría_1': 'LIGHT', 'Valor_USD1': '', 'Categoría_2': 'PLUS', 'Valor_USD2': '82', 'Categoría_3': 'TOP', 'Valor_USD3': '1115'}, {'Hora_salida': '08:10', 'Hora_llegada': '20:15', 'duracion_viaje': '12H5M', 'Duracion_vuelo_1': '1:30', 'No_vuelo_1': 'LA8529', 'Modelo_avion_1': '295', 'Aeropuerto_Ori_1': 'Viracopos', 'Aeropuerto_AbrOrig_1': 'VCP', 'Hora_Salida_1': '08:10', 'Aeropuerto_Lleg_1': 'Eurico de Aguiar Salles', 'Aeropuerto_AbrLleg_1': 'VIX', 'Hora_Llegada_1': '09:40', 'Tiempo_Espera': '9:30', 'Duracion_vuelo_2': '1:5', 'No_vuelo_2': 'LA3195', 'Modelo_avion_2': 'Airbus 319', 'Aeropuerto_Ori_2': 'Eurico de Aguiar Salles', 'Aeropuerto_AbrOrig_2': 'VIX', 'Hora_Salida_2': '19:10', 'Aeropuerto_Lleg_2': 'Santos Dumont', 'Aeropuerto_AbrLleg_2': 'SDU', 'Hora_Llegada_2': '20:15', 'Categoría_1': 'LIGHT', 'Valor_USD1': '', 'Categoría_2': 'PLUS', 'Valor_USD2': '', 'Categoría_3': 'TOP', 'Valor_USD3': '1115'}, {'Hora_salida': '21:35', 'Hora_llegada': '22:25', 'duracion_viaje': '50M', 'Duracion_vuelo_1': '0:50', 'No_vuelo_1': 'LA6076', 'Modelo_avion_1': '295', 'Aeropuerto_Ori_1': 'Viracopos', 'Aeropuerto_AbrOrig_1': 'VCP', 'Hora_Salida_1': '21:35', 'Aeropuerto_Lleg_1': 'Santos Dumont', 'Aeropuerto_AbrLleg_1': 'SDU', 'Hora_Llegada_1': '22:25', 'Categoría_1': 'LIGHT', 'Valor_USD1': '', 'Categoría_2': 'PLUS', 'Valor_USD2': '56', 'Categoría_3': 'TOP', 'Valor_USD3': '1115'}, {'Hora_salida': '08:50', 'Hora_llegada': '09:55', 'duracion_viaje': '1H5M', 'Duracion_vuelo_1': '1:5', 'No_vuelo_1': 'LA6073', 'Modelo_avion_1': '295', 'Aeropuerto_Ori_1': 'Viracopos', 'Aeropuerto_AbrOrig_1': 'VCP', 'Hora_Salida_1': '08:50', 'Aeropuerto_Lleg_1': 'Santos Dumont', 'Aeropuerto_AbrLleg_1': 'SDU', 'Hora_Llegada_1': '09:55', 'Categoría_1': 'LIGHT', 'Valor_USD1': '', 'Categoría_2': 'PLUS', 'Valor_USD2': '56', 'Categoría_3': 'TOP', 'Valor_USD3': '1115'}, {'Hora_salida': '22:05', 'Hora_llegada': '15:05', 'duracion_viaje': '17H', 'Duracion_vuelo_1': '1:10', 'No_vuelo_1': 'LA9628', 'Modelo_avion_1': 'Airbus 320-200', 'Aeropuerto_Ori_1': 'Viracopos', 'Aeropuerto_AbrOrig_1': 'VCP', 'Hora_Salida_1': '22:05', 'Aeropuerto_Lleg_1': 'Confins', 'Aeropuerto_AbrLleg_1': 'CNF', 'Hora_Llegada_1': '23:15', 'Tiempo_Espera': '1:5', 'Duracion_vuelo_2': '1:5', 'No_vuelo_2': 'LA5652', 'Modelo_avion_2': '295', 'Aeropuerto_Ori_2': 'Confins', 'Aeropuerto_AbrOrig_2': 'CNF', 'Hora_Salida_2': '08:50', 'Aeropuerto_Lleg_2': 'Eurico de Aguiar Salles', 'Aeropuerto_AbrLleg_2': 'VIX', 'Hora_Llegada_2': '09:55', 'Categoría_1': 'LIGHT', 'Valor_USD1': '', 'Categoría_2': 'PLUS', 'Valor_USD2': '', 'Categoría_3': 'TOP', 'Valor_USD3': '1115'}, {'Hora_salida': '22:05', 'Hora_llegada': '20:15', 'duracion_viaje': '22H10M', 'Duracion_vuelo_1': '1:10', 'No_vuelo_1': 'LA9628', 'Modelo_avion_1': 'Airbus 320-200', 'Aeropuerto_Ori_1': 'Viracopos', 'Aeropuerto_AbrOrig_1': 'VCP', 'Hora_Salida_1': '22:05', 'Aeropuerto_Lleg_1': 'Confins', 'Aeropuerto_AbrLleg_1': 'CNF', 'Hora_Llegada_1': '23:15', 'Tiempo_Espera': '1:5', 'Duracion_vuelo_2': '1:5', 'No_vuelo_2': 'LA5652', 'Modelo_avion_2': '295', 'Aeropuerto_Ori_2': 'Confins', 'Aeropuerto_AbrOrig_2': 'CNF', 'Hora_Salida_2': '08:50', 'Aeropuerto_Lleg_2': 'Eurico de Aguiar Salles', 'Aeropuerto_AbrLleg_2': 'VIX', 'Hora_Llegada_2': '09:55', 'Categoría_1': 'LIGHT', 'Valor_USD1': '', 'Categoría_2': 'PLUS', 'Valor_USD2': '', 'Categoría_3': 'TOP', 'Valor_USD3': '1115'}, {'Hora_salida': '08:30', 'Hora_llegada': '14:45', 'duracion_viaje': '6H15M', 'Duracion_vuelo_1': '1:30', 'No_vuelo_1': 'LA9635', 'Modelo_avion_1': '295', 'Aeropuerto_Ori_1': 'Viracopos', 'Aeropuerto_AbrOrig_1': 'VCP', 'Hora_Salida_1': '08:30', 'Aeropuerto_Lleg_1': 'Goiania', 'Aeropuerto_AbrLleg_1': 'GYN', 'Hora_Llegada_1': '10:00', 'Tiempo_Espera': '3:0', 'Duracion_vuelo_2': '1:45', 'No_vuelo_2': 'LA9668', 'Modelo_avion_2': 'Airbus 320-200', 'Aeropuerto_Ori_2': 'Goiania', 'Aeropuerto_AbrOrig_2': 'GYN', 'Hora_Salida_2': '13:00', 'Aeropuerto_Lleg_2': 'Santos Dumont', 'Aeropuerto_AbrLleg_2': 'SDU', 'Hora_Llegada_2': '14:45', 'Categoría_1': 'LIGHT', 'Valor_USD1': '', 'Categoría_2': 'PLUS', 'Valor_USD2': '', 'Categoría_3': 'TOP', 'Valor_USD3': '1115'}, {'Hora_salida': '07:45', 'Hora_llegada': '14:30', 'duracion_viaje': '6H45M', 'Duracion_vuelo_1': '1:0', 'No_vuelo_1': 'LA4993', 'Modelo_avion_1': '295', 'Aeropuerto_Ori_1': 'Viracopos', 'Aeropuerto_AbrOrig_1': 'VCP', 'Hora_Salida_1': '07:45', 'Aeropuerto_Lleg_1': 'Afonso Pena', 'Aeropuerto_AbrLleg_1': 'CWB', 'Hora_Llegada_1': '08:45', 'Tiempo_Espera': '4:15', 'Duracion_vuelo_2': '1:30', 'No_vuelo_2': 'LA9659', 'Modelo_avion_2': 'Airbus 320-200', 'Aeropuerto_Ori_2': 'Afonso Pena', 'Aeropuerto_AbrOrig_2': 'CWB', 'Hora_Salida_2': '13:00', 'Aeropuerto_Lleg_2': 'Santos Dumont', 'Aeropuerto_AbrLleg_2': 'SDU', 'Hora_Llegada_2': '14:30', 'Categoría_1': 'LIGHT', 'Valor_USD1': '', 'Categoría_2': 'PLUS', 'Valor_USD2': '1110', 'Categoría_3': 'TOP', 'Valor_USD3': '1115'}]\n"
    }
   ],
   "source": [
    "print(info)"
   ]
  },
  {
   "cell_type": "code",
   "execution_count": 47,
   "metadata": {},
   "outputs": [
    {
     "output_type": "execute_result",
     "data": {
      "text/plain": "  Hora_salida Hora_llegada duracion_viaje Duracion_vuelo_1 No_vuelo_1  \\\n0       07:15        08:10            55M             0:55     LA3807   \n1       08:15        09:10            55M             0:55     LA3910   \n2       11:55        12:50            55M             0:55     LA3070   \n3       19:20        20:15            55M             0:55     LA3236   \n4       13:00        14:00             1H              1:0     LA3614   \n\n  Modelo_avion_1 Aeropuerto_Ori_1 Aeropuerto_AbrOrig_1 Hora_Salida_1  \\\n0     Airbus 319        Guarulhos                  GRU         07:15   \n1     Airbus 319        Guarulhos                  GRU         08:15   \n2     Airbus 319        Guarulhos                  GRU         11:55   \n3     Airbus 319        Guarulhos                  GRU         19:20   \n4     Airbus 319        Guarulhos                  GRU         13:00   \n\n  Aeropuerto_Lleg_1  ... Tiempo_Espera Duracion_vuelo_2 No_vuelo_2  \\\n0     Santos Dumont  ...           NaN              NaN        NaN   \n1     Santos Dumont  ...           NaN              NaN        NaN   \n2     Santos Dumont  ...           NaN              NaN        NaN   \n3     Santos Dumont  ...           NaN              NaN        NaN   \n4     Santos Dumont  ...           NaN              NaN        NaN   \n\n  Modelo_avion_2 Aeropuerto_Ori_2 Aeropuerto_AbrOrig_2 Hora_Salida_2  \\\n0            NaN              NaN                  NaN           NaN   \n1            NaN              NaN                  NaN           NaN   \n2            NaN              NaN                  NaN           NaN   \n3            NaN              NaN                  NaN           NaN   \n4            NaN              NaN                  NaN           NaN   \n\n  Aeropuerto_Lleg_2 Aeropuerto_AbrLleg_2 Hora_Llegada_2  \n0               NaN                  NaN            NaN  \n1               NaN                  NaN            NaN  \n2               NaN                  NaN            NaN  \n3               NaN                  NaN            NaN  \n4               NaN                  NaN            NaN  \n\n[5 rows x 28 columns]",
      "text/html": "<div>\n<style scoped>\n    .dataframe tbody tr th:only-of-type {\n        vertical-align: middle;\n    }\n\n    .dataframe tbody tr th {\n        vertical-align: top;\n    }\n\n    .dataframe thead th {\n        text-align: right;\n    }\n</style>\n<table border=\"1\" class=\"dataframe\">\n  <thead>\n    <tr style=\"text-align: right;\">\n      <th></th>\n      <th>Hora_salida</th>\n      <th>Hora_llegada</th>\n      <th>duracion_viaje</th>\n      <th>Duracion_vuelo_1</th>\n      <th>No_vuelo_1</th>\n      <th>Modelo_avion_1</th>\n      <th>Aeropuerto_Ori_1</th>\n      <th>Aeropuerto_AbrOrig_1</th>\n      <th>Hora_Salida_1</th>\n      <th>Aeropuerto_Lleg_1</th>\n      <th>...</th>\n      <th>Tiempo_Espera</th>\n      <th>Duracion_vuelo_2</th>\n      <th>No_vuelo_2</th>\n      <th>Modelo_avion_2</th>\n      <th>Aeropuerto_Ori_2</th>\n      <th>Aeropuerto_AbrOrig_2</th>\n      <th>Hora_Salida_2</th>\n      <th>Aeropuerto_Lleg_2</th>\n      <th>Aeropuerto_AbrLleg_2</th>\n      <th>Hora_Llegada_2</th>\n    </tr>\n  </thead>\n  <tbody>\n    <tr>\n      <th>0</th>\n      <td>07:15</td>\n      <td>08:10</td>\n      <td>55M</td>\n      <td>0:55</td>\n      <td>LA3807</td>\n      <td>Airbus 319</td>\n      <td>Guarulhos</td>\n      <td>GRU</td>\n      <td>07:15</td>\n      <td>Santos Dumont</td>\n      <td>...</td>\n      <td>NaN</td>\n      <td>NaN</td>\n      <td>NaN</td>\n      <td>NaN</td>\n      <td>NaN</td>\n      <td>NaN</td>\n      <td>NaN</td>\n      <td>NaN</td>\n      <td>NaN</td>\n      <td>NaN</td>\n    </tr>\n    <tr>\n      <th>1</th>\n      <td>08:15</td>\n      <td>09:10</td>\n      <td>55M</td>\n      <td>0:55</td>\n      <td>LA3910</td>\n      <td>Airbus 319</td>\n      <td>Guarulhos</td>\n      <td>GRU</td>\n      <td>08:15</td>\n      <td>Santos Dumont</td>\n      <td>...</td>\n      <td>NaN</td>\n      <td>NaN</td>\n      <td>NaN</td>\n      <td>NaN</td>\n      <td>NaN</td>\n      <td>NaN</td>\n      <td>NaN</td>\n      <td>NaN</td>\n      <td>NaN</td>\n      <td>NaN</td>\n    </tr>\n    <tr>\n      <th>2</th>\n      <td>11:55</td>\n      <td>12:50</td>\n      <td>55M</td>\n      <td>0:55</td>\n      <td>LA3070</td>\n      <td>Airbus 319</td>\n      <td>Guarulhos</td>\n      <td>GRU</td>\n      <td>11:55</td>\n      <td>Santos Dumont</td>\n      <td>...</td>\n      <td>NaN</td>\n      <td>NaN</td>\n      <td>NaN</td>\n      <td>NaN</td>\n      <td>NaN</td>\n      <td>NaN</td>\n      <td>NaN</td>\n      <td>NaN</td>\n      <td>NaN</td>\n      <td>NaN</td>\n    </tr>\n    <tr>\n      <th>3</th>\n      <td>19:20</td>\n      <td>20:15</td>\n      <td>55M</td>\n      <td>0:55</td>\n      <td>LA3236</td>\n      <td>Airbus 319</td>\n      <td>Guarulhos</td>\n      <td>GRU</td>\n      <td>19:20</td>\n      <td>Santos Dumont</td>\n      <td>...</td>\n      <td>NaN</td>\n      <td>NaN</td>\n      <td>NaN</td>\n      <td>NaN</td>\n      <td>NaN</td>\n      <td>NaN</td>\n      <td>NaN</td>\n      <td>NaN</td>\n      <td>NaN</td>\n      <td>NaN</td>\n    </tr>\n    <tr>\n      <th>4</th>\n      <td>13:00</td>\n      <td>14:00</td>\n      <td>1H</td>\n      <td>1:0</td>\n      <td>LA3614</td>\n      <td>Airbus 319</td>\n      <td>Guarulhos</td>\n      <td>GRU</td>\n      <td>13:00</td>\n      <td>Santos Dumont</td>\n      <td>...</td>\n      <td>NaN</td>\n      <td>NaN</td>\n      <td>NaN</td>\n      <td>NaN</td>\n      <td>NaN</td>\n      <td>NaN</td>\n      <td>NaN</td>\n      <td>NaN</td>\n      <td>NaN</td>\n      <td>NaN</td>\n    </tr>\n  </tbody>\n</table>\n<p>5 rows × 28 columns</p>\n</div>"
     },
     "metadata": {},
     "execution_count": 47
    }
   ],
   "source": [
    "import pandas as pd\n",
    "df = pd.DataFrame(info)\n",
    "df.head(5)"
   ]
  },
  {
   "source": [
    "## Clase 6  No funcion esta parte\n",
    "\n",
    "Ya tenemos el bloque de código que nos permite obtener información de los vuelos a partir de una URL. ¿Pero cómo consturimos la URL?"
   ],
   "cell_type": "markdown",
   "metadata": {}
  },
  {
   "cell_type": "code",
   "execution_count": 53,
   "metadata": {
    "tags": []
   },
   "outputs": [
    {
     "output_type": "stream",
     "name": "stdout",
     "text": "https://www.latam.com/es_mx/apps/personas/booking?fecha1_dia=24&fecha1_anomes=2020-10&auAvailability=1&ida_vuelta=ida&vuelos_origen=Sao%20Paulo&from_city1=SAO&vuelos_destino=R%C3%ADo%20de%20Janeiro&to_city1=RIO&flex=1&vuelos_fecha_salida_ddmmaaaa=24/10/2020&cabina=Y&nadults=1&nchildren=0&ninfants=0&cod_promo=&stopover_outbound_days=0&stopover_inbound_days=0#/\n"
    }
   ],
   "source": [
    "print(url)"
   ]
  },
  {
   "cell_type": "code",
   "execution_count": 108,
   "metadata": {},
   "outputs": [],
   "source": [
    "url_base = 'https://www.latam.com/es_ar/apps/personas/booking?' "
   ]
  },
  {
   "cell_type": "code",
   "execution_count": 110,
   "metadata": {},
   "outputs": [
    {
     "output_type": "execute_result",
     "data": {
      "text/plain": "['x/apps/personas/booking?fecha1_dia=24',\n 'fecha1_anomes=2020-10',\n 'auAvailability=1',\n 'ida_vuelta=ida',\n 'vuelos_origen=Sao%20Paulo',\n 'from_city1=SAO',\n 'vuelos_destino=R%C3%ADo%20de%20Janeiro',\n 'to_city1=RIO',\n 'flex=1',\n 'vuelos_fecha_salida_ddmmaaaa=24/10/2020',\n 'cabina=Y',\n 'nadults=1',\n 'nchildren=0',\n 'ninfants=0',\n 'cod_promo=',\n 'stopover_outbound_days=0',\n 'stopover_inbound_days=0#']"
     },
     "metadata": {},
     "execution_count": 110
    }
   ],
   "source": [
    "params = url.strip(url_base).split('&')\n",
    "params"
   ]
  },
  {
   "cell_type": "code",
   "execution_count": 119,
   "metadata": {},
   "outputs": [],
   "source": [
    "fecha = '22/10/2019'"
   ]
  },
  {
   "cell_type": "code",
   "execution_count": 120,
   "metadata": {},
   "outputs": [
    {
     "output_type": "execute_result",
     "data": {
      "text/plain": "time.struct_time(tm_year=2019, tm_mon=10, tm_mday=22, tm_hour=0, tm_min=0, tm_sec=0, tm_wday=1, tm_yday=295, tm_isdst=-1)"
     },
     "metadata": {},
     "execution_count": 120
    }
   ],
   "source": [
    "import time\n",
    "fecha = time.strptime(fecha, '%d/%m/%Y')\n",
    "fecha"
   ]
  },
  {
   "cell_type": "code",
   "execution_count": 121,
   "metadata": {},
   "outputs": [],
   "source": [
    "def armar_url(url_base, fecha, origen, destino, cabina):   #No esta completo\n",
    "    url = url_base\n",
    "    url+=f'&fecha1_dia={fecha.tm_mday}'\n",
    "    url+=f'&fecha1_anomes={fecha.tm_year}-{fecha.tm_mon}'\n",
    "    url+=f'&auAvailability=1'\n",
    "    url+=f'&ida_vuelta=ida'\n",
    "    url+=f'&from_city1={origen}'\n",
    "    url+=f'&to_city1={destino}'\n",
    "    url+=f'&vuelos_fecha_salida_ddmmaaaa={time.strftime(\"%d/%m/%Y\",fecha)}'\n",
    "    url+=f'&cabina={cabina}'\n",
    "    url+=f'&nadults=1'\n",
    "    return url"
   ]
  },
  {
   "cell_type": "code",
   "execution_count": 123,
   "metadata": {},
   "outputs": [
    {
     "output_type": "execute_result",
     "data": {
      "text/plain": "'https://www.latam.com/es_ar/apps/personas/booking?&fecha1_dia=22&fecha1_anomes=2019-10&auAvailability=1&ida_vuelta=ida&from_city1=SAO&to_city1=RIO&vuelos_fecha_salida_ddmmaaaa=22/10/2019&cabina=Y&nadults=1'"
     },
     "metadata": {},
     "execution_count": 123
    }
   ],
   "source": [
    "url = armar_url(url_base,fecha, 'SAO', 'RIO', 'Y')\n",
    "url"
   ]
  },
  {
   "cell_type": "code",
   "execution_count": 124,
   "metadata": {},
   "outputs": [
    {
     "output_type": "execute_result",
     "data": {
      "text/plain": "['https://www.latam.com/es_ar/apps/personas/booking?&fecha1_dia=22&fecha1_anomes=2019-10&auAvailability=1&ida_vuelta=ida&from_city1=SAO&to_city1=RIO&vuelos_fecha_salida_ddmmaaaa=22/10/2019&cabina=Y&nadults=1',\n 'https://www.latam.com/es_ar/apps/personas/booking?&fecha1_dia=22&fecha1_anomes=2019-10&auAvailability=1&ida_vuelta=ida&from_city1=SAO&to_city1=RAO&vuelos_fecha_salida_ddmmaaaa=22/10/2019&cabina=Y&nadults=1']"
     },
     "metadata": {},
     "execution_count": 124
    }
   ],
   "source": [
    "urls = [armar_url(url_base, fecha, 'SAO', destino, 'Y') for destino in ['RIO', 'RAO']]\n",
    "urls"
   ]
  },
  {
   "cell_type": "code",
   "execution_count": 137,
   "metadata": {},
   "outputs": [],
   "source": [
    "def scrape_latam(urls):\n",
    "    options = webdriver.ChromeOptions()\n",
    "    options.add_argument('--incognito')\n",
    "    driver = webdriver.Chrome(executable_path='C:\\dChrome\\chromedriver.exe', options=options)\n",
    "    delay = 10\n",
    "    # Si es un string único, lo convierto en lista\n",
    "    if type(urls) == str:\n",
    "        urls = [urls]\n",
    "\n",
    "    print(urls)\n",
    "    info = []\n",
    "    for url in urls:\n",
    "        print('Scraping URL:',url)\n",
    "        driver.get(url)\n",
    "        try:\n",
    "            vuelo = WebDriverWait(driver, delay).until(EC.presence_of_element_located((By.XPATH, '//li[@class=\"flight\"]')))\n",
    "            print(\"La página terminó de cargar o no se encontraron vuelos disponibles\")\n",
    "            info.append(obtener_info(driver))\n",
    "        except TimeoutException:\n",
    "            print(\"La página tardó demasiado en cargar\")\n",
    "    driver.close()\n",
    "    return info"
   ]
  },
  {
   "cell_type": "code",
   "execution_count": 142,
   "metadata": {
    "tags": []
   },
   "outputs": [],
   "source": [
    "scrape_latam(urls)"
   ]
  }
 ],
 "metadata": {
  "kernelspec": {
   "display_name": "Python 3",
   "language": "python",
   "name": "python3"
  },
  "language_info": {
   "codemirror_mode": {
    "name": "ipython",
    "version": 3
   },
   "file_extension": ".py",
   "mimetype": "text/x-python",
   "name": "python",
   "nbconvert_exporter": "python",
   "pygments_lexer": "ipython3",
   "version": "3.8.3-final"
  }
 },
 "nbformat": 4,
 "nbformat_minor": 2
}