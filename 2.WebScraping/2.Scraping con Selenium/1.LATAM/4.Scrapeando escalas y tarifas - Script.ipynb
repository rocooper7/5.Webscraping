{
 "cells": [
  {
   "cell_type": "markdown",
   "metadata": {},
   "source": [
    "# Módulo 2: Scraping con Selenium\n",
    "## LATAM Airlines\n",
    "<a href=\"https://www.latam.com/es_ar/\"><img src=\"https://i.pinimg.com/originals/dd/52/74/dd5274702d1382d696caeb6e0f6980c5.png\"  width=\"420\"></img></a>\n",
    "<br>\n",
    "\n",
    "Vamos a scrapear el sitio de Latam para averiguar datos de vuelos en funcion el origen y destino, fecha y cabina. La información que esperamos obtener de cada vuelo es:\n",
    "- Precio(s) disponibles\n",
    "- Horas de salida y llegada (duración)\n",
    "- Información de las escalas\n",
    "\n",
    "¡Empecemos!"
   ]
  },
  {
   "cell_type": "code",
   "execution_count": 1,
   "metadata": {},
   "outputs": [],
   "source": [
    "url = 'https://www.latam.com/es_mx/apps/personas/booking?fecha1_dia=24&fecha1_anomes=2020-10&auAvailability=1&ida_vuelta=ida&vuelos_origen=Sao%20Paulo&from_city1=SAO&vuelos_destino=R%C3%ADo%20de%20Janeiro&to_city1=RIO&flex=1&vuelos_fecha_salida_ddmmaaaa=24/10/2020&cabina=Y&nadults=1&nchildren=0&ninfants=0&cod_promo=&stopover_outbound_days=0&stopover_inbound_days=0#/'"
   ]
  },
  {
   "cell_type": "code",
   "execution_count": 2,
   "metadata": {},
   "outputs": [],
   "source": [
    "from selenium import webdriver"
   ]
  },
  {
   "cell_type": "code",
   "execution_count": 3,
   "metadata": {},
   "outputs": [],
   "source": [
    "options = webdriver.ChromeOptions()\n",
    "options.add_argument('--incognito')\n",
    "driver = webdriver.Chrome(executable_path='C:\\dChrome\\chromedriver.exe', options=options)\n",
    "driver.get(url)"
   ]
  },
  {
   "cell_type": "code",
   "execution_count": 4,
   "metadata": {
    "tags": []
   },
   "outputs": [
    {
     "output_type": "stream",
     "name": "stdout",
     "text": "[<selenium.webdriver.remote.webelement.WebElement (session=\"23c8d20a1aa3099b1bb241c1c50d4ca8\", element=\"8f191af7-3746-4074-9c8e-547c73ba160c\")>, <selenium.webdriver.remote.webelement.WebElement (session=\"23c8d20a1aa3099b1bb241c1c50d4ca8\", element=\"e948c673-5c64-4262-89f7-eb7e0c5253e7\")>, <selenium.webdriver.remote.webelement.WebElement (session=\"23c8d20a1aa3099b1bb241c1c50d4ca8\", element=\"2cf52ca5-6901-4e27-807f-712d6ca7b7ae\")>, <selenium.webdriver.remote.webelement.WebElement (session=\"23c8d20a1aa3099b1bb241c1c50d4ca8\", element=\"5745df9e-9e06-4b47-a6fc-5e25131a1102\")>, <selenium.webdriver.remote.webelement.WebElement (session=\"23c8d20a1aa3099b1bb241c1c50d4ca8\", element=\"1a1ca5cb-a9d4-41bb-b89f-9c9ea73ac181\")>, <selenium.webdriver.remote.webelement.WebElement (session=\"23c8d20a1aa3099b1bb241c1c50d4ca8\", element=\"135a9493-3935-4901-b555-9c82c4a28923\")>, <selenium.webdriver.remote.webelement.WebElement (session=\"23c8d20a1aa3099b1bb241c1c50d4ca8\", element=\"e8c4a468-62f2-47b5-a034-4fd5ca3c7e37\")>, <selenium.webdriver.remote.webelement.WebElement (session=\"23c8d20a1aa3099b1bb241c1c50d4ca8\", element=\"b537ac0c-c545-46cd-9542-b88644dfd2cb\")>, <selenium.webdriver.remote.webelement.WebElement (session=\"23c8d20a1aa3099b1bb241c1c50d4ca8\", element=\"79fefe9a-751e-4abf-85d3-08d26e729ba0\")>, <selenium.webdriver.remote.webelement.WebElement (session=\"23c8d20a1aa3099b1bb241c1c50d4ca8\", element=\"47f4ae77-011c-4e21-b032-720b00b0b4de\")>, <selenium.webdriver.remote.webelement.WebElement (session=\"23c8d20a1aa3099b1bb241c1c50d4ca8\", element=\"f6e6aa82-6f50-4ffc-8914-e53c017b5d83\")>, <selenium.webdriver.remote.webelement.WebElement (session=\"23c8d20a1aa3099b1bb241c1c50d4ca8\", element=\"5e40702d-c8fd-4beb-b1fa-9cad233e6e20\")>, <selenium.webdriver.remote.webelement.WebElement (session=\"23c8d20a1aa3099b1bb241c1c50d4ca8\", element=\"2045e9ca-95a3-4db6-a1ab-81bdf0505d64\")>, <selenium.webdriver.remote.webelement.WebElement (session=\"23c8d20a1aa3099b1bb241c1c50d4ca8\", element=\"75c24e6d-e747-40f1-a007-2501fdbbce51\")>, <selenium.webdriver.remote.webelement.WebElement (session=\"23c8d20a1aa3099b1bb241c1c50d4ca8\", element=\"65ab9aed-21e2-481c-8974-f2fb74eb1574\")>, <selenium.webdriver.remote.webelement.WebElement (session=\"23c8d20a1aa3099b1bb241c1c50d4ca8\", element=\"a872e883-7914-4094-8163-1964217314a2\")>, <selenium.webdriver.remote.webelement.WebElement (session=\"23c8d20a1aa3099b1bb241c1c50d4ca8\", element=\"7c5af83e-5e6d-4eb2-8eb1-d853071cd66e\")>, <selenium.webdriver.remote.webelement.WebElement (session=\"23c8d20a1aa3099b1bb241c1c50d4ca8\", element=\"691541f2-5ba5-4377-ba24-2660c4232fe7\")>, <selenium.webdriver.remote.webelement.WebElement (session=\"23c8d20a1aa3099b1bb241c1c50d4ca8\", element=\"7823cd41-6af9-41cd-a180-eb0d64511cdf\")>, <selenium.webdriver.remote.webelement.WebElement (session=\"23c8d20a1aa3099b1bb241c1c50d4ca8\", element=\"fb7ab1fc-f6c8-4aba-a03a-6825f1d56fbc\")>, <selenium.webdriver.remote.webelement.WebElement (session=\"23c8d20a1aa3099b1bb241c1c50d4ca8\", element=\"75332827-f842-4b74-8749-4fa63a1f79fe\")>, <selenium.webdriver.remote.webelement.WebElement (session=\"23c8d20a1aa3099b1bb241c1c50d4ca8\", element=\"9420d36f-4d1c-4f3c-a526-6b1b39f75bd7\")>, <selenium.webdriver.remote.webelement.WebElement (session=\"23c8d20a1aa3099b1bb241c1c50d4ca8\", element=\"98bb0deb-5a79-47fb-aca2-e368ffc57793\")>, <selenium.webdriver.remote.webelement.WebElement (session=\"23c8d20a1aa3099b1bb241c1c50d4ca8\", element=\"1d417e08-bbb7-49ad-87bc-d7bda8c4b972\")>, <selenium.webdriver.remote.webelement.WebElement (session=\"23c8d20a1aa3099b1bb241c1c50d4ca8\", element=\"7336766d-bbc5-4c08-914d-b6173231d807\")>, <selenium.webdriver.remote.webelement.WebElement (session=\"23c8d20a1aa3099b1bb241c1c50d4ca8\", element=\"65ffcc5c-f1d5-4983-b1ea-819ed9d38b2f\")>, <selenium.webdriver.remote.webelement.WebElement (session=\"23c8d20a1aa3099b1bb241c1c50d4ca8\", element=\"951ee0b9-60a2-4545-b88f-91b90e1371f6\")>, <selenium.webdriver.remote.webelement.WebElement (session=\"23c8d20a1aa3099b1bb241c1c50d4ca8\", element=\"c56807e4-17f1-4deb-84b9-0968fef4b051\")>, <selenium.webdriver.remote.webelement.WebElement (session=\"23c8d20a1aa3099b1bb241c1c50d4ca8\", element=\"7babc7aa-d1e8-4912-bb41-cbf3f935427e\")>, <selenium.webdriver.remote.webelement.WebElement (session=\"23c8d20a1aa3099b1bb241c1c50d4ca8\", element=\"1be9605f-709d-40fd-a8de-f510e47cdfdb\")>, <selenium.webdriver.remote.webelement.WebElement (session=\"23c8d20a1aa3099b1bb241c1c50d4ca8\", element=\"cf9970af-1431-4479-a64e-f130aab2c948\")>, <selenium.webdriver.remote.webelement.WebElement (session=\"23c8d20a1aa3099b1bb241c1c50d4ca8\", element=\"33834418-6792-4e50-843a-61e7ef177259\")>, <selenium.webdriver.remote.webelement.WebElement (session=\"23c8d20a1aa3099b1bb241c1c50d4ca8\", element=\"6ea06c0b-d0d7-488a-ba25-4236a5cd17b8\")>, <selenium.webdriver.remote.webelement.WebElement (session=\"23c8d20a1aa3099b1bb241c1c50d4ca8\", element=\"0692ce03-9b85-4911-80ce-9402480f64ca\")>, <selenium.webdriver.remote.webelement.WebElement (session=\"23c8d20a1aa3099b1bb241c1c50d4ca8\", element=\"fb8dbdd8-11ba-42cf-aedd-c34139699ac5\")>, <selenium.webdriver.remote.webelement.WebElement (session=\"23c8d20a1aa3099b1bb241c1c50d4ca8\", element=\"938da1ff-1aaf-41b7-a599-8bfde8a0abf3\")>, <selenium.webdriver.remote.webelement.WebElement (session=\"23c8d20a1aa3099b1bb241c1c50d4ca8\", element=\"8f47387a-fef6-4e6e-be26-43731c88eb54\")>, <selenium.webdriver.remote.webelement.WebElement (session=\"23c8d20a1aa3099b1bb241c1c50d4ca8\", element=\"27cba9f6-f040-490b-8ffc-227a8019e7a3\")>, <selenium.webdriver.remote.webelement.WebElement (session=\"23c8d20a1aa3099b1bb241c1c50d4ca8\", element=\"c8e7009e-de8f-4e55-b0d7-12295aed1b18\")>, <selenium.webdriver.remote.webelement.WebElement (session=\"23c8d20a1aa3099b1bb241c1c50d4ca8\", element=\"a6721170-5a77-4b08-a306-d5f31376dfa3\")>, <selenium.webdriver.remote.webelement.WebElement (session=\"23c8d20a1aa3099b1bb241c1c50d4ca8\", element=\"d3e22dab-b23a-4d2b-85d8-f763dd62ba34\")>, <selenium.webdriver.remote.webelement.WebElement (session=\"23c8d20a1aa3099b1bb241c1c50d4ca8\", element=\"d920ba38-1539-473b-8d05-a98ab8f8655d\")>, <selenium.webdriver.remote.webelement.WebElement (session=\"23c8d20a1aa3099b1bb241c1c50d4ca8\", element=\"f9e9b6ce-e3af-4a17-b631-469eb4f5158f\")>, <selenium.webdriver.remote.webelement.WebElement (session=\"23c8d20a1aa3099b1bb241c1c50d4ca8\", element=\"16a694f0-8bff-446f-88e2-eb24daab1058\")>, <selenium.webdriver.remote.webelement.WebElement (session=\"23c8d20a1aa3099b1bb241c1c50d4ca8\", element=\"7d1d95fc-1002-4e55-b5a0-167ece41eb6e\")>, <selenium.webdriver.remote.webelement.WebElement (session=\"23c8d20a1aa3099b1bb241c1c50d4ca8\", element=\"e0a44ee0-81b9-4b36-b253-ffe575070b85\")>, <selenium.webdriver.remote.webelement.WebElement (session=\"23c8d20a1aa3099b1bb241c1c50d4ca8\", element=\"d67d2f6f-ad4b-4b5b-92a5-255b682a34e7\")>, <selenium.webdriver.remote.webelement.WebElement (session=\"23c8d20a1aa3099b1bb241c1c50d4ca8\", element=\"98f90ca5-b3fd-4987-b255-9911505a971f\")>, <selenium.webdriver.remote.webelement.WebElement (session=\"23c8d20a1aa3099b1bb241c1c50d4ca8\", element=\"6898a985-dad5-43b2-8c21-542b4ee7693f\")>, <selenium.webdriver.remote.webelement.WebElement (session=\"23c8d20a1aa3099b1bb241c1c50d4ca8\", element=\"1785e9b3-2a4d-4486-a4f4-bf7c19cbc056\")>, <selenium.webdriver.remote.webelement.WebElement (session=\"23c8d20a1aa3099b1bb241c1c50d4ca8\", element=\"63d8f58d-c613-4181-b850-87aefe21eac1\")>, <selenium.webdriver.remote.webelement.WebElement (session=\"23c8d20a1aa3099b1bb241c1c50d4ca8\", element=\"5508d038-c668-4f1f-833f-a85533eb0a1b\")>]\n"
    }
   ],
   "source": [
    "#Usaremos el Xpath para obtener la lista de vuelos\n",
    "vuelos = driver.find_elements_by_xpath('//li[@class=\"flight\"]')\n",
    "print(vuelos)"
   ]
  },
  {
   "cell_type": "code",
   "execution_count": 5,
   "metadata": {},
   "outputs": [
    {
     "output_type": "execute_result",
     "data": {
      "text/plain": "<selenium.webdriver.remote.webelement.WebElement (session=\"23c8d20a1aa3099b1bb241c1c50d4ca8\", element=\"7c5af83e-5e6d-4eb2-8eb1-d853071cd66e\")>"
     },
     "metadata": {},
     "execution_count": 5
    }
   ],
   "source": [
    "vuelo = vuelos[16]\n",
    "vuelo"
   ]
  },
  {
   "cell_type": "markdown",
   "metadata": {},
   "source": [
    "Obtenemos la información de la hora de salida, llegada y duración del vuelo"
   ]
  },
  {
   "cell_type": "code",
   "execution_count": 6,
   "metadata": {},
   "outputs": [
    {
     "output_type": "execute_result",
     "data": {
      "text/plain": "'18:05'"
     },
     "metadata": {},
     "execution_count": 6
    }
   ],
   "source": [
    "# Hora de salida\n",
    "vuelo.find_element_by_xpath('.//div[@class=\"departure\"]/time').get_attribute('datetime')"
   ]
  },
  {
   "cell_type": "code",
   "execution_count": 7,
   "metadata": {},
   "outputs": [
    {
     "output_type": "execute_result",
     "data": {
      "text/plain": "'22:35'"
     },
     "metadata": {},
     "execution_count": 7
    }
   ],
   "source": [
    "# Hora de llegada\n",
    "vuelo.find_element_by_xpath('.//div[@class=\"arrival\"]/time').get_attribute('datetime')"
   ]
  },
  {
   "cell_type": "code",
   "execution_count": 8,
   "metadata": {},
   "outputs": [
    {
     "output_type": "execute_result",
     "data": {
      "text/plain": "'PT4H30M'"
     },
     "metadata": {},
     "execution_count": 8
    }
   ],
   "source": [
    "# Duración del vuelo\n",
    "vuelo.find_element_by_xpath('.//span[@class=\"duration\"]/time').get_attribute('datetime')"
   ]
  },
  {
   "cell_type": "code",
   "execution_count": 9,
   "metadata": {},
   "outputs": [
    {
     "output_type": "execute_result",
     "data": {
      "text/plain": "<selenium.webdriver.remote.webelement.WebElement (session=\"23c8d20a1aa3099b1bb241c1c50d4ca8\", element=\"216357b1-6090-4cf3-942f-cb2d2731e397\")>"
     },
     "metadata": {},
     "execution_count": 9
    }
   ],
   "source": [
    "boton_escalas = vuelo.find_element_by_xpath('.//div[@class=\"flight-summary-stops-description\"]/button')\n",
    "boton_escalas"
   ]
  },
  {
   "cell_type": "code",
   "execution_count": 10,
   "metadata": {},
   "outputs": [],
   "source": [
    "boton_escalas.click()"
   ]
  },
  {
   "cell_type": "code",
   "execution_count": 11,
   "metadata": {},
   "outputs": [
    {
     "output_type": "execute_result",
     "data": {
      "text/plain": "[<selenium.webdriver.remote.webelement.WebElement (session=\"23c8d20a1aa3099b1bb241c1c50d4ca8\", element=\"ae067b9f-0798-4d96-b7db-9c5ed3a52f63\")>,\n <selenium.webdriver.remote.webelement.WebElement (session=\"23c8d20a1aa3099b1bb241c1c50d4ca8\", element=\"2908dc04-d5c8-4a61-ae84-60cecc082703\")>,\n <selenium.webdriver.remote.webelement.WebElement (session=\"23c8d20a1aa3099b1bb241c1c50d4ca8\", element=\"4e805e56-fc52-49d6-ae9e-c718a5663edf\")>]"
     },
     "metadata": {},
     "execution_count": 11
    }
   ],
   "source": [
    "segmentos = vuelo.find_elements_by_xpath('//div[@class = \"sc-hZSUBg gfeULV\"]/div')  #[0] 1er vuelo, [1] Escala, [2] \"do vuelo\"\n",
    "segmentos"
   ]
  },
  {
   "cell_type": "code",
   "execution_count": 12,
   "metadata": {},
   "outputs": [
    {
     "output_type": "execute_result",
     "data": {
      "text/plain": "2"
     },
     "metadata": {},
     "execution_count": 12
    }
   ],
   "source": [
    "escalas = len(segmentos) - 1 #0 escalas si es un vuelo directo\n",
    "escalas"
   ]
  },
  {
   "cell_type": "markdown",
   "metadata": {},
   "source": [
    "# Clase 13\n",
    "En esta clase obtendremos la información de las escalas que se encuentran en el modal que aparece al clickear sobre el botón de escalas"
   ]
  },
  {
   "cell_type": "code",
   "execution_count": 13,
   "metadata": {},
   "outputs": [],
   "source": [
    "segmento = segmentos[0]"
   ]
  },
  {
   "cell_type": "code",
   "execution_count": 14,
   "metadata": {},
   "outputs": [
    {
     "output_type": "execute_result",
     "data": {
      "text/plain": "'1:40'"
     },
     "metadata": {},
     "execution_count": 14
    }
   ],
   "source": [
    "# Duración del vuelo\n",
    "segmento.find_element_by_xpath('.//span[@class=\"sc-esjQYD dMquDU\"]/time').get_attribute('datetime')"
   ]
  },
  {
   "cell_type": "code",
   "execution_count": 15,
   "metadata": {},
   "outputs": [
    {
     "output_type": "execute_result",
     "data": {
      "text/plain": "'LA4689'"
     },
     "metadata": {},
     "execution_count": 15
    }
   ],
   "source": [
    "# Numero del vuelo\n",
    "segmento.find_element_by_xpath('.//div[@class=\"airline-flight-details\"]/b').text"
   ]
  },
  {
   "cell_type": "code",
   "execution_count": 16,
   "metadata": {},
   "outputs": [
    {
     "output_type": "execute_result",
     "data": {
      "text/plain": "'Airbus 319'"
     },
     "metadata": {},
     "execution_count": 16
    }
   ],
   "source": [
    "# Modelo de avion\n",
    "segmento.find_element_by_xpath('.//span[@class=\"sc-gzOgki uTyOl\"]').text"
   ]
  },
  {
   "cell_type": "code",
   "execution_count": 17,
   "metadata": {},
   "outputs": [
    {
     "output_type": "execute_result",
     "data": {
      "text/plain": "'1:5'"
     },
     "metadata": {},
     "execution_count": 17
    }
   ],
   "source": [
    "# Duracion de la escala\n",
    "segmento2 = segmentos[1]\n",
    "segmento2.find_element_by_xpath('.//span[@class=\"sc-esjQYD dMquDU\"]/time').get_attribute('datetime')"
   ]
  },
  {
   "cell_type": "code",
   "execution_count": 18,
   "metadata": {},
   "outputs": [
    {
     "output_type": "execute_result",
     "data": {
      "text/plain": "[<selenium.webdriver.remote.webelement.WebElement (session=\"23c8d20a1aa3099b1bb241c1c50d4ca8\", element=\"57fe2855-424f-4d5b-b504-8d6915ef70e0\")>,\n <selenium.webdriver.remote.webelement.WebElement (session=\"23c8d20a1aa3099b1bb241c1c50d4ca8\", element=\"dc6feb64-3636-465e-8aed-279970fcec6d\")>,\n <selenium.webdriver.remote.webelement.WebElement (session=\"23c8d20a1aa3099b1bb241c1c50d4ca8\", element=\"f84c7c8a-5e1a-46cb-908e-093334035e64\")>,\n <selenium.webdriver.remote.webelement.WebElement (session=\"23c8d20a1aa3099b1bb241c1c50d4ca8\", element=\"59b0b2f6-5b36-418c-a9c8-210c4b21a961\")>]"
     },
     "metadata": {},
     "execution_count": 18
    }
   ],
   "source": [
    "aeropuertos = segmento.find_elements_by_xpath('.//div[@class=\"sc-esOvli iQSbOQ\"]/span')\n",
    "aeropuertos"
   ]
  },
  {
   "cell_type": "code",
   "execution_count": 19,
   "metadata": {},
   "outputs": [
    {
     "output_type": "execute_result",
     "data": {
      "text/plain": "'GRU'"
     },
     "metadata": {},
     "execution_count": 19
    }
   ],
   "source": [
    "# Origen Aeropuerto\n",
    "aeropuerto_ori = aeropuertos[1]\n",
    "aeropuerto_ori.find_element_by_xpath('.//div[@class=\"sc-bwCtUz iybVbT\"]/abbr').text"
   ]
  },
  {
   "cell_type": "code",
   "execution_count": 20,
   "metadata": {},
   "outputs": [
    {
     "output_type": "execute_result",
     "data": {
      "text/plain": "'Guarulhos'"
     },
     "metadata": {},
     "execution_count": 20
    }
   ],
   "source": [
    "aeropuerto_ori.find_element_by_xpath('.//span[@class=\"sc-eTuwsz eumCTU\"]/span[@class=\"sc-hXRMBi gVvErD\"]').text.replace(' Intl.','')"
   ]
  },
  {
   "cell_type": "code",
   "execution_count": 21,
   "metadata": {},
   "outputs": [
    {
     "output_type": "execute_result",
     "data": {
      "text/plain": "'18:05'"
     },
     "metadata": {},
     "execution_count": 21
    }
   ],
   "source": [
    "# Hora de salida\n",
    "aeropuerto_ori.find_element_by_xpath('.//div[@class=\"sc-bwCtUz iybVbT\"]/time[@datetime]').get_attribute('datetime')"
   ]
  },
  {
   "cell_type": "code",
   "execution_count": 22,
   "metadata": {},
   "outputs": [
    {
     "output_type": "execute_result",
     "data": {
      "text/plain": "'BSB'"
     },
     "metadata": {},
     "execution_count": 22
    }
   ],
   "source": [
    "# Destino\n",
    "aeropuerto_lleg = aeropuertos[3]\n",
    "aeropuerto_lleg.find_element_by_xpath('.//div[@class=\"sc-bwCtUz iybVbT\"]/abbr').text"
   ]
  },
  {
   "cell_type": "code",
   "execution_count": 23,
   "metadata": {},
   "outputs": [
    {
     "output_type": "execute_result",
     "data": {
      "text/plain": "'Brasilia'"
     },
     "metadata": {},
     "execution_count": 23
    }
   ],
   "source": [
    "aeropuerto_lleg.find_element_by_xpath('.//span[@class=\"sc-eTuwsz eumCTU\"]/span[@class=\"sc-hXRMBi gVvErD\"]').text.replace(' Intl.','')"
   ]
  },
  {
   "cell_type": "code",
   "execution_count": 24,
   "metadata": {},
   "outputs": [
    {
     "output_type": "execute_result",
     "data": {
      "text/plain": "'19:45'"
     },
     "metadata": {},
     "execution_count": 24
    }
   ],
   "source": [
    "# Hora de salida\n",
    "aeropuerto_lleg.find_element_by_xpath('.//div[@class=\"sc-bwCtUz iybVbT\"]/time[@datetime]').get_attribute('datetime')"
   ]
  },
  {
   "cell_type": "markdown",
   "metadata": {},
   "source": [
    "## CLASE\n",
    "Una vez que hayamos obtenido toda la información, debemos cerrar el modal/pop-up."
   ]
  },
  {
   "cell_type": "code",
   "execution_count": 25,
   "metadata": {},
   "outputs": [],
   "source": [
    "driver.find_element_by_xpath('//div[@class=\"modal-header sc-dnqmqq cGfTsx\"]//button[@class=\"close\"]').click()"
   ]
  },
  {
   "cell_type": "markdown",
   "metadata": {},
   "source": [
    "Por último debemos obtener la información de las tarifas. Para eso, debemos clickear sobre el vuelo (sobre cualquier parte)"
   ]
  },
  {
   "cell_type": "code",
   "execution_count": 26,
   "metadata": {},
   "outputs": [],
   "source": [
    "vuelo.click()"
   ]
  },
  {
   "cell_type": "markdown",
   "metadata": {},
   "source": [
    "La información de los precios para cada tarifa está contenida en una tabla. Los precios en sí están en el footer y podemos sacar los nombres de la clase de cada elemento"
   ]
  },
  {
   "cell_type": "code",
   "execution_count": 27,
   "metadata": {},
   "outputs": [
    {
     "output_type": "execute_result",
     "data": {
      "text/plain": "[<selenium.webdriver.remote.webelement.WebElement (session=\"23c8d20a1aa3099b1bb241c1c50d4ca8\", element=\"323700f2-4483-45ce-a6c2-2c913498b35a\")>,\n <selenium.webdriver.remote.webelement.WebElement (session=\"23c8d20a1aa3099b1bb241c1c50d4ca8\", element=\"4a1c06d6-6741-459b-9745-86fddf3eabfd\")>,\n <selenium.webdriver.remote.webelement.WebElement (session=\"23c8d20a1aa3099b1bb241c1c50d4ca8\", element=\"2ff104fc-4180-4049-a3a9-123dc0498c63\")>]"
     },
     "metadata": {},
     "execution_count": 27
    }
   ],
   "source": [
    "tarifas = vuelo.find_elements_by_xpath('.//div[@class=\"fares-table-container\"]//tfoot//td[contains(@class, \"fare-\")]')\n",
    "tarifas"
   ]
  },
  {
   "cell_type": "code",
   "execution_count": 28,
   "metadata": {
    "scrolled": true,
    "tags": []
   },
   "outputs": [
    {
     "output_type": "execute_result",
     "data": {
      "text/plain": "[{'LIGHT': {'moneda': 'US$', 'valor': '1105'}},\n {'PLUS': {'moneda': 'US$', 'valor': '1110'}},\n {'TOP': {'moneda': 'US$', 'valor': '1115'}}]"
     },
     "metadata": {},
     "execution_count": 28
    }
   ],
   "source": [
    "precios = []\n",
    "for tarifa in tarifas:\n",
    "    nombre = tarifa.find_element_by_xpath('.//label').get_attribute('for')\n",
    "    moneda = tarifa.find_element_by_xpath('.//span[@class=\"price\"]/span[@class=\"currency-symbol\"]').text\n",
    "    valor = tarifa.find_element_by_xpath('.//span[@class=\"price\"]/span[@class=\"value\"]').text \n",
    "    dict_tarifa={nombre:{'moneda':moneda, 'valor':valor}}\n",
    "    precios.append(dict_tarifa)\n",
    "precios"
   ]
  },
  {
   "cell_type": "code",
   "execution_count": 29,
   "metadata": {},
   "outputs": [],
   "source": [
    "driver.close()"
   ]
  }
 ],
 "metadata": {
  "kernelspec": {
   "display_name": "Python 3",
   "language": "python",
   "name": "python3"
  },
  "language_info": {
   "codemirror_mode": {
    "name": "ipython",
    "version": 3
   },
   "file_extension": ".py",
   "mimetype": "text/x-python",
   "name": "python",
   "nbconvert_exporter": "python",
   "pygments_lexer": "ipython3",
   "version": "3.8.3-final"
  }
 },
 "nbformat": 4,
 "nbformat_minor": 2
}